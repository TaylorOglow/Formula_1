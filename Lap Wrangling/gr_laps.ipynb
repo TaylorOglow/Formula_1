{
 "cells": [
  {
   "cell_type": "markdown",
   "metadata": {},
   "source": [
    "# George Russell\n",
    "\n",
    "<img src=\"https://www.formula1.com/content/fom-website/en/drivers/george-russell/_jcr_content/image.img.1920.medium.jpg/1646750994602.jpg\" width=\"300\">\n",
    "\n",
    "### Team: Mercedes\n",
    "\n",
    "<img src =\"https://www.formula1.com/content/fom-website/en/drivers/george-russell/_jcr_content/helmet.img.png/1646824823304.png\" width=\"200\">\n"
   ]
  },
  {
   "cell_type": "code",
   "execution_count": 1,
   "metadata": {},
   "outputs": [
    {
     "name": "stderr",
     "output_type": "stream",
     "text": [
      "── \u001b[1mAttaching packages\u001b[22m ─────────────────────────────────────── tidyverse 1.3.1 ──\n",
      "\n",
      "\u001b[32m✔\u001b[39m \u001b[34mggplot2\u001b[39m 3.3.5     \u001b[32m✔\u001b[39m \u001b[34mpurrr  \u001b[39m 0.3.4\n",
      "\u001b[32m✔\u001b[39m \u001b[34mtibble \u001b[39m 3.1.6     \u001b[32m✔\u001b[39m \u001b[34mdplyr  \u001b[39m 1.0.7\n",
      "\u001b[32m✔\u001b[39m \u001b[34mtidyr  \u001b[39m 1.2.0     \u001b[32m✔\u001b[39m \u001b[34mstringr\u001b[39m 1.4.0\n",
      "\u001b[32m✔\u001b[39m \u001b[34mreadr  \u001b[39m 2.1.2     \u001b[32m✔\u001b[39m \u001b[34mforcats\u001b[39m 0.5.1\n",
      "\n",
      "Warning message:\n",
      "“package ‘tidyr’ was built under R version 4.1.2”\n",
      "Warning message:\n",
      "“package ‘readr’ was built under R version 4.1.2”\n",
      "── \u001b[1mConflicts\u001b[22m ────────────────────────────────────────── tidyverse_conflicts() ──\n",
      "\u001b[31m✖\u001b[39m \u001b[34mdplyr\u001b[39m::\u001b[32mfilter()\u001b[39m masks \u001b[34mstats\u001b[39m::filter()\n",
      "\u001b[31m✖\u001b[39m \u001b[34mdplyr\u001b[39m::\u001b[32mlag()\u001b[39m    masks \u001b[34mstats\u001b[39m::lag()\n",
      "\n",
      "Registered S3 method overwritten by 'tune':\n",
      "  method                   from   \n",
      "  required_pkgs.model_spec parsnip\n",
      "\n",
      "── \u001b[1mAttaching packages\u001b[22m ────────────────────────────────────── tidymodels 0.1.3 ──\n",
      "\n",
      "\u001b[32m✔\u001b[39m \u001b[34mbroom       \u001b[39m 0.7.12     \u001b[32m✔\u001b[39m \u001b[34mrsample     \u001b[39m 0.1.1 \n",
      "\u001b[32m✔\u001b[39m \u001b[34mdials       \u001b[39m 0.1.0      \u001b[32m✔\u001b[39m \u001b[34mtune        \u001b[39m 0.1.6 \n",
      "\u001b[32m✔\u001b[39m \u001b[34minfer       \u001b[39m 1.0.0      \u001b[32m✔\u001b[39m \u001b[34mworkflows   \u001b[39m 0.2.4 \n",
      "\u001b[32m✔\u001b[39m \u001b[34mmodeldata   \u001b[39m 0.1.1      \u001b[32m✔\u001b[39m \u001b[34mworkflowsets\u001b[39m 0.1.0 \n",
      "\u001b[32m✔\u001b[39m \u001b[34mparsnip     \u001b[39m 0.1.7      \u001b[32m✔\u001b[39m \u001b[34myardstick   \u001b[39m 0.0.9 \n",
      "\u001b[32m✔\u001b[39m \u001b[34mrecipes     \u001b[39m 0.1.17     \n",
      "\n",
      "Warning message:\n",
      "“package ‘broom’ was built under R version 4.1.2”\n",
      "Warning message:\n",
      "“package ‘dials’ was built under R version 4.1.2”\n",
      "── \u001b[1mConflicts\u001b[22m ───────────────────────────────────────── tidymodels_conflicts() ──\n",
      "\u001b[31m✖\u001b[39m \u001b[34mscales\u001b[39m::\u001b[32mdiscard()\u001b[39m masks \u001b[34mpurrr\u001b[39m::discard()\n",
      "\u001b[31m✖\u001b[39m \u001b[34mdplyr\u001b[39m::\u001b[32mfilter()\u001b[39m   masks \u001b[34mstats\u001b[39m::filter()\n",
      "\u001b[31m✖\u001b[39m \u001b[34mrecipes\u001b[39m::\u001b[32mfixed()\u001b[39m  masks \u001b[34mstringr\u001b[39m::fixed()\n",
      "\u001b[31m✖\u001b[39m \u001b[34mdplyr\u001b[39m::\u001b[32mlag()\u001b[39m      masks \u001b[34mstats\u001b[39m::lag()\n",
      "\u001b[31m✖\u001b[39m \u001b[34myardstick\u001b[39m::\u001b[32mspec()\u001b[39m masks \u001b[34mreadr\u001b[39m::spec()\n",
      "\u001b[31m✖\u001b[39m \u001b[34mrecipes\u001b[39m::\u001b[32mstep()\u001b[39m   masks \u001b[34mstats\u001b[39m::step()\n",
      "\u001b[34m•\u001b[39m Use \u001b[32mtidymodels_prefer()\u001b[39m to resolve common conflicts.\n",
      "\n"
     ]
    }
   ],
   "source": [
    "library (tidyverse)\n",
    "library (tidymodels)\n",
    "source(\"source/master_functions.r\")\n",
    "source(\"source/regression.r\")\n",
    "set.seed(620)"
   ]
  },
  {
   "cell_type": "code",
   "execution_count": 7,
   "metadata": {},
   "outputs": [],
   "source": [
    "# Filtering Lap Data For 2022 Drivers\n",
    "\n",
    "lap_data <- lap_times %>%\n",
    "            filter(driverId %in% driver_ids) %>%\n",
    "            filter(raceId %in% race_ids)\n",
    "\n",
    "# Filtering Lap Data For Individual Driver\n",
    "\n",
    "rus_laps <- lap_data %>%\n",
    "            filter(driverId == 847)"
   ]
  },
  {
   "cell_type": "markdown",
   "metadata": {},
   "source": [
    "# Season Analysis"
   ]
  },
  {
   "cell_type": "code",
   "execution_count": 9,
   "metadata": {},
   "outputs": [
    {
     "data": {
      "text/html": [
       "<table class=\"dataframe\">\n",
       "<caption>A tibble: 4 × 2</caption>\n",
       "<thead>\n",
       "\t<tr><th scope=col>raceId</th><th scope=col>n</th></tr>\n",
       "\t<tr><th scope=col>&lt;dbl&gt;</th><th scope=col>&lt;int&gt;</th></tr>\n",
       "</thead>\n",
       "<tbody>\n",
       "\t<tr><td>1046</td><td>87</td></tr>\n",
       "\t<tr><td>1011</td><td>56</td></tr>\n",
       "\t<tr><td>1045</td><td>56</td></tr>\n",
       "\t<tr><td>1052</td><td>55</td></tr>\n",
       "</tbody>\n",
       "</table>\n"
      ],
      "text/latex": [
       "A tibble: 4 × 2\n",
       "\\begin{tabular}{ll}\n",
       " raceId & n\\\\\n",
       " <dbl> & <int>\\\\\n",
       "\\hline\n",
       "\t 1046 & 87\\\\\n",
       "\t 1011 & 56\\\\\n",
       "\t 1045 & 56\\\\\n",
       "\t 1052 & 55\\\\\n",
       "\\end{tabular}\n"
      ],
      "text/markdown": [
       "\n",
       "A tibble: 4 × 2\n",
       "\n",
       "| raceId &lt;dbl&gt; | n &lt;int&gt; |\n",
       "|---|---|\n",
       "| 1046 | 87 |\n",
       "| 1011 | 56 |\n",
       "| 1045 | 56 |\n",
       "| 1052 | 55 |\n",
       "\n"
      ],
      "text/plain": [
       "  raceId n \n",
       "1 1046   87\n",
       "2 1011   56\n",
       "3 1045   56\n",
       "4 1052   55"
      ]
     },
     "metadata": {},
     "output_type": "display_data"
    },
    {
     "data": {
      "text/html": [
       "<table class=\"dataframe\">\n",
       "<caption>A tibble: 1 × 2</caption>\n",
       "<thead>\n",
       "\t<tr><th scope=col>raceId</th><th scope=col>n</th></tr>\n",
       "\t<tr><th scope=col>&lt;dbl&gt;</th><th scope=col>&lt;int&gt;</th></tr>\n",
       "</thead>\n",
       "<tbody>\n",
       "\t<tr><td>1072</td><td>14</td></tr>\n",
       "</tbody>\n",
       "</table>\n"
      ],
      "text/latex": [
       "A tibble: 1 × 2\n",
       "\\begin{tabular}{ll}\n",
       " raceId & n\\\\\n",
       " <dbl> & <int>\\\\\n",
       "\\hline\n",
       "\t 1072 & 14\\\\\n",
       "\\end{tabular}\n"
      ],
      "text/markdown": [
       "\n",
       "A tibble: 1 × 2\n",
       "\n",
       "| raceId &lt;dbl&gt; | n &lt;int&gt; |\n",
       "|---|---|\n",
       "| 1072 | 14 |\n",
       "\n"
      ],
      "text/plain": [
       "  raceId n \n",
       "1 1072   14"
      ]
     },
     "metadata": {},
     "output_type": "display_data"
    },
    {
     "name": "stderr",
     "output_type": "stream",
     "text": [
      "Warning message:\n",
      "“The number of observations in each quantile is below the recommended threshold of 20.\n",
      "* Stratification will use 0 breaks instead.”\n",
      "Warning message:\n",
      "“Too little data to stratify.\n",
      "* Resampling will be unstratified.”\n"
     ]
    },
    {
     "data": {
      "text/html": [
       "<table class=\"dataframe\">\n",
       "<caption>A tibble: 1 × 2</caption>\n",
       "<thead>\n",
       "\t<tr><th scope=col>raceId</th><th scope=col>n</th></tr>\n",
       "\t<tr><th scope=col>&lt;dbl&gt;</th><th scope=col>&lt;int&gt;</th></tr>\n",
       "</thead>\n",
       "<tbody>\n",
       "\t<tr><td>1010</td><td>56</td></tr>\n",
       "</tbody>\n",
       "</table>\n"
      ],
      "text/latex": [
       "A tibble: 1 × 2\n",
       "\\begin{tabular}{ll}\n",
       " raceId & n\\\\\n",
       " <dbl> & <int>\\\\\n",
       "\\hline\n",
       "\t 1010 & 56\\\\\n",
       "\\end{tabular}\n"
      ],
      "text/markdown": [
       "\n",
       "A tibble: 1 × 2\n",
       "\n",
       "| raceId &lt;dbl&gt; | n &lt;int&gt; |\n",
       "|---|---|\n",
       "| 1010 | 56 |\n",
       "\n"
      ],
      "text/plain": [
       "  raceId n \n",
       "1 1010   56"
      ]
     },
     "metadata": {},
     "output_type": "display_data"
    },
    {
     "name": "stderr",
     "output_type": "stream",
     "text": [
      "Warning message:\n",
      "“The number of observations in each quantile is below the recommended threshold of 20.\n",
      "* Stratification will use 2 breaks instead.”\n"
     ]
    },
    {
     "data": {
      "text/html": [
       "<table class=\"dataframe\">\n",
       "<caption>A tibble: 2 × 2</caption>\n",
       "<thead>\n",
       "\t<tr><th scope=col>raceId</th><th scope=col>n</th></tr>\n",
       "\t<tr><th scope=col>&lt;dbl&gt;</th><th scope=col>&lt;int&gt;</th></tr>\n",
       "</thead>\n",
       "<tbody>\n",
       "\t<tr><td>1043</td><td>51</td></tr>\n",
       "\t<tr><td>1053</td><td>30</td></tr>\n",
       "</tbody>\n",
       "</table>\n"
      ],
      "text/latex": [
       "A tibble: 2 × 2\n",
       "\\begin{tabular}{ll}\n",
       " raceId & n\\\\\n",
       " <dbl> & <int>\\\\\n",
       "\\hline\n",
       "\t 1043 & 51\\\\\n",
       "\t 1053 & 30\\\\\n",
       "\\end{tabular}\n"
      ],
      "text/markdown": [
       "\n",
       "A tibble: 2 × 2\n",
       "\n",
       "| raceId &lt;dbl&gt; | n &lt;int&gt; |\n",
       "|---|---|\n",
       "| 1043 | 51 |\n",
       "| 1053 | 30 |\n",
       "\n"
      ],
      "text/plain": [
       "  raceId n \n",
       "1 1043   51\n",
       "2 1053   30"
      ]
     },
     "metadata": {},
     "output_type": "display_data"
    },
    {
     "data": {
      "text/html": [
       "<table class=\"dataframe\">\n",
       "<caption>A tibble: 3 × 2</caption>\n",
       "<thead>\n",
       "\t<tr><th scope=col>raceId</th><th scope=col>n</th></tr>\n",
       "\t<tr><th scope=col>&lt;dbl&gt;</th><th scope=col>&lt;int&gt;</th></tr>\n",
       "</thead>\n",
       "<tbody>\n",
       "\t<tr><td>1014</td><td>65</td></tr>\n",
       "\t<tr><td>1036</td><td>65</td></tr>\n",
       "\t<tr><td>1055</td><td>65</td></tr>\n",
       "</tbody>\n",
       "</table>\n"
      ],
      "text/latex": [
       "A tibble: 3 × 2\n",
       "\\begin{tabular}{ll}\n",
       " raceId & n\\\\\n",
       " <dbl> & <int>\\\\\n",
       "\\hline\n",
       "\t 1014 & 65\\\\\n",
       "\t 1036 & 65\\\\\n",
       "\t 1055 & 65\\\\\n",
       "\\end{tabular}\n"
      ],
      "text/markdown": [
       "\n",
       "A tibble: 3 × 2\n",
       "\n",
       "| raceId &lt;dbl&gt; | n &lt;int&gt; |\n",
       "|---|---|\n",
       "| 1014 | 65 |\n",
       "| 1036 | 65 |\n",
       "| 1055 | 65 |\n",
       "\n"
      ],
      "text/plain": [
       "  raceId n \n",
       "1 1014   65\n",
       "2 1036   65\n",
       "3 1055   65"
      ]
     },
     "metadata": {},
     "output_type": "display_data"
    },
    {
     "data": {
      "text/html": [
       "<table class=\"dataframe\">\n",
       "<caption>A tibble: 2 × 2</caption>\n",
       "<thead>\n",
       "\t<tr><th scope=col>raceId</th><th scope=col>n</th></tr>\n",
       "\t<tr><th scope=col>&lt;dbl&gt;</th><th scope=col>&lt;int&gt;</th></tr>\n",
       "</thead>\n",
       "<tbody>\n",
       "\t<tr><td>1015</td><td>77</td></tr>\n",
       "\t<tr><td>1056</td><td>77</td></tr>\n",
       "</tbody>\n",
       "</table>\n"
      ],
      "text/latex": [
       "A tibble: 2 × 2\n",
       "\\begin{tabular}{ll}\n",
       " raceId & n\\\\\n",
       " <dbl> & <int>\\\\\n",
       "\\hline\n",
       "\t 1015 & 77\\\\\n",
       "\t 1056 & 77\\\\\n",
       "\\end{tabular}\n"
      ],
      "text/markdown": [
       "\n",
       "A tibble: 2 × 2\n",
       "\n",
       "| raceId &lt;dbl&gt; | n &lt;int&gt; |\n",
       "|---|---|\n",
       "| 1015 | 77 |\n",
       "| 1056 | 77 |\n",
       "\n"
      ],
      "text/plain": [
       "  raceId n \n",
       "1 1015   77\n",
       "2 1056   77"
      ]
     },
     "metadata": {},
     "output_type": "display_data"
    },
    {
     "data": {
      "text/html": [
       "<table class=\"dataframe\">\n",
       "<caption>A tibble: 2 × 2</caption>\n",
       "<thead>\n",
       "\t<tr><th scope=col>raceId</th><th scope=col>n</th></tr>\n",
       "\t<tr><th scope=col>&lt;dbl&gt;</th><th scope=col>&lt;int&gt;</th></tr>\n",
       "</thead>\n",
       "<tbody>\n",
       "\t<tr><td>1013</td><td>49</td></tr>\n",
       "\t<tr><td>1057</td><td>48</td></tr>\n",
       "</tbody>\n",
       "</table>\n"
      ],
      "text/latex": [
       "A tibble: 2 × 2\n",
       "\\begin{tabular}{ll}\n",
       " raceId & n\\\\\n",
       " <dbl> & <int>\\\\\n",
       "\\hline\n",
       "\t 1013 & 49\\\\\n",
       "\t 1057 & 48\\\\\n",
       "\\end{tabular}\n"
      ],
      "text/markdown": [
       "\n",
       "A tibble: 2 × 2\n",
       "\n",
       "| raceId &lt;dbl&gt; | n &lt;int&gt; |\n",
       "|---|---|\n",
       "| 1013 | 49 |\n",
       "| 1057 | 48 |\n",
       "\n"
      ],
      "text/plain": [
       "  raceId n \n",
       "1 1013   49\n",
       "2 1057   48"
      ]
     },
     "metadata": {},
     "output_type": "display_data"
    },
    {
     "data": {
      "text/html": [
       "<table class=\"dataframe\">\n",
       "<caption>A tibble: 1 × 2</caption>\n",
       "<thead>\n",
       "\t<tr><th scope=col>raceId</th><th scope=col>n</th></tr>\n",
       "\t<tr><th scope=col>&lt;dbl&gt;</th><th scope=col>&lt;int&gt;</th></tr>\n",
       "</thead>\n",
       "<tbody>\n",
       "\t<tr><td>1016</td><td>68</td></tr>\n",
       "</tbody>\n",
       "</table>\n"
      ],
      "text/latex": [
       "A tibble: 1 × 2\n",
       "\\begin{tabular}{ll}\n",
       " raceId & n\\\\\n",
       " <dbl> & <int>\\\\\n",
       "\\hline\n",
       "\t 1016 & 68\\\\\n",
       "\\end{tabular}\n"
      ],
      "text/markdown": [
       "\n",
       "A tibble: 1 × 2\n",
       "\n",
       "| raceId &lt;dbl&gt; | n &lt;int&gt; |\n",
       "|---|---|\n",
       "| 1016 | 68 |\n",
       "\n"
      ],
      "text/plain": [
       "  raceId n \n",
       "1 1016   68"
      ]
     },
     "metadata": {},
     "output_type": "display_data"
    },
    {
     "name": "stderr",
     "output_type": "stream",
     "text": [
      "Warning message:\n",
      "“The number of observations in each quantile is below the recommended threshold of 20.\n",
      "* Stratification will use 3 breaks instead.”\n"
     ]
    },
    {
     "data": {
      "text/html": [
       "<table class=\"dataframe\">\n",
       "<caption>A tibble: 2 × 2</caption>\n",
       "<thead>\n",
       "\t<tr><th scope=col>raceId</th><th scope=col>n</th></tr>\n",
       "\t<tr><th scope=col>&lt;dbl&gt;</th><th scope=col>&lt;int&gt;</th></tr>\n",
       "</thead>\n",
       "<tbody>\n",
       "\t<tr><td>1059</td><td>52</td></tr>\n",
       "\t<tr><td>1017</td><td>51</td></tr>\n",
       "</tbody>\n",
       "</table>\n"
      ],
      "text/latex": [
       "A tibble: 2 × 2\n",
       "\\begin{tabular}{ll}\n",
       " raceId & n\\\\\n",
       " <dbl> & <int>\\\\\n",
       "\\hline\n",
       "\t 1059 & 52\\\\\n",
       "\t 1017 & 51\\\\\n",
       "\\end{tabular}\n"
      ],
      "text/markdown": [
       "\n",
       "A tibble: 2 × 2\n",
       "\n",
       "| raceId &lt;dbl&gt; | n &lt;int&gt; |\n",
       "|---|---|\n",
       "| 1059 | 52 |\n",
       "| 1017 | 51 |\n",
       "\n"
      ],
      "text/plain": [
       "  raceId n \n",
       "1 1059   52\n",
       "2 1017   51"
      ]
     },
     "metadata": {},
     "output_type": "display_data"
    },
    {
     "data": {
      "text/html": [
       "<table class=\"dataframe\">\n",
       "<caption>A tibble: 3 × 2</caption>\n",
       "<thead>\n",
       "\t<tr><th scope=col>raceId</th><th scope=col>n</th></tr>\n",
       "\t<tr><th scope=col>&lt;dbl&gt;</th><th scope=col>&lt;int&gt;</th></tr>\n",
       "</thead>\n",
       "<tbody>\n",
       "\t<tr><td>1022</td><td>43</td></tr>\n",
       "\t<tr><td>1037</td><td> 9</td></tr>\n",
       "\t<tr><td>1063</td><td> 1</td></tr>\n",
       "</tbody>\n",
       "</table>\n"
      ],
      "text/latex": [
       "A tibble: 3 × 2\n",
       "\\begin{tabular}{ll}\n",
       " raceId & n\\\\\n",
       " <dbl> & <int>\\\\\n",
       "\\hline\n",
       "\t 1022 & 43\\\\\n",
       "\t 1037 &  9\\\\\n",
       "\t 1063 &  1\\\\\n",
       "\\end{tabular}\n"
      ],
      "text/markdown": [
       "\n",
       "A tibble: 3 × 2\n",
       "\n",
       "| raceId &lt;dbl&gt; | n &lt;int&gt; |\n",
       "|---|---|\n",
       "| 1022 | 43 |\n",
       "| 1037 |  9 |\n",
       "| 1063 |  1 |\n",
       "\n"
      ],
      "text/plain": [
       "  raceId n \n",
       "1 1022   43\n",
       "2 1037    9\n",
       "3 1063    1"
      ]
     },
     "metadata": {},
     "output_type": "display_data"
    },
    {
     "name": "stderr",
     "output_type": "stream",
     "text": [
      "Warning message:\n",
      "“The number of observations in each quantile is below the recommended threshold of 20.\n",
      "* Stratification will use 2 breaks instead.”\n"
     ]
    },
    {
     "data": {
      "text/html": [
       "<table class=\"dataframe\">\n",
       "<caption>A tibble: 1 × 2</caption>\n",
       "<thead>\n",
       "\t<tr><th scope=col>raceId</th><th scope=col>n</th></tr>\n",
       "\t<tr><th scope=col>&lt;dbl&gt;</th><th scope=col>&lt;int&gt;</th></tr>\n",
       "</thead>\n",
       "<tbody>\n",
       "\t<tr><td>1064</td><td>69</td></tr>\n",
       "</tbody>\n",
       "</table>\n"
      ],
      "text/latex": [
       "A tibble: 1 × 2\n",
       "\\begin{tabular}{ll}\n",
       " raceId & n\\\\\n",
       " <dbl> & <int>\\\\\n",
       "\\hline\n",
       "\t 1064 & 69\\\\\n",
       "\\end{tabular}\n"
      ],
      "text/markdown": [
       "\n",
       "A tibble: 1 × 2\n",
       "\n",
       "| raceId &lt;dbl&gt; | n &lt;int&gt; |\n",
       "|---|---|\n",
       "| 1064 | 69 |\n",
       "\n"
      ],
      "text/plain": [
       "  raceId n \n",
       "1 1064   69"
      ]
     },
     "metadata": {},
     "output_type": "display_data"
    },
    {
     "name": "stderr",
     "output_type": "stream",
     "text": [
      "Warning message:\n",
      "“The number of observations in each quantile is below the recommended threshold of 20.\n",
      "* Stratification will use 3 breaks instead.”\n"
     ]
    },
    {
     "data": {
      "text/html": [
       "<table class=\"dataframe\">\n",
       "<caption>A tibble: 3 × 2</caption>\n",
       "<thead>\n",
       "\t<tr><th scope=col>raceId</th><th scope=col>n</th></tr>\n",
       "\t<tr><th scope=col>&lt;dbl&gt;</th><th scope=col>&lt;int&gt;</th></tr>\n",
       "</thead>\n",
       "<tbody>\n",
       "\t<tr><td>1038</td><td>53</td></tr>\n",
       "\t<tr><td>1065</td><td>53</td></tr>\n",
       "\t<tr><td>1023</td><td>52</td></tr>\n",
       "</tbody>\n",
       "</table>\n"
      ],
      "text/latex": [
       "A tibble: 3 × 2\n",
       "\\begin{tabular}{ll}\n",
       " raceId & n\\\\\n",
       " <dbl> & <int>\\\\\n",
       "\\hline\n",
       "\t 1038 & 53\\\\\n",
       "\t 1065 & 53\\\\\n",
       "\t 1023 & 52\\\\\n",
       "\\end{tabular}\n"
      ],
      "text/markdown": [
       "\n",
       "A tibble: 3 × 2\n",
       "\n",
       "| raceId &lt;dbl&gt; | n &lt;int&gt; |\n",
       "|---|---|\n",
       "| 1038 | 53 |\n",
       "| 1065 | 53 |\n",
       "| 1023 | 52 |\n",
       "\n"
      ],
      "text/plain": [
       "  raceId n \n",
       "1 1038   53\n",
       "2 1065   53\n",
       "3 1023   52"
      ]
     },
     "metadata": {},
     "output_type": "display_data"
    },
    {
     "name": "stderr",
     "output_type": "stream",
     "text": [
      "Warning message:\n",
      "“The number of observations in each quantile is below the recommended threshold of 20.\n",
      "* Stratification will use 1 breaks instead.”\n",
      "Warning message:\n",
      "“Too little data to stratify.\n",
      "* Resampling will be unstratified.”\n",
      "Warning message:\n",
      "“The number of observations in each quantile is below the recommended threshold of 20.\n",
      "* Stratification will use 2 breaks instead.”\n"
     ]
    },
    {
     "data": {
      "text/html": [
       "<table class=\"dataframe\">\n",
       "<caption>A tibble: 3 × 2</caption>\n",
       "<thead>\n",
       "\t<tr><th scope=col>raceId</th><th scope=col>n</th></tr>\n",
       "\t<tr><th scope=col>&lt;dbl&gt;</th><th scope=col>&lt;int&gt;</th></tr>\n",
       "</thead>\n",
       "<tbody>\n",
       "\t<tr><td>1030</td><td>54</td></tr>\n",
       "\t<tr><td>1047</td><td>54</td></tr>\n",
       "\t<tr><td>1073</td><td>26</td></tr>\n",
       "</tbody>\n",
       "</table>\n"
      ],
      "text/latex": [
       "A tibble: 3 × 2\n",
       "\\begin{tabular}{ll}\n",
       " raceId & n\\\\\n",
       " <dbl> & <int>\\\\\n",
       "\\hline\n",
       "\t 1030 & 54\\\\\n",
       "\t 1047 & 54\\\\\n",
       "\t 1073 & 26\\\\\n",
       "\\end{tabular}\n"
      ],
      "text/markdown": [
       "\n",
       "A tibble: 3 × 2\n",
       "\n",
       "| raceId &lt;dbl&gt; | n &lt;int&gt; |\n",
       "|---|---|\n",
       "| 1030 | 54 |\n",
       "| 1047 | 54 |\n",
       "| 1073 | 26 |\n",
       "\n"
      ],
      "text/plain": [
       "  raceId n \n",
       "1 1030   54\n",
       "2 1047   54\n",
       "3 1073   26"
      ]
     },
     "metadata": {},
     "output_type": "display_data"
    }
   ],
   "source": [
    "#1. BAHRAIN \n",
    "\n",
    "gr_bahrain <- rus_laps %>%\n",
    "                filter(raceId %in% bahrain_race_ID) \n",
    "\n",
    "gr_bahrain_clean <- gr_bahrain %>%\n",
    "                        group_by(raceId) %>%\n",
    "                        summarize(n = n()) %>%\n",
    "                        arrange(desc(n))\n",
    "gr_bahrain_clean\n",
    "gr_bahrain_clean_ID <- gr_bahrain_clean %>%\n",
    "                        pull(raceId)\n",
    "\n",
    "\n",
    "### SPLITTING DATA\n",
    "\n",
    "gr_bahrain_races <- rus_laps %>%\n",
    "                    filter(raceId %in% gr_bahrain_clean_ID)\n",
    "\n",
    "formulaone_split <- initial_split(gr_bahrain_races, prop = 0.75, strata = milliseconds)\n",
    "\n",
    "initiate_split_data()\n",
    "\n",
    "### RUNS REGRESSION\n",
    "\n",
    "initiate_linear_regression()"
   ]
  },
  {
   "cell_type": "code",
   "execution_count": null,
   "metadata": {},
   "outputs": [],
   "source": [
    "#2. Saudi Arabia\n",
    "\n",
    "gr_saudi <- rus_laps %>%\n",
    "                filter(raceId %in% saudi_race_ID) \n",
    "\n",
    "gr_saudi_clean <- gr_saudi %>%\n",
    "                        group_by(raceId) %>%\n",
    "                        summarize(n = n()) %>%\n",
    "                        arrange(desc(n)) \n",
    "gr_saudi_clean\n",
    "gr_saudi_clean_ID <- gr_saudi_clean %>%\n",
    "                        pull(raceId)\n",
    "\n",
    "\n",
    "### SPLITTING DATA\n",
    "\n",
    "gr_saudi_races <- rus_laps %>%\n",
    "                    filter(raceId %in% gr_saudi_clean_ID)\n",
    "\n",
    "formulaone_split <- initial_split(gr_saudi_races, prop = 0.75, strata = milliseconds)\n",
    "\n",
    "initiate_split_data()\n",
    "\n",
    "### RUNS REGRESSION\n",
    "\n",
    "initiate_linear_regression()"
   ]
  },
  {
   "cell_type": "code",
   "execution_count": null,
   "metadata": {},
   "outputs": [],
   "source": [
    "#3. Australia\n",
    "\n",
    "gr_aus <- rus_laps %>%\n",
    "                filter(raceId %in% aus_race_ID) \n",
    "\n",
    "gr_aus_clean <- gr_aus %>%\n",
    "                        group_by(raceId) %>%\n",
    "                        summarize(n = n()) %>%\n",
    "                        arrange(desc(n)) \n",
    "gr_aus_clean\n",
    "gr_aus_clean_ID <- gr_aus_clean %>%\n",
    "                        pull(raceId)\n",
    "\n",
    "\n",
    "### SPLITTING DATA\n",
    "\n",
    "gr_aus_races <- rus_laps %>%\n",
    "                    filter(raceId %in% gr_aus_clean_ID)\n",
    "\n",
    "formulaone_split <- initial_split(gr_aus_races, prop = 0.75, strata = milliseconds)\n",
    "\n",
    "initiate_split_data()\n",
    "\n",
    "### RUNS REGRESSION\n",
    "\n",
    "initiate_linear_regression()\n"
   ]
  },
  {
   "cell_type": "code",
   "execution_count": null,
   "metadata": {},
   "outputs": [],
   "source": [
    "#4. Italy, Imola\n",
    "\n",
    "gr_imola <- rus_laps %>%\n",
    "                filter(raceId %in% imola_race_ID) \n",
    "\n",
    "gr_imola_clean <- gr_imola %>%\n",
    "                        group_by(raceId) %>%\n",
    "                        summarize(n = n()) %>%\n",
    "                        arrange(desc(n)) \n",
    "gr_imola_clean\n",
    "gr_imola_clean_ID <- gr_imola_clean %>%\n",
    "                        pull(raceId)\n",
    "\n",
    "\n",
    "### SPLITTING DATA\n",
    "\n",
    "gr_imola_races <- rus_laps %>%\n",
    "                    filter(raceId %in% gr_imola_clean_ID)\n",
    "\n",
    "formulaone_split <- initial_split(gr_imola_races, prop = 0.75, strata = milliseconds)\n",
    "\n",
    "initiate_split_data()\n",
    "\n",
    "### RUNS REGRESSION\n",
    "\n",
    "initiate_linear_regression()"
   ]
  },
  {
   "cell_type": "code",
   "execution_count": null,
   "metadata": {},
   "outputs": [],
   "source": [
    "#6. Spain\n",
    "\n",
    "gr_spain <- rus_laps %>%\n",
    "                filter(raceId %in% spain_race_ID) \n",
    "\n",
    "gr_spain_clean <- gr_spain %>%\n",
    "                        group_by(raceId) %>%\n",
    "                        summarize(n = n()) %>%\n",
    "                        arrange(desc(n)) \n",
    "gr_spain_clean\n",
    "gr_spain_clean_ID <- gr_spain_clean %>%\n",
    "                        pull(raceId)\n",
    "\n",
    "\n",
    "### SPLITTING DATA\n",
    "\n",
    "gr_spain_races <- rus_laps %>%\n",
    "                    filter(raceId %in% gr_spain_clean_ID)\n",
    "\n",
    "formulaone_split <- initial_split(gr_spain_races, prop = 0.75, strata = milliseconds)\n",
    "\n",
    "initiate_split_data()\n",
    "\n",
    "### RUNS REGRESSION\n",
    "\n",
    "initiate_linear_regression()"
   ]
  },
  {
   "cell_type": "code",
   "execution_count": null,
   "metadata": {},
   "outputs": [],
   "source": [
    "#7.   Monaco\n",
    "\n",
    "gr_monaco <- rus_laps %>%\n",
    "                filter(raceId %in% monaco_race_ID) \n",
    "\n",
    "gr_monaco_clean <- gr_monaco %>%\n",
    "                        group_by(raceId) %>%\n",
    "                        summarize(n = n()) %>%\n",
    "                        arrange(desc(n)) \n",
    "gr_monaco_clean\n",
    "gr_monaco_clean_ID <- gr_monaco_clean %>%\n",
    "                        pull(raceId)\n",
    "\n",
    "\n",
    "### SPLITTING DATA\n",
    "\n",
    "gr_monaco_races <- rus_laps %>%\n",
    "                    filter(raceId %in% gr_monaco_clean_ID)\n",
    "\n",
    "formulaone_split <- initial_split(gr_monaco_races, prop = 0.75, strata = milliseconds)\n",
    "\n",
    "initiate_split_data()\n",
    "\n",
    "### RUNS REGRESSION\n",
    "\n",
    "initiate_linear_regression()"
   ]
  },
  {
   "cell_type": "code",
   "execution_count": null,
   "metadata": {},
   "outputs": [],
   "source": [
    "#8.  Azerbaijan\n",
    "\n",
    "gr_azerbaijan <- rus_laps %>%\n",
    "                filter(raceId %in% azerbaijan_race_ID) \n",
    "\n",
    "gr_azerbaijan_clean <- gr_azerbaijan %>%\n",
    "                        group_by(raceId) %>%\n",
    "                        summarize(n = n()) %>%\n",
    "                        arrange(desc(n)) \n",
    "gr_azerbaijan_clean\n",
    "gr_azerbaijan_clean_ID <- gr_azerbaijan_clean %>%\n",
    "                        pull(raceId)\n",
    "\n",
    "\n",
    "### SPLITTING DATA\n",
    "\n",
    "gr_azerbaijan_races <- rus_laps %>%\n",
    "                    filter(raceId %in% gr_azerbaijan_clean_ID)\n",
    "\n",
    "formulaone_split <- initial_split(gr_azerbaijan_races, prop = 0.75, strata = milliseconds)\n",
    "\n",
    "initiate_split_data()\n",
    "\n",
    "### RUNS REGRESSION\n",
    "\n",
    "initiate_linear_regression()"
   ]
  },
  {
   "cell_type": "code",
   "execution_count": null,
   "metadata": {},
   "outputs": [],
   "source": [
    "#9.  Canada\n",
    "\n",
    "gr_canada <- rus_laps %>%\n",
    "                filter(raceId %in% canada_race_ID) \n",
    "\n",
    "gr_canada_clean <- gr_canada %>%\n",
    "                        group_by(raceId) %>%\n",
    "                        summarize(n = n()) %>%\n",
    "                        arrange(desc(n)) \n",
    "gr_canada_clean\n",
    "gr_canada_clean_ID <- gr_canada_clean %>%\n",
    "                        pull(raceId)\n",
    "\n",
    "\n",
    "### SPLITTING DATA\n",
    "\n",
    "gr_canada_races <- rus_laps %>%\n",
    "                    filter(raceId %in% gr_canada_clean_ID)\n",
    "\n",
    "formulaone_split <- initial_split(gr_canada_races, prop = 0.75, strata = milliseconds)\n",
    "\n",
    "initiate_split_data()\n",
    "\n",
    "### RUNS REGRESSION\n",
    "\n",
    "initiate_linear_regression()"
   ]
  },
  {
   "cell_type": "code",
   "execution_count": null,
   "metadata": {},
   "outputs": [],
   "source": [
    "#10.  Great Britain\n",
    "\n",
    "gr_uk <- rus_laps %>%\n",
    "                filter(raceId %in% uk_race_ID) \n",
    "\n",
    "gr_uk_clean <- gr_uk %>%\n",
    "                        group_by(raceId) %>%\n",
    "                        summarize(n = n()) %>%\n",
    "                        arrange(desc(n)) \n",
    "\n",
    "gr_uk_clean_ID <- gr_uk_clean %>%\n",
    "                        pull(raceId)\n",
    "\n",
    "\n",
    "### SPLITTING DATA\n",
    "\n",
    "gr_uk_races <- rus_laps %>%\n",
    "                    filter(raceId %in% gr_uk_clean_ID)\n",
    "\n",
    "formulaone_split <- initial_split(gr_uk_races, prop = 0.75, strata = milliseconds)\n",
    "\n",
    "initiate_split_data()\n",
    "\n",
    "### RUNS REGRESSION\n",
    "\n",
    "initiate_linear_regression()"
   ]
  },
  {
   "cell_type": "code",
   "execution_count": null,
   "metadata": {},
   "outputs": [],
   "source": [
    "#11.  Austria\n",
    "\n",
    "gr_austria <- rus_laps %>%\n",
    "                filter(raceId %in% austria_race_ID) \n",
    "\n",
    "gr_austria_clean <- gr_austria %>%\n",
    "                        group_by(raceId) %>%\n",
    "                        summarize(n = n()) %>%\n",
    "                        arrange(desc(n)) \n",
    "\n",
    "gr_austria_clean_ID <- gr_austria_clean %>%\n",
    "                        pull(raceId)\n",
    "\n",
    "\n",
    "### SPLITTING DATA\n",
    "\n",
    "gr_austria_races <- rus_laps %>%\n",
    "                    filter(raceId %in% gr_austria_clean_ID)\n",
    "\n",
    "formulaone_split <- initial_split(gr_austria_races, prop = 0.75, strata = milliseconds)\n",
    "\n",
    "initiate_split_data()\n",
    "\n",
    "### RUNS REGRESSION\n",
    "\n",
    "initiate_linear_regression()"
   ]
  },
  {
   "cell_type": "code",
   "execution_count": null,
   "metadata": {},
   "outputs": [],
   "source": [
    "#12.  France\n",
    "\n",
    "gr_france <- rus_laps %>%\n",
    "                filter(raceId %in% france_race_ID) \n",
    "\n",
    "gr_france_clean <- gr_france %>%\n",
    "                        group_by(raceId) %>%\n",
    "                        summarize(n = n()) %>%\n",
    "                        arrange(desc(n)) \n",
    "gr_france_clean\n",
    "gr_france_clean_ID <- gr_france_clean %>%\n",
    "                        pull(raceId)\n",
    "\n",
    "\n",
    "### SPLITTING DATA\n",
    "\n",
    "gr_france_races <- rus_laps %>%\n",
    "                    filter(raceId %in% gr_france_clean_ID)\n",
    "\n",
    "formulaone_split <- initial_split(gr_france_races, prop = 0.75, strata = milliseconds)\n",
    "\n",
    "initiate_split_data()\n",
    "\n",
    "### RUNS REGRESSION\n",
    "\n",
    "initiate_linear_regression()"
   ]
  },
  {
   "cell_type": "code",
   "execution_count": null,
   "metadata": {},
   "outputs": [],
   "source": [
    "#13.  Hungary\n",
    "\n",
    "gr_hungary <- rus_laps %>%\n",
    "                filter(raceId %in% hungary_race_ID) \n",
    "\n",
    "gr_hungary_clean <- gr_hungary %>%\n",
    "                        group_by(raceId) %>%\n",
    "                        summarize(n = n()) %>%\n",
    "                        arrange(desc(n)) \n",
    "                     \n",
    "\n",
    "gr_hungary_clean_ID <- gr_hungary_clean %>%\n",
    "                        pull(raceId)\n",
    "\n",
    "\n",
    "### SPLITTING DATA\n",
    "\n",
    "gr_hungary_races <- rus_laps %>%\n",
    "                    filter(raceId %in% gr_hungary_clean_ID)\n",
    "\n",
    "formulaone_split <- initial_split(gr_hungary_races, prop = 0.75, strata = milliseconds)\n",
    "\n",
    "initiate_split_data()\n",
    "\n",
    "### RUNS REGRESSION\n",
    "\n",
    "initiate_linear_regression()"
   ]
  },
  {
   "cell_type": "code",
   "execution_count": null,
   "metadata": {},
   "outputs": [],
   "source": [
    "#14. Belgium\n",
    "\n",
    "gr_belgium <- rus_laps %>%\n",
    "                filter(raceId %in% belgium_race_ID) \n",
    "\n",
    "gr_belgium_clean <- gr_belgium %>%\n",
    "                        group_by(raceId) %>%\n",
    "                        summarize(n = n()) %>%\n",
    "                        arrange(desc(n)) \n",
    "gr_belgium_clean\n",
    "gr_belgium_clean_ID <- gr_belgium_clean %>%\n",
    "                        pull(raceId)\n",
    "\n",
    "\n",
    "### SPLITTING DATA\n",
    "\n",
    "gr_belgium_races <- rus_laps %>%\n",
    "                    filter(raceId %in% gr_belgium_clean_ID)\n",
    "\n",
    "formulaone_split <- initial_split(gr_belgium_races, prop = 0.75, strata = milliseconds)\n",
    "\n",
    "initiate_split_data()\n",
    "\n",
    "### RUNS REGRESSION\n",
    "\n",
    "initiate_linear_regression()"
   ]
  },
  {
   "cell_type": "code",
   "execution_count": null,
   "metadata": {},
   "outputs": [],
   "source": [
    "#15.  Netherlands\n",
    "\n",
    "gr_netherlands <- rus_laps %>%\n",
    "                filter(raceId %in% netherlands_race_ID) \n",
    "\n",
    "gr_netherlands_clean <- gr_netherlands %>%\n",
    "                        group_by(raceId) %>%\n",
    "                        summarize(n = n()) %>%\n",
    "                        arrange(desc(n)) \n",
    "gr_netherlands_clean\n",
    "gr_netherlands_clean_ID <- gr_netherlands_clean %>%\n",
    "                        pull(raceId)\n",
    "\n",
    "\n",
    "### SPLITTING DATA\n",
    "\n",
    "gr_netherlands_races <- rus_laps %>%\n",
    "                    filter(raceId %in% gr_netherlands_clean_ID)\n",
    "\n",
    "formulaone_split <- initial_split(gr_netherlands_races, prop = 0.75, strata = milliseconds)\n",
    "\n",
    "initiate_split_data()\n",
    "\n",
    "### RUNS REGRESSION\n",
    "\n",
    "initiate_linear_regression()"
   ]
  },
  {
   "cell_type": "code",
   "execution_count": null,
   "metadata": {},
   "outputs": [],
   "source": [
    "#16.  Italy, Monza\n",
    "\n",
    "gr_monza <- rus_laps %>%\n",
    "                filter(raceId %in% monza_race_ID) \n",
    "\n",
    "gr_monza_clean <- gr_monza %>%\n",
    "                        group_by(raceId) %>%\n",
    "                        summarize(n = n()) %>%\n",
    "                        arrange(desc(n))\n",
    "gr_monza_clean\n",
    "gr_monza_clean_ID <- gr_monza_clean %>%\n",
    "                        pull(raceId)\n",
    "\n",
    "\n",
    "### SPLITTING DATA\n",
    "\n",
    "gr_monza_races <- rus_laps %>%\n",
    "                    filter(raceId %in% gr_monza_clean_ID)\n",
    "\n",
    "formulaone_split <- initial_split(gr_monza_races, prop = 0.75, strata = milliseconds)\n",
    "\n",
    "initiate_split_data()\n",
    "\n",
    "### RUNS REGRESSION\n",
    "\n",
    "initiate_linear_regression()"
   ]
  },
  {
   "cell_type": "code",
   "execution_count": null,
   "metadata": {},
   "outputs": [],
   "source": [
    "#17.  Singapore\n",
    "\n",
    "gr_singapore <- rus_laps %>%\n",
    "                filter(raceId %in% singapore_race_ID) \n",
    "\n",
    "gr_singapore_clean <- gr_singapore %>%\n",
    "                        group_by(raceId) %>%\n",
    "                        summarize(n = n()) %>%\n",
    "                        arrange(desc(n)) \n",
    "\n",
    "gr_singapore_clean_ID <- gr_singapore_clean %>%\n",
    "                        pull(raceId)\n",
    "\n",
    "\n",
    "### SPLITTING DATA\n",
    "\n",
    "gr_singapore_races <- rus_laps %>%\n",
    "                    filter(raceId %in% gr_singapore_clean_ID)\n",
    "\n",
    "formulaone_split <- initial_split(gr_singapore_races, prop = 0.75, strata = milliseconds)\n",
    "\n",
    "initiate_split_data()\n",
    "\n",
    "### RUNS REGRESSION\n",
    "\n",
    "initiate_linear_regression()"
   ]
  },
  {
   "cell_type": "code",
   "execution_count": null,
   "metadata": {},
   "outputs": [],
   "source": [
    "#18.  Japan\n",
    "\n",
    "gr_japan <- rus_laps %>%\n",
    "                filter(raceId %in% japan_race_ID) \n",
    "\n",
    "gr_japan_clean <- gr_japan %>%\n",
    "                        group_by(raceId) %>%\n",
    "                        summarize(n = n()) %>%\n",
    "                        arrange(desc(n)) \n",
    "gr_japan_clean_ID <- gr_japan_clean %>%\n",
    "                        pull(raceId)\n",
    "\n",
    "\n",
    "### SPLITTING DATA\n",
    "\n",
    "gr_japan_races <- rus_laps %>%\n",
    "                    filter(raceId %in% gr_japan_clean_ID)\n",
    "\n",
    "formulaone_split <- initial_split(gr_japan_races, prop = 0.75, strata = milliseconds)\n",
    "\n",
    "initiate_split_data()\n",
    "\n",
    "### RUNS REGRESSION\n",
    "\n",
    "initiate_linear_regression()"
   ]
  },
  {
   "cell_type": "code",
   "execution_count": null,
   "metadata": {},
   "outputs": [],
   "source": [
    "#19.  USA, Austin\n",
    "\n",
    "gr_austin <- rus_laps %>%\n",
    "                filter(raceId %in% austin_race_ID) \n",
    "\n",
    "gr_austin_clean <- gr_austin %>%\n",
    "                        group_by(raceId) %>%\n",
    "                        summarize(n = n()) %>%\n",
    "                        arrange(desc(n)) \n",
    "\n",
    "gr_austin_clean_ID <- gr_austin_clean %>%\n",
    "                        pull(raceId)\n",
    "\n",
    "\n",
    "### SPLITTING DATA\n",
    "\n",
    "gr_austin_races <- rus_laps %>%\n",
    "                    filter(raceId %in% gr_austin_clean_ID)\n",
    "\n",
    "formulaone_split <- initial_split(gr_austin_races, prop = 0.75, strata = milliseconds)\n",
    "\n",
    "initiate_split_data()\n",
    "\n",
    "### RUNS REGRESSION\n",
    "\n",
    "initiate_linear_regression()"
   ]
  },
  {
   "cell_type": "code",
   "execution_count": null,
   "metadata": {},
   "outputs": [],
   "source": [
    "#20. Mexico\n",
    "\n",
    "gr_mexico <- rus_laps %>%\n",
    "                filter(raceId %in% mexico_race_ID) \n",
    "\n",
    "gr_mexico_clean <- gr_mexico %>%\n",
    "                        group_by(raceId) %>%\n",
    "                        summarize(n = n()) %>%\n",
    "                        arrange(desc(n)) \n",
    "\n",
    "gr_mexico_clean_ID <- gr_mexico_clean %>%\n",
    "                        pull(raceId)\n",
    "\n",
    "\n",
    "### SPLITTING DATA\n",
    "\n",
    "gr_mexico_races <- rus_laps %>%\n",
    "                    filter(raceId %in% gr_mexico_clean_ID)\n",
    "\n",
    "formulaone_split <- initial_split(gr_mexico_races, prop = 0.75, strata = milliseconds)\n",
    "\n",
    "initiate_split_data()\n",
    "\n",
    "### RUNS REGRESSION\n",
    "\n",
    "initiate_linear_regression()"
   ]
  },
  {
   "cell_type": "code",
   "execution_count": null,
   "metadata": {},
   "outputs": [],
   "source": [
    "#21.  Brazil\n",
    "\n",
    "gr_brazil <- rus_laps %>%\n",
    "                filter(raceId %in% brazil_race_ID) \n",
    "\n",
    "gr_brazil_clean <- gr_brazil %>%\n",
    "                        group_by(raceId) %>%\n",
    "                        summarize(n = n()) %>%\n",
    "                        arrange(desc(n)) \n",
    "\n",
    "gr_brazil_clean_ID <- gr_brazil_clean %>%\n",
    "                        pull(raceId)\n",
    "\n",
    "\n",
    "### SPLITTING DATA\n",
    "\n",
    "gr_brazil_races <- rus_laps %>%\n",
    "                    filter(raceId %in% gr_brazil_clean_ID)\n",
    "\n",
    "formulaone_split <- initial_split(gr_brazil_races, prop = 0.75, strata = milliseconds)\n",
    "\n",
    "initiate_split_data()\n",
    "\n",
    "### RUNS REGRESSION\n",
    "\n",
    "initiate_linear_regression()"
   ]
  },
  {
   "cell_type": "code",
   "execution_count": 8,
   "metadata": {},
   "outputs": [
    {
     "data": {
      "text/html": [
       "<table class=\"dataframe\">\n",
       "<caption>A tibble: 3 × 2</caption>\n",
       "<thead>\n",
       "\t<tr><th scope=col>raceId</th><th scope=col>n</th></tr>\n",
       "\t<tr><th scope=col>&lt;dbl&gt;</th><th scope=col>&lt;int&gt;</th></tr>\n",
       "</thead>\n",
       "<tbody>\n",
       "\t<tr><td>1030</td><td>54</td></tr>\n",
       "\t<tr><td>1047</td><td>54</td></tr>\n",
       "\t<tr><td>1073</td><td>26</td></tr>\n",
       "</tbody>\n",
       "</table>\n"
      ],
      "text/latex": [
       "A tibble: 3 × 2\n",
       "\\begin{tabular}{ll}\n",
       " raceId & n\\\\\n",
       " <dbl> & <int>\\\\\n",
       "\\hline\n",
       "\t 1030 & 54\\\\\n",
       "\t 1047 & 54\\\\\n",
       "\t 1073 & 26\\\\\n",
       "\\end{tabular}\n"
      ],
      "text/markdown": [
       "\n",
       "A tibble: 3 × 2\n",
       "\n",
       "| raceId &lt;dbl&gt; | n &lt;int&gt; |\n",
       "|---|---|\n",
       "| 1030 | 54 |\n",
       "| 1047 | 54 |\n",
       "| 1073 | 26 |\n",
       "\n"
      ],
      "text/plain": [
       "  raceId n \n",
       "1 1030   54\n",
       "2 1047   54\n",
       "3 1073   26"
      ]
     },
     "metadata": {},
     "output_type": "display_data"
    }
   ],
   "source": [
    "#22.  Abu Dhabi\n",
    "\n",
    "gr_uae <- rus_laps %>%\n",
    "                filter(raceId %in% uae_race_ID) \n",
    "\n",
    "gr_uae_clean <- gr_uae %>%\n",
    "                        group_by(raceId) %>%\n",
    "                        summarize(n = n()) %>%\n",
    "                        arrange(desc(n)) \n",
    "gr_uae_clean\n",
    "gr_uae_clean_ID <- gr_uae_clean %>%\n",
    "                        pull(raceId)\n",
    "\n",
    "\n",
    "### SPLITTING DATA\n",
    "\n",
    "gr_uae_races <- rus_laps %>%\n",
    "                    filter(raceId %in% gr_uae_clean_ID)\n",
    "\n",
    "formulaone_split <- initial_split(gr_uae_races, prop = 0.75, strata = milliseconds)\n",
    "\n",
    "initiate_split_data()\n",
    "\n",
    "### RUNS REGRESSION\n",
    "\n",
    "initiate_linear_regression()"
   ]
  }
 ],
 "metadata": {
  "kernelspec": {
   "display_name": "R",
   "language": "R",
   "name": "ir"
  },
  "language_info": {
   "codemirror_mode": "r",
   "file_extension": ".r",
   "mimetype": "text/x-r-source",
   "name": "R",
   "pygments_lexer": "r",
   "version": "4.0.0"
  }
 },
 "nbformat": 4,
 "nbformat_minor": 4
}
