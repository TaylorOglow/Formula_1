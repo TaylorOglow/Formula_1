{
 "cells": [
  {
   "cell_type": "markdown",
   "metadata": {},
   "source": [
    "# Lance Stroll\n",
    "<img src=\"https://www.formula1.com/content/fom-website/en/drivers/lance-stroll/_jcr_content/image.img.1920.medium.jpg/1641828817373.jpg\" width=\"300\">\n",
    "\n",
    "### Team: Aston Martin\n",
    "\n",
    "<img src =\"https://www.formula1.com/content/fom-website/en/drivers/lance-stroll/_jcr_content/helmet.img.png/1646824889978.png\" width=\"200\">\n"
   ]
  },
  {
   "cell_type": "code",
   "execution_count": 30,
   "metadata": {},
   "outputs": [],
   "source": [
    "library (tidyverse)\n",
    "library (tidymodels)"
   ]
  },
  {
   "cell_type": "code",
   "execution_count": 31,
   "metadata": {},
   "outputs": [
    {
     "name": "stderr",
     "output_type": "stream",
     "text": [
      "Parsed with column specification:\n",
      "cols(\n",
      "  circuitId = \u001b[32mcol_double()\u001b[39m,\n",
      "  circuitRef = \u001b[31mcol_character()\u001b[39m,\n",
      "  name = \u001b[31mcol_character()\u001b[39m,\n",
      "  location = \u001b[31mcol_character()\u001b[39m,\n",
      "  country = \u001b[31mcol_character()\u001b[39m,\n",
      "  lat = \u001b[32mcol_double()\u001b[39m,\n",
      "  lng = \u001b[32mcol_double()\u001b[39m,\n",
      "  alt = \u001b[31mcol_character()\u001b[39m,\n",
      "  url = \u001b[31mcol_character()\u001b[39m\n",
      ")\n",
      "\n",
      "Parsed with column specification:\n",
      "cols(\n",
      "  constructorStandingsId = \u001b[32mcol_double()\u001b[39m,\n",
      "  raceId = \u001b[32mcol_double()\u001b[39m,\n",
      "  constructorId = \u001b[32mcol_double()\u001b[39m,\n",
      "  points = \u001b[32mcol_double()\u001b[39m,\n",
      "  position = \u001b[32mcol_double()\u001b[39m,\n",
      "  positionText = \u001b[31mcol_character()\u001b[39m,\n",
      "  wins = \u001b[32mcol_double()\u001b[39m\n",
      ")\n",
      "\n",
      "Parsed with column specification:\n",
      "cols(\n",
      "  constructorResultsId = \u001b[32mcol_double()\u001b[39m,\n",
      "  raceId = \u001b[32mcol_double()\u001b[39m,\n",
      "  constructorId = \u001b[32mcol_double()\u001b[39m,\n",
      "  points = \u001b[32mcol_double()\u001b[39m,\n",
      "  status = \u001b[31mcol_character()\u001b[39m\n",
      ")\n",
      "\n",
      "Parsed with column specification:\n",
      "cols(\n",
      "  constructorId = \u001b[32mcol_double()\u001b[39m,\n",
      "  constructorRef = \u001b[31mcol_character()\u001b[39m,\n",
      "  name = \u001b[31mcol_character()\u001b[39m,\n",
      "  nationality = \u001b[31mcol_character()\u001b[39m,\n",
      "  url = \u001b[31mcol_character()\u001b[39m\n",
      ")\n",
      "\n",
      "Parsed with column specification:\n",
      "cols(\n",
      "  driverId = \u001b[32mcol_double()\u001b[39m,\n",
      "  driverRef = \u001b[31mcol_character()\u001b[39m,\n",
      "  number = \u001b[31mcol_character()\u001b[39m,\n",
      "  code = \u001b[31mcol_character()\u001b[39m,\n",
      "  forename = \u001b[31mcol_character()\u001b[39m,\n",
      "  surname = \u001b[31mcol_character()\u001b[39m,\n",
      "  dob = \u001b[34mcol_date(format = \"\")\u001b[39m,\n",
      "  nationality = \u001b[31mcol_character()\u001b[39m,\n",
      "  url = \u001b[31mcol_character()\u001b[39m\n",
      ")\n",
      "\n",
      "Parsed with column specification:\n",
      "cols(\n",
      "  driverStandingsId = \u001b[32mcol_double()\u001b[39m,\n",
      "  raceId = \u001b[32mcol_double()\u001b[39m,\n",
      "  driverId = \u001b[32mcol_double()\u001b[39m,\n",
      "  points = \u001b[32mcol_double()\u001b[39m,\n",
      "  position = \u001b[32mcol_double()\u001b[39m,\n",
      "  positionText = \u001b[32mcol_double()\u001b[39m,\n",
      "  wins = \u001b[32mcol_double()\u001b[39m\n",
      ")\n",
      "\n",
      "Warning message:\n",
      "“21 parsing failures.\n",
      "  row          col expected actual                                                                                                      file\n",
      " 4376 positionText a double      D 'https://raw.githubusercontent.com/TaylorOglow/group_project_proposal/main/data_set/driver_standings.csv'\n",
      "33375 positionText a double      - 'https://raw.githubusercontent.com/TaylorOglow/group_project_proposal/main/data_set/driver_standings.csv'\n",
      "33376 positionText a double      - 'https://raw.githubusercontent.com/TaylorOglow/group_project_proposal/main/data_set/driver_standings.csv'\n",
      "33377 positionText a double      - 'https://raw.githubusercontent.com/TaylorOglow/group_project_proposal/main/data_set/driver_standings.csv'\n",
      "33378 positionText a double      - 'https://raw.githubusercontent.com/TaylorOglow/group_project_proposal/main/data_set/driver_standings.csv'\n",
      "..... ............ ........ ...... .........................................................................................................\n",
      "See problems(...) for more details.\n",
      "”\n",
      "Parsed with column specification:\n",
      "cols(\n",
      "  raceId = \u001b[32mcol_double()\u001b[39m,\n",
      "  driverId = \u001b[32mcol_double()\u001b[39m,\n",
      "  lap = \u001b[32mcol_double()\u001b[39m,\n",
      "  position = \u001b[32mcol_double()\u001b[39m,\n",
      "  time = \u001b[34mcol_time(format = \"\")\u001b[39m,\n",
      "  milliseconds = \u001b[32mcol_double()\u001b[39m\n",
      ")\n",
      "\n",
      "Warning message:\n",
      "“223 parsing failures.\n",
      "  row  col   expected    actual                                                                                               file\n",
      "25038 time valid date 52:17.033 'https://raw.githubusercontent.com/TaylorOglow/group_project_proposal/main/data_set/lap_times.csv'\n",
      "25094 time valid date 52:17.014 'https://raw.githubusercontent.com/TaylorOglow/group_project_proposal/main/data_set/lap_times.csv'\n",
      "25150 time valid date 52:16.250 'https://raw.githubusercontent.com/TaylorOglow/group_project_proposal/main/data_set/lap_times.csv'\n",
      "25206 time valid date 52:16.891 'https://raw.githubusercontent.com/TaylorOglow/group_project_proposal/main/data_set/lap_times.csv'\n",
      "25262 time valid date 52:17.452 'https://raw.githubusercontent.com/TaylorOglow/group_project_proposal/main/data_set/lap_times.csv'\n",
      "..... .... .......... ......... ..................................................................................................\n",
      "See problems(...) for more details.\n",
      "”\n",
      "Parsed with column specification:\n",
      "cols(\n",
      "  raceId = \u001b[32mcol_double()\u001b[39m,\n",
      "  driverId = \u001b[32mcol_double()\u001b[39m,\n",
      "  stop = \u001b[32mcol_double()\u001b[39m,\n",
      "  lap = \u001b[32mcol_double()\u001b[39m,\n",
      "  time = \u001b[34mcol_time(format = \"\")\u001b[39m,\n",
      "  duration = \u001b[31mcol_character()\u001b[39m,\n",
      "  milliseconds = \u001b[32mcol_double()\u001b[39m\n",
      ")\n",
      "\n",
      "Parsed with column specification:\n",
      "cols(\n",
      "  qualifyId = \u001b[32mcol_double()\u001b[39m,\n",
      "  raceId = \u001b[32mcol_double()\u001b[39m,\n",
      "  driverId = \u001b[32mcol_double()\u001b[39m,\n",
      "  constructorId = \u001b[32mcol_double()\u001b[39m,\n",
      "  number = \u001b[32mcol_double()\u001b[39m,\n",
      "  position = \u001b[32mcol_double()\u001b[39m,\n",
      "  q1 = \u001b[31mcol_character()\u001b[39m,\n",
      "  q2 = \u001b[31mcol_character()\u001b[39m,\n",
      "  q3 = \u001b[31mcol_character()\u001b[39m\n",
      ")\n",
      "\n",
      "Parsed with column specification:\n",
      "cols(\n",
      "  resultId = \u001b[32mcol_double()\u001b[39m,\n",
      "  raceId = \u001b[32mcol_double()\u001b[39m,\n",
      "  driverId = \u001b[32mcol_double()\u001b[39m,\n",
      "  constructorId = \u001b[32mcol_double()\u001b[39m,\n",
      "  number = \u001b[32mcol_double()\u001b[39m,\n",
      "  grid = \u001b[32mcol_double()\u001b[39m,\n",
      "  position = \u001b[31mcol_character()\u001b[39m,\n",
      "  positionText = \u001b[31mcol_character()\u001b[39m,\n",
      "  positionOrder = \u001b[32mcol_double()\u001b[39m,\n",
      "  points = \u001b[32mcol_double()\u001b[39m,\n",
      "  laps = \u001b[32mcol_double()\u001b[39m,\n",
      "  time = \u001b[31mcol_character()\u001b[39m,\n",
      "  milliseconds = \u001b[31mcol_character()\u001b[39m,\n",
      "  fastestLap = \u001b[31mcol_character()\u001b[39m,\n",
      "  rank = \u001b[31mcol_character()\u001b[39m,\n",
      "  fastestLapTime = \u001b[31mcol_character()\u001b[39m,\n",
      "  fastestLapSpeed = \u001b[31mcol_character()\u001b[39m,\n",
      "  statusId = \u001b[32mcol_double()\u001b[39m\n",
      ")\n",
      "\n",
      "Warning message:\n",
      "“6 parsing failures.\n",
      "  row    col expected actual                                                                                             file\n",
      "17716 number a double    \\N 'https://raw.githubusercontent.com/TaylorOglow/group_project_proposal/main/data_set/results.csv'\n",
      "17717 number a double    \\N 'https://raw.githubusercontent.com/TaylorOglow/group_project_proposal/main/data_set/results.csv'\n",
      "17718 number a double    \\N 'https://raw.githubusercontent.com/TaylorOglow/group_project_proposal/main/data_set/results.csv'\n",
      "17719 number a double    \\N 'https://raw.githubusercontent.com/TaylorOglow/group_project_proposal/main/data_set/results.csv'\n",
      "17940 number a double    \\N 'https://raw.githubusercontent.com/TaylorOglow/group_project_proposal/main/data_set/results.csv'\n",
      "..... ...... ........ ...... ................................................................................................\n",
      "See problems(...) for more details.\n",
      "”\n",
      "Parsed with column specification:\n",
      "cols(\n",
      "  raceId = \u001b[32mcol_double()\u001b[39m,\n",
      "  year = \u001b[32mcol_double()\u001b[39m,\n",
      "  round = \u001b[32mcol_double()\u001b[39m,\n",
      "  circuitId = \u001b[32mcol_double()\u001b[39m,\n",
      "  name = \u001b[31mcol_character()\u001b[39m,\n",
      "  date = \u001b[34mcol_date(format = \"\")\u001b[39m,\n",
      "  time = \u001b[31mcol_character()\u001b[39m,\n",
      "  url = \u001b[31mcol_character()\u001b[39m\n",
      ")\n",
      "\n",
      "Parsed with column specification:\n",
      "cols(\n",
      "  statusId = \u001b[32mcol_double()\u001b[39m,\n",
      "  status = \u001b[31mcol_character()\u001b[39m\n",
      ")\n",
      "\n"
     ]
    }
   ],
   "source": [
    "# Reading dataset files\n",
    "\n",
    "circuits <- read_csv(\"https://raw.githubusercontent.com/TaylorOglow/group_project_proposal/main/data_set/circuits.csv\")\n",
    "\n",
    "constructor_standings <- read_csv(\"https://raw.githubusercontent.com/TaylorOglow/group_project_proposal/main/data_set/constructor_standings.csv\") \n",
    "\n",
    "constructor_results <- read_csv(\"https://raw.githubusercontent.com/TaylorOglow/group_project_proposal/main/data_set/constructor_results.csv\") \n",
    "    \n",
    "constructors <- read_csv(\"https://raw.githubusercontent.com/TaylorOglow/group_project_proposal/main/data_set/constructors.csv\")\n",
    "\n",
    "drivers <- read_csv(\"https://raw.githubusercontent.com/TaylorOglow/group_project_proposal/main/data_set/drivers.csv\")\n",
    "\n",
    "driver_standings <- read_csv(\"https://raw.githubusercontent.com/TaylorOglow/group_project_proposal/main/data_set/driver_standings.csv\")\n",
    "\n",
    "lap_times <- read_csv(\"https://raw.githubusercontent.com/TaylorOglow/group_project_proposal/main/data_set/lap_times.csv\") \n",
    "\n",
    "pit_stops <- read_csv(\"https://raw.githubusercontent.com/TaylorOglow/group_project_proposal/main/data_set/pit_stops.csv\")\n",
    "           \n",
    "qualifying <- read_csv(\"https://raw.githubusercontent.com/TaylorOglow/group_project_proposal/main/data_set/qualifying.csv\") \n",
    "\n",
    "results <- read_csv(\"https://raw.githubusercontent.com/TaylorOglow/group_project_proposal/main/data_set/results.csv\") \n",
    "\n",
    "races <- read_csv(\"https://raw.githubusercontent.com/TaylorOglow/group_project_proposal/main/data_set/races.csv\") \n",
    "\n",
    "status <- read_csv(\"https://raw.githubusercontent.com/TaylorOglow/group_project_proposal/main/data_set/status.csv\") "
   ]
  },
  {
   "cell_type": "code",
   "execution_count": 32,
   "metadata": {},
   "outputs": [],
   "source": [
    "# Filtering 2022 GP circuits \n",
    "\n",
    "# Vector of 2022 GP locations\n",
    "\n",
    "locations_2022 <- c(\"Sakhir\", \"Jeddah\", \"Melbourne\", \"Imola\", \"Miami\", \"Montmeló\", \"Monte-Carlo\", \"Baku\", \"Montreal\", \"Silverstone\", \"Spielberg\", \n",
    "                    \"Le Castellet\", \"Budapest\", \"Spa\", \"Zandvoort\", \"Monza\", \"Sochi\", \"Marina Bay\", \"Suzuka\", \"Austin\", \"Mexico City\", \"São Paulo\", \"Abu Dhabi\")\n",
    "\n",
    "# Filtering circuit data set by locations vector \n",
    "\n",
    "circuits_2022 <- circuits %>% \n",
    "           filter(location %in% locations_2022) %>%\n",
    "           filter(name != \"A1-Ring\") %>%\n",
    "           select(circuitId:alt)\n",
    "\n",
    "\n",
    "# Extracting 2022 circuit ID's \n",
    "\n",
    "\n",
    "circuit_ids <- circuits_2022 %>%\n",
    "              pull(circuitId)\n",
    "\n",
    "# Extracting 2022 circuit name and ID's\n",
    "\n",
    "\n",
    "circuits_IDS <- circuits_2022 %>%\n",
    "                select(circuitId, name, country, location) %>% \n",
    "                arrange(country)"
   ]
  },
  {
   "cell_type": "code",
   "execution_count": 33,
   "metadata": {},
   "outputs": [],
   "source": [
    "# Filtering 2022 Constructors\n",
    "\n",
    "team_names <- c(\"Alfa Romeo\", \"AlphaTauri\", \"Alpine F1 Team\", \"Aston Martin\", \"Ferrari\", \n",
    "                \"Haas F1 Team\", \"McLaren\", \"Mercedes\", \"Red Bull\", \"Williams\")\n",
    "\n",
    "teams_2022 <- constructors %>%\n",
    "                 filter(name %in% team_names)\n",
    "\n",
    "# Extracting 2022 Constructor ID's\n",
    "\n",
    "constructor_ids <- teams_2022 %>%\n",
    "              pull(constructorId)"
   ]
  },
  {
   "cell_type": "code",
   "execution_count": 34,
   "metadata": {},
   "outputs": [],
   "source": [
    "# Filtering 2022 Drivers\n",
    "\n",
    "driver_surnames <- c(\"Hamilton\", \"Russell\", \"Albon\", \"Zhou\", \"Bottas\", \"Gasly\", \"Tsunoda\", \"Alonso\", \"Ocon\", \"Vettel\", \"Stroll\", \n",
    "                     \"Leclerc\", \"Sainz\", \"Magnussen\", \"Schumacher\", \"Ricciardo\", \"Norris\", \"Verstappen\", \"Pérez\", \"Latifi\")\n",
    " \n",
    "drivers_2022 <- drivers %>%\n",
    "                filter(surname %in% driver_surnames) %>%\n",
    "                filter(!(forename %in% c(\"Ralf\", \"Michael\", \"Jos\", \"Duncan\", \"Jan\")))\n",
    "\n",
    "# Extracting Driver IDS\n",
    "\n",
    "driver_ids <- drivers_2022 %>%\n",
    "              pull(driverId)\n",
    "\n",
    "# Extracting Driver Codes\n",
    "\n",
    "driver_codes <- drivers_2022 %>%\n",
    "              pull(code)\n",
    "\n",
    "# Combining IDS and Codes\n",
    "\n",
    "driver_id_code <- data.frame(driver_ids, driver_codes)"
   ]
  },
  {
   "cell_type": "code",
   "execution_count": 35,
   "metadata": {},
   "outputs": [],
   "source": [
    "#### Filtering Race Data for 2022 Races\n",
    "\n",
    "past_2022_races <- races %>%\n",
    "                    filter(circuitId %in% circuit_ids) %>%\n",
    "                    filter(year != \"2022\")\n",
    "\n",
    "##### Extracting Race ID's\n",
    "\n",
    "race_ids <- past_2022_races %>%\n",
    "            pull(raceId)\n",
    "\n",
    "\n",
    "##### Filtering Race Data For All 23 Circuits\n",
    "\n",
    "#############################################\n",
    "\n",
    "bahrain <- past_2022_races %>% \n",
    "            filter(circuitId == 3) %>%\n",
    "            arrange(desc(year))\n",
    "\n",
    "bahrain_race_ID <- bahrain %>%\n",
    "                pull(raceId)\n",
    "\n",
    "#############################################\n",
    "\n",
    "sa <- past_2022_races %>% \n",
    "            filter(circuitId == 77) %>%\n",
    "            arrange(desc(year))\n",
    "\n",
    "saudi_race_ID <- sa %>%\n",
    "                pull(raceId)\n",
    "\n",
    "#############################################\n",
    "\n",
    "aus <- past_2022_races %>% \n",
    "            filter(circuitId == 1) %>%\n",
    "            arrange(desc(year))\n",
    "\n",
    "aus_race_ID <- aus %>%\n",
    "                pull(raceId)\n",
    "\n",
    "#############################################\n",
    "\n",
    "imola <- past_2022_races %>% \n",
    "            filter(circuitId == 21) %>%\n",
    "            arrange(desc(year))\n",
    "\n",
    "imola_race_ID <- imola %>%\n",
    "                pull(raceId)\n",
    "\n",
    "#############################################\n",
    "\n",
    "miami <- past_2022_races %>% \n",
    "            filter(circuitId == 79) %>%\n",
    "            arrange(desc(year))\n",
    "\n",
    "miami_race_ID <- miami %>%\n",
    "                pull(raceId)\n",
    "\n",
    "#############################################\n",
    "\n",
    "spain <- past_2022_races %>% \n",
    "            filter(circuitId == 4) %>%\n",
    "            arrange(desc(year))\n",
    "\n",
    "spain_race_ID <- spain %>%\n",
    "                pull(raceId)\n",
    "\n",
    "#############################################\n",
    "\n",
    "monaco <- past_2022_races %>% \n",
    "            filter(circuitId == 6) %>%\n",
    "            arrange(desc(year))\n",
    "\n",
    "monaco_race_ID <- monaco %>%\n",
    "                pull(raceId)\n",
    "\n",
    "#############################################\n",
    "\n",
    "azerbaijan <- past_2022_races %>% \n",
    "            filter(circuitId == 73) %>%\n",
    "            arrange(desc(year))\n",
    "\n",
    "azerbaijan_race_ID <- azerbaijan %>%\n",
    "                pull(raceId)\n",
    "\n",
    "#############################################\n",
    "\n",
    "canada <- past_2022_races %>% \n",
    "            filter(circuitId == 7) %>%\n",
    "            arrange(desc(year))\n",
    "\n",
    "canada_race_ID <- canada %>%\n",
    "                pull(raceId)\n",
    "\n",
    "#############################################\n",
    "\n",
    "uk <- past_2022_races %>% \n",
    "            filter(circuitId == 9) %>%\n",
    "            arrange(desc(year))\n",
    "\n",
    "\n",
    "uk_race_ID <- uk %>%\n",
    "                pull(raceId)\n",
    "\n",
    "#############################################\n",
    "\n",
    "austria <- past_2022_races %>% \n",
    "            filter(circuitId == 70) %>%\n",
    "            arrange(desc(year))\n",
    "\n",
    "\n",
    "austria_race_ID <- austria %>%\n",
    "                pull(raceId)\n",
    "\n",
    "#############################################\n",
    "\n",
    "france <- past_2022_races %>% \n",
    "            filter(circuitId == 34) %>%\n",
    "            arrange(desc(year))\n",
    "\n",
    "\n",
    "france_race_ID <- france %>%\n",
    "                pull(raceId)\n",
    "\n",
    "#############################################\n",
    "\n",
    "hungary <- past_2022_races %>% \n",
    "            filter(circuitId == 11) %>%\n",
    "            arrange(desc(year))\n",
    "\n",
    "\n",
    "hungary_race_ID <- hungary %>%\n",
    "                pull(raceId)\n",
    "\n",
    "#############################################\n",
    "\n",
    "belgium <- past_2022_races %>% \n",
    "            filter(circuitId == 13) %>%\n",
    "            arrange(desc(year))\n",
    "\n",
    "\n",
    "belgium_race_ID <- belgium %>%\n",
    "                pull(raceId)\n",
    "\n",
    "#############################################\n",
    "\n",
    "netherlands <- past_2022_races %>% \n",
    "            filter(circuitId == 39) %>%\n",
    "            arrange(desc(year))\n",
    "\n",
    "\n",
    "netherlands_race_ID <- netherlands %>%\n",
    "                pull(raceId)\n",
    "\n",
    "#############################################\n",
    "\n",
    "monza <- past_2022_races %>% \n",
    "            filter(circuitId == 14) %>%\n",
    "            arrange(desc(year))\n",
    "\n",
    "monza_race_ID <- monza %>%\n",
    "                pull(raceId)\n",
    "\n",
    "#############################################\n",
    "\n",
    "singapore <- past_2022_races %>% \n",
    "            filter(circuitId == 15) %>%\n",
    "            arrange(desc(year))\n",
    "\n",
    "singapore_race_ID <- singapore %>%\n",
    "                pull(raceId)\n",
    "\n",
    "#############################################\n",
    "\n",
    "japan <- past_2022_races %>% \n",
    "            filter(circuitId == 22) %>%\n",
    "            arrange(desc(year))\n",
    "\n",
    "japan_race_ID <- japan %>%\n",
    "                pull(raceId)\n",
    "\n",
    "#############################################\n",
    "\n",
    "austin <- past_2022_races %>% \n",
    "            filter(circuitId == 69) %>%\n",
    "            arrange(desc(year))\n",
    "\n",
    "austin_race_ID <- austin %>%\n",
    "                pull(raceId)\n",
    "\n",
    "#############################################\n",
    "\n",
    "mexico <- past_2022_races %>% \n",
    "            filter(circuitId == 32) %>%\n",
    "            arrange(desc(year))\n",
    "\n",
    "mexico_race_ID <- mexico %>%\n",
    "                pull(raceId)\n",
    "\n",
    "#############################################\n",
    "\n",
    "brazil <- past_2022_races %>% \n",
    "            filter(circuitId == 18) %>%\n",
    "            arrange(desc(year))\n",
    "\n",
    "brazil_race_ID <- brazil %>%\n",
    "                pull(raceId)\n",
    "\n",
    "#############################################\n",
    "\n",
    "uae <- past_2022_races %>% \n",
    "            filter(circuitId == 24) %>%\n",
    "            arrange(desc(year))\n",
    "\n",
    "uae_race_ID <- uae %>%\n",
    "                pull(raceId)"
   ]
  },
  {
   "cell_type": "code",
   "execution_count": 36,
   "metadata": {},
   "outputs": [],
   "source": [
    "# Filtering Lap Data For 2022 Drivers\n",
    "\n",
    "lap_data <- lap_times %>%\n",
    "            filter(driverId %in% driver_ids) %>%\n",
    "            filter(raceId %in% race_ids)\n",
    "\n",
    "str_laps <- lap_data %>%\n",
    "            filter(driverId == 840)"
   ]
  },
  {
   "cell_type": "code",
   "execution_count": 37,
   "metadata": {},
   "outputs": [
    {
     "name": "stderr",
     "output_type": "stream",
     "text": [
      "`summarise()` ungrouping output (override with `.groups` argument)\n",
      "\n"
     ]
    },
    {
     "data": {
      "text/html": [
       "<table>\n",
       "<caption>A tibble: 6 × 2</caption>\n",
       "<thead>\n",
       "\t<tr><th scope=col>raceId</th><th scope=col>n</th></tr>\n",
       "\t<tr><th scope=col>&lt;dbl&gt;</th><th scope=col>&lt;int&gt;</th></tr>\n",
       "</thead>\n",
       "<tbody>\n",
       "\t<tr><td>1046</td><td>87</td></tr>\n",
       "\t<tr><td> 990</td><td>56</td></tr>\n",
       "\t<tr><td>1011</td><td>56</td></tr>\n",
       "\t<tr><td>1052</td><td>56</td></tr>\n",
       "\t<tr><td> 971</td><td>12</td></tr>\n",
       "\t<tr><td>1045</td><td> 2</td></tr>\n",
       "</tbody>\n",
       "</table>\n"
      ],
      "text/latex": [
       "A tibble: 6 × 2\n",
       "\\begin{tabular}{ll}\n",
       " raceId & n\\\\\n",
       " <dbl> & <int>\\\\\n",
       "\\hline\n",
       "\t 1046 & 87\\\\\n",
       "\t  990 & 56\\\\\n",
       "\t 1011 & 56\\\\\n",
       "\t 1052 & 56\\\\\n",
       "\t  971 & 12\\\\\n",
       "\t 1045 &  2\\\\\n",
       "\\end{tabular}\n"
      ],
      "text/markdown": [
       "\n",
       "A tibble: 6 × 2\n",
       "\n",
       "| raceId &lt;dbl&gt; | n &lt;int&gt; |\n",
       "|---|---|\n",
       "| 1046 | 87 |\n",
       "|  990 | 56 |\n",
       "| 1011 | 56 |\n",
       "| 1052 | 56 |\n",
       "|  971 | 12 |\n",
       "| 1045 |  2 |\n",
       "\n"
      ],
      "text/plain": [
       "  raceId n \n",
       "1 1046   87\n",
       "2  990   56\n",
       "3 1011   56\n",
       "4 1052   56\n",
       "5  971   12\n",
       "6 1045    2"
      ]
     },
     "metadata": {},
     "output_type": "display_data"
    },
    {
     "name": "stderr",
     "output_type": "stream",
     "text": [
      "`summarise()` ungrouping output (override with `.groups` argument)\n",
      "\n"
     ]
    }
   ],
   "source": [
    "#1. BAHRAIN \n",
    "\n",
    "ls_bahrain <- str_laps %>%\n",
    "                filter(raceId %in% bahrain_race_ID) \n",
    "\n",
    "ls_bahrain_clean <- ls_bahrain %>%\n",
    "                        group_by(raceId) %>%\n",
    "                        summarize(n = n()) %>%\n",
    "                        arrange(desc(n))\n",
    "ls_bahrain_clean\n",
    "ls_bahrain_clean_ID <- ls_bahrain_clean %>%\n",
    "                        pull(raceId)\n",
    "\n",
    "\n",
    "### SPLITTING DATA\n",
    "\n",
    "ls_bahrain_races <- str_laps %>%\n",
    "                    filter(raceId %in% ls_bahrain_clean_ID)\n",
    "\n",
    "ls_bahrain_split <- initial_split(ls_bahrain_races, prop = 0.75, strata = milliseconds)\n",
    "\n",
    "ls_bahrain_train <- training(ls_bahrain_split)\n",
    "\n",
    "ls_bahrain_test <- testing(ls_bahrain_split) \n",
    "\n",
    "\n",
    "### USING DATA\n",
    "\n",
    "ls_bahrain_lap_times <- ls_bahrain_train %>%\n",
    "                        group_by(lap) %>%\n",
    "                        summarize(lap_time_avg = mean(milliseconds)) \n",
    "                        \n",
    "\n",
    "ls_bahrain_avg_race_time <- ls_bahrain_lap_times %>%\n",
    "                            mutate(lap_time_avg_mins = lap_time_avg / 60000) %>%\n",
    "                            select(lap_time_avg_mins) %>%\n",
    "                            map(sum)"
   ]
  },
  {
   "cell_type": "code",
   "execution_count": 38,
   "metadata": {},
   "outputs": [
    {
     "name": "stderr",
     "output_type": "stream",
     "text": [
      "`summarise()` ungrouping output (override with `.groups` argument)\n",
      "\n"
     ]
    },
    {
     "data": {
      "text/html": [
       "<table>\n",
       "<caption>A tibble: 1 × 2</caption>\n",
       "<thead>\n",
       "\t<tr><th scope=col>raceId</th><th scope=col>n</th></tr>\n",
       "\t<tr><th scope=col>&lt;dbl&gt;</th><th scope=col>&lt;int&gt;</th></tr>\n",
       "</thead>\n",
       "<tbody>\n",
       "\t<tr><td>1072</td><td>50</td></tr>\n",
       "</tbody>\n",
       "</table>\n"
      ],
      "text/latex": [
       "A tibble: 1 × 2\n",
       "\\begin{tabular}{ll}\n",
       " raceId & n\\\\\n",
       " <dbl> & <int>\\\\\n",
       "\\hline\n",
       "\t 1072 & 50\\\\\n",
       "\\end{tabular}\n"
      ],
      "text/markdown": [
       "\n",
       "A tibble: 1 × 2\n",
       "\n",
       "| raceId &lt;dbl&gt; | n &lt;int&gt; |\n",
       "|---|---|\n",
       "| 1072 | 50 |\n",
       "\n"
      ],
      "text/plain": [
       "  raceId n \n",
       "1 1072   50"
      ]
     },
     "metadata": {},
     "output_type": "display_data"
    },
    {
     "name": "stderr",
     "output_type": "stream",
     "text": [
      "Warning message:\n",
      "“The number of observations in each quantile is below the recommended threshold of 20. Stratification will be done with 2 breaks instead.”\n",
      "`summarise()` ungrouping output (override with `.groups` argument)\n",
      "\n"
     ]
    }
   ],
   "source": [
    "#2. Saudi Arabia\n",
    "\n",
    "ls_saudi <- str_laps %>%\n",
    "                filter(raceId %in% saudi_race_ID) \n",
    "\n",
    "ls_saudi_clean <- ls_saudi %>%\n",
    "                        group_by(raceId) %>%\n",
    "                        summarize(n = n()) %>%\n",
    "                        arrange(desc(n)) \n",
    "ls_saudi_clean\n",
    "ls_saudi_clean_ID <- ls_saudi_clean %>%\n",
    "                        pull(raceId)\n",
    "\n",
    "\n",
    "### SPLITTING DATA\n",
    "\n",
    "ls_saudi_races <- str_laps %>%\n",
    "                    filter(raceId %in% ls_saudi_clean_ID)\n",
    "\n",
    "ls_saudi_split <- initial_split(ls_saudi_races, prop = 0.75, strata = milliseconds)\n",
    "\n",
    "ls_saudi_train <- training(ls_saudi_split)\n",
    "\n",
    "ls_saudi_test <- testing(ls_saudi_split) \n",
    "\n",
    "\n",
    "### USING DATA\n",
    "\n",
    "ls_saudi_lap_times <- ls_saudi_train %>%\n",
    "                        group_by(lap) %>%\n",
    "                        summarize(lap_time_avg = mean(milliseconds)) \n",
    "                        \n",
    "\n",
    "ls_saudi_avg_race_time <- ls_saudi_lap_times %>%\n",
    "                            mutate(lap_time_avg_mins = lap_time_avg / 60000) %>%\n",
    "                            select(lap_time_avg_mins) %>%\n",
    "                            map(sum)"
   ]
  },
  {
   "cell_type": "code",
   "execution_count": 39,
   "metadata": {},
   "outputs": [
    {
     "name": "stderr",
     "output_type": "stream",
     "text": [
      "`summarise()` ungrouping output (override with `.groups` argument)\n",
      "\n"
     ]
    },
    {
     "data": {
      "text/html": [
       "<table>\n",
       "<caption>A tibble: 3 × 2</caption>\n",
       "<thead>\n",
       "\t<tr><th scope=col>raceId</th><th scope=col>n</th></tr>\n",
       "\t<tr><th scope=col>&lt;dbl&gt;</th><th scope=col>&lt;int&gt;</th></tr>\n",
       "</thead>\n",
       "<tbody>\n",
       "\t<tr><td> 989</td><td>58</td></tr>\n",
       "\t<tr><td>1010</td><td>57</td></tr>\n",
       "\t<tr><td> 969</td><td>40</td></tr>\n",
       "</tbody>\n",
       "</table>\n"
      ],
      "text/latex": [
       "A tibble: 3 × 2\n",
       "\\begin{tabular}{ll}\n",
       " raceId & n\\\\\n",
       " <dbl> & <int>\\\\\n",
       "\\hline\n",
       "\t  989 & 58\\\\\n",
       "\t 1010 & 57\\\\\n",
       "\t  969 & 40\\\\\n",
       "\\end{tabular}\n"
      ],
      "text/markdown": [
       "\n",
       "A tibble: 3 × 2\n",
       "\n",
       "| raceId &lt;dbl&gt; | n &lt;int&gt; |\n",
       "|---|---|\n",
       "|  989 | 58 |\n",
       "| 1010 | 57 |\n",
       "|  969 | 40 |\n",
       "\n"
      ],
      "text/plain": [
       "  raceId n \n",
       "1  989   58\n",
       "2 1010   57\n",
       "3  969   40"
      ]
     },
     "metadata": {},
     "output_type": "display_data"
    },
    {
     "name": "stderr",
     "output_type": "stream",
     "text": [
      "`summarise()` ungrouping output (override with `.groups` argument)\n",
      "\n"
     ]
    }
   ],
   "source": [
    "#3. Australia\n",
    "\n",
    "ls_aus <- str_laps %>%\n",
    "                filter(raceId %in% aus_race_ID) \n",
    "\n",
    "ls_aus_clean <- ls_aus %>%\n",
    "                        group_by(raceId) %>%\n",
    "                        summarize(n = n()) %>%\n",
    "                        arrange(desc(n)) \n",
    "ls_aus_clean\n",
    "ls_aus_clean_ID <- ls_aus_clean %>%\n",
    "                        pull(raceId)\n",
    "\n",
    "\n",
    "### SPLITTING DATA\n",
    "\n",
    "ls_aus_races <- str_laps %>%\n",
    "                    filter(raceId %in% ls_aus_clean_ID)\n",
    "\n",
    "ls_aus_split <- initial_split(ls_aus_races, prop = 0.75, strata = milliseconds)\n",
    "\n",
    "ls_aus_train <- training(ls_aus_split)\n",
    "\n",
    "ls_aus_test <- testing(ls_aus_split) \n",
    "\n",
    "\n",
    "### USING DATA\n",
    "\n",
    "ls_aus_lap_times <- ls_aus_train %>%\n",
    "                        group_by(lap) %>%\n",
    "                        summarize(lap_time_avg = mean(milliseconds)) \n",
    "                        \n",
    "\n",
    "ls_aus_avg_race_time <- ls_aus_lap_times %>%\n",
    "                            mutate(lap_time_avg_mins = lap_time_avg / 60000) %>%\n",
    "                            select(lap_time_avg_mins) %>%\n",
    "                            map(sum)"
   ]
  },
  {
   "cell_type": "code",
   "execution_count": 40,
   "metadata": {},
   "outputs": [
    {
     "name": "stderr",
     "output_type": "stream",
     "text": [
      "`summarise()` ungrouping output (override with `.groups` argument)\n",
      "\n"
     ]
    },
    {
     "data": {
      "text/html": [
       "<table>\n",
       "<caption>A tibble: 2 × 2</caption>\n",
       "<thead>\n",
       "\t<tr><th scope=col>raceId</th><th scope=col>n</th></tr>\n",
       "\t<tr><th scope=col>&lt;dbl&gt;</th><th scope=col>&lt;int&gt;</th></tr>\n",
       "</thead>\n",
       "<tbody>\n",
       "\t<tr><td>1043</td><td>63</td></tr>\n",
       "\t<tr><td>1053</td><td>63</td></tr>\n",
       "</tbody>\n",
       "</table>\n"
      ],
      "text/latex": [
       "A tibble: 2 × 2\n",
       "\\begin{tabular}{ll}\n",
       " raceId & n\\\\\n",
       " <dbl> & <int>\\\\\n",
       "\\hline\n",
       "\t 1043 & 63\\\\\n",
       "\t 1053 & 63\\\\\n",
       "\\end{tabular}\n"
      ],
      "text/markdown": [
       "\n",
       "A tibble: 2 × 2\n",
       "\n",
       "| raceId &lt;dbl&gt; | n &lt;int&gt; |\n",
       "|---|---|\n",
       "| 1043 | 63 |\n",
       "| 1053 | 63 |\n",
       "\n"
      ],
      "text/plain": [
       "  raceId n \n",
       "1 1043   63\n",
       "2 1053   63"
      ]
     },
     "metadata": {},
     "output_type": "display_data"
    },
    {
     "name": "stderr",
     "output_type": "stream",
     "text": [
      "`summarise()` ungrouping output (override with `.groups` argument)\n",
      "\n"
     ]
    }
   ],
   "source": [
    "#4. Italy, Imola\n",
    "\n",
    "ls_imola <- str_laps %>%\n",
    "                filter(raceId %in% imola_race_ID) \n",
    "\n",
    "ls_imola_clean <- ls_imola %>%\n",
    "                        group_by(raceId) %>%\n",
    "                        summarize(n = n()) %>%\n",
    "                        arrange(desc(n)) \n",
    "ls_imola_clean\n",
    "ls_imola_clean_ID <- ls_imola_clean %>%\n",
    "                        pull(raceId)\n",
    "\n",
    "\n",
    "### SPLITTING DATA\n",
    "\n",
    "ls_imola_races <- str_laps %>%\n",
    "                    filter(raceId %in% ls_imola_clean_ID)\n",
    "\n",
    "ls_imola_split <- initial_split(ls_imola_races, prop = 0.75, strata = milliseconds)\n",
    "\n",
    "ls_imola_train <- training(ls_imola_split)\n",
    "\n",
    "ls_imola_test <- testing(ls_imola_split) \n",
    "\n",
    "\n",
    "### USING DATA\n",
    "\n",
    "ls_imola_lap_times <- ls_imola_train %>%\n",
    "                        group_by(lap) %>%\n",
    "                        summarize(lap_time_avg = mean(milliseconds)) \n",
    "                        \n",
    "\n",
    "ls_imola_avg_race_time <- ls_imola_lap_times %>%\n",
    "                            mutate(lap_time_avg_mins = lap_time_avg / 60000) %>%\n",
    "                            select(lap_time_avg_mins) %>%\n",
    "                            map(sum)"
   ]
  },
  {
   "cell_type": "code",
   "execution_count": 41,
   "metadata": {},
   "outputs": [
    {
     "name": "stderr",
     "output_type": "stream",
     "text": [
      "`summarise()` ungrouping output (override with `.groups` argument)\n",
      "\n"
     ]
    },
    {
     "data": {
      "text/html": [
       "<table>\n",
       "<caption>A tibble: 5 × 2</caption>\n",
       "<thead>\n",
       "\t<tr><th scope=col>raceId</th><th scope=col>n</th></tr>\n",
       "\t<tr><th scope=col>&lt;dbl&gt;</th><th scope=col>&lt;int&gt;</th></tr>\n",
       "</thead>\n",
       "<tbody>\n",
       "\t<tr><td>1036</td><td>65</td></tr>\n",
       "\t<tr><td>1055</td><td>65</td></tr>\n",
       "\t<tr><td> 973</td><td>64</td></tr>\n",
       "\t<tr><td> 993</td><td>64</td></tr>\n",
       "\t<tr><td>1014</td><td>44</td></tr>\n",
       "</tbody>\n",
       "</table>\n"
      ],
      "text/latex": [
       "A tibble: 5 × 2\n",
       "\\begin{tabular}{ll}\n",
       " raceId & n\\\\\n",
       " <dbl> & <int>\\\\\n",
       "\\hline\n",
       "\t 1036 & 65\\\\\n",
       "\t 1055 & 65\\\\\n",
       "\t  973 & 64\\\\\n",
       "\t  993 & 64\\\\\n",
       "\t 1014 & 44\\\\\n",
       "\\end{tabular}\n"
      ],
      "text/markdown": [
       "\n",
       "A tibble: 5 × 2\n",
       "\n",
       "| raceId &lt;dbl&gt; | n &lt;int&gt; |\n",
       "|---|---|\n",
       "| 1036 | 65 |\n",
       "| 1055 | 65 |\n",
       "|  973 | 64 |\n",
       "|  993 | 64 |\n",
       "| 1014 | 44 |\n",
       "\n"
      ],
      "text/plain": [
       "  raceId n \n",
       "1 1036   65\n",
       "2 1055   65\n",
       "3  973   64\n",
       "4  993   64\n",
       "5 1014   44"
      ]
     },
     "metadata": {},
     "output_type": "display_data"
    },
    {
     "name": "stderr",
     "output_type": "stream",
     "text": [
      "`summarise()` ungrouping output (override with `.groups` argument)\n",
      "\n"
     ]
    }
   ],
   "source": [
    "#5. Spain\n",
    "\n",
    "ls_spain <- str_laps %>%\n",
    "                filter(raceId %in% spain_race_ID) \n",
    "\n",
    "ls_spain_clean <- ls_spain %>%\n",
    "                        group_by(raceId) %>%\n",
    "                        summarize(n = n()) %>%\n",
    "                        arrange(desc(n)) \n",
    "ls_spain_clean\n",
    "ls_spain_clean_ID <- ls_spain_clean %>%\n",
    "                        pull(raceId)\n",
    "\n",
    "\n",
    "### SPLITTING DATA\n",
    "\n",
    "ls_spain_races <- str_laps %>%\n",
    "                    filter(raceId %in% ls_spain_clean_ID)\n",
    "\n",
    "ls_spain_split <- initial_split(ls_spain_races, prop = 0.75, strata = milliseconds)\n",
    "\n",
    "ls_spain_train <- training(ls_spain_split)\n",
    "\n",
    "ls_spain_test <- testing(ls_spain_split) \n",
    "\n",
    "\n",
    "### USING DATA\n",
    "\n",
    "ls_spain_lap_times <- ls_spain_train %>%\n",
    "                        group_by(lap) %>%\n",
    "                        summarize(lap_time_avg = mean(milliseconds)) \n",
    "                        \n",
    "\n",
    "ls_spain_avg_race_time <- ls_spain_lap_times %>%\n",
    "                            mutate(lap_time_avg_mins = lap_time_avg / 60000) %>%\n",
    "                            select(lap_time_avg_mins) %>%\n",
    "                            map(sum) "
   ]
  },
  {
   "cell_type": "code",
   "execution_count": 42,
   "metadata": {},
   "outputs": [
    {
     "name": "stderr",
     "output_type": "stream",
     "text": [
      "`summarise()` ungrouping output (override with `.groups` argument)\n",
      "\n"
     ]
    },
    {
     "data": {
      "text/html": [
       "<table>\n",
       "<caption>A tibble: 4 × 2</caption>\n",
       "<thead>\n",
       "\t<tr><th scope=col>raceId</th><th scope=col>n</th></tr>\n",
       "\t<tr><th scope=col>&lt;dbl&gt;</th><th scope=col>&lt;int&gt;</th></tr>\n",
       "</thead>\n",
       "<tbody>\n",
       "\t<tr><td>1015</td><td>77</td></tr>\n",
       "\t<tr><td>1056</td><td>77</td></tr>\n",
       "\t<tr><td> 994</td><td>76</td></tr>\n",
       "\t<tr><td> 974</td><td>71</td></tr>\n",
       "</tbody>\n",
       "</table>\n"
      ],
      "text/latex": [
       "A tibble: 4 × 2\n",
       "\\begin{tabular}{ll}\n",
       " raceId & n\\\\\n",
       " <dbl> & <int>\\\\\n",
       "\\hline\n",
       "\t 1015 & 77\\\\\n",
       "\t 1056 & 77\\\\\n",
       "\t  994 & 76\\\\\n",
       "\t  974 & 71\\\\\n",
       "\\end{tabular}\n"
      ],
      "text/markdown": [
       "\n",
       "A tibble: 4 × 2\n",
       "\n",
       "| raceId &lt;dbl&gt; | n &lt;int&gt; |\n",
       "|---|---|\n",
       "| 1015 | 77 |\n",
       "| 1056 | 77 |\n",
       "|  994 | 76 |\n",
       "|  974 | 71 |\n",
       "\n"
      ],
      "text/plain": [
       "  raceId n \n",
       "1 1015   77\n",
       "2 1056   77\n",
       "3  994   76\n",
       "4  974   71"
      ]
     },
     "metadata": {},
     "output_type": "display_data"
    },
    {
     "name": "stderr",
     "output_type": "stream",
     "text": [
      "`summarise()` ungrouping output (override with `.groups` argument)\n",
      "\n"
     ]
    }
   ],
   "source": [
    "#6. Monaco\n",
    "\n",
    "ls_monaco <- str_laps %>%\n",
    "                filter(raceId %in% monaco_race_ID) \n",
    "\n",
    "ls_monaco_clean <- ls_monaco %>%\n",
    "                        group_by(raceId) %>%\n",
    "                        summarize(n = n()) %>%\n",
    "                        arrange(desc(n)) \n",
    "ls_monaco_clean\n",
    "ls_monaco_clean_ID <- ls_monaco_clean %>%\n",
    "                        pull(raceId)\n",
    "\n",
    "\n",
    "### SPLITTING DATA\n",
    "\n",
    "ls_monaco_races <- str_laps %>%\n",
    "                    filter(raceId %in% ls_monaco_clean_ID)\n",
    "\n",
    "ls_monaco_split <- initial_split(ls_monaco_races, prop = 0.75, strata = milliseconds)\n",
    "\n",
    "ls_monaco_train <- training(ls_monaco_split)\n",
    "\n",
    "ls_monaco_test <- testing(ls_monaco_split) \n",
    "\n",
    "\n",
    "### USING DATA\n",
    "\n",
    "ls_monaco_lap_times <- ls_monaco_train %>%\n",
    "                        group_by(lap) %>%\n",
    "                        summarize(lap_time_avg = mean(milliseconds)) \n",
    "                        \n",
    "\n",
    "ls_monaco_avg_race_time <- ls_monaco_lap_times %>%\n",
    "                            mutate(lap_time_avg_mins = lap_time_avg / 60000) %>%\n",
    "                            select(lap_time_avg_mins) %>%\n",
    "                            map(sum)"
   ]
  },
  {
   "cell_type": "code",
   "execution_count": 43,
   "metadata": {},
   "outputs": [
    {
     "name": "stderr",
     "output_type": "stream",
     "text": [
      "`summarise()` ungrouping output (override with `.groups` argument)\n",
      "\n"
     ]
    },
    {
     "data": {
      "text/html": [
       "<table>\n",
       "<caption>A tibble: 4 × 2</caption>\n",
       "<thead>\n",
       "\t<tr><th scope=col>raceId</th><th scope=col>n</th></tr>\n",
       "\t<tr><th scope=col>&lt;dbl&gt;</th><th scope=col>&lt;int&gt;</th></tr>\n",
       "</thead>\n",
       "<tbody>\n",
       "\t<tr><td> 976</td><td>51</td></tr>\n",
       "\t<tr><td> 992</td><td>51</td></tr>\n",
       "\t<tr><td>1013</td><td>51</td></tr>\n",
       "\t<tr><td>1057</td><td>29</td></tr>\n",
       "</tbody>\n",
       "</table>\n"
      ],
      "text/latex": [
       "A tibble: 4 × 2\n",
       "\\begin{tabular}{ll}\n",
       " raceId & n\\\\\n",
       " <dbl> & <int>\\\\\n",
       "\\hline\n",
       "\t  976 & 51\\\\\n",
       "\t  992 & 51\\\\\n",
       "\t 1013 & 51\\\\\n",
       "\t 1057 & 29\\\\\n",
       "\\end{tabular}\n"
      ],
      "text/markdown": [
       "\n",
       "A tibble: 4 × 2\n",
       "\n",
       "| raceId &lt;dbl&gt; | n &lt;int&gt; |\n",
       "|---|---|\n",
       "|  976 | 51 |\n",
       "|  992 | 51 |\n",
       "| 1013 | 51 |\n",
       "| 1057 | 29 |\n",
       "\n"
      ],
      "text/plain": [
       "  raceId n \n",
       "1  976   51\n",
       "2  992   51\n",
       "3 1013   51\n",
       "4 1057   29"
      ]
     },
     "metadata": {},
     "output_type": "display_data"
    },
    {
     "name": "stderr",
     "output_type": "stream",
     "text": [
      "`summarise()` ungrouping output (override with `.groups` argument)\n",
      "\n"
     ]
    }
   ],
   "source": [
    "#7. Azerbaijan\n",
    "\n",
    "ls_azerbaijan <- str_laps %>%\n",
    "                filter(raceId %in% azerbaijan_race_ID) \n",
    "\n",
    "ls_azerbaijan_clean <- ls_azerbaijan %>%\n",
    "                        group_by(raceId) %>%\n",
    "                        summarize(n = n()) %>%\n",
    "                        arrange(desc(n)) \n",
    "ls_azerbaijan_clean\n",
    "ls_azerbaijan_clean_ID <- ls_azerbaijan_clean %>%\n",
    "                        pull(raceId)\n",
    "\n",
    "\n",
    "### SPLITTING DATA\n",
    "\n",
    "ls_azerbaijan_races <- str_laps %>%\n",
    "                    filter(raceId %in% ls_azerbaijan_clean_ID)\n",
    "\n",
    "ls_azerbaijan_split <- initial_split(ls_azerbaijan_races, prop = 0.75, strata = milliseconds)\n",
    "\n",
    "ls_azerbaijan_train <- training(ls_azerbaijan_split)\n",
    "\n",
    "ls_azerbaijan_test <- testing(ls_azerbaijan_split) \n",
    "\n",
    "\n",
    "### USING DATA\n",
    "\n",
    "ls_azerbaijan_lap_times <- ls_azerbaijan_train %>%\n",
    "                        group_by(lap) %>%\n",
    "                        summarize(lap_time_avg = mean(milliseconds)) \n",
    "                        \n",
    "\n",
    "ls_azerbaijan_avg_race_time <- ls_azerbaijan_lap_times %>%\n",
    "                            mutate(lap_time_avg_mins = lap_time_avg / 60000) %>%\n",
    "                            select(lap_time_avg_mins) %>%\n",
    "                            map(sum)"
   ]
  },
  {
   "cell_type": "code",
   "execution_count": 44,
   "metadata": {},
   "outputs": [
    {
     "name": "stderr",
     "output_type": "stream",
     "text": [
      "`summarise()` ungrouping output (override with `.groups` argument)\n",
      "\n"
     ]
    },
    {
     "data": {
      "text/html": [
       "<table>\n",
       "<caption>A tibble: 2 × 2</caption>\n",
       "<thead>\n",
       "\t<tr><th scope=col>raceId</th><th scope=col>n</th></tr>\n",
       "\t<tr><th scope=col>&lt;dbl&gt;</th><th scope=col>&lt;int&gt;</th></tr>\n",
       "</thead>\n",
       "<tbody>\n",
       "\t<tr><td> 975</td><td>69</td></tr>\n",
       "\t<tr><td>1016</td><td>69</td></tr>\n",
       "</tbody>\n",
       "</table>\n"
      ],
      "text/latex": [
       "A tibble: 2 × 2\n",
       "\\begin{tabular}{ll}\n",
       " raceId & n\\\\\n",
       " <dbl> & <int>\\\\\n",
       "\\hline\n",
       "\t  975 & 69\\\\\n",
       "\t 1016 & 69\\\\\n",
       "\\end{tabular}\n"
      ],
      "text/markdown": [
       "\n",
       "A tibble: 2 × 2\n",
       "\n",
       "| raceId &lt;dbl&gt; | n &lt;int&gt; |\n",
       "|---|---|\n",
       "|  975 | 69 |\n",
       "| 1016 | 69 |\n",
       "\n"
      ],
      "text/plain": [
       "  raceId n \n",
       "1  975   69\n",
       "2 1016   69"
      ]
     },
     "metadata": {},
     "output_type": "display_data"
    },
    {
     "name": "stderr",
     "output_type": "stream",
     "text": [
      "`summarise()` ungrouping output (override with `.groups` argument)\n",
      "\n"
     ]
    }
   ],
   "source": [
    "#8. Canada\n",
    "\n",
    "ls_canada <- str_laps %>%\n",
    "                filter(raceId %in% canada_race_ID) \n",
    "\n",
    "ls_canada_clean <- ls_canada %>%\n",
    "                        group_by(raceId) %>%\n",
    "                        summarize(n = n()) %>%\n",
    "                        arrange(desc(n)) \n",
    "ls_canada_clean\n",
    "ls_canada_clean_ID <- ls_canada_clean %>%\n",
    "                        pull(raceId)\n",
    "\n",
    "\n",
    "### SPLITTING DATA\n",
    "\n",
    "ls_canada_races <- str_laps %>%\n",
    "                    filter(raceId %in% ls_canada_clean_ID)\n",
    "\n",
    "ls_canada_split <- initial_split(ls_canada_races, prop = 0.75, strata = milliseconds)\n",
    "\n",
    "ls_canada_train <- training(ls_canada_split)\n",
    "\n",
    "ls_canada_test <- testing(ls_canada_split) \n",
    "\n",
    "\n",
    "### USING DATA\n",
    "\n",
    "ls_canada_lap_times <- ls_canada_train %>%\n",
    "                        group_by(lap) %>%\n",
    "                        summarize(lap_time_avg = mean(milliseconds)) \n",
    "                        \n",
    "\n",
    "ls_canada_avg_race_time <- ls_canada_lap_times %>%\n",
    "                            mutate(lap_time_avg_mins = lap_time_avg / 60000) %>%\n",
    "                            select(lap_time_avg_mins) %>%\n",
    "                            map(sum)"
   ]
  },
  {
   "cell_type": "code",
   "execution_count": 45,
   "metadata": {},
   "outputs": [
    {
     "name": "stderr",
     "output_type": "stream",
     "text": [
      "`summarise()` ungrouping output (override with `.groups` argument)\n",
      "\n"
     ]
    },
    {
     "data": {
      "text/html": [
       "<table>\n",
       "<caption>A tibble: 6 × 2</caption>\n",
       "<thead>\n",
       "\t<tr><th scope=col>raceId</th><th scope=col>n</th></tr>\n",
       "\t<tr><th scope=col>&lt;dbl&gt;</th><th scope=col>&lt;int&gt;</th></tr>\n",
       "</thead>\n",
       "<tbody>\n",
       "\t<tr><td> 998</td><td>52</td></tr>\n",
       "\t<tr><td>1019</td><td>52</td></tr>\n",
       "\t<tr><td>1034</td><td>52</td></tr>\n",
       "\t<tr><td>1035</td><td>52</td></tr>\n",
       "\t<tr><td>1061</td><td>52</td></tr>\n",
       "\t<tr><td> 978</td><td>50</td></tr>\n",
       "</tbody>\n",
       "</table>\n"
      ],
      "text/latex": [
       "A tibble: 6 × 2\n",
       "\\begin{tabular}{ll}\n",
       " raceId & n\\\\\n",
       " <dbl> & <int>\\\\\n",
       "\\hline\n",
       "\t  998 & 52\\\\\n",
       "\t 1019 & 52\\\\\n",
       "\t 1034 & 52\\\\\n",
       "\t 1035 & 52\\\\\n",
       "\t 1061 & 52\\\\\n",
       "\t  978 & 50\\\\\n",
       "\\end{tabular}\n"
      ],
      "text/markdown": [
       "\n",
       "A tibble: 6 × 2\n",
       "\n",
       "| raceId &lt;dbl&gt; | n &lt;int&gt; |\n",
       "|---|---|\n",
       "|  998 | 52 |\n",
       "| 1019 | 52 |\n",
       "| 1034 | 52 |\n",
       "| 1035 | 52 |\n",
       "| 1061 | 52 |\n",
       "|  978 | 50 |\n",
       "\n"
      ],
      "text/plain": [
       "  raceId n \n",
       "1  998   52\n",
       "2 1019   52\n",
       "3 1034   52\n",
       "4 1035   52\n",
       "5 1061   52\n",
       "6  978   50"
      ]
     },
     "metadata": {},
     "output_type": "display_data"
    },
    {
     "name": "stderr",
     "output_type": "stream",
     "text": [
      "`summarise()` ungrouping output (override with `.groups` argument)\n",
      "\n"
     ]
    }
   ],
   "source": [
    "#9. Great Britain\n",
    "\n",
    "ls_uk <- str_laps %>%\n",
    "                filter(raceId %in% uk_race_ID) \n",
    "\n",
    "ls_uk_clean <- ls_uk %>%\n",
    "                        group_by(raceId) %>%\n",
    "                        summarize(n = n()) %>%\n",
    "                        arrange(desc(n)) \n",
    "ls_uk_clean\n",
    "ls_uk_clean_ID <- ls_uk_clean %>%\n",
    "                        pull(raceId)\n",
    "\n",
    "\n",
    "### SPLITTING DATA\n",
    "\n",
    "ls_uk_races <- str_laps %>%\n",
    "                    filter(raceId %in% ls_uk_clean_ID)\n",
    "\n",
    "ls_uk_split <- initial_split(ls_uk_races, prop = 0.75, strata = milliseconds)\n",
    "\n",
    "ls_uk_train <- training(ls_uk_split)\n",
    "\n",
    "ls_uk_test <- testing(ls_uk_split) \n",
    "\n",
    "\n",
    "### USING DATA\n",
    "\n",
    "ls_uk_lap_times <- ls_uk_train %>%\n",
    "                        group_by(lap) %>%\n",
    "                        summarize(lap_time_avg = mean(milliseconds)) \n",
    "                        \n",
    "\n",
    "ls_uk_avg_race_time <- ls_uk_lap_times %>%\n",
    "                            mutate(lap_time_avg_mins = lap_time_avg / 60000) %>%\n",
    "                            select(lap_time_avg_mins) %>%\n",
    "                            map(sum)"
   ]
  },
  {
   "cell_type": "code",
   "execution_count": 46,
   "metadata": {},
   "outputs": [
    {
     "name": "stderr",
     "output_type": "stream",
     "text": [
      "`summarise()` ungrouping output (override with `.groups` argument)\n",
      "\n"
     ]
    },
    {
     "data": {
      "text/html": [
       "<table>\n",
       "<caption>A tibble: 7 × 2</caption>\n",
       "<thead>\n",
       "\t<tr><th scope=col>raceId</th><th scope=col>n</th></tr>\n",
       "\t<tr><th scope=col>&lt;dbl&gt;</th><th scope=col>&lt;int&gt;</th></tr>\n",
       "</thead>\n",
       "<tbody>\n",
       "\t<tr><td>1032</td><td>71</td></tr>\n",
       "\t<tr><td> 977</td><td>70</td></tr>\n",
       "\t<tr><td>1018</td><td>70</td></tr>\n",
       "\t<tr><td>1058</td><td>70</td></tr>\n",
       "\t<tr><td>1060</td><td>70</td></tr>\n",
       "\t<tr><td> 997</td><td>69</td></tr>\n",
       "\t<tr><td>1031</td><td>20</td></tr>\n",
       "</tbody>\n",
       "</table>\n"
      ],
      "text/latex": [
       "A tibble: 7 × 2\n",
       "\\begin{tabular}{ll}\n",
       " raceId & n\\\\\n",
       " <dbl> & <int>\\\\\n",
       "\\hline\n",
       "\t 1032 & 71\\\\\n",
       "\t  977 & 70\\\\\n",
       "\t 1018 & 70\\\\\n",
       "\t 1058 & 70\\\\\n",
       "\t 1060 & 70\\\\\n",
       "\t  997 & 69\\\\\n",
       "\t 1031 & 20\\\\\n",
       "\\end{tabular}\n"
      ],
      "text/markdown": [
       "\n",
       "A tibble: 7 × 2\n",
       "\n",
       "| raceId &lt;dbl&gt; | n &lt;int&gt; |\n",
       "|---|---|\n",
       "| 1032 | 71 |\n",
       "|  977 | 70 |\n",
       "| 1018 | 70 |\n",
       "| 1058 | 70 |\n",
       "| 1060 | 70 |\n",
       "|  997 | 69 |\n",
       "| 1031 | 20 |\n",
       "\n"
      ],
      "text/plain": [
       "  raceId n \n",
       "1 1032   71\n",
       "2  977   70\n",
       "3 1018   70\n",
       "4 1058   70\n",
       "5 1060   70\n",
       "6  997   69\n",
       "7 1031   20"
      ]
     },
     "metadata": {},
     "output_type": "display_data"
    },
    {
     "name": "stderr",
     "output_type": "stream",
     "text": [
      "`summarise()` ungrouping output (override with `.groups` argument)\n",
      "\n"
     ]
    }
   ],
   "source": [
    "#10. Austria\n",
    "\n",
    "ls_austria <- str_laps %>%\n",
    "                filter(raceId %in% austria_race_ID) \n",
    "\n",
    "ls_austria_clean <- ls_austria %>%\n",
    "                        group_by(raceId) %>%\n",
    "                        summarize(n = n()) %>%\n",
    "                        arrange(desc(n)) \n",
    "ls_austria_clean\n",
    "ls_austria_clean_ID <- ls_austria_clean %>%\n",
    "                        pull(raceId)\n",
    "\n",
    "\n",
    "### SPLITTING DATA\n",
    "\n",
    "ls_austria_races <- str_laps %>%\n",
    "                    filter(raceId %in% ls_austria_clean_ID)\n",
    "\n",
    "ls_austria_split <- initial_split(ls_austria_races, prop = 0.75, strata = milliseconds)\n",
    "\n",
    "ls_austria_train <- training(ls_austria_split)\n",
    "\n",
    "ls_austria_test <- testing(ls_austria_split) \n",
    "\n",
    "\n",
    "### USING DATA\n",
    "\n",
    "ls_austria_lap_times <- ls_austria_train %>%\n",
    "                        group_by(lap) %>%\n",
    "                        summarize(lap_time_avg = mean(milliseconds)) \n",
    "                        \n",
    "\n",
    "ls_austria_avg_race_time <- ls_austria_lap_times %>%\n",
    "                            mutate(lap_time_avg_mins = lap_time_avg / 60000) %>%\n",
    "                            select(lap_time_avg_mins) %>%\n",
    "                            map(sum)"
   ]
  },
  {
   "cell_type": "code",
   "execution_count": 47,
   "metadata": {},
   "outputs": [
    {
     "name": "stderr",
     "output_type": "stream",
     "text": [
      "`summarise()` ungrouping output (override with `.groups` argument)\n",
      "\n"
     ]
    },
    {
     "data": {
      "text/html": [
       "<table>\n",
       "<caption>A tibble: 3 × 2</caption>\n",
       "<thead>\n",
       "\t<tr><th scope=col>raceId</th><th scope=col>n</th></tr>\n",
       "\t<tr><th scope=col>&lt;dbl&gt;</th><th scope=col>&lt;int&gt;</th></tr>\n",
       "</thead>\n",
       "<tbody>\n",
       "\t<tr><td>1059</td><td>53</td></tr>\n",
       "\t<tr><td>1017</td><td>52</td></tr>\n",
       "\t<tr><td> 996</td><td>48</td></tr>\n",
       "</tbody>\n",
       "</table>\n"
      ],
      "text/latex": [
       "A tibble: 3 × 2\n",
       "\\begin{tabular}{ll}\n",
       " raceId & n\\\\\n",
       " <dbl> & <int>\\\\\n",
       "\\hline\n",
       "\t 1059 & 53\\\\\n",
       "\t 1017 & 52\\\\\n",
       "\t  996 & 48\\\\\n",
       "\\end{tabular}\n"
      ],
      "text/markdown": [
       "\n",
       "A tibble: 3 × 2\n",
       "\n",
       "| raceId &lt;dbl&gt; | n &lt;int&gt; |\n",
       "|---|---|\n",
       "| 1059 | 53 |\n",
       "| 1017 | 52 |\n",
       "|  996 | 48 |\n",
       "\n"
      ],
      "text/plain": [
       "  raceId n \n",
       "1 1059   53\n",
       "2 1017   52\n",
       "3  996   48"
      ]
     },
     "metadata": {},
     "output_type": "display_data"
    },
    {
     "name": "stderr",
     "output_type": "stream",
     "text": [
      "`summarise()` ungrouping output (override with `.groups` argument)\n",
      "\n"
     ]
    }
   ],
   "source": [
    "#11. France\n",
    "\n",
    "ls_france <- str_laps %>%\n",
    "                filter(raceId %in% france_race_ID) \n",
    "\n",
    "ls_france_clean <- ls_france %>%\n",
    "                        group_by(raceId) %>%\n",
    "                        summarize(n = n()) %>%\n",
    "                        arrange(desc(n)) \n",
    "ls_france_clean\n",
    "ls_france_clean_ID <- ls_france_clean %>%\n",
    "                        pull(raceId)\n",
    "\n",
    "\n",
    "### SPLITTING DATA\n",
    "\n",
    "ls_france_races <- str_laps %>%\n",
    "                    filter(raceId %in% ls_france_clean_ID)\n",
    "\n",
    "ls_france_split <- initial_split(ls_france_races, prop = 0.75, strata = milliseconds)\n",
    "\n",
    "ls_france_train <- training(ls_france_split)\n",
    "\n",
    "ls_france_test <- testing(ls_france_split) \n",
    "\n",
    "\n",
    "### USING DATA\n",
    "\n",
    "ls_france_lap_times <- ls_france_train %>%\n",
    "                        group_by(lap) %>%\n",
    "                        summarize(lap_time_avg = mean(milliseconds)) \n",
    "                        \n",
    "\n",
    "ls_france_avg_race_time <- ls_france_lap_times %>%\n",
    "                            mutate(lap_time_avg_mins = lap_time_avg / 60000) %>%\n",
    "                            select(lap_time_avg_mins) %>%\n",
    "                            map(sum)"
   ]
  },
  {
   "cell_type": "code",
   "execution_count": 48,
   "metadata": {},
   "outputs": [
    {
     "name": "stderr",
     "output_type": "stream",
     "text": [
      "`summarise()` ungrouping output (override with `.groups` argument)\n",
      "\n"
     ]
    },
    {
     "data": {
      "text/html": [
       "<table>\n",
       "<caption>A tibble: 4 × 2</caption>\n",
       "<thead>\n",
       "\t<tr><th scope=col>raceId</th><th scope=col>n</th></tr>\n",
       "\t<tr><th scope=col>&lt;dbl&gt;</th><th scope=col>&lt;int&gt;</th></tr>\n",
       "</thead>\n",
       "<tbody>\n",
       "\t<tr><td>1033</td><td>70</td></tr>\n",
       "\t<tr><td> 979</td><td>69</td></tr>\n",
       "\t<tr><td>1000</td><td>68</td></tr>\n",
       "\t<tr><td>1021</td><td>68</td></tr>\n",
       "</tbody>\n",
       "</table>\n"
      ],
      "text/latex": [
       "A tibble: 4 × 2\n",
       "\\begin{tabular}{ll}\n",
       " raceId & n\\\\\n",
       " <dbl> & <int>\\\\\n",
       "\\hline\n",
       "\t 1033 & 70\\\\\n",
       "\t  979 & 69\\\\\n",
       "\t 1000 & 68\\\\\n",
       "\t 1021 & 68\\\\\n",
       "\\end{tabular}\n"
      ],
      "text/markdown": [
       "\n",
       "A tibble: 4 × 2\n",
       "\n",
       "| raceId &lt;dbl&gt; | n &lt;int&gt; |\n",
       "|---|---|\n",
       "| 1033 | 70 |\n",
       "|  979 | 69 |\n",
       "| 1000 | 68 |\n",
       "| 1021 | 68 |\n",
       "\n"
      ],
      "text/plain": [
       "  raceId n \n",
       "1 1033   70\n",
       "2  979   69\n",
       "3 1000   68\n",
       "4 1021   68"
      ]
     },
     "metadata": {},
     "output_type": "display_data"
    },
    {
     "name": "stderr",
     "output_type": "stream",
     "text": [
      "`summarise()` ungrouping output (override with `.groups` argument)\n",
      "\n"
     ]
    }
   ],
   "source": [
    "#12. Hungary\n",
    "\n",
    "ls_hungary <- str_laps %>%\n",
    "                filter(raceId %in% hungary_race_ID) \n",
    "\n",
    "ls_hungary_clean <- ls_hungary %>%\n",
    "                        group_by(raceId) %>%\n",
    "                        summarize(n = n()) %>%\n",
    "                        arrange(desc(n))                     \n",
    "ls_hungary_clean\n",
    "ls_hungary_clean_ID <- ls_hungary_clean %>%\n",
    "                        pull(raceId)\n",
    "\n",
    "\n",
    "### SPLITTING DATA\n",
    "\n",
    "ls_hungary_races <- str_laps %>%\n",
    "                    filter(raceId %in% ls_hungary_clean_ID)\n",
    "\n",
    "ls_hungary_split <- initial_split(ls_hungary_races, prop = 0.75, strata = milliseconds)\n",
    "\n",
    "ls_hungary_train <- training(ls_hungary_split)\n",
    "\n",
    "ls_hungary_test <- testing(ls_hungary_split) \n",
    "\n",
    "\n",
    "### USING DATA\n",
    "\n",
    "ls_hungary_lap_times <- ls_hungary_train %>%\n",
    "                        group_by(lap) %>%\n",
    "                        summarize(lap_time_avg = mean(milliseconds)) \n",
    "                        \n",
    "\n",
    "ls_hungary_avg_race_time <- ls_hungary_lap_times %>%\n",
    "                            mutate(lap_time_avg_mins = lap_time_avg / 60000) %>%\n",
    "                            select(lap_time_avg_mins) %>%\n",
    "                            map(sum)"
   ]
  },
  {
   "cell_type": "code",
   "execution_count": 49,
   "metadata": {},
   "outputs": [
    {
     "name": "stderr",
     "output_type": "stream",
     "text": [
      "`summarise()` ungrouping output (override with `.groups` argument)\n",
      "\n"
     ]
    },
    {
     "data": {
      "text/html": [
       "<table>\n",
       "<caption>A tibble: 5 × 2</caption>\n",
       "<thead>\n",
       "\t<tr><th scope=col>raceId</th><th scope=col>n</th></tr>\n",
       "\t<tr><th scope=col>&lt;dbl&gt;</th><th scope=col>&lt;int&gt;</th></tr>\n",
       "</thead>\n",
       "<tbody>\n",
       "\t<tr><td> 980</td><td>44</td></tr>\n",
       "\t<tr><td>1022</td><td>44</td></tr>\n",
       "\t<tr><td>1037</td><td>44</td></tr>\n",
       "\t<tr><td>1001</td><td>43</td></tr>\n",
       "\t<tr><td>1063</td><td> 1</td></tr>\n",
       "</tbody>\n",
       "</table>\n"
      ],
      "text/latex": [
       "A tibble: 5 × 2\n",
       "\\begin{tabular}{ll}\n",
       " raceId & n\\\\\n",
       " <dbl> & <int>\\\\\n",
       "\\hline\n",
       "\t  980 & 44\\\\\n",
       "\t 1022 & 44\\\\\n",
       "\t 1037 & 44\\\\\n",
       "\t 1001 & 43\\\\\n",
       "\t 1063 &  1\\\\\n",
       "\\end{tabular}\n"
      ],
      "text/markdown": [
       "\n",
       "A tibble: 5 × 2\n",
       "\n",
       "| raceId &lt;dbl&gt; | n &lt;int&gt; |\n",
       "|---|---|\n",
       "|  980 | 44 |\n",
       "| 1022 | 44 |\n",
       "| 1037 | 44 |\n",
       "| 1001 | 43 |\n",
       "| 1063 |  1 |\n",
       "\n"
      ],
      "text/plain": [
       "  raceId n \n",
       "1  980   44\n",
       "2 1022   44\n",
       "3 1037   44\n",
       "4 1001   43\n",
       "5 1063    1"
      ]
     },
     "metadata": {},
     "output_type": "display_data"
    },
    {
     "name": "stderr",
     "output_type": "stream",
     "text": [
      "`summarise()` ungrouping output (override with `.groups` argument)\n",
      "\n"
     ]
    }
   ],
   "source": [
    "#13. Belgium\n",
    "\n",
    "ls_belgium <- str_laps %>%\n",
    "                filter(raceId %in% belgium_race_ID) \n",
    "\n",
    "ls_belgium_clean <- ls_belgium %>%\n",
    "                        group_by(raceId) %>%\n",
    "                        summarize(n = n()) %>%\n",
    "                        arrange(desc(n)) \n",
    "ls_belgium_clean\n",
    "ls_belgium_clean_ID <- ls_belgium_clean %>%\n",
    "                        pull(raceId)\n",
    "\n",
    "\n",
    "### SPLITTING DATA\n",
    "\n",
    "ls_belgium_races <- str_laps %>%\n",
    "                    filter(raceId %in% ls_belgium_clean_ID)\n",
    "\n",
    "ls_belgium_split <- initial_split(ls_belgium_races, prop = 0.75, strata = milliseconds)\n",
    "\n",
    "ls_belgium_train <- training(ls_belgium_split)\n",
    "\n",
    "ls_belgium_test <- testing(ls_belgium_split) \n",
    "\n",
    "\n",
    "### USING DATA\n",
    "\n",
    "ls_belgium_lap_times <- ls_belgium_train %>%\n",
    "                        group_by(lap) %>%\n",
    "                        summarize(lap_time_avg = mean(milliseconds)) \n",
    "                        \n",
    "\n",
    "ls_belgium_avg_race_time <- ls_belgium_lap_times %>%\n",
    "                            mutate(lap_time_avg_mins = lap_time_avg / 60000) %>%\n",
    "                            select(lap_time_avg_mins) %>%\n",
    "                            map(sum) "
   ]
  },
  {
   "cell_type": "code",
   "execution_count": 50,
   "metadata": {},
   "outputs": [
    {
     "name": "stderr",
     "output_type": "stream",
     "text": [
      "`summarise()` ungrouping output (override with `.groups` argument)\n",
      "\n"
     ]
    },
    {
     "data": {
      "text/html": [
       "<table>\n",
       "<caption>A tibble: 1 × 2</caption>\n",
       "<thead>\n",
       "\t<tr><th scope=col>raceId</th><th scope=col>n</th></tr>\n",
       "\t<tr><th scope=col>&lt;dbl&gt;</th><th scope=col>&lt;int&gt;</th></tr>\n",
       "</thead>\n",
       "<tbody>\n",
       "\t<tr><td>1064</td><td>70</td></tr>\n",
       "</tbody>\n",
       "</table>\n"
      ],
      "text/latex": [
       "A tibble: 1 × 2\n",
       "\\begin{tabular}{ll}\n",
       " raceId & n\\\\\n",
       " <dbl> & <int>\\\\\n",
       "\\hline\n",
       "\t 1064 & 70\\\\\n",
       "\\end{tabular}\n"
      ],
      "text/markdown": [
       "\n",
       "A tibble: 1 × 2\n",
       "\n",
       "| raceId &lt;dbl&gt; | n &lt;int&gt; |\n",
       "|---|---|\n",
       "| 1064 | 70 |\n",
       "\n"
      ],
      "text/plain": [
       "  raceId n \n",
       "1 1064   70"
      ]
     },
     "metadata": {},
     "output_type": "display_data"
    },
    {
     "name": "stderr",
     "output_type": "stream",
     "text": [
      "Warning message:\n",
      "“The number of observations in each quantile is below the recommended threshold of 20. Stratification will be done with 3 breaks instead.”\n",
      "`summarise()` ungrouping output (override with `.groups` argument)\n",
      "\n"
     ]
    }
   ],
   "source": [
    "#14. Netherlands\n",
    "\n",
    "ls_netherlands <- str_laps %>%\n",
    "                filter(raceId %in% netherlands_race_ID) \n",
    "\n",
    "ls_netherlands_clean <- ls_netherlands %>%\n",
    "                        group_by(raceId) %>%\n",
    "                        summarize(n = n()) %>%\n",
    "                        arrange(desc(n)) \n",
    "ls_netherlands_clean\n",
    "ls_netherlands_clean_ID <- ls_netherlands_clean %>%\n",
    "                        pull(raceId)\n",
    "\n",
    "\n",
    "### SPLITTING DATA\n",
    "\n",
    "ls_netherlands_races <- str_laps %>%\n",
    "                    filter(raceId %in% ls_netherlands_clean_ID)\n",
    "\n",
    "ls_netherlands_split <- initial_split(ls_netherlands_races, prop = 0.75, strata = milliseconds)\n",
    "\n",
    "ls_netherlands_train <- training(ls_netherlands_split)\n",
    "\n",
    "ls_netherlands_test <- testing(ls_netherlands_split) \n",
    "\n",
    "\n",
    "### USING DATA\n",
    "\n",
    "ls_netherlands_lap_times <- ls_netherlands_train %>%\n",
    "                        group_by(lap) %>%\n",
    "                        summarize(lap_time_avg = mean(milliseconds)) \n",
    "                        \n",
    "\n",
    "ls_netherlands_avg_race_time <- ls_netherlands_lap_times %>%\n",
    "                            mutate(lap_time_avg_mins = lap_time_avg / 60000) %>%\n",
    "                            select(lap_time_avg_mins) %>%\n",
    "                            map(sum)"
   ]
  },
  {
   "cell_type": "code",
   "execution_count": 51,
   "metadata": {},
   "outputs": [
    {
     "name": "stderr",
     "output_type": "stream",
     "text": [
      "`summarise()` ungrouping output (override with `.groups` argument)\n",
      "\n"
     ]
    },
    {
     "data": {
      "text/html": [
       "<table>\n",
       "<caption>A tibble: 5 × 2</caption>\n",
       "<thead>\n",
       "\t<tr><th scope=col>raceId</th><th scope=col>n</th></tr>\n",
       "\t<tr><th scope=col>&lt;dbl&gt;</th><th scope=col>&lt;int&gt;</th></tr>\n",
       "</thead>\n",
       "<tbody>\n",
       "\t<tr><td> 981</td><td>53</td></tr>\n",
       "\t<tr><td>1038</td><td>53</td></tr>\n",
       "\t<tr><td>1065</td><td>53</td></tr>\n",
       "\t<tr><td>1002</td><td>52</td></tr>\n",
       "\t<tr><td>1023</td><td>52</td></tr>\n",
       "</tbody>\n",
       "</table>\n"
      ],
      "text/latex": [
       "A tibble: 5 × 2\n",
       "\\begin{tabular}{ll}\n",
       " raceId & n\\\\\n",
       " <dbl> & <int>\\\\\n",
       "\\hline\n",
       "\t  981 & 53\\\\\n",
       "\t 1038 & 53\\\\\n",
       "\t 1065 & 53\\\\\n",
       "\t 1002 & 52\\\\\n",
       "\t 1023 & 52\\\\\n",
       "\\end{tabular}\n"
      ],
      "text/markdown": [
       "\n",
       "A tibble: 5 × 2\n",
       "\n",
       "| raceId &lt;dbl&gt; | n &lt;int&gt; |\n",
       "|---|---|\n",
       "|  981 | 53 |\n",
       "| 1038 | 53 |\n",
       "| 1065 | 53 |\n",
       "| 1002 | 52 |\n",
       "| 1023 | 52 |\n",
       "\n"
      ],
      "text/plain": [
       "  raceId n \n",
       "1  981   53\n",
       "2 1038   53\n",
       "3 1065   53\n",
       "4 1002   52\n",
       "5 1023   52"
      ]
     },
     "metadata": {},
     "output_type": "display_data"
    },
    {
     "name": "stderr",
     "output_type": "stream",
     "text": [
      "`summarise()` ungrouping output (override with `.groups` argument)\n",
      "\n"
     ]
    }
   ],
   "source": [
    "#15. Italy, Monza\n",
    "\n",
    "ls_monza <- str_laps %>%\n",
    "                filter(raceId %in% monza_race_ID) \n",
    "\n",
    "ls_monza_clean <- ls_monza %>%\n",
    "                        group_by(raceId) %>%\n",
    "                        summarize(n = n()) %>%\n",
    "                        arrange(desc(n))\n",
    "ls_monza_clean\n",
    "ls_monza_clean_ID <- ls_monza_clean %>%\n",
    "                        pull(raceId)\n",
    "\n",
    "\n",
    "### SPLITTING DATA\n",
    "\n",
    "ls_monza_races <- str_laps %>%\n",
    "                    filter(raceId %in% ls_monza_clean_ID)\n",
    "\n",
    "ls_monza_split <- initial_split(ls_monza_races, prop = 0.75, strata = milliseconds)\n",
    "\n",
    "ls_monza_train <- training(ls_monza_split)\n",
    "\n",
    "ls_monza_test <- testing(ls_monza_split) \n",
    "\n",
    "\n",
    "### USING DATA\n",
    "\n",
    "ls_monza_lap_times <- ls_monza_train %>%\n",
    "                        group_by(lap) %>%\n",
    "                        summarize(lap_time_avg = mean(milliseconds)) \n",
    "                        \n",
    "\n",
    "ls_monza_avg_race_time <- ls_monza_lap_times %>%\n",
    "                            mutate(lap_time_avg_mins = lap_time_avg / 60000) %>%\n",
    "                            select(lap_time_avg_mins) %>%\n",
    "                            map(sum)"
   ]
  },
  {
   "cell_type": "code",
   "execution_count": 52,
   "metadata": {},
   "outputs": [
    {
     "name": "stderr",
     "output_type": "stream",
     "text": [
      "`summarise()` ungrouping output (override with `.groups` argument)\n",
      "\n"
     ]
    },
    {
     "data": {
      "text/html": [
       "<table>\n",
       "<caption>A tibble: 3 × 2</caption>\n",
       "<thead>\n",
       "\t<tr><th scope=col>raceId</th><th scope=col>n</th></tr>\n",
       "\t<tr><th scope=col>&lt;dbl&gt;</th><th scope=col>&lt;int&gt;</th></tr>\n",
       "</thead>\n",
       "<tbody>\n",
       "\t<tr><td>1024</td><td>61</td></tr>\n",
       "\t<tr><td>1003</td><td>60</td></tr>\n",
       "\t<tr><td> 982</td><td>58</td></tr>\n",
       "</tbody>\n",
       "</table>\n"
      ],
      "text/latex": [
       "A tibble: 3 × 2\n",
       "\\begin{tabular}{ll}\n",
       " raceId & n\\\\\n",
       " <dbl> & <int>\\\\\n",
       "\\hline\n",
       "\t 1024 & 61\\\\\n",
       "\t 1003 & 60\\\\\n",
       "\t  982 & 58\\\\\n",
       "\\end{tabular}\n"
      ],
      "text/markdown": [
       "\n",
       "A tibble: 3 × 2\n",
       "\n",
       "| raceId &lt;dbl&gt; | n &lt;int&gt; |\n",
       "|---|---|\n",
       "| 1024 | 61 |\n",
       "| 1003 | 60 |\n",
       "|  982 | 58 |\n",
       "\n"
      ],
      "text/plain": [
       "  raceId n \n",
       "1 1024   61\n",
       "2 1003   60\n",
       "3  982   58"
      ]
     },
     "metadata": {},
     "output_type": "display_data"
    },
    {
     "name": "stderr",
     "output_type": "stream",
     "text": [
      "`summarise()` ungrouping output (override with `.groups` argument)\n",
      "\n"
     ]
    }
   ],
   "source": [
    "#16. Singapore\n",
    "\n",
    "ls_singapore <- str_laps %>%\n",
    "                filter(raceId %in% singapore_race_ID) \n",
    "\n",
    "ls_singapore_clean <- ls_singapore %>%\n",
    "                        group_by(raceId) %>%\n",
    "                        summarize(n = n()) %>%\n",
    "                        arrange(desc(n)) \n",
    "ls_singapore_clean\n",
    "ls_singapore_clean_ID <- ls_singapore_clean %>%\n",
    "                        pull(raceId)\n",
    "\n",
    "\n",
    "### SPLITTING DATA\n",
    "\n",
    "ls_singapore_races <- str_laps %>%\n",
    "                    filter(raceId %in% ls_singapore_clean_ID)\n",
    "\n",
    "ls_singapore_split <- initial_split(ls_singapore_races, prop = 0.75, strata = milliseconds)\n",
    "\n",
    "ls_singapore_train <- training(ls_singapore_split)\n",
    "\n",
    "ls_singapore_test <- testing(ls_singapore_split) \n",
    "\n",
    "\n",
    "### USING DATA\n",
    "\n",
    "ls_singapore_lap_times <- ls_singapore_train %>%\n",
    "                        group_by(lap) %>%\n",
    "                        summarize(lap_time_avg = mean(milliseconds)) \n",
    "                        \n",
    "\n",
    "ls_singapore_avg_race_time <- ls_singapore_lap_times %>%\n",
    "                            mutate(lap_time_avg_mins = lap_time_avg / 60000) %>%\n",
    "                            select(lap_time_avg_mins) %>%\n",
    "                            map(sum) "
   ]
  },
  {
   "cell_type": "code",
   "execution_count": 53,
   "metadata": {},
   "outputs": [
    {
     "name": "stderr",
     "output_type": "stream",
     "text": [
      "`summarise()` ungrouping output (override with `.groups` argument)\n",
      "\n"
     ]
    },
    {
     "data": {
      "text/html": [
       "<table>\n",
       "<caption>A tibble: 3 × 2</caption>\n",
       "<thead>\n",
       "\t<tr><th scope=col>raceId</th><th scope=col>n</th></tr>\n",
       "\t<tr><th scope=col>&lt;dbl&gt;</th><th scope=col>&lt;int&gt;</th></tr>\n",
       "</thead>\n",
       "<tbody>\n",
       "\t<tr><td>1005</td><td>52</td></tr>\n",
       "\t<tr><td>1026</td><td>51</td></tr>\n",
       "\t<tr><td> 984</td><td>45</td></tr>\n",
       "</tbody>\n",
       "</table>\n"
      ],
      "text/latex": [
       "A tibble: 3 × 2\n",
       "\\begin{tabular}{ll}\n",
       " raceId & n\\\\\n",
       " <dbl> & <int>\\\\\n",
       "\\hline\n",
       "\t 1005 & 52\\\\\n",
       "\t 1026 & 51\\\\\n",
       "\t  984 & 45\\\\\n",
       "\\end{tabular}\n"
      ],
      "text/markdown": [
       "\n",
       "A tibble: 3 × 2\n",
       "\n",
       "| raceId &lt;dbl&gt; | n &lt;int&gt; |\n",
       "|---|---|\n",
       "| 1005 | 52 |\n",
       "| 1026 | 51 |\n",
       "|  984 | 45 |\n",
       "\n"
      ],
      "text/plain": [
       "  raceId n \n",
       "1 1005   52\n",
       "2 1026   51\n",
       "3  984   45"
      ]
     },
     "metadata": {},
     "output_type": "display_data"
    },
    {
     "name": "stderr",
     "output_type": "stream",
     "text": [
      "`summarise()` ungrouping output (override with `.groups` argument)\n",
      "\n"
     ]
    }
   ],
   "source": [
    "#17. Japan\n",
    "\n",
    "ls_japan <- str_laps %>%\n",
    "                filter(raceId %in% japan_race_ID) \n",
    "\n",
    "ls_japan_clean <- ls_japan %>%\n",
    "                        group_by(raceId) %>%\n",
    "                        summarize(n = n()) %>%\n",
    "                        arrange(desc(n)) \n",
    "ls_japan_clean\n",
    "ls_japan_clean_ID <- ls_japan_clean %>%\n",
    "                        pull(raceId)\n",
    "\n",
    "\n",
    "### SPLITTING DATA\n",
    "\n",
    "ls_japan_races <- str_laps %>%\n",
    "                    filter(raceId %in% ls_japan_clean_ID)\n",
    "\n",
    "ls_japan_split <- initial_split(ls_japan_races, prop = 0.75, strata = milliseconds)\n",
    "\n",
    "ls_japan_train <- training(ls_japan_split)\n",
    "\n",
    "ls_japan_test <- testing(ls_japan_split) \n",
    "\n",
    "\n",
    "### USING DATA\n",
    "\n",
    "ls_japan_lap_times <- ls_japan_train %>%\n",
    "                        group_by(lap) %>%\n",
    "                        summarize(lap_time_avg = mean(milliseconds)) \n",
    "                        \n",
    "\n",
    "ls_japan_avg_race_time <- ls_japan_lap_times %>%\n",
    "                            mutate(lap_time_avg_mins = lap_time_avg / 60000) %>%\n",
    "                            select(lap_time_avg_mins) %>%\n",
    "                            map(sum) "
   ]
  },
  {
   "cell_type": "code",
   "execution_count": 54,
   "metadata": {},
   "outputs": [
    {
     "name": "stderr",
     "output_type": "stream",
     "text": [
      "`summarise()` ungrouping output (override with `.groups` argument)\n",
      "\n"
     ]
    },
    {
     "data": {
      "text/html": [
       "<table>\n",
       "<caption>A tibble: 4 × 2</caption>\n",
       "<thead>\n",
       "\t<tr><th scope=col>raceId</th><th scope=col>n</th></tr>\n",
       "\t<tr><th scope=col>&lt;dbl&gt;</th><th scope=col>&lt;int&gt;</th></tr>\n",
       "</thead>\n",
       "<tbody>\n",
       "\t<tr><td> 985</td><td>55</td></tr>\n",
       "\t<tr><td>1028</td><td>55</td></tr>\n",
       "\t<tr><td>1069</td><td>55</td></tr>\n",
       "\t<tr><td>1006</td><td>54</td></tr>\n",
       "</tbody>\n",
       "</table>\n"
      ],
      "text/latex": [
       "A tibble: 4 × 2\n",
       "\\begin{tabular}{ll}\n",
       " raceId & n\\\\\n",
       " <dbl> & <int>\\\\\n",
       "\\hline\n",
       "\t  985 & 55\\\\\n",
       "\t 1028 & 55\\\\\n",
       "\t 1069 & 55\\\\\n",
       "\t 1006 & 54\\\\\n",
       "\\end{tabular}\n"
      ],
      "text/markdown": [
       "\n",
       "A tibble: 4 × 2\n",
       "\n",
       "| raceId &lt;dbl&gt; | n &lt;int&gt; |\n",
       "|---|---|\n",
       "|  985 | 55 |\n",
       "| 1028 | 55 |\n",
       "| 1069 | 55 |\n",
       "| 1006 | 54 |\n",
       "\n"
      ],
      "text/plain": [
       "  raceId n \n",
       "1  985   55\n",
       "2 1028   55\n",
       "3 1069   55\n",
       "4 1006   54"
      ]
     },
     "metadata": {},
     "output_type": "display_data"
    },
    {
     "name": "stderr",
     "output_type": "stream",
     "text": [
      "`summarise()` ungrouping output (override with `.groups` argument)\n",
      "\n"
     ]
    }
   ],
   "source": [
    "#18. USA, Austin\n",
    "\n",
    "ls_austin <- str_laps %>%\n",
    "                filter(raceId %in% austin_race_ID) \n",
    "\n",
    "ls_austin_clean <- ls_austin %>%\n",
    "                        group_by(raceId) %>%\n",
    "                        summarize(n = n()) %>%\n",
    "                        arrange(desc(n)) \n",
    "ls_austin_clean\n",
    "ls_austin_clean_ID <- ls_austin_clean %>%\n",
    "                        pull(raceId)\n",
    "\n",
    "\n",
    "### SPLITTING DATA\n",
    "\n",
    "ls_austin_races <- str_laps %>%\n",
    "                    filter(raceId %in% ls_austin_clean_ID)\n",
    "\n",
    "ls_austin_split <- initial_split(ls_austin_races, prop = 0.75, strata = milliseconds)\n",
    "\n",
    "ls_austin_train <- training(ls_austin_split)\n",
    "\n",
    "ls_austin_test <- testing(ls_austin_split) \n",
    "\n",
    "\n",
    "### USING DATA\n",
    "\n",
    "ls_austin_lap_times <- ls_austin_train %>%\n",
    "                        group_by(lap) %>%\n",
    "                        summarize(lap_time_avg = mean(milliseconds)) \n",
    "                        \n",
    "\n",
    "ls_austin_avg_race_time <- ls_austin_lap_times %>%\n",
    "                            mutate(lap_time_avg_mins = lap_time_avg / 60000) %>%\n",
    "                            select(lap_time_avg_mins) %>%\n",
    "                            map(sum)"
   ]
  },
  {
   "cell_type": "code",
   "execution_count": 55,
   "metadata": {},
   "outputs": [
    {
     "name": "stderr",
     "output_type": "stream",
     "text": [
      "`summarise()` ungrouping output (override with `.groups` argument)\n",
      "\n"
     ]
    },
    {
     "data": {
      "text/html": [
       "<table>\n",
       "<caption>A tibble: 4 × 2</caption>\n",
       "<thead>\n",
       "\t<tr><th scope=col>raceId</th><th scope=col>n</th></tr>\n",
       "\t<tr><th scope=col>&lt;dbl&gt;</th><th scope=col>&lt;int&gt;</th></tr>\n",
       "</thead>\n",
       "<tbody>\n",
       "\t<tr><td> 986</td><td>70</td></tr>\n",
       "\t<tr><td>1027</td><td>70</td></tr>\n",
       "\t<tr><td>1007</td><td>69</td></tr>\n",
       "\t<tr><td>1070</td><td>69</td></tr>\n",
       "</tbody>\n",
       "</table>\n"
      ],
      "text/latex": [
       "A tibble: 4 × 2\n",
       "\\begin{tabular}{ll}\n",
       " raceId & n\\\\\n",
       " <dbl> & <int>\\\\\n",
       "\\hline\n",
       "\t  986 & 70\\\\\n",
       "\t 1027 & 70\\\\\n",
       "\t 1007 & 69\\\\\n",
       "\t 1070 & 69\\\\\n",
       "\\end{tabular}\n"
      ],
      "text/markdown": [
       "\n",
       "A tibble: 4 × 2\n",
       "\n",
       "| raceId &lt;dbl&gt; | n &lt;int&gt; |\n",
       "|---|---|\n",
       "|  986 | 70 |\n",
       "| 1027 | 70 |\n",
       "| 1007 | 69 |\n",
       "| 1070 | 69 |\n",
       "\n"
      ],
      "text/plain": [
       "  raceId n \n",
       "1  986   70\n",
       "2 1027   70\n",
       "3 1007   69\n",
       "4 1070   69"
      ]
     },
     "metadata": {},
     "output_type": "display_data"
    },
    {
     "name": "stderr",
     "output_type": "stream",
     "text": [
      "`summarise()` ungrouping output (override with `.groups` argument)\n",
      "\n"
     ]
    }
   ],
   "source": [
    "#19. Mexico\n",
    "\n",
    "ls_mexico <- str_laps %>%\n",
    "                filter(raceId %in% mexico_race_ID) \n",
    "\n",
    "ls_mexico_clean <- ls_mexico %>%\n",
    "                        group_by(raceId) %>%\n",
    "                        summarize(n = n()) %>%\n",
    "                        arrange(desc(n)) \n",
    "ls_mexico_clean\n",
    "ls_mexico_clean_ID <- ls_mexico_clean %>%\n",
    "                        pull(raceId)\n",
    "\n",
    "\n",
    "### SPLITTING DATA\n",
    "\n",
    "ls_mexico_races <- str_laps %>%\n",
    "                    filter(raceId %in% ls_mexico_clean_ID)\n",
    "\n",
    "ls_mexico_split <- initial_split(ls_mexico_races, prop = 0.75, strata = milliseconds)\n",
    "\n",
    "ls_mexico_train <- training(ls_mexico_split)\n",
    "\n",
    "ls_mexico_test <- testing(ls_mexico_split) \n",
    "\n",
    "\n",
    "### USING DATA\n",
    "\n",
    "ls_mexico_lap_times <- ls_mexico_train %>%\n",
    "                        group_by(lap) %>%\n",
    "                        summarize(lap_time_avg = mean(milliseconds)) \n",
    "                        \n",
    "\n",
    "ls_mexico_avg_race_time <- ls_mexico_lap_times %>%\n",
    "                            mutate(lap_time_avg_mins = lap_time_avg / 60000) %>%\n",
    "                            select(lap_time_avg_mins) %>%\n",
    "                            map(sum)"
   ]
  },
  {
   "cell_type": "code",
   "execution_count": 56,
   "metadata": {},
   "outputs": [
    {
     "name": "stderr",
     "output_type": "stream",
     "text": [
      "`summarise()` ungrouping output (override with `.groups` argument)\n",
      "\n"
     ]
    },
    {
     "data": {
      "text/html": [
       "<table>\n",
       "<caption>A tibble: 4 × 2</caption>\n",
       "<thead>\n",
       "\t<tr><th scope=col>raceId</th><th scope=col>n</th></tr>\n",
       "\t<tr><th scope=col>&lt;dbl&gt;</th><th scope=col>&lt;int&gt;</th></tr>\n",
       "</thead>\n",
       "<tbody>\n",
       "\t<tr><td> 987</td><td>69</td></tr>\n",
       "\t<tr><td>1008</td><td>69</td></tr>\n",
       "\t<tr><td>1029</td><td>65</td></tr>\n",
       "\t<tr><td>1071</td><td>47</td></tr>\n",
       "</tbody>\n",
       "</table>\n"
      ],
      "text/latex": [
       "A tibble: 4 × 2\n",
       "\\begin{tabular}{ll}\n",
       " raceId & n\\\\\n",
       " <dbl> & <int>\\\\\n",
       "\\hline\n",
       "\t  987 & 69\\\\\n",
       "\t 1008 & 69\\\\\n",
       "\t 1029 & 65\\\\\n",
       "\t 1071 & 47\\\\\n",
       "\\end{tabular}\n"
      ],
      "text/markdown": [
       "\n",
       "A tibble: 4 × 2\n",
       "\n",
       "| raceId &lt;dbl&gt; | n &lt;int&gt; |\n",
       "|---|---|\n",
       "|  987 | 69 |\n",
       "| 1008 | 69 |\n",
       "| 1029 | 65 |\n",
       "| 1071 | 47 |\n",
       "\n"
      ],
      "text/plain": [
       "  raceId n \n",
       "1  987   69\n",
       "2 1008   69\n",
       "3 1029   65\n",
       "4 1071   47"
      ]
     },
     "metadata": {},
     "output_type": "display_data"
    },
    {
     "name": "stderr",
     "output_type": "stream",
     "text": [
      "`summarise()` ungrouping output (override with `.groups` argument)\n",
      "\n"
     ]
    }
   ],
   "source": [
    "#20. Brazil\n",
    "\n",
    "ls_brazil <- str_laps %>%\n",
    "                filter(raceId %in% brazil_race_ID) \n",
    "\n",
    "ls_brazil_clean <- ls_brazil %>%\n",
    "                        group_by(raceId) %>%\n",
    "                        summarize(n = n()) %>%\n",
    "                        arrange(desc(n)) \n",
    "ls_brazil_clean\n",
    "ls_brazil_clean_ID <- ls_brazil_clean %>%\n",
    "                        pull(raceId)\n",
    "\n",
    "\n",
    "### SPLITTING DATA\n",
    "\n",
    "ls_brazil_races <- str_laps %>%\n",
    "                    filter(raceId %in% ls_brazil_clean_ID)\n",
    "\n",
    "ls_brazil_split <- initial_split(ls_brazil_races, prop = 0.75, strata = milliseconds)\n",
    "\n",
    "ls_brazil_train <- training(ls_brazil_split)\n",
    "\n",
    "ls_brazil_test <- testing(ls_brazil_split) \n",
    "\n",
    "\n",
    "### USING DATA\n",
    "\n",
    "ls_brazil_lap_times <- ls_brazil_train %>%\n",
    "                        group_by(lap) %>%\n",
    "                        summarize(lap_time_avg = mean(milliseconds)) \n",
    "                        \n",
    "\n",
    "ls_brazil_avg_race_time <- ls_brazil_lap_times %>%\n",
    "                            mutate(lap_time_avg_mins = lap_time_avg / 60000) %>%\n",
    "                            select(lap_time_avg_mins) %>%\n",
    "                            map(sum)"
   ]
  },
  {
   "cell_type": "code",
   "execution_count": 57,
   "metadata": {},
   "outputs": [
    {
     "name": "stderr",
     "output_type": "stream",
     "text": [
      "`summarise()` ungrouping output (override with `.groups` argument)\n",
      "\n"
     ]
    },
    {
     "data": {
      "text/html": [
       "<table>\n",
       "<caption>A tibble: 5 × 2</caption>\n",
       "<thead>\n",
       "\t<tr><th scope=col>raceId</th><th scope=col>n</th></tr>\n",
       "\t<tr><th scope=col>&lt;dbl&gt;</th><th scope=col>&lt;int&gt;</th></tr>\n",
       "</thead>\n",
       "<tbody>\n",
       "\t<tr><td>1073</td><td>57</td></tr>\n",
       "\t<tr><td>1047</td><td>55</td></tr>\n",
       "\t<tr><td> 988</td><td>54</td></tr>\n",
       "\t<tr><td>1009</td><td>54</td></tr>\n",
       "\t<tr><td>1030</td><td>45</td></tr>\n",
       "</tbody>\n",
       "</table>\n"
      ],
      "text/latex": [
       "A tibble: 5 × 2\n",
       "\\begin{tabular}{ll}\n",
       " raceId & n\\\\\n",
       " <dbl> & <int>\\\\\n",
       "\\hline\n",
       "\t 1073 & 57\\\\\n",
       "\t 1047 & 55\\\\\n",
       "\t  988 & 54\\\\\n",
       "\t 1009 & 54\\\\\n",
       "\t 1030 & 45\\\\\n",
       "\\end{tabular}\n"
      ],
      "text/markdown": [
       "\n",
       "A tibble: 5 × 2\n",
       "\n",
       "| raceId &lt;dbl&gt; | n &lt;int&gt; |\n",
       "|---|---|\n",
       "| 1073 | 57 |\n",
       "| 1047 | 55 |\n",
       "|  988 | 54 |\n",
       "| 1009 | 54 |\n",
       "| 1030 | 45 |\n",
       "\n"
      ],
      "text/plain": [
       "  raceId n \n",
       "1 1073   57\n",
       "2 1047   55\n",
       "3  988   54\n",
       "4 1009   54\n",
       "5 1030   45"
      ]
     },
     "metadata": {},
     "output_type": "display_data"
    },
    {
     "name": "stderr",
     "output_type": "stream",
     "text": [
      "`summarise()` ungrouping output (override with `.groups` argument)\n",
      "\n"
     ]
    }
   ],
   "source": [
    " #21. Abu Dhabi\n",
    "\n",
    "ls_uae <- str_laps %>%\n",
    "                filter(raceId %in% uae_race_ID) \n",
    "\n",
    "ls_uae_clean <- ls_uae %>%\n",
    "                        group_by(raceId) %>%\n",
    "                        summarize(n = n()) %>%\n",
    "                        arrange(desc(n)) \n",
    "ls_uae_clean\n",
    "ls_uae_clean_ID <- ls_uae_clean %>%\n",
    "                        pull(raceId)\n",
    "\n",
    "\n",
    "### SPLITTING DATA\n",
    "\n",
    "ls_uae_races <- str_laps %>%\n",
    "                    filter(raceId %in% ls_uae_clean_ID)\n",
    "\n",
    "ls_uae_split <- initial_split(ls_uae_races, prop = 0.75, strata = milliseconds)\n",
    "\n",
    "ls_uae_train <- training(ls_uae_split)\n",
    "\n",
    "ls_uae_test <- testing(ls_uae_split) \n",
    "\n",
    "\n",
    "### USING DATA\n",
    "\n",
    "ls_uae_lap_times <- ls_uae_train %>%\n",
    "                        group_by(lap) %>%\n",
    "                        summarize(lap_time_avg = mean(milliseconds)) \n",
    "                        \n",
    "\n",
    "ls_uae_avg_race_time <- ls_uae_lap_times %>%\n",
    "                            mutate(lap_time_avg_mins = lap_time_avg / 60000) %>%\n",
    "                            select(lap_time_avg_mins) %>%\n",
    "                            map(sum) \n"
   ]
  }
 ],
 "metadata": {
  "kernelspec": {
   "display_name": "R",
   "language": "R",
   "name": "ir"
  },
  "language_info": {
   "codemirror_mode": "r",
   "file_extension": ".r",
   "mimetype": "text/x-r-source",
   "name": "R",
   "pygments_lexer": "r",
   "version": "4.0.0"
  }
 },
 "nbformat": 4,
 "nbformat_minor": 4
}
