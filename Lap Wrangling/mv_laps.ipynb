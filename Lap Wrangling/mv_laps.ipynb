{
 "cells": [
  {
   "cell_type": "markdown",
   "metadata": {},
   "source": [
    "# Max Verstappen\n",
    "<img src=\"https://www.formula1.com/content/fom-website/en/drivers/max-verstappen/_jcr_content/image.img.1920.medium.jpg/1646819045507.jpg\" width=\"300\">\n",
    "\n",
    "### Team: Red Bull Racing\n",
    "\n",
    "<img src =\"https://www.formula1.com/content/fom-website/en/drivers/max-verstappen/_jcr_content/helmet.img.png/1646824946942.png\" width=\"200\">\n"
   ]
  },
  {
   "cell_type": "code",
   "execution_count": 30,
   "metadata": {},
   "outputs": [],
   "source": [
    "library (tidyverse)\n",
    "library (tidymodels)\n",
    "source(\"source/master_functions.r\")\n",
    "source(\"source/regression.r\")\n",
    "set.seed(620)"
   ]
  },
  {
   "cell_type": "code",
   "execution_count": null,
   "metadata": {},
   "outputs": [],
   "source": [
    "initialize_master()"
   ]
  },
  {
   "cell_type": "code",
   "execution_count": 36,
   "metadata": {},
   "outputs": [],
   "source": [
    "# Filtering Lap Data For 2022 Drivers\n",
    "\n",
    "lap_data <- lap_times %>%\n",
    "            filter(driverId %in% driver_ids) %>%\n",
    "            filter(raceId %in% race_ids)\n",
    "\n",
    "ver_laps <- lap_data %>%\n",
    "            filter(driverId == 830)"
   ]
  },
  {
   "cell_type": "code",
   "execution_count": 37,
   "metadata": {},
   "outputs": [
    {
     "name": "stderr",
     "output_type": "stream",
     "text": [
      "`summarise()` ungrouping output (override with `.groups` argument)\n",
      "\n"
     ]
    },
    {
     "data": {
      "text/html": [
       "<table>\n",
       "<caption>A tibble: 4 × 2</caption>\n",
       "<thead>\n",
       "\t<tr><th scope=col>raceId</th><th scope=col>n</th></tr>\n",
       "\t<tr><th scope=col>&lt;dbl&gt;</th><th scope=col>&lt;int&gt;</th></tr>\n",
       "</thead>\n",
       "<tbody>\n",
       "\t<tr><td> 949</td><td>57</td></tr>\n",
       "\t<tr><td>1011</td><td>57</td></tr>\n",
       "\t<tr><td>1045</td><td>57</td></tr>\n",
       "\t<tr><td>1052</td><td>56</td></tr>\n",
       "</tbody>\n",
       "</table>\n"
      ],
      "text/latex": [
       "A tibble: 4 × 2\n",
       "\\begin{tabular}{ll}\n",
       " raceId & n\\\\\n",
       " <dbl> & <int>\\\\\n",
       "\\hline\n",
       "\t  949 & 57\\\\\n",
       "\t 1011 & 57\\\\\n",
       "\t 1045 & 57\\\\\n",
       "\t 1052 & 56\\\\\n",
       "\\end{tabular}\n"
      ],
      "text/markdown": [
       "\n",
       "A tibble: 4 × 2\n",
       "\n",
       "| raceId &lt;dbl&gt; | n &lt;int&gt; |\n",
       "|---|---|\n",
       "|  949 | 57 |\n",
       "| 1011 | 57 |\n",
       "| 1045 | 57 |\n",
       "| 1052 | 56 |\n",
       "\n"
      ],
      "text/plain": [
       "  raceId n \n",
       "1  949   57\n",
       "2 1011   57\n",
       "3 1045   57\n",
       "4 1052   56"
      ]
     },
     "metadata": {},
     "output_type": "display_data"
    },
    {
     "name": "stderr",
     "output_type": "stream",
     "text": [
      "`summarise()` ungrouping output (override with `.groups` argument)\n",
      "\n"
     ]
    }
   ],
   "source": [
    "#1. Bahrain \n",
    "\n",
    "mv_bahrain <- ver_laps %>%\n",
    "                filter(raceId %in% bahrain_race_ID) \n",
    "\n",
    "mv_bahrain_clean <- mv_bahrain %>%\n",
    "                        group_by(raceId) %>%\n",
    "                        summarize(n = n()) %>%\n",
    "                        arrange(desc(n)) %>% \n",
    "                        head(4)\n",
    "mv_bahrain_clean\n",
    "mv_bahrain_clean_ID <- mv_bahrain_clean %>%\n",
    "                        pull(raceId)\n",
    "\n",
    "\n",
    " ### SPLITTING DATA\n",
    "\n",
    "mv_bahrain_races <- ver_laps %>%\n",
    "                    filter(raceId %in% mv_bahrain_clean_ID)\n",
    "\n",
    "formulaone_split <- initial_split(mv_bahrain_races, prop = 0.75, strata = milliseconds)\n",
    "\n",
    "initiate_split_data()\n",
    "\n",
    "### RUNS REGRESSION\n",
    "\n",
    "initiate_linear_regression()"
   ]
  },
  {
   "cell_type": "code",
   "execution_count": 38,
   "metadata": {},
   "outputs": [
    {
     "name": "stderr",
     "output_type": "stream",
     "text": [
      "`summarise()` ungrouping output (override with `.groups` argument)\n",
      "\n"
     ]
    },
    {
     "data": {
      "text/html": [
       "<table>\n",
       "<caption>A tibble: 1 × 2</caption>\n",
       "<thead>\n",
       "\t<tr><th scope=col>raceId</th><th scope=col>n</th></tr>\n",
       "\t<tr><th scope=col>&lt;dbl&gt;</th><th scope=col>&lt;int&gt;</th></tr>\n",
       "</thead>\n",
       "<tbody>\n",
       "\t<tr><td>1072</td><td>50</td></tr>\n",
       "</tbody>\n",
       "</table>\n"
      ],
      "text/latex": [
       "A tibble: 1 × 2\n",
       "\\begin{tabular}{ll}\n",
       " raceId & n\\\\\n",
       " <dbl> & <int>\\\\\n",
       "\\hline\n",
       "\t 1072 & 50\\\\\n",
       "\\end{tabular}\n"
      ],
      "text/markdown": [
       "\n",
       "A tibble: 1 × 2\n",
       "\n",
       "| raceId &lt;dbl&gt; | n &lt;int&gt; |\n",
       "|---|---|\n",
       "| 1072 | 50 |\n",
       "\n"
      ],
      "text/plain": [
       "  raceId n \n",
       "1 1072   50"
      ]
     },
     "metadata": {},
     "output_type": "display_data"
    },
    {
     "name": "stderr",
     "output_type": "stream",
     "text": [
      "Warning message:\n",
      "“The number of observations in each quantile is below the recommended threshold of 20. Stratification will be done with 2 breaks instead.”\n",
      "`summarise()` ungrouping output (override with `.groups` argument)\n",
      "\n"
     ]
    }
   ],
   "source": [
    "#2. Saudi Arabia \n",
    "\n",
    "mv_saudi <- ver_laps %>%\n",
    "                filter(raceId %in% saudi_race_ID) \n",
    "\n",
    "mv_saudi_clean <- mv_saudi %>%\n",
    "                        group_by(raceId) %>%\n",
    "                        summarize(n = n()) %>%\n",
    "                        arrange(desc(n)) \n",
    "mv_saudi_clean\n",
    "mv_saudi_clean_ID <- mv_saudi_clean %>%\n",
    "                        pull(raceId)\n",
    "\n",
    "mv_saudi_races <- ver_laps %>%\n",
    "                    filter(raceId %in% mv_saudi_clean_ID)\n",
    "\n",
    "formulaone_split <- initial_split(mv_saudi_races, prop = 0.75, strata = milliseconds)\n",
    "\n",
    "initiate_split_data()\n",
    "\n",
    "### RUNS REGRESSION\n",
    "\n",
    "initiate_linear_regression()"
   ]
  },
  {
   "cell_type": "code",
   "execution_count": 39,
   "metadata": {},
   "outputs": [
    {
     "name": "stderr",
     "output_type": "stream",
     "text": [
      "`summarise()` ungrouping output (override with `.groups` argument)\n",
      "\n"
     ]
    },
    {
     "data": {
      "text/html": [
       "<table>\n",
       "<caption>A tibble: 4 × 2</caption>\n",
       "<thead>\n",
       "\t<tr><th scope=col>raceId</th><th scope=col>n</th></tr>\n",
       "\t<tr><th scope=col>&lt;dbl&gt;</th><th scope=col>&lt;int&gt;</th></tr>\n",
       "</thead>\n",
       "<tbody>\n",
       "\t<tr><td> 989</td><td>58</td></tr>\n",
       "\t<tr><td>1010</td><td>58</td></tr>\n",
       "\t<tr><td> 948</td><td>57</td></tr>\n",
       "\t<tr><td> 969</td><td>57</td></tr>\n",
       "</tbody>\n",
       "</table>\n"
      ],
      "text/latex": [
       "A tibble: 4 × 2\n",
       "\\begin{tabular}{ll}\n",
       " raceId & n\\\\\n",
       " <dbl> & <int>\\\\\n",
       "\\hline\n",
       "\t  989 & 58\\\\\n",
       "\t 1010 & 58\\\\\n",
       "\t  948 & 57\\\\\n",
       "\t  969 & 57\\\\\n",
       "\\end{tabular}\n"
      ],
      "text/markdown": [
       "\n",
       "A tibble: 4 × 2\n",
       "\n",
       "| raceId &lt;dbl&gt; | n &lt;int&gt; |\n",
       "|---|---|\n",
       "|  989 | 58 |\n",
       "| 1010 | 58 |\n",
       "|  948 | 57 |\n",
       "|  969 | 57 |\n",
       "\n"
      ],
      "text/plain": [
       "  raceId n \n",
       "1  989   58\n",
       "2 1010   58\n",
       "3  948   57\n",
       "4  969   57"
      ]
     },
     "metadata": {},
     "output_type": "display_data"
    },
    {
     "name": "stderr",
     "output_type": "stream",
     "text": [
      "`summarise()` ungrouping output (override with `.groups` argument)\n",
      "\n"
     ]
    }
   ],
   "source": [
    "#3. Austrailia \n",
    "\n",
    "mv_aus <- ver_laps %>%\n",
    "                filter(raceId %in% aus_race_ID) \n",
    "\n",
    "mv_aus_clean <- mv_aus %>%\n",
    "                        group_by(raceId) %>%\n",
    "                        summarize(n = n()) %>%\n",
    "                        arrange(desc(n)) %>%\n",
    "                        head(4)\n",
    "mv_aus_clean\n",
    "mv_aus_clean_ID <- mv_aus_clean %>%\n",
    "                        pull(raceId)\n",
    "\n",
    "mv_aus_races <- ver_laps %>%\n",
    "                    filter(raceId %in% mv_aus_clean_ID)\n",
    "\n",
    "formulaone_split <- initial_split(mv_aus_races, prop = 0.75, strata = milliseconds)\n",
    "\n",
    "initiate_split_data()\n",
    "\n",
    "### RUNS REGRESSION\n",
    "\n",
    "initiate_linear_regression()"
   ]
  },
  {
   "cell_type": "code",
   "execution_count": 40,
   "metadata": {},
   "outputs": [
    {
     "name": "stderr",
     "output_type": "stream",
     "text": [
      "`summarise()` ungrouping output (override with `.groups` argument)\n",
      "\n"
     ]
    },
    {
     "data": {
      "text/html": [
       "<table>\n",
       "<caption>A tibble: 1 × 2</caption>\n",
       "<thead>\n",
       "\t<tr><th scope=col>raceId</th><th scope=col>n</th></tr>\n",
       "\t<tr><th scope=col>&lt;dbl&gt;</th><th scope=col>&lt;int&gt;</th></tr>\n",
       "</thead>\n",
       "<tbody>\n",
       "\t<tr><td>1053</td><td>63</td></tr>\n",
       "</tbody>\n",
       "</table>\n"
      ],
      "text/latex": [
       "A tibble: 1 × 2\n",
       "\\begin{tabular}{ll}\n",
       " raceId & n\\\\\n",
       " <dbl> & <int>\\\\\n",
       "\\hline\n",
       "\t 1053 & 63\\\\\n",
       "\\end{tabular}\n"
      ],
      "text/markdown": [
       "\n",
       "A tibble: 1 × 2\n",
       "\n",
       "| raceId &lt;dbl&gt; | n &lt;int&gt; |\n",
       "|---|---|\n",
       "| 1053 | 63 |\n",
       "\n"
      ],
      "text/plain": [
       "  raceId n \n",
       "1 1053   63"
      ]
     },
     "metadata": {},
     "output_type": "display_data"
    },
    {
     "name": "stderr",
     "output_type": "stream",
     "text": [
      "Warning message:\n",
      "“The number of observations in each quantile is below the recommended threshold of 20. Stratification will be done with 3 breaks instead.”\n",
      "`summarise()` ungrouping output (override with `.groups` argument)\n",
      "\n"
     ]
    }
   ],
   "source": [
    "#4. Imola, Italy \n",
    "\n",
    "mv_imola <- ver_laps %>%\n",
    "                filter(raceId %in% imola_race_ID) \n",
    "\n",
    "mv_imola_clean <- mv_imola %>%\n",
    "                        group_by(raceId) %>%\n",
    "                        summarize(n = n()) %>%\n",
    "                        arrange(desc(n)) %>%\n",
    "                        head(1)\n",
    "mv_imola_clean\n",
    "mv_imola_clean_ID <- mv_imola_clean %>%\n",
    "                        pull(raceId)\n",
    "\n",
    "mv_imola_races <- ver_laps %>%\n",
    "                    filter(raceId %in% mv_imola_clean_ID)\n",
    "\n",
    "formulaone_split <- initial_split(mv_imola_races, prop = 0.75, strata = milliseconds)\n",
    "\n",
    "initiate_split_data()\n",
    "\n",
    "### RUNS REGRESSION\n",
    "\n",
    "initiate_linear_regression()"
   ]
  },
  {
   "cell_type": "code",
   "execution_count": 41,
   "metadata": {},
   "outputs": [
    {
     "name": "stderr",
     "output_type": "stream",
     "text": [
      "`summarise()` ungrouping output (override with `.groups` argument)\n",
      "\n"
     ]
    },
    {
     "data": {
      "text/html": [
       "<table>\n",
       "<caption>A tibble: 6 × 2</caption>\n",
       "<thead>\n",
       "\t<tr><th scope=col>raceId</th><th scope=col>n</th></tr>\n",
       "\t<tr><th scope=col>&lt;dbl&gt;</th><th scope=col>&lt;int&gt;</th></tr>\n",
       "</thead>\n",
       "<tbody>\n",
       "\t<tr><td> 952</td><td>66</td></tr>\n",
       "\t<tr><td> 993</td><td>66</td></tr>\n",
       "\t<tr><td>1014</td><td>66</td></tr>\n",
       "\t<tr><td>1036</td><td>66</td></tr>\n",
       "\t<tr><td>1055</td><td>66</td></tr>\n",
       "\t<tr><td> 930</td><td>65</td></tr>\n",
       "</tbody>\n",
       "</table>\n"
      ],
      "text/latex": [
       "A tibble: 6 × 2\n",
       "\\begin{tabular}{ll}\n",
       " raceId & n\\\\\n",
       " <dbl> & <int>\\\\\n",
       "\\hline\n",
       "\t  952 & 66\\\\\n",
       "\t  993 & 66\\\\\n",
       "\t 1014 & 66\\\\\n",
       "\t 1036 & 66\\\\\n",
       "\t 1055 & 66\\\\\n",
       "\t  930 & 65\\\\\n",
       "\\end{tabular}\n"
      ],
      "text/markdown": [
       "\n",
       "A tibble: 6 × 2\n",
       "\n",
       "| raceId &lt;dbl&gt; | n &lt;int&gt; |\n",
       "|---|---|\n",
       "|  952 | 66 |\n",
       "|  993 | 66 |\n",
       "| 1014 | 66 |\n",
       "| 1036 | 66 |\n",
       "| 1055 | 66 |\n",
       "|  930 | 65 |\n",
       "\n"
      ],
      "text/plain": [
       "  raceId n \n",
       "1  952   66\n",
       "2  993   66\n",
       "3 1014   66\n",
       "4 1036   66\n",
       "5 1055   66\n",
       "6  930   65"
      ]
     },
     "metadata": {},
     "output_type": "display_data"
    },
    {
     "name": "stderr",
     "output_type": "stream",
     "text": [
      "`summarise()` ungrouping output (override with `.groups` argument)\n",
      "\n"
     ]
    }
   ],
   "source": [
    "#5. Spain \n",
    "\n",
    "mv_spain <- ver_laps %>%\n",
    "                filter(raceId %in% spain_race_ID) \n",
    "\n",
    "mv_spain_clean <- mv_spain %>%\n",
    "                        group_by(raceId) %>%\n",
    "                        summarize(n = n()) %>%\n",
    "                        arrange(desc(n)) %>%\n",
    "                        head(6)\n",
    "mv_spain_clean\n",
    "mv_spain_clean_ID <- mv_spain_clean %>%\n",
    "                        pull(raceId) \n",
    "\n",
    "mv_spain_races <- ver_laps %>%\n",
    "                    filter(raceId %in% mv_spain_clean_ID)\n",
    "\n",
    "formulaone_split <- initial_split(aa_bahrain_races, prop = 0.75, strata = milliseconds)\n",
    "\n",
    "initiate_split_data()\n",
    "\n",
    "### RUNS REGRESSION\n",
    "\n",
    "initiate_linear_regression()"
   ]
  },
  {
   "cell_type": "code",
   "execution_count": 42,
   "metadata": {},
   "outputs": [
    {
     "name": "stderr",
     "output_type": "stream",
     "text": [
      "`summarise()` ungrouping output (override with `.groups` argument)\n",
      "\n"
     ]
    },
    {
     "data": {
      "text/html": [
       "<table>\n",
       "<caption>A tibble: 4 × 2</caption>\n",
       "<thead>\n",
       "\t<tr><th scope=col>raceId</th><th scope=col>n</th></tr>\n",
       "\t<tr><th scope=col>&lt;dbl&gt;</th><th scope=col>&lt;int&gt;</th></tr>\n",
       "</thead>\n",
       "<tbody>\n",
       "\t<tr><td> 974</td><td>78</td></tr>\n",
       "\t<tr><td> 994</td><td>78</td></tr>\n",
       "\t<tr><td>1015</td><td>78</td></tr>\n",
       "\t<tr><td>1056</td><td>78</td></tr>\n",
       "</tbody>\n",
       "</table>\n"
      ],
      "text/latex": [
       "A tibble: 4 × 2\n",
       "\\begin{tabular}{ll}\n",
       " raceId & n\\\\\n",
       " <dbl> & <int>\\\\\n",
       "\\hline\n",
       "\t  974 & 78\\\\\n",
       "\t  994 & 78\\\\\n",
       "\t 1015 & 78\\\\\n",
       "\t 1056 & 78\\\\\n",
       "\\end{tabular}\n"
      ],
      "text/markdown": [
       "\n",
       "A tibble: 4 × 2\n",
       "\n",
       "| raceId &lt;dbl&gt; | n &lt;int&gt; |\n",
       "|---|---|\n",
       "|  974 | 78 |\n",
       "|  994 | 78 |\n",
       "| 1015 | 78 |\n",
       "| 1056 | 78 |\n",
       "\n"
      ],
      "text/plain": [
       "  raceId n \n",
       "1  974   78\n",
       "2  994   78\n",
       "3 1015   78\n",
       "4 1056   78"
      ]
     },
     "metadata": {},
     "output_type": "display_data"
    },
    {
     "name": "stderr",
     "output_type": "stream",
     "text": [
      "`summarise()` ungrouping output (override with `.groups` argument)\n",
      "\n"
     ]
    }
   ],
   "source": [
    "#6. Monaco \n",
    "\n",
    "mv_monaco <- ver_laps %>%\n",
    "                filter(raceId %in% monaco_race_ID) \n",
    "\n",
    "mv_monaco_clean <- mv_monaco %>%\n",
    "                        group_by(raceId) %>%\n",
    "                        summarize(n = n()) %>%\n",
    "                        arrange(desc(n)) %>%  \n",
    "                        head(4)\n",
    "mv_monaco_clean\n",
    "mv_monaco_clean_ID <- mv_monaco_clean %>%\n",
    "                        pull(raceId)\n",
    "\n",
    "mv_monaco_races <- ver_laps %>%\n",
    "                    filter(raceId %in% mv_monaco_clean_ID)\n",
    "\n",
    "formulaone_split <- initial_split(aa_bahrain_races, prop = 0.75, strata = milliseconds)\n",
    "\n",
    "initiate_split_data()\n",
    "\n",
    "### RUNS REGRESSION\n",
    "\n",
    "initiate_linear_regression()"
   ]
  },
  {
   "cell_type": "code",
   "execution_count": 43,
   "metadata": {},
   "outputs": [
    {
     "name": "stderr",
     "output_type": "stream",
     "text": [
      "`summarise()` ungrouping output (override with `.groups` argument)\n",
      "\n"
     ]
    },
    {
     "data": {
      "text/html": [
       "<table>\n",
       "<caption>A tibble: 2 × 2</caption>\n",
       "<thead>\n",
       "\t<tr><th scope=col>raceId</th><th scope=col>n</th></tr>\n",
       "\t<tr><th scope=col>&lt;dbl&gt;</th><th scope=col>&lt;int&gt;</th></tr>\n",
       "</thead>\n",
       "<tbody>\n",
       "\t<tr><td> 955</td><td>51</td></tr>\n",
       "\t<tr><td>1013</td><td>51</td></tr>\n",
       "</tbody>\n",
       "</table>\n"
      ],
      "text/latex": [
       "A tibble: 2 × 2\n",
       "\\begin{tabular}{ll}\n",
       " raceId & n\\\\\n",
       " <dbl> & <int>\\\\\n",
       "\\hline\n",
       "\t  955 & 51\\\\\n",
       "\t 1013 & 51\\\\\n",
       "\\end{tabular}\n"
      ],
      "text/markdown": [
       "\n",
       "A tibble: 2 × 2\n",
       "\n",
       "| raceId &lt;dbl&gt; | n &lt;int&gt; |\n",
       "|---|---|\n",
       "|  955 | 51 |\n",
       "| 1013 | 51 |\n",
       "\n"
      ],
      "text/plain": [
       "  raceId n \n",
       "1  955   51\n",
       "2 1013   51"
      ]
     },
     "metadata": {},
     "output_type": "display_data"
    },
    {
     "name": "stderr",
     "output_type": "stream",
     "text": [
      "`summarise()` ungrouping output (override with `.groups` argument)\n",
      "\n"
     ]
    }
   ],
   "source": [
    "#7. Azerbaijan \n",
    "\n",
    "mv_azerbaijan <- ver_laps %>%\n",
    "                filter(raceId %in% azerbaijan_race_ID) \n",
    "\n",
    "mv_azerbaijan_clean <- mv_azerbaijan %>%\n",
    "                        group_by(raceId) %>%\n",
    "                        summarize(n = n()) %>%\n",
    "                        arrange(desc(n)) %>%\n",
    "                        head(2)\n",
    "mv_azerbaijan_clean\n",
    "mv_azerbaijan_clean_ID <- mv_azerbaijan_clean %>%\n",
    "                        pull(raceId)\n",
    "\n",
    "mv_azerbaijan_races <- ver_laps %>%\n",
    "                    filter(raceId %in% mv_azerbaijan_clean_ID)\n",
    "\n",
    "formulaone_split <- initial_split(aa_bahrain_races, prop = 0.75, strata = milliseconds)\n",
    "\n",
    "initiate_split_data()\n",
    "\n",
    "### RUNS REGRESSION\n",
    "\n",
    "initiate_linear_regression()"
   ]
  },
  {
   "cell_type": "code",
   "execution_count": 44,
   "metadata": {},
   "outputs": [
    {
     "name": "stderr",
     "output_type": "stream",
     "text": [
      "`summarise()` ungrouping output (override with `.groups` argument)\n",
      "\n"
     ]
    },
    {
     "data": {
      "text/html": [
       "<table>\n",
       "<caption>A tibble: 4 × 2</caption>\n",
       "<thead>\n",
       "\t<tr><th scope=col>raceId</th><th scope=col>n</th></tr>\n",
       "\t<tr><th scope=col>&lt;dbl&gt;</th><th scope=col>&lt;int&gt;</th></tr>\n",
       "</thead>\n",
       "<tbody>\n",
       "\t<tr><td> 954</td><td>70</td></tr>\n",
       "\t<tr><td>1016</td><td>70</td></tr>\n",
       "\t<tr><td> 932</td><td>69</td></tr>\n",
       "\t<tr><td> 995</td><td>68</td></tr>\n",
       "</tbody>\n",
       "</table>\n"
      ],
      "text/latex": [
       "A tibble: 4 × 2\n",
       "\\begin{tabular}{ll}\n",
       " raceId & n\\\\\n",
       " <dbl> & <int>\\\\\n",
       "\\hline\n",
       "\t  954 & 70\\\\\n",
       "\t 1016 & 70\\\\\n",
       "\t  932 & 69\\\\\n",
       "\t  995 & 68\\\\\n",
       "\\end{tabular}\n"
      ],
      "text/markdown": [
       "\n",
       "A tibble: 4 × 2\n",
       "\n",
       "| raceId &lt;dbl&gt; | n &lt;int&gt; |\n",
       "|---|---|\n",
       "|  954 | 70 |\n",
       "| 1016 | 70 |\n",
       "|  932 | 69 |\n",
       "|  995 | 68 |\n",
       "\n"
      ],
      "text/plain": [
       "  raceId n \n",
       "1  954   70\n",
       "2 1016   70\n",
       "3  932   69\n",
       "4  995   68"
      ]
     },
     "metadata": {},
     "output_type": "display_data"
    },
    {
     "name": "stderr",
     "output_type": "stream",
     "text": [
      "`summarise()` ungrouping output (override with `.groups` argument)\n",
      "\n"
     ]
    }
   ],
   "source": [
    "#8. Canada \n",
    "\n",
    "mv_canada <- ver_laps %>%\n",
    "                filter(raceId %in% canada_race_ID) \n",
    "\n",
    "mv_canada_clean <- mv_canada %>%\n",
    "                        group_by(raceId) %>%\n",
    "                        summarize(n = n()) %>%\n",
    "                        arrange(desc(n)) %>%\n",
    "                        head(4)\n",
    "mv_canada_clean\n",
    "mv_canada_clean_ID <- mv_canada_clean %>%\n",
    "                        pull(raceId)\n",
    "\n",
    "mv_canada_races <- ver_laps %>%\n",
    "                    filter(raceId %in% mv_canada_clean_ID)\n",
    "\n",
    "formulaone_split <- initial_split(aa_bahrain_races, prop = 0.75, strata = milliseconds)\n",
    "\n",
    "initiate_split_data()\n",
    "\n",
    "### RUNS REGRESSION\n",
    "\n",
    "initiate_linear_regression()"
   ]
  },
  {
   "cell_type": "code",
   "execution_count": 45,
   "metadata": {},
   "outputs": [
    {
     "name": "stderr",
     "output_type": "stream",
     "text": [
      "`summarise()` ungrouping output (override with `.groups` argument)\n",
      "\n"
     ]
    },
    {
     "data": {
      "text/html": [
       "<table>\n",
       "<caption>A tibble: 5 × 2</caption>\n",
       "<thead>\n",
       "\t<tr><th scope=col>raceId</th><th scope=col>n</th></tr>\n",
       "\t<tr><th scope=col>&lt;dbl&gt;</th><th scope=col>&lt;int&gt;</th></tr>\n",
       "</thead>\n",
       "<tbody>\n",
       "\t<tr><td> 957</td><td>52</td></tr>\n",
       "\t<tr><td>1019</td><td>52</td></tr>\n",
       "\t<tr><td>1034</td><td>52</td></tr>\n",
       "\t<tr><td>1035</td><td>52</td></tr>\n",
       "\t<tr><td> 978</td><td>51</td></tr>\n",
       "</tbody>\n",
       "</table>\n"
      ],
      "text/latex": [
       "A tibble: 5 × 2\n",
       "\\begin{tabular}{ll}\n",
       " raceId & n\\\\\n",
       " <dbl> & <int>\\\\\n",
       "\\hline\n",
       "\t  957 & 52\\\\\n",
       "\t 1019 & 52\\\\\n",
       "\t 1034 & 52\\\\\n",
       "\t 1035 & 52\\\\\n",
       "\t  978 & 51\\\\\n",
       "\\end{tabular}\n"
      ],
      "text/markdown": [
       "\n",
       "A tibble: 5 × 2\n",
       "\n",
       "| raceId &lt;dbl&gt; | n &lt;int&gt; |\n",
       "|---|---|\n",
       "|  957 | 52 |\n",
       "| 1019 | 52 |\n",
       "| 1034 | 52 |\n",
       "| 1035 | 52 |\n",
       "|  978 | 51 |\n",
       "\n"
      ],
      "text/plain": [
       "  raceId n \n",
       "1  957   52\n",
       "2 1019   52\n",
       "3 1034   52\n",
       "4 1035   52\n",
       "5  978   51"
      ]
     },
     "metadata": {},
     "output_type": "display_data"
    },
    {
     "name": "stderr",
     "output_type": "stream",
     "text": [
      "`summarise()` ungrouping output (override with `.groups` argument)\n",
      "\n"
     ]
    }
   ],
   "source": [
    "#9. Great Britain \n",
    "\n",
    "mv_uk <- ver_laps %>%\n",
    "                filter(raceId %in% uk_race_ID) \n",
    "\n",
    "mv_uk_clean <- mv_uk %>%\n",
    "                        group_by(raceId) %>%\n",
    "                        summarize(n = n()) %>%\n",
    "                        arrange(desc(n)) %>%\n",
    "                        head(5)\n",
    "mv_uk_clean\n",
    "mv_uk_clean_ID <- mv_uk_clean %>%\n",
    "                        pull(raceId)\n",
    "\n",
    "mv_uk_races <- ver_laps %>%\n",
    "                    filter(raceId %in% mv_uk_clean_ID)\n",
    "\n",
    "formulaone_split <- initial_split(aa_bahrain_races, prop = 0.75, strata = milliseconds)\n",
    "\n",
    "initiate_split_data()\n",
    "\n",
    "### RUNS REGRESSION\n",
    "\n",
    "initiate_linear_regression()"
   ]
  },
  {
   "cell_type": "code",
   "execution_count": 46,
   "metadata": {},
   "outputs": [
    {
     "name": "stderr",
     "output_type": "stream",
     "text": [
      "`summarise()` ungrouping output (override with `.groups` argument)\n",
      "\n"
     ]
    },
    {
     "data": {
      "text/html": [
       "<table>\n",
       "<caption>A tibble: 7 × 2</caption>\n",
       "<thead>\n",
       "\t<tr><th scope=col>raceId</th><th scope=col>n</th></tr>\n",
       "\t<tr><th scope=col>&lt;dbl&gt;</th><th scope=col>&lt;int&gt;</th></tr>\n",
       "</thead>\n",
       "<tbody>\n",
       "\t<tr><td> 956</td><td>71</td></tr>\n",
       "\t<tr><td> 997</td><td>71</td></tr>\n",
       "\t<tr><td>1018</td><td>71</td></tr>\n",
       "\t<tr><td>1032</td><td>71</td></tr>\n",
       "\t<tr><td>1058</td><td>71</td></tr>\n",
       "\t<tr><td>1060</td><td>71</td></tr>\n",
       "\t<tr><td> 933</td><td>70</td></tr>\n",
       "</tbody>\n",
       "</table>\n"
      ],
      "text/latex": [
       "A tibble: 7 × 2\n",
       "\\begin{tabular}{ll}\n",
       " raceId & n\\\\\n",
       " <dbl> & <int>\\\\\n",
       "\\hline\n",
       "\t  956 & 71\\\\\n",
       "\t  997 & 71\\\\\n",
       "\t 1018 & 71\\\\\n",
       "\t 1032 & 71\\\\\n",
       "\t 1058 & 71\\\\\n",
       "\t 1060 & 71\\\\\n",
       "\t  933 & 70\\\\\n",
       "\\end{tabular}\n"
      ],
      "text/markdown": [
       "\n",
       "A tibble: 7 × 2\n",
       "\n",
       "| raceId &lt;dbl&gt; | n &lt;int&gt; |\n",
       "|---|---|\n",
       "|  956 | 71 |\n",
       "|  997 | 71 |\n",
       "| 1018 | 71 |\n",
       "| 1032 | 71 |\n",
       "| 1058 | 71 |\n",
       "| 1060 | 71 |\n",
       "|  933 | 70 |\n",
       "\n"
      ],
      "text/plain": [
       "  raceId n \n",
       "1  956   71\n",
       "2  997   71\n",
       "3 1018   71\n",
       "4 1032   71\n",
       "5 1058   71\n",
       "6 1060   71\n",
       "7  933   70"
      ]
     },
     "metadata": {},
     "output_type": "display_data"
    },
    {
     "name": "stderr",
     "output_type": "stream",
     "text": [
      "`summarise()` ungrouping output (override with `.groups` argument)\n",
      "\n"
     ]
    }
   ],
   "source": [
    "#10. Austria \n",
    "\n",
    "mv_austria <- ver_laps %>%\n",
    "                filter(raceId %in% austria_race_ID) \n",
    "\n",
    "mv_austria_clean <- mv_austria %>%\n",
    "                        group_by(raceId) %>%\n",
    "                        summarize(n = n()) %>%\n",
    "                        arrange(desc(n)) %>%\n",
    "                        head(7)\n",
    "mv_austria_clean\n",
    "mv_austria_clean_ID <- mv_austria_clean %>%\n",
    "                        pull(raceId)\n",
    "\n",
    "mv_austria_races <- ver_laps %>%\n",
    "                    filter(raceId %in% mv_austria_clean_ID)\n",
    "\n",
    "formulaone_split <- initial_split(aa_bahrain_races, prop = 0.75, strata = milliseconds)\n",
    "\n",
    "initiate_split_data()\n",
    "\n",
    "### RUNS REGRESSION\n",
    "\n",
    "initiate_linear_regression()"
   ]
  },
  {
   "cell_type": "code",
   "execution_count": 47,
   "metadata": {},
   "outputs": [
    {
     "name": "stderr",
     "output_type": "stream",
     "text": [
      "`summarise()` ungrouping output (override with `.groups` argument)\n",
      "\n"
     ]
    },
    {
     "data": {
      "text/html": [
       "<table>\n",
       "<caption>A tibble: 3 × 2</caption>\n",
       "<thead>\n",
       "\t<tr><th scope=col>raceId</th><th scope=col>n</th></tr>\n",
       "\t<tr><th scope=col>&lt;dbl&gt;</th><th scope=col>&lt;int&gt;</th></tr>\n",
       "</thead>\n",
       "<tbody>\n",
       "\t<tr><td> 996</td><td>53</td></tr>\n",
       "\t<tr><td>1017</td><td>53</td></tr>\n",
       "\t<tr><td>1059</td><td>53</td></tr>\n",
       "</tbody>\n",
       "</table>\n"
      ],
      "text/latex": [
       "A tibble: 3 × 2\n",
       "\\begin{tabular}{ll}\n",
       " raceId & n\\\\\n",
       " <dbl> & <int>\\\\\n",
       "\\hline\n",
       "\t  996 & 53\\\\\n",
       "\t 1017 & 53\\\\\n",
       "\t 1059 & 53\\\\\n",
       "\\end{tabular}\n"
      ],
      "text/markdown": [
       "\n",
       "A tibble: 3 × 2\n",
       "\n",
       "| raceId &lt;dbl&gt; | n &lt;int&gt; |\n",
       "|---|---|\n",
       "|  996 | 53 |\n",
       "| 1017 | 53 |\n",
       "| 1059 | 53 |\n",
       "\n"
      ],
      "text/plain": [
       "  raceId n \n",
       "1  996   53\n",
       "2 1017   53\n",
       "3 1059   53"
      ]
     },
     "metadata": {},
     "output_type": "display_data"
    },
    {
     "name": "stderr",
     "output_type": "stream",
     "text": [
      "`summarise()` ungrouping output (override with `.groups` argument)\n",
      "\n"
     ]
    }
   ],
   "source": [
    "#11. France \n",
    "\n",
    "mv_france <- ver_laps %>%\n",
    "                filter(raceId %in% france_race_ID) \n",
    "\n",
    "mv_france_clean <- mv_france %>%\n",
    "                        group_by(raceId) %>%\n",
    "                        summarize(n = n()) %>%\n",
    "                        arrange(desc(n)) \n",
    "mv_france_clean\n",
    "mv_france_clean_ID <- mv_france_clean %>%\n",
    "                        pull(raceId)\n",
    "\n",
    "mv_france_races <- ver_laps %>%\n",
    "                    filter(raceId %in% mv_france_clean_ID)\n",
    "\n",
    "formulaone_split <- initial_split(aa_bahrain_races, prop = 0.75, strata = milliseconds)\n",
    "\n",
    "initiate_split_data()\n",
    "\n",
    "### RUNS REGRESSION\n",
    "\n",
    "initiate_linear_regression()"
   ]
  },
  {
   "cell_type": "code",
   "execution_count": 48,
   "metadata": {},
   "outputs": [
    {
     "name": "stderr",
     "output_type": "stream",
     "text": [
      "`summarise()` ungrouping output (override with `.groups` argument)\n",
      "\n"
     ]
    },
    {
     "data": {
      "text/html": [
       "<table>\n",
       "<caption>A tibble: 6 × 2</caption>\n",
       "<thead>\n",
       "\t<tr><th scope=col>raceId</th><th scope=col>n</th></tr>\n",
       "\t<tr><th scope=col>&lt;dbl&gt;</th><th scope=col>&lt;int&gt;</th></tr>\n",
       "</thead>\n",
       "<tbody>\n",
       "\t<tr><td> 958</td><td>70</td></tr>\n",
       "\t<tr><td> 979</td><td>70</td></tr>\n",
       "\t<tr><td>1021</td><td>70</td></tr>\n",
       "\t<tr><td>1033</td><td>70</td></tr>\n",
       "\t<tr><td>1062</td><td>70</td></tr>\n",
       "\t<tr><td> 936</td><td>69</td></tr>\n",
       "</tbody>\n",
       "</table>\n"
      ],
      "text/latex": [
       "A tibble: 6 × 2\n",
       "\\begin{tabular}{ll}\n",
       " raceId & n\\\\\n",
       " <dbl> & <int>\\\\\n",
       "\\hline\n",
       "\t  958 & 70\\\\\n",
       "\t  979 & 70\\\\\n",
       "\t 1021 & 70\\\\\n",
       "\t 1033 & 70\\\\\n",
       "\t 1062 & 70\\\\\n",
       "\t  936 & 69\\\\\n",
       "\\end{tabular}\n"
      ],
      "text/markdown": [
       "\n",
       "A tibble: 6 × 2\n",
       "\n",
       "| raceId &lt;dbl&gt; | n &lt;int&gt; |\n",
       "|---|---|\n",
       "|  958 | 70 |\n",
       "|  979 | 70 |\n",
       "| 1021 | 70 |\n",
       "| 1033 | 70 |\n",
       "| 1062 | 70 |\n",
       "|  936 | 69 |\n",
       "\n"
      ],
      "text/plain": [
       "  raceId n \n",
       "1  958   70\n",
       "2  979   70\n",
       "3 1021   70\n",
       "4 1033   70\n",
       "5 1062   70\n",
       "6  936   69"
      ]
     },
     "metadata": {},
     "output_type": "display_data"
    },
    {
     "name": "stderr",
     "output_type": "stream",
     "text": [
      "`summarise()` ungrouping output (override with `.groups` argument)\n",
      "\n"
     ]
    }
   ],
   "source": [
    "#12. Hungary \n",
    "\n",
    "mv_hungary <- ver_laps %>%\n",
    "                filter(raceId %in% hungary_race_ID) \n",
    "\n",
    "mv_hungary_clean <- mv_hungary %>%\n",
    "                        group_by(raceId) %>%\n",
    "                        summarize(n = n()) %>%\n",
    "                        arrange(desc(n)) %>%\n",
    "                        head(6)\n",
    "mv_hungary_clean\n",
    "mv_hungary_clean_ID <- mv_hungary_clean %>%\n",
    "                        pull(raceId)\n",
    "\n",
    "mv_hungary_races <- ver_laps %>%\n",
    "                    filter(raceId %in% mv_hungary_clean_ID)\n",
    "\n",
    "formulaone_split <- initial_split(aa_bahrain_races, prop = 0.75, strata = milliseconds)\n",
    "\n",
    "initiate_split_data()\n",
    "\n",
    "### RUNS REGRESSION\n",
    "\n",
    "initiate_linear_regression()"
   ]
  },
  {
   "cell_type": "code",
   "execution_count": 49,
   "metadata": {},
   "outputs": [
    {
     "name": "stderr",
     "output_type": "stream",
     "text": [
      "`summarise()` ungrouping output (override with `.groups` argument)\n",
      "\n"
     ]
    },
    {
     "data": {
      "text/html": [
       "<table>\n",
       "<caption>A tibble: 4 × 2</caption>\n",
       "<thead>\n",
       "\t<tr><th scope=col>raceId</th><th scope=col>n</th></tr>\n",
       "\t<tr><th scope=col>&lt;dbl&gt;</th><th scope=col>&lt;int&gt;</th></tr>\n",
       "</thead>\n",
       "<tbody>\n",
       "\t<tr><td> 960</td><td>44</td></tr>\n",
       "\t<tr><td>1001</td><td>44</td></tr>\n",
       "\t<tr><td>1037</td><td>44</td></tr>\n",
       "\t<tr><td> 937</td><td>43</td></tr>\n",
       "</tbody>\n",
       "</table>\n"
      ],
      "text/latex": [
       "A tibble: 4 × 2\n",
       "\\begin{tabular}{ll}\n",
       " raceId & n\\\\\n",
       " <dbl> & <int>\\\\\n",
       "\\hline\n",
       "\t  960 & 44\\\\\n",
       "\t 1001 & 44\\\\\n",
       "\t 1037 & 44\\\\\n",
       "\t  937 & 43\\\\\n",
       "\\end{tabular}\n"
      ],
      "text/markdown": [
       "\n",
       "A tibble: 4 × 2\n",
       "\n",
       "| raceId &lt;dbl&gt; | n &lt;int&gt; |\n",
       "|---|---|\n",
       "|  960 | 44 |\n",
       "| 1001 | 44 |\n",
       "| 1037 | 44 |\n",
       "|  937 | 43 |\n",
       "\n"
      ],
      "text/plain": [
       "  raceId n \n",
       "1  960   44\n",
       "2 1001   44\n",
       "3 1037   44\n",
       "4  937   43"
      ]
     },
     "metadata": {},
     "output_type": "display_data"
    },
    {
     "name": "stderr",
     "output_type": "stream",
     "text": [
      "`summarise()` ungrouping output (override with `.groups` argument)\n",
      "\n"
     ]
    }
   ],
   "source": [
    "#13. Belgium \n",
    "\n",
    "mv_belgium <- ver_laps %>%\n",
    "                filter(raceId %in% belgium_race_ID) \n",
    "\n",
    "mv_belgium_clean <- mv_belgium %>%\n",
    "                        group_by(raceId) %>%\n",
    "                        summarize(n = n()) %>%\n",
    "                        arrange(desc(n)) %>%\n",
    "                        head(4)\n",
    "mv_belgium_clean\n",
    "mv_belgium_clean_ID <- mv_belgium_clean %>%\n",
    "                        pull(raceId)\n",
    "\n",
    "mv_belgium_races <- ver_laps %>%\n",
    "                    filter(raceId %in% mv_belgium_clean_ID)\n",
    "\n",
    "formulaone_split <- initial_split(aa_bahrain_races, prop = 0.75, strata = milliseconds)\n",
    "\n",
    "initiate_split_data()\n",
    "\n",
    "### RUNS REGRESSION\n",
    "\n",
    "initiate_linear_regression()"
   ]
  },
  {
   "cell_type": "code",
   "execution_count": 50,
   "metadata": {},
   "outputs": [
    {
     "name": "stderr",
     "output_type": "stream",
     "text": [
      "`summarise()` ungrouping output (override with `.groups` argument)\n",
      "\n"
     ]
    },
    {
     "data": {
      "text/html": [
       "<table>\n",
       "<caption>A tibble: 1 × 2</caption>\n",
       "<thead>\n",
       "\t<tr><th scope=col>raceId</th><th scope=col>n</th></tr>\n",
       "\t<tr><th scope=col>&lt;dbl&gt;</th><th scope=col>&lt;int&gt;</th></tr>\n",
       "</thead>\n",
       "<tbody>\n",
       "\t<tr><td>1064</td><td>72</td></tr>\n",
       "</tbody>\n",
       "</table>\n"
      ],
      "text/latex": [
       "A tibble: 1 × 2\n",
       "\\begin{tabular}{ll}\n",
       " raceId & n\\\\\n",
       " <dbl> & <int>\\\\\n",
       "\\hline\n",
       "\t 1064 & 72\\\\\n",
       "\\end{tabular}\n"
      ],
      "text/markdown": [
       "\n",
       "A tibble: 1 × 2\n",
       "\n",
       "| raceId &lt;dbl&gt; | n &lt;int&gt; |\n",
       "|---|---|\n",
       "| 1064 | 72 |\n",
       "\n"
      ],
      "text/plain": [
       "  raceId n \n",
       "1 1064   72"
      ]
     },
     "metadata": {},
     "output_type": "display_data"
    },
    {
     "name": "stderr",
     "output_type": "stream",
     "text": [
      "Warning message:\n",
      "“The number of observations in each quantile is below the recommended threshold of 20. Stratification will be done with 3 breaks instead.”\n",
      "`summarise()` ungrouping output (override with `.groups` argument)\n",
      "\n"
     ]
    }
   ],
   "source": [
    "#14. Netherlands \n",
    "\n",
    "mv_netherlands <- ver_laps %>%\n",
    "                filter(raceId %in% netherlands_race_ID) \n",
    "\n",
    "mv_netherlands_clean <- mv_netherlands %>%\n",
    "                        group_by(raceId) %>%\n",
    "                        summarize(n = n()) %>%\n",
    "                        arrange(desc(n)) \n",
    "mv_netherlands_clean\n",
    "mv_netherlands_clean_ID <- mv_netherlands_clean %>%\n",
    "                        pull(raceId)\n",
    "\n",
    "mv_netherlands_races <- ver_laps %>%\n",
    "                    filter(raceId %in% mv_netherlands_clean_ID)\n",
    "\n",
    "formulaone_split <- initial_split(aa_bahrain_races, prop = 0.75, strata = milliseconds)\n",
    "\n",
    "initiate_split_data()\n",
    "\n",
    "### RUNS REGRESSION\n",
    "\n",
    "initiate_linear_regression()"
   ]
  },
  {
   "cell_type": "code",
   "execution_count": 51,
   "metadata": {},
   "outputs": [
    {
     "name": "stderr",
     "output_type": "stream",
     "text": [
      "`summarise()` ungrouping output (override with `.groups` argument)\n",
      "\n"
     ]
    },
    {
     "data": {
      "text/html": [
       "<table>\n",
       "<caption>A tibble: 5 × 2</caption>\n",
       "<thead>\n",
       "\t<tr><th scope=col>raceId</th><th scope=col>n</th></tr>\n",
       "\t<tr><th scope=col>&lt;dbl&gt;</th><th scope=col>&lt;int&gt;</th></tr>\n",
       "</thead>\n",
       "<tbody>\n",
       "\t<tr><td> 961</td><td>53</td></tr>\n",
       "\t<tr><td>1002</td><td>53</td></tr>\n",
       "\t<tr><td>1023</td><td>53</td></tr>\n",
       "\t<tr><td> 938</td><td>52</td></tr>\n",
       "\t<tr><td> 981</td><td>52</td></tr>\n",
       "</tbody>\n",
       "</table>\n"
      ],
      "text/latex": [
       "A tibble: 5 × 2\n",
       "\\begin{tabular}{ll}\n",
       " raceId & n\\\\\n",
       " <dbl> & <int>\\\\\n",
       "\\hline\n",
       "\t  961 & 53\\\\\n",
       "\t 1002 & 53\\\\\n",
       "\t 1023 & 53\\\\\n",
       "\t  938 & 52\\\\\n",
       "\t  981 & 52\\\\\n",
       "\\end{tabular}\n"
      ],
      "text/markdown": [
       "\n",
       "A tibble: 5 × 2\n",
       "\n",
       "| raceId &lt;dbl&gt; | n &lt;int&gt; |\n",
       "|---|---|\n",
       "|  961 | 53 |\n",
       "| 1002 | 53 |\n",
       "| 1023 | 53 |\n",
       "|  938 | 52 |\n",
       "|  981 | 52 |\n",
       "\n"
      ],
      "text/plain": [
       "  raceId n \n",
       "1  961   53\n",
       "2 1002   53\n",
       "3 1023   53\n",
       "4  938   52\n",
       "5  981   52"
      ]
     },
     "metadata": {},
     "output_type": "display_data"
    },
    {
     "name": "stderr",
     "output_type": "stream",
     "text": [
      "`summarise()` ungrouping output (override with `.groups` argument)\n",
      "\n"
     ]
    }
   ],
   "source": [
    "#15. Monza, Italy \n",
    "\n",
    "mv_monza <- ver_laps %>%\n",
    "                filter(raceId %in% monza_race_ID) \n",
    "\n",
    "mv_monza_clean <- mv_monza %>%\n",
    "                        group_by(raceId) %>%\n",
    "                        summarize(n = n()) %>%\n",
    "                        arrange(desc(n)) %>%\n",
    "                        head(5)\n",
    "mv_monza_clean\n",
    "mv_monza_clean_ID <- mv_monza_clean %>%\n",
    "                        pull(raceId)\n",
    "\n",
    "mv_monza_races <- ver_laps %>%\n",
    "                    filter(raceId %in% mv_monza_clean_ID)\n",
    "\n",
    "formulaone_split <- initial_split(aa_bahrain_races, prop = 0.75, strata = milliseconds)\n",
    "\n",
    "initiate_split_data()\n",
    "\n",
    "### RUNS REGRESSION\n",
    "\n",
    "initiate_linear_regression()"
   ]
  },
  {
   "cell_type": "code",
   "execution_count": 52,
   "metadata": {},
   "outputs": [
    {
     "name": "stderr",
     "output_type": "stream",
     "text": [
      "`summarise()` ungrouping output (override with `.groups` argument)\n",
      "\n"
     ]
    },
    {
     "data": {
      "text/html": [
       "<table>\n",
       "<caption>A tibble: 4 × 2</caption>\n",
       "<thead>\n",
       "\t<tr><th scope=col>raceId</th><th scope=col>n</th></tr>\n",
       "\t<tr><th scope=col>&lt;dbl&gt;</th><th scope=col>&lt;int&gt;</th></tr>\n",
       "</thead>\n",
       "<tbody>\n",
       "\t<tr><td> 939</td><td>61</td></tr>\n",
       "\t<tr><td> 962</td><td>61</td></tr>\n",
       "\t<tr><td>1003</td><td>61</td></tr>\n",
       "\t<tr><td>1024</td><td>61</td></tr>\n",
       "</tbody>\n",
       "</table>\n"
      ],
      "text/latex": [
       "A tibble: 4 × 2\n",
       "\\begin{tabular}{ll}\n",
       " raceId & n\\\\\n",
       " <dbl> & <int>\\\\\n",
       "\\hline\n",
       "\t  939 & 61\\\\\n",
       "\t  962 & 61\\\\\n",
       "\t 1003 & 61\\\\\n",
       "\t 1024 & 61\\\\\n",
       "\\end{tabular}\n"
      ],
      "text/markdown": [
       "\n",
       "A tibble: 4 × 2\n",
       "\n",
       "| raceId &lt;dbl&gt; | n &lt;int&gt; |\n",
       "|---|---|\n",
       "|  939 | 61 |\n",
       "|  962 | 61 |\n",
       "| 1003 | 61 |\n",
       "| 1024 | 61 |\n",
       "\n"
      ],
      "text/plain": [
       "  raceId n \n",
       "1  939   61\n",
       "2  962   61\n",
       "3 1003   61\n",
       "4 1024   61"
      ]
     },
     "metadata": {},
     "output_type": "display_data"
    },
    {
     "name": "stderr",
     "output_type": "stream",
     "text": [
      "`summarise()` ungrouping output (override with `.groups` argument)\n",
      "\n"
     ]
    }
   ],
   "source": [
    "#16. Singapore \n",
    "\n",
    "mv_singapore <- ver_laps %>%\n",
    "                filter(raceId %in% singapore_race_ID) \n",
    "\n",
    "mv_singapore_clean <- mv_singapore %>%\n",
    "                        group_by(raceId) %>%\n",
    "                        summarize(n = n()) %>%\n",
    "                        arrange(desc(n)) \n",
    "mv_singapore_clean\n",
    "mv_singapore_clean_ID <- mv_singapore_clean %>%\n",
    "                        pull(raceId)\n",
    "\n",
    "mv_singapore_races <- ver_laps %>%\n",
    "                    filter(raceId %in% mv_singapore_clean_ID)\n",
    "\n",
    "formulaone_split <- initial_split(aa_bahrain_races, prop = 0.75, strata = milliseconds)\n",
    "\n",
    "initiate_split_data()\n",
    "\n",
    "### RUNS REGRESSION\n",
    "\n",
    "initiate_linear_regression()"
   ]
  },
  {
   "cell_type": "code",
   "execution_count": 53,
   "metadata": {},
   "outputs": [
    {
     "name": "stderr",
     "output_type": "stream",
     "text": [
      "`summarise()` ungrouping output (override with `.groups` argument)\n",
      "\n"
     ]
    },
    {
     "data": {
      "text/html": [
       "<table>\n",
       "<caption>A tibble: 4 × 2</caption>\n",
       "<thead>\n",
       "\t<tr><th scope=col>raceId</th><th scope=col>n</th></tr>\n",
       "\t<tr><th scope=col>&lt;dbl&gt;</th><th scope=col>&lt;int&gt;</th></tr>\n",
       "</thead>\n",
       "<tbody>\n",
       "\t<tr><td> 940</td><td>53</td></tr>\n",
       "\t<tr><td> 964</td><td>53</td></tr>\n",
       "\t<tr><td> 984</td><td>53</td></tr>\n",
       "\t<tr><td>1005</td><td>53</td></tr>\n",
       "</tbody>\n",
       "</table>\n"
      ],
      "text/latex": [
       "A tibble: 4 × 2\n",
       "\\begin{tabular}{ll}\n",
       " raceId & n\\\\\n",
       " <dbl> & <int>\\\\\n",
       "\\hline\n",
       "\t  940 & 53\\\\\n",
       "\t  964 & 53\\\\\n",
       "\t  984 & 53\\\\\n",
       "\t 1005 & 53\\\\\n",
       "\\end{tabular}\n"
      ],
      "text/markdown": [
       "\n",
       "A tibble: 4 × 2\n",
       "\n",
       "| raceId &lt;dbl&gt; | n &lt;int&gt; |\n",
       "|---|---|\n",
       "|  940 | 53 |\n",
       "|  964 | 53 |\n",
       "|  984 | 53 |\n",
       "| 1005 | 53 |\n",
       "\n"
      ],
      "text/plain": [
       "  raceId n \n",
       "1  940   53\n",
       "2  964   53\n",
       "3  984   53\n",
       "4 1005   53"
      ]
     },
     "metadata": {},
     "output_type": "display_data"
    },
    {
     "name": "stderr",
     "output_type": "stream",
     "text": [
      "`summarise()` ungrouping output (override with `.groups` argument)\n",
      "\n"
     ]
    }
   ],
   "source": [
    "#17. Japan \n",
    "\n",
    "mv_japan <- ver_laps %>%\n",
    "                filter(raceId %in% japan_race_ID) \n",
    "\n",
    "mv_japan_clean <- mv_japan %>%\n",
    "                        group_by(raceId) %>%\n",
    "                        summarize(n = n()) %>%\n",
    "                        arrange(desc(n)) %>%\n",
    "                        head(4)\n",
    "mv_japan_clean\n",
    "mv_japan_clean_ID <- mv_japan_clean %>%\n",
    "                        pull(raceId)\n",
    "\n",
    "mv_japan_races <- ver_laps %>%\n",
    "                    filter(raceId %in% mv_japan_clean_ID)\n",
    "\n",
    "formulaone_split <- initial_split(aa_bahrain_races, prop = 0.75, strata = milliseconds)\n",
    "\n",
    "initiate_split_data()\n",
    "\n",
    "### RUNS REGRESSION\n",
    "\n",
    "initiate_linear_regression()"
   ]
  },
  {
   "cell_type": "code",
   "execution_count": 54,
   "metadata": {},
   "outputs": [
    {
     "name": "stderr",
     "output_type": "stream",
     "text": [
      "`summarise()` ungrouping output (override with `.groups` argument)\n",
      "\n"
     ]
    },
    {
     "data": {
      "text/html": [
       "<table>\n",
       "<caption>A tibble: 5 × 2</caption>\n",
       "<thead>\n",
       "\t<tr><th scope=col>raceId</th><th scope=col>n</th></tr>\n",
       "\t<tr><th scope=col>&lt;dbl&gt;</th><th scope=col>&lt;int&gt;</th></tr>\n",
       "</thead>\n",
       "<tbody>\n",
       "\t<tr><td> 942</td><td>56</td></tr>\n",
       "\t<tr><td> 985</td><td>56</td></tr>\n",
       "\t<tr><td>1006</td><td>56</td></tr>\n",
       "\t<tr><td>1028</td><td>56</td></tr>\n",
       "\t<tr><td>1069</td><td>56</td></tr>\n",
       "</tbody>\n",
       "</table>\n"
      ],
      "text/latex": [
       "A tibble: 5 × 2\n",
       "\\begin{tabular}{ll}\n",
       " raceId & n\\\\\n",
       " <dbl> & <int>\\\\\n",
       "\\hline\n",
       "\t  942 & 56\\\\\n",
       "\t  985 & 56\\\\\n",
       "\t 1006 & 56\\\\\n",
       "\t 1028 & 56\\\\\n",
       "\t 1069 & 56\\\\\n",
       "\\end{tabular}\n"
      ],
      "text/markdown": [
       "\n",
       "A tibble: 5 × 2\n",
       "\n",
       "| raceId &lt;dbl&gt; | n &lt;int&gt; |\n",
       "|---|---|\n",
       "|  942 | 56 |\n",
       "|  985 | 56 |\n",
       "| 1006 | 56 |\n",
       "| 1028 | 56 |\n",
       "| 1069 | 56 |\n",
       "\n"
      ],
      "text/plain": [
       "  raceId n \n",
       "1  942   56\n",
       "2  985   56\n",
       "3 1006   56\n",
       "4 1028   56\n",
       "5 1069   56"
      ]
     },
     "metadata": {},
     "output_type": "display_data"
    },
    {
     "name": "stderr",
     "output_type": "stream",
     "text": [
      "`summarise()` ungrouping output (override with `.groups` argument)\n",
      "\n"
     ]
    }
   ],
   "source": [
    "#18. Austin, USA\n",
    "\n",
    "mv_austin <- ver_laps %>%\n",
    "                filter(raceId %in% austin_race_ID) \n",
    "\n",
    "mv_austin_clean <- mv_austin %>%\n",
    "                        group_by(raceId) %>%\n",
    "                        summarize(n = n()) %>%\n",
    "                        arrange(desc(n))  %>%\n",
    "                        head(5)\n",
    "mv_austin_clean\n",
    "mv_austin_clean_ID <- mv_austin_clean %>%\n",
    "                        pull(raceId)\n",
    "\n",
    "mv_austin_races <- ver_laps %>%\n",
    "                    filter(raceId %in% mv_austin_clean_ID)\n",
    "\n",
    "formulaone_split <- initial_split(aa_bahrain_races, prop = 0.75, strata = milliseconds)\n",
    "\n",
    "initiate_split_data()\n",
    "\n",
    "### RUNS REGRESSION\n",
    "\n",
    "initiate_linear_regression()"
   ]
  },
  {
   "cell_type": "code",
   "execution_count": 55,
   "metadata": {},
   "outputs": [
    {
     "name": "stderr",
     "output_type": "stream",
     "text": [
      "`summarise()` ungrouping output (override with `.groups` argument)\n",
      "\n"
     ]
    },
    {
     "data": {
      "text/html": [
       "<table>\n",
       "<caption>A tibble: 6 × 2</caption>\n",
       "<thead>\n",
       "\t<tr><th scope=col>raceId</th><th scope=col>n</th></tr>\n",
       "\t<tr><th scope=col>&lt;dbl&gt;</th><th scope=col>&lt;int&gt;</th></tr>\n",
       "</thead>\n",
       "<tbody>\n",
       "\t<tr><td> 943</td><td>71</td></tr>\n",
       "\t<tr><td> 966</td><td>71</td></tr>\n",
       "\t<tr><td> 986</td><td>71</td></tr>\n",
       "\t<tr><td>1007</td><td>71</td></tr>\n",
       "\t<tr><td>1027</td><td>71</td></tr>\n",
       "\t<tr><td>1070</td><td>71</td></tr>\n",
       "</tbody>\n",
       "</table>\n"
      ],
      "text/latex": [
       "A tibble: 6 × 2\n",
       "\\begin{tabular}{ll}\n",
       " raceId & n\\\\\n",
       " <dbl> & <int>\\\\\n",
       "\\hline\n",
       "\t  943 & 71\\\\\n",
       "\t  966 & 71\\\\\n",
       "\t  986 & 71\\\\\n",
       "\t 1007 & 71\\\\\n",
       "\t 1027 & 71\\\\\n",
       "\t 1070 & 71\\\\\n",
       "\\end{tabular}\n"
      ],
      "text/markdown": [
       "\n",
       "A tibble: 6 × 2\n",
       "\n",
       "| raceId &lt;dbl&gt; | n &lt;int&gt; |\n",
       "|---|---|\n",
       "|  943 | 71 |\n",
       "|  966 | 71 |\n",
       "|  986 | 71 |\n",
       "| 1007 | 71 |\n",
       "| 1027 | 71 |\n",
       "| 1070 | 71 |\n",
       "\n"
      ],
      "text/plain": [
       "  raceId n \n",
       "1  943   71\n",
       "2  966   71\n",
       "3  986   71\n",
       "4 1007   71\n",
       "5 1027   71\n",
       "6 1070   71"
      ]
     },
     "metadata": {},
     "output_type": "display_data"
    },
    {
     "name": "stderr",
     "output_type": "stream",
     "text": [
      "`summarise()` ungrouping output (override with `.groups` argument)\n",
      "\n"
     ]
    }
   ],
   "source": [
    "#19. Mexico \n",
    "\n",
    "mv_mexico <- ver_laps %>%\n",
    "                filter(raceId %in% mexico_race_ID) \n",
    "\n",
    "mv_mexico_clean <- mv_mexico %>%\n",
    "                        group_by(raceId) %>%\n",
    "                        summarize(n = n()) %>%\n",
    "                        arrange(desc(n)) \n",
    "mv_mexico_clean\n",
    "mv_mexico_clean_ID <- mv_mexico_clean %>%\n",
    "                        pull(raceId)\n",
    "\n",
    "mv_mexico_races <- ver_laps %>%\n",
    "                    filter(raceId %in% mv_mexico_clean_ID)\n",
    "\n",
    "formulaone_split <- initial_split(aa_bahrain_races, prop = 0.75, strata = milliseconds)\n",
    "\n",
    "initiate_split_data()\n",
    "\n",
    "### RUNS REGRESSION\n",
    "\n",
    "initiate_linear_regression()"
   ]
  },
  {
   "cell_type": "code",
   "execution_count": 56,
   "metadata": {},
   "outputs": [
    {
     "name": "stderr",
     "output_type": "stream",
     "text": [
      "`summarise()` ungrouping output (override with `.groups` argument)\n",
      "\n"
     ]
    },
    {
     "data": {
      "text/html": [
       "<table>\n",
       "<caption>A tibble: 6 × 2</caption>\n",
       "<thead>\n",
       "\t<tr><th scope=col>raceId</th><th scope=col>n</th></tr>\n",
       "\t<tr><th scope=col>&lt;dbl&gt;</th><th scope=col>&lt;int&gt;</th></tr>\n",
       "</thead>\n",
       "<tbody>\n",
       "\t<tr><td> 967</td><td>71</td></tr>\n",
       "\t<tr><td> 987</td><td>71</td></tr>\n",
       "\t<tr><td>1008</td><td>71</td></tr>\n",
       "\t<tr><td>1029</td><td>71</td></tr>\n",
       "\t<tr><td>1071</td><td>71</td></tr>\n",
       "\t<tr><td> 944</td><td>70</td></tr>\n",
       "</tbody>\n",
       "</table>\n"
      ],
      "text/latex": [
       "A tibble: 6 × 2\n",
       "\\begin{tabular}{ll}\n",
       " raceId & n\\\\\n",
       " <dbl> & <int>\\\\\n",
       "\\hline\n",
       "\t  967 & 71\\\\\n",
       "\t  987 & 71\\\\\n",
       "\t 1008 & 71\\\\\n",
       "\t 1029 & 71\\\\\n",
       "\t 1071 & 71\\\\\n",
       "\t  944 & 70\\\\\n",
       "\\end{tabular}\n"
      ],
      "text/markdown": [
       "\n",
       "A tibble: 6 × 2\n",
       "\n",
       "| raceId &lt;dbl&gt; | n &lt;int&gt; |\n",
       "|---|---|\n",
       "|  967 | 71 |\n",
       "|  987 | 71 |\n",
       "| 1008 | 71 |\n",
       "| 1029 | 71 |\n",
       "| 1071 | 71 |\n",
       "|  944 | 70 |\n",
       "\n"
      ],
      "text/plain": [
       "  raceId n \n",
       "1  967   71\n",
       "2  987   71\n",
       "3 1008   71\n",
       "4 1029   71\n",
       "5 1071   71\n",
       "6  944   70"
      ]
     },
     "metadata": {},
     "output_type": "display_data"
    },
    {
     "name": "stderr",
     "output_type": "stream",
     "text": [
      "`summarise()` ungrouping output (override with `.groups` argument)\n",
      "\n"
     ]
    }
   ],
   "source": [
    "#20. Brazil \n",
    "\n",
    "mv_brazil <- ver_laps %>%\n",
    "                filter(raceId %in% brazil_race_ID) \n",
    "\n",
    "mv_brazil_clean <- mv_brazil %>%\n",
    "                        group_by(raceId) %>%\n",
    "                        summarize(n = n()) %>%\n",
    "                        arrange(desc(n)) \n",
    "mv_brazil_clean\n",
    "mv_brazil_clean_ID <- mv_brazil_clean %>%\n",
    "                        pull(raceId)\n",
    "\n",
    "mv_brazil_races <- ver_laps %>%\n",
    "                    filter(raceId %in% mv_brazil_clean_ID)\n",
    "\n",
    "formulaone_split <- initial_split(aa_bahrain_races, prop = 0.75, strata = milliseconds)\n",
    "\n",
    "initiate_split_data()\n",
    "\n",
    "### RUNS REGRESSION\n",
    "\n",
    "initiate_linear_regression()"
   ]
  },
  {
   "cell_type": "code",
   "execution_count": 57,
   "metadata": {},
   "outputs": [
    {
     "name": "stderr",
     "output_type": "stream",
     "text": [
      "`summarise()` ungrouping output (override with `.groups` argument)\n",
      "\n"
     ]
    },
    {
     "data": {
      "text/html": [
       "<table>\n",
       "<caption>A tibble: 5 × 2</caption>\n",
       "<thead>\n",
       "\t<tr><th scope=col>raceId</th><th scope=col>n</th></tr>\n",
       "\t<tr><th scope=col>&lt;dbl&gt;</th><th scope=col>&lt;int&gt;</th></tr>\n",
       "</thead>\n",
       "<tbody>\n",
       "\t<tr><td> 968</td><td>55</td></tr>\n",
       "\t<tr><td> 988</td><td>55</td></tr>\n",
       "\t<tr><td>1009</td><td>55</td></tr>\n",
       "\t<tr><td>1030</td><td>55</td></tr>\n",
       "\t<tr><td>1047</td><td>55</td></tr>\n",
       "</tbody>\n",
       "</table>\n"
      ],
      "text/latex": [
       "A tibble: 5 × 2\n",
       "\\begin{tabular}{ll}\n",
       " raceId & n\\\\\n",
       " <dbl> & <int>\\\\\n",
       "\\hline\n",
       "\t  968 & 55\\\\\n",
       "\t  988 & 55\\\\\n",
       "\t 1009 & 55\\\\\n",
       "\t 1030 & 55\\\\\n",
       "\t 1047 & 55\\\\\n",
       "\\end{tabular}\n"
      ],
      "text/markdown": [
       "\n",
       "A tibble: 5 × 2\n",
       "\n",
       "| raceId &lt;dbl&gt; | n &lt;int&gt; |\n",
       "|---|---|\n",
       "|  968 | 55 |\n",
       "|  988 | 55 |\n",
       "| 1009 | 55 |\n",
       "| 1030 | 55 |\n",
       "| 1047 | 55 |\n",
       "\n"
      ],
      "text/plain": [
       "  raceId n \n",
       "1  968   55\n",
       "2  988   55\n",
       "3 1009   55\n",
       "4 1030   55\n",
       "5 1047   55"
      ]
     },
     "metadata": {},
     "output_type": "display_data"
    },
    {
     "name": "stderr",
     "output_type": "stream",
     "text": [
      "`summarise()` ungrouping output (override with `.groups` argument)\n",
      "\n"
     ]
    }
   ],
   "source": [
    "#21. Abu Dhabi \n",
    "\n",
    "mv_uae <- ver_laps %>%\n",
    "                filter(raceId %in% uae_race_ID) \n",
    "\n",
    "mv_uae_clean <- mv_uae %>%\n",
    "                        group_by(raceId) %>%\n",
    "                        summarize(n = n()) %>%\n",
    "                        arrange(desc(n)) %>%\n",
    "                        filter(n == 55)\n",
    "mv_uae_clean\n",
    "mv_uae_clean_ID <- mv_uae_clean %>%\n",
    "                        pull(raceId)\n",
    "\n",
    "mv_uae_races <- ver_laps %>%\n",
    "                    filter(raceId %in% mv_uae_clean_ID)\n",
    "\n",
    "formulaone_split <- initial_split(aa_bahrain_races, prop = 0.75, strata = milliseconds)\n",
    "\n",
    "initiate_split_data()\n",
    "\n",
    "### RUNS REGRESSION\n",
    "\n",
    "initiate_linear_regression()"
   ]
  }
 ],
 "metadata": {
  "kernelspec": {
   "display_name": "R",
   "language": "R",
   "name": "ir"
  },
  "language_info": {
   "codemirror_mode": "r",
   "file_extension": ".r",
   "mimetype": "text/x-r-source",
   "name": "R",
   "pygments_lexer": "r",
   "version": "4.0.0"
  }
 },
 "nbformat": 4,
 "nbformat_minor": 4
}
