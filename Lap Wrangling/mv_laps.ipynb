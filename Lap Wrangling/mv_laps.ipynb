{
 "cells": [
  {
   "cell_type": "markdown",
   "metadata": {},
   "source": [
    "# Max Verstappen\n",
    "<img src=\"https://www.formula1.com/content/fom-website/en/drivers/max-verstappen/_jcr_content/image.img.1920.medium.jpg/1646819045507.jpg\" width=\"300\">\n",
    "\n",
    "### Team: Red Bull Racing\n",
    "\n",
    "<img src =\"https://www.formula1.com/content/fom-website/en/drivers/max-verstappen/_jcr_content/helmet.img.png/1646824946942.png\" width=\"200\">\n"
   ]
  },
  {
   "cell_type": "code",
   "execution_count": 30,
   "metadata": {},
   "outputs": [],
   "source": [
    "library (tidyverse)\n",
    "library (tidymodels)"
   ]
  },
  {
   "cell_type": "code",
   "execution_count": 31,
   "metadata": {},
   "outputs": [
    {
     "name": "stderr",
     "output_type": "stream",
     "text": [
      "Parsed with column specification:\n",
      "cols(\n",
      "  circuitId = \u001b[32mcol_double()\u001b[39m,\n",
      "  circuitRef = \u001b[31mcol_character()\u001b[39m,\n",
      "  name = \u001b[31mcol_character()\u001b[39m,\n",
      "  location = \u001b[31mcol_character()\u001b[39m,\n",
      "  country = \u001b[31mcol_character()\u001b[39m,\n",
      "  lat = \u001b[32mcol_double()\u001b[39m,\n",
      "  lng = \u001b[32mcol_double()\u001b[39m,\n",
      "  alt = \u001b[31mcol_character()\u001b[39m,\n",
      "  url = \u001b[31mcol_character()\u001b[39m\n",
      ")\n",
      "\n",
      "Parsed with column specification:\n",
      "cols(\n",
      "  constructorStandingsId = \u001b[32mcol_double()\u001b[39m,\n",
      "  raceId = \u001b[32mcol_double()\u001b[39m,\n",
      "  constructorId = \u001b[32mcol_double()\u001b[39m,\n",
      "  points = \u001b[32mcol_double()\u001b[39m,\n",
      "  position = \u001b[32mcol_double()\u001b[39m,\n",
      "  positionText = \u001b[31mcol_character()\u001b[39m,\n",
      "  wins = \u001b[32mcol_double()\u001b[39m\n",
      ")\n",
      "\n",
      "Parsed with column specification:\n",
      "cols(\n",
      "  constructorResultsId = \u001b[32mcol_double()\u001b[39m,\n",
      "  raceId = \u001b[32mcol_double()\u001b[39m,\n",
      "  constructorId = \u001b[32mcol_double()\u001b[39m,\n",
      "  points = \u001b[32mcol_double()\u001b[39m,\n",
      "  status = \u001b[31mcol_character()\u001b[39m\n",
      ")\n",
      "\n",
      "Parsed with column specification:\n",
      "cols(\n",
      "  constructorId = \u001b[32mcol_double()\u001b[39m,\n",
      "  constructorRef = \u001b[31mcol_character()\u001b[39m,\n",
      "  name = \u001b[31mcol_character()\u001b[39m,\n",
      "  nationality = \u001b[31mcol_character()\u001b[39m,\n",
      "  url = \u001b[31mcol_character()\u001b[39m\n",
      ")\n",
      "\n",
      "Parsed with column specification:\n",
      "cols(\n",
      "  driverId = \u001b[32mcol_double()\u001b[39m,\n",
      "  driverRef = \u001b[31mcol_character()\u001b[39m,\n",
      "  number = \u001b[31mcol_character()\u001b[39m,\n",
      "  code = \u001b[31mcol_character()\u001b[39m,\n",
      "  forename = \u001b[31mcol_character()\u001b[39m,\n",
      "  surname = \u001b[31mcol_character()\u001b[39m,\n",
      "  dob = \u001b[34mcol_date(format = \"\")\u001b[39m,\n",
      "  nationality = \u001b[31mcol_character()\u001b[39m,\n",
      "  url = \u001b[31mcol_character()\u001b[39m\n",
      ")\n",
      "\n",
      "Parsed with column specification:\n",
      "cols(\n",
      "  driverStandingsId = \u001b[32mcol_double()\u001b[39m,\n",
      "  raceId = \u001b[32mcol_double()\u001b[39m,\n",
      "  driverId = \u001b[32mcol_double()\u001b[39m,\n",
      "  points = \u001b[32mcol_double()\u001b[39m,\n",
      "  position = \u001b[32mcol_double()\u001b[39m,\n",
      "  positionText = \u001b[32mcol_double()\u001b[39m,\n",
      "  wins = \u001b[32mcol_double()\u001b[39m\n",
      ")\n",
      "\n",
      "Warning message:\n",
      "“21 parsing failures.\n",
      "  row          col expected actual                                                                                                      file\n",
      " 4376 positionText a double      D 'https://raw.githubusercontent.com/TaylorOglow/group_project_proposal/main/data_set/driver_standings.csv'\n",
      "33375 positionText a double      - 'https://raw.githubusercontent.com/TaylorOglow/group_project_proposal/main/data_set/driver_standings.csv'\n",
      "33376 positionText a double      - 'https://raw.githubusercontent.com/TaylorOglow/group_project_proposal/main/data_set/driver_standings.csv'\n",
      "33377 positionText a double      - 'https://raw.githubusercontent.com/TaylorOglow/group_project_proposal/main/data_set/driver_standings.csv'\n",
      "33378 positionText a double      - 'https://raw.githubusercontent.com/TaylorOglow/group_project_proposal/main/data_set/driver_standings.csv'\n",
      "..... ............ ........ ...... .........................................................................................................\n",
      "See problems(...) for more details.\n",
      "”\n",
      "Parsed with column specification:\n",
      "cols(\n",
      "  raceId = \u001b[32mcol_double()\u001b[39m,\n",
      "  driverId = \u001b[32mcol_double()\u001b[39m,\n",
      "  lap = \u001b[32mcol_double()\u001b[39m,\n",
      "  position = \u001b[32mcol_double()\u001b[39m,\n",
      "  time = \u001b[34mcol_time(format = \"\")\u001b[39m,\n",
      "  milliseconds = \u001b[32mcol_double()\u001b[39m\n",
      ")\n",
      "\n",
      "Warning message:\n",
      "“223 parsing failures.\n",
      "  row  col   expected    actual                                                                                               file\n",
      "25038 time valid date 52:17.033 'https://raw.githubusercontent.com/TaylorOglow/group_project_proposal/main/data_set/lap_times.csv'\n",
      "25094 time valid date 52:17.014 'https://raw.githubusercontent.com/TaylorOglow/group_project_proposal/main/data_set/lap_times.csv'\n",
      "25150 time valid date 52:16.250 'https://raw.githubusercontent.com/TaylorOglow/group_project_proposal/main/data_set/lap_times.csv'\n",
      "25206 time valid date 52:16.891 'https://raw.githubusercontent.com/TaylorOglow/group_project_proposal/main/data_set/lap_times.csv'\n",
      "25262 time valid date 52:17.452 'https://raw.githubusercontent.com/TaylorOglow/group_project_proposal/main/data_set/lap_times.csv'\n",
      "..... .... .......... ......... ..................................................................................................\n",
      "See problems(...) for more details.\n",
      "”\n",
      "Parsed with column specification:\n",
      "cols(\n",
      "  raceId = \u001b[32mcol_double()\u001b[39m,\n",
      "  driverId = \u001b[32mcol_double()\u001b[39m,\n",
      "  stop = \u001b[32mcol_double()\u001b[39m,\n",
      "  lap = \u001b[32mcol_double()\u001b[39m,\n",
      "  time = \u001b[34mcol_time(format = \"\")\u001b[39m,\n",
      "  duration = \u001b[31mcol_character()\u001b[39m,\n",
      "  milliseconds = \u001b[32mcol_double()\u001b[39m\n",
      ")\n",
      "\n",
      "Parsed with column specification:\n",
      "cols(\n",
      "  qualifyId = \u001b[32mcol_double()\u001b[39m,\n",
      "  raceId = \u001b[32mcol_double()\u001b[39m,\n",
      "  driverId = \u001b[32mcol_double()\u001b[39m,\n",
      "  constructorId = \u001b[32mcol_double()\u001b[39m,\n",
      "  number = \u001b[32mcol_double()\u001b[39m,\n",
      "  position = \u001b[32mcol_double()\u001b[39m,\n",
      "  q1 = \u001b[31mcol_character()\u001b[39m,\n",
      "  q2 = \u001b[31mcol_character()\u001b[39m,\n",
      "  q3 = \u001b[31mcol_character()\u001b[39m\n",
      ")\n",
      "\n",
      "Parsed with column specification:\n",
      "cols(\n",
      "  resultId = \u001b[32mcol_double()\u001b[39m,\n",
      "  raceId = \u001b[32mcol_double()\u001b[39m,\n",
      "  driverId = \u001b[32mcol_double()\u001b[39m,\n",
      "  constructorId = \u001b[32mcol_double()\u001b[39m,\n",
      "  number = \u001b[32mcol_double()\u001b[39m,\n",
      "  grid = \u001b[32mcol_double()\u001b[39m,\n",
      "  position = \u001b[31mcol_character()\u001b[39m,\n",
      "  positionText = \u001b[31mcol_character()\u001b[39m,\n",
      "  positionOrder = \u001b[32mcol_double()\u001b[39m,\n",
      "  points = \u001b[32mcol_double()\u001b[39m,\n",
      "  laps = \u001b[32mcol_double()\u001b[39m,\n",
      "  time = \u001b[31mcol_character()\u001b[39m,\n",
      "  milliseconds = \u001b[31mcol_character()\u001b[39m,\n",
      "  fastestLap = \u001b[31mcol_character()\u001b[39m,\n",
      "  rank = \u001b[31mcol_character()\u001b[39m,\n",
      "  fastestLapTime = \u001b[31mcol_character()\u001b[39m,\n",
      "  fastestLapSpeed = \u001b[31mcol_character()\u001b[39m,\n",
      "  statusId = \u001b[32mcol_double()\u001b[39m\n",
      ")\n",
      "\n",
      "Warning message:\n",
      "“6 parsing failures.\n",
      "  row    col expected actual                                                                                             file\n",
      "17716 number a double    \\N 'https://raw.githubusercontent.com/TaylorOglow/group_project_proposal/main/data_set/results.csv'\n",
      "17717 number a double    \\N 'https://raw.githubusercontent.com/TaylorOglow/group_project_proposal/main/data_set/results.csv'\n",
      "17718 number a double    \\N 'https://raw.githubusercontent.com/TaylorOglow/group_project_proposal/main/data_set/results.csv'\n",
      "17719 number a double    \\N 'https://raw.githubusercontent.com/TaylorOglow/group_project_proposal/main/data_set/results.csv'\n",
      "17940 number a double    \\N 'https://raw.githubusercontent.com/TaylorOglow/group_project_proposal/main/data_set/results.csv'\n",
      "..... ...... ........ ...... ................................................................................................\n",
      "See problems(...) for more details.\n",
      "”\n",
      "Parsed with column specification:\n",
      "cols(\n",
      "  raceId = \u001b[32mcol_double()\u001b[39m,\n",
      "  year = \u001b[32mcol_double()\u001b[39m,\n",
      "  round = \u001b[32mcol_double()\u001b[39m,\n",
      "  circuitId = \u001b[32mcol_double()\u001b[39m,\n",
      "  name = \u001b[31mcol_character()\u001b[39m,\n",
      "  date = \u001b[34mcol_date(format = \"\")\u001b[39m,\n",
      "  time = \u001b[31mcol_character()\u001b[39m,\n",
      "  url = \u001b[31mcol_character()\u001b[39m\n",
      ")\n",
      "\n",
      "Parsed with column specification:\n",
      "cols(\n",
      "  statusId = \u001b[32mcol_double()\u001b[39m,\n",
      "  status = \u001b[31mcol_character()\u001b[39m\n",
      ")\n",
      "\n"
     ]
    }
   ],
   "source": [
    "# Reading dataset files\n",
    "\n",
    "circuits <- read_csv(\"https://raw.githubusercontent.com/TaylorOglow/group_project_proposal/main/data_set/circuits.csv\")\n",
    "\n",
    "constructor_standings <- read_csv(\"https://raw.githubusercontent.com/TaylorOglow/group_project_proposal/main/data_set/constructor_standings.csv\") \n",
    "\n",
    "constructor_results <- read_csv(\"https://raw.githubusercontent.com/TaylorOglow/group_project_proposal/main/data_set/constructor_results.csv\") \n",
    "    \n",
    "constructors <- read_csv(\"https://raw.githubusercontent.com/TaylorOglow/group_project_proposal/main/data_set/constructors.csv\")\n",
    "\n",
    "drivers <- read_csv(\"https://raw.githubusercontent.com/TaylorOglow/group_project_proposal/main/data_set/drivers.csv\")\n",
    "\n",
    "driver_standings <- read_csv(\"https://raw.githubusercontent.com/TaylorOglow/group_project_proposal/main/data_set/driver_standings.csv\")\n",
    "\n",
    "lap_times <- read_csv(\"https://raw.githubusercontent.com/TaylorOglow/group_project_proposal/main/data_set/lap_times.csv\") \n",
    "\n",
    "pit_stops <- read_csv(\"https://raw.githubusercontent.com/TaylorOglow/group_project_proposal/main/data_set/pit_stops.csv\")\n",
    "           \n",
    "qualifying <- read_csv(\"https://raw.githubusercontent.com/TaylorOglow/group_project_proposal/main/data_set/qualifying.csv\") \n",
    "\n",
    "results <- read_csv(\"https://raw.githubusercontent.com/TaylorOglow/group_project_proposal/main/data_set/results.csv\") \n",
    "\n",
    "races <- read_csv(\"https://raw.githubusercontent.com/TaylorOglow/group_project_proposal/main/data_set/races.csv\") \n",
    "\n",
    "status <- read_csv(\"https://raw.githubusercontent.com/TaylorOglow/group_project_proposal/main/data_set/status.csv\") "
   ]
  },
  {
   "cell_type": "code",
   "execution_count": 32,
   "metadata": {},
   "outputs": [],
   "source": [
    "# Filtering 2022 GP circuits \n",
    "\n",
    "# Vector of 2022 GP locations\n",
    "\n",
    "locations_2022 <- c(\"Sakhir\", \"Jeddah\", \"Melbourne\", \"Imola\", \"Miami\", \"Montmeló\", \"Monte-Carlo\", \"Baku\", \"Montreal\", \"Silverstone\", \"Spielberg\", \n",
    "                    \"Le Castellet\", \"Budapest\", \"Spa\", \"Zandvoort\", \"Monza\", \"Sochi\", \"Marina Bay\", \"Suzuka\", \"Austin\", \"Mexico City\", \"São Paulo\", \"Abu Dhabi\")\n",
    "\n",
    "# Filtering circuit data set by locations vector \n",
    "\n",
    "circuits_2022 <- circuits %>% \n",
    "           filter(location %in% locations_2022) %>%\n",
    "           filter(name != \"A1-Ring\") %>%\n",
    "           select(circuitId:alt)\n",
    "\n",
    "\n",
    "# Extracting 2022 circuit ID's \n",
    "\n",
    "\n",
    "circuit_ids <- circuits_2022 %>%\n",
    "              pull(circuitId)\n",
    "\n",
    "# Extracting 2022 circuit name and ID's\n",
    "\n",
    "\n",
    "circuits_IDS <- circuits_2022 %>%\n",
    "                select(circuitId, name, country, location) %>% \n",
    "                arrange(country)"
   ]
  },
  {
   "cell_type": "code",
   "execution_count": 33,
   "metadata": {},
   "outputs": [],
   "source": [
    "# Filtering 2022 Constructors\n",
    "\n",
    "team_names <- c(\"Alfa Romeo\", \"AlphaTauri\", \"Alpine F1 Team\", \"Aston Martin\", \"Ferrari\", \n",
    "                \"Haas F1 Team\", \"McLaren\", \"Mercedes\", \"Red Bull\", \"Williams\")\n",
    "\n",
    "teams_2022 <- constructors %>%\n",
    "                 filter(name %in% team_names)\n",
    "\n",
    "# Extracting 2022 Constructor ID's\n",
    "\n",
    "constructor_ids <- teams_2022 %>%\n",
    "              pull(constructorId)"
   ]
  },
  {
   "cell_type": "code",
   "execution_count": 34,
   "metadata": {},
   "outputs": [],
   "source": [
    "# Filtering 2022 Drivers\n",
    "\n",
    "driver_surnames <- c(\"Hamilton\", \"Russell\", \"Albon\", \"Zhou\", \"Bottas\", \"Gasly\", \"Tsunoda\", \"Alonso\", \"Ocon\", \"Vettel\", \"Stroll\", \n",
    "                     \"Leclerc\", \"Sainz\", \"Magnussen\", \"Schumacher\", \"Ricciardo\", \"Norris\", \"Verstappen\", \"Pérez\", \"Latifi\")\n",
    " \n",
    "drivers_2022 <- drivers %>%\n",
    "                filter(surname %in% driver_surnames) %>%\n",
    "                filter(!(forename %in% c(\"Ralf\", \"Michael\", \"Jos\", \"Duncan\", \"Jan\")))\n",
    "\n",
    "# Extracting Driver IDS\n",
    "\n",
    "driver_ids <- drivers_2022 %>%\n",
    "              pull(driverId)\n",
    "\n",
    "# Extracting Driver Codes\n",
    "\n",
    "driver_codes <- drivers_2022 %>%\n",
    "              pull(code)\n",
    "\n",
    "# Combining IDS and Codes\n",
    "\n",
    "driver_id_code <- data.frame(driver_ids, driver_codes)"
   ]
  },
  {
   "cell_type": "code",
   "execution_count": 35,
   "metadata": {},
   "outputs": [],
   "source": [
    "#### Filtering Race Data for 2022 Races\n",
    "\n",
    "past_2022_races <- races %>%\n",
    "                    filter(circuitId %in% circuit_ids) %>%\n",
    "                    filter(year != \"2022\")\n",
    "\n",
    "##### Extracting Race ID's\n",
    "\n",
    "race_ids <- past_2022_races %>%\n",
    "            pull(raceId)\n",
    "\n",
    "\n",
    "##### Filtering Race Data For All 23 Circuits\n",
    "\n",
    "#############################################\n",
    "\n",
    "bahrain <- past_2022_races %>% \n",
    "            filter(circuitId == 3) %>%\n",
    "            arrange(desc(year))\n",
    "\n",
    "bahrain_race_ID <- bahrain %>%\n",
    "                pull(raceId)\n",
    "\n",
    "#############################################\n",
    "\n",
    "sa <- past_2022_races %>% \n",
    "            filter(circuitId == 77) %>%\n",
    "            arrange(desc(year))\n",
    "\n",
    "saudi_race_ID <- sa %>%\n",
    "                pull(raceId)\n",
    "\n",
    "#############################################\n",
    "\n",
    "aus <- past_2022_races %>% \n",
    "            filter(circuitId == 1) %>%\n",
    "            arrange(desc(year))\n",
    "\n",
    "aus_race_ID <- aus %>%\n",
    "                pull(raceId)\n",
    "\n",
    "#############################################\n",
    "\n",
    "imola <- past_2022_races %>% \n",
    "            filter(circuitId == 21) %>%\n",
    "            arrange(desc(year))\n",
    "\n",
    "imola_race_ID <- imola %>%\n",
    "                pull(raceId)\n",
    "\n",
    "#############################################\n",
    "\n",
    "miami <- past_2022_races %>% \n",
    "            filter(circuitId == 79) %>%\n",
    "            arrange(desc(year))\n",
    "\n",
    "miami_race_ID <- miami %>%\n",
    "                pull(raceId)\n",
    "\n",
    "#############################################\n",
    "\n",
    "spain <- past_2022_races %>% \n",
    "            filter(circuitId == 4) %>%\n",
    "            arrange(desc(year))\n",
    "\n",
    "spain_race_ID <- spain %>%\n",
    "                pull(raceId)\n",
    "\n",
    "#############################################\n",
    "\n",
    "monaco <- past_2022_races %>% \n",
    "            filter(circuitId == 6) %>%\n",
    "            arrange(desc(year))\n",
    "\n",
    "monaco_race_ID <- monaco %>%\n",
    "                pull(raceId)\n",
    "\n",
    "#############################################\n",
    "\n",
    "azerbaijan <- past_2022_races %>% \n",
    "            filter(circuitId == 73) %>%\n",
    "            arrange(desc(year))\n",
    "\n",
    "azerbaijan_race_ID <- azerbaijan %>%\n",
    "                pull(raceId)\n",
    "\n",
    "#############################################\n",
    "\n",
    "canada <- past_2022_races %>% \n",
    "            filter(circuitId == 7) %>%\n",
    "            arrange(desc(year))\n",
    "\n",
    "canada_race_ID <- canada %>%\n",
    "                pull(raceId)\n",
    "\n",
    "#############################################\n",
    "\n",
    "uk <- past_2022_races %>% \n",
    "            filter(circuitId == 9) %>%\n",
    "            arrange(desc(year))\n",
    "\n",
    "\n",
    "uk_race_ID <- uk %>%\n",
    "                pull(raceId)\n",
    "\n",
    "#############################################\n",
    "\n",
    "austria <- past_2022_races %>% \n",
    "            filter(circuitId == 70) %>%\n",
    "            arrange(desc(year))\n",
    "\n",
    "\n",
    "austria_race_ID <- austria %>%\n",
    "                pull(raceId)\n",
    "\n",
    "#############################################\n",
    "\n",
    "france <- past_2022_races %>% \n",
    "            filter(circuitId == 34) %>%\n",
    "            arrange(desc(year))\n",
    "\n",
    "\n",
    "france_race_ID <- france %>%\n",
    "                pull(raceId)\n",
    "\n",
    "#############################################\n",
    "\n",
    "hungary <- past_2022_races %>% \n",
    "            filter(circuitId == 11) %>%\n",
    "            arrange(desc(year))\n",
    "\n",
    "\n",
    "hungary_race_ID <- hungary %>%\n",
    "                pull(raceId)\n",
    "\n",
    "#############################################\n",
    "\n",
    "belgium <- past_2022_races %>% \n",
    "            filter(circuitId == 13) %>%\n",
    "            arrange(desc(year))\n",
    "\n",
    "\n",
    "belgium_race_ID <- belgium %>%\n",
    "                pull(raceId)\n",
    "\n",
    "#############################################\n",
    "\n",
    "netherlands <- past_2022_races %>% \n",
    "            filter(circuitId == 39) %>%\n",
    "            arrange(desc(year))\n",
    "\n",
    "\n",
    "netherlands_race_ID <- netherlands %>%\n",
    "                pull(raceId)\n",
    "\n",
    "#############################################\n",
    "\n",
    "monza <- past_2022_races %>% \n",
    "            filter(circuitId == 14) %>%\n",
    "            arrange(desc(year))\n",
    "\n",
    "monza_race_ID <- monza %>%\n",
    "                pull(raceId)\n",
    "\n",
    "#############################################\n",
    "\n",
    "singapore <- past_2022_races %>% \n",
    "            filter(circuitId == 15) %>%\n",
    "            arrange(desc(year))\n",
    "\n",
    "singapore_race_ID <- singapore %>%\n",
    "                pull(raceId)\n",
    "\n",
    "#############################################\n",
    "\n",
    "japan <- past_2022_races %>% \n",
    "            filter(circuitId == 22) %>%\n",
    "            arrange(desc(year))\n",
    "\n",
    "japan_race_ID <- japan %>%\n",
    "                pull(raceId)\n",
    "\n",
    "#############################################\n",
    "\n",
    "austin <- past_2022_races %>% \n",
    "            filter(circuitId == 69) %>%\n",
    "            arrange(desc(year))\n",
    "\n",
    "austin_race_ID <- austin %>%\n",
    "                pull(raceId)\n",
    "\n",
    "#############################################\n",
    "\n",
    "mexico <- past_2022_races %>% \n",
    "            filter(circuitId == 32) %>%\n",
    "            arrange(desc(year))\n",
    "\n",
    "mexico_race_ID <- mexico %>%\n",
    "                pull(raceId)\n",
    "\n",
    "#############################################\n",
    "\n",
    "brazil <- past_2022_races %>% \n",
    "            filter(circuitId == 18) %>%\n",
    "            arrange(desc(year))\n",
    "\n",
    "brazil_race_ID <- brazil %>%\n",
    "                pull(raceId)\n",
    "\n",
    "#############################################\n",
    "\n",
    "uae <- past_2022_races %>% \n",
    "            filter(circuitId == 24) %>%\n",
    "            arrange(desc(year))\n",
    "\n",
    "uae_race_ID <- uae %>%\n",
    "                pull(raceId)"
   ]
  },
  {
   "cell_type": "code",
   "execution_count": 36,
   "metadata": {},
   "outputs": [],
   "source": [
    "# Filtering Lap Data For 2022 Drivers\n",
    "\n",
    "lap_data <- lap_times %>%\n",
    "            filter(driverId %in% driver_ids) %>%\n",
    "            filter(raceId %in% race_ids)\n",
    "\n",
    "ver_laps <- lap_data %>%\n",
    "            filter(driverId == 830)"
   ]
  },
  {
   "cell_type": "code",
   "execution_count": 37,
   "metadata": {},
   "outputs": [
    {
     "name": "stderr",
     "output_type": "stream",
     "text": [
      "`summarise()` ungrouping output (override with `.groups` argument)\n",
      "\n"
     ]
    },
    {
     "data": {
      "text/html": [
       "<table>\n",
       "<caption>A tibble: 4 × 2</caption>\n",
       "<thead>\n",
       "\t<tr><th scope=col>raceId</th><th scope=col>n</th></tr>\n",
       "\t<tr><th scope=col>&lt;dbl&gt;</th><th scope=col>&lt;int&gt;</th></tr>\n",
       "</thead>\n",
       "<tbody>\n",
       "\t<tr><td> 949</td><td>57</td></tr>\n",
       "\t<tr><td>1011</td><td>57</td></tr>\n",
       "\t<tr><td>1045</td><td>57</td></tr>\n",
       "\t<tr><td>1052</td><td>56</td></tr>\n",
       "</tbody>\n",
       "</table>\n"
      ],
      "text/latex": [
       "A tibble: 4 × 2\n",
       "\\begin{tabular}{ll}\n",
       " raceId & n\\\\\n",
       " <dbl> & <int>\\\\\n",
       "\\hline\n",
       "\t  949 & 57\\\\\n",
       "\t 1011 & 57\\\\\n",
       "\t 1045 & 57\\\\\n",
       "\t 1052 & 56\\\\\n",
       "\\end{tabular}\n"
      ],
      "text/markdown": [
       "\n",
       "A tibble: 4 × 2\n",
       "\n",
       "| raceId &lt;dbl&gt; | n &lt;int&gt; |\n",
       "|---|---|\n",
       "|  949 | 57 |\n",
       "| 1011 | 57 |\n",
       "| 1045 | 57 |\n",
       "| 1052 | 56 |\n",
       "\n"
      ],
      "text/plain": [
       "  raceId n \n",
       "1  949   57\n",
       "2 1011   57\n",
       "3 1045   57\n",
       "4 1052   56"
      ]
     },
     "metadata": {},
     "output_type": "display_data"
    },
    {
     "name": "stderr",
     "output_type": "stream",
     "text": [
      "`summarise()` ungrouping output (override with `.groups` argument)\n",
      "\n"
     ]
    }
   ],
   "source": [
    "#1. Bahrain \n",
    "\n",
    "mv_bahrain <- ver_laps %>%\n",
    "                filter(raceId %in% bahrain_race_ID) \n",
    "\n",
    "mv_bahrain_clean <- mv_bahrain %>%\n",
    "                        group_by(raceId) %>%\n",
    "                        summarize(n = n()) %>%\n",
    "                        arrange(desc(n)) %>% \n",
    "                        head(4)\n",
    "mv_bahrain_clean\n",
    "mv_bahrain_clean_ID <- mv_bahrain_clean %>%\n",
    "                        pull(raceId)\n",
    "\n",
    "\n",
    " ### SPLITTING DATA\n",
    "\n",
    "mv_bahrain_races <- ver_laps %>%\n",
    "                    filter(raceId %in% mv_bahrain_clean_ID)\n",
    "\n",
    "mv_bahrain_split <- initial_split(mv_bahrain_races, prop = 0.75, strata = milliseconds)\n",
    "\n",
    "mv_bahrain_train <- training(mv_bahrain_split)\n",
    "\n",
    "mv_bahrain_test <- testing(mv_bahrain_split) \n",
    "\n",
    "\n",
    "### COMPUTING AVERAGE RACE TIME\n",
    "\n",
    "mv_bahrain_lap_times <- mv_bahrain_train %>%\n",
    "                        group_by(lap) %>%\n",
    "                        summarize(lap_time_avg = mean(milliseconds)) \n",
    "        \n",
    "\n",
    "mv_bahrain_avg_race_time <- mv_bahrain_lap_times %>%\n",
    "                            mutate(lap_time_avg_mins = lap_time_avg / 60000) %>%\n",
    "                            select(lap_time_avg_mins) %>%\n",
    "                            map(sum) %>%\n",
    "                            data.frame()"
   ]
  },
  {
   "cell_type": "code",
   "execution_count": 38,
   "metadata": {},
   "outputs": [
    {
     "name": "stderr",
     "output_type": "stream",
     "text": [
      "`summarise()` ungrouping output (override with `.groups` argument)\n",
      "\n"
     ]
    },
    {
     "data": {
      "text/html": [
       "<table>\n",
       "<caption>A tibble: 1 × 2</caption>\n",
       "<thead>\n",
       "\t<tr><th scope=col>raceId</th><th scope=col>n</th></tr>\n",
       "\t<tr><th scope=col>&lt;dbl&gt;</th><th scope=col>&lt;int&gt;</th></tr>\n",
       "</thead>\n",
       "<tbody>\n",
       "\t<tr><td>1072</td><td>50</td></tr>\n",
       "</tbody>\n",
       "</table>\n"
      ],
      "text/latex": [
       "A tibble: 1 × 2\n",
       "\\begin{tabular}{ll}\n",
       " raceId & n\\\\\n",
       " <dbl> & <int>\\\\\n",
       "\\hline\n",
       "\t 1072 & 50\\\\\n",
       "\\end{tabular}\n"
      ],
      "text/markdown": [
       "\n",
       "A tibble: 1 × 2\n",
       "\n",
       "| raceId &lt;dbl&gt; | n &lt;int&gt; |\n",
       "|---|---|\n",
       "| 1072 | 50 |\n",
       "\n"
      ],
      "text/plain": [
       "  raceId n \n",
       "1 1072   50"
      ]
     },
     "metadata": {},
     "output_type": "display_data"
    },
    {
     "name": "stderr",
     "output_type": "stream",
     "text": [
      "Warning message:\n",
      "“The number of observations in each quantile is below the recommended threshold of 20. Stratification will be done with 2 breaks instead.”\n",
      "`summarise()` ungrouping output (override with `.groups` argument)\n",
      "\n"
     ]
    }
   ],
   "source": [
    "#2. Saudi Arabia \n",
    "\n",
    "mv_saudi <- ver_laps %>%\n",
    "                filter(raceId %in% saudi_race_ID) \n",
    "\n",
    "mv_saudi_clean <- mv_saudi %>%\n",
    "                        group_by(raceId) %>%\n",
    "                        summarize(n = n()) %>%\n",
    "                        arrange(desc(n)) \n",
    "mv_saudi_clean\n",
    "mv_saudi_clean_ID <- mv_saudi_clean %>%\n",
    "                        pull(raceId)\n",
    "\n",
    "mv_saudi_races <- ver_laps %>%\n",
    "                    filter(raceId %in% mv_saudi_clean_ID)\n",
    "\n",
    "mv_saudi_split <- initial_split(mv_saudi_races, prop = 0.75, strata = milliseconds)\n",
    "\n",
    "mv_saudi_train <- training(mv_saudi_split)\n",
    "\n",
    "mv_saudi_test <- testing(mv_saudi_split) \n",
    "\n",
    "mv_saudi_lap_times <- mv_saudi_train %>%\n",
    "                        group_by(lap) %>%\n",
    "                        summarize(lap_time_avg = mean(milliseconds)) \n",
    "        \n",
    "\n",
    "mv_saudi_avg_race_time <- mv_saudi_lap_times %>%\n",
    "                            mutate(lap_time_avg_mins = lap_time_avg / 60000) %>%\n",
    "                            select(lap_time_avg_mins) %>%\n",
    "                            map(sum) %>%\n",
    "                            data.frame()"
   ]
  },
  {
   "cell_type": "code",
   "execution_count": 39,
   "metadata": {},
   "outputs": [
    {
     "name": "stderr",
     "output_type": "stream",
     "text": [
      "`summarise()` ungrouping output (override with `.groups` argument)\n",
      "\n"
     ]
    },
    {
     "data": {
      "text/html": [
       "<table>\n",
       "<caption>A tibble: 4 × 2</caption>\n",
       "<thead>\n",
       "\t<tr><th scope=col>raceId</th><th scope=col>n</th></tr>\n",
       "\t<tr><th scope=col>&lt;dbl&gt;</th><th scope=col>&lt;int&gt;</th></tr>\n",
       "</thead>\n",
       "<tbody>\n",
       "\t<tr><td> 989</td><td>58</td></tr>\n",
       "\t<tr><td>1010</td><td>58</td></tr>\n",
       "\t<tr><td> 948</td><td>57</td></tr>\n",
       "\t<tr><td> 969</td><td>57</td></tr>\n",
       "</tbody>\n",
       "</table>\n"
      ],
      "text/latex": [
       "A tibble: 4 × 2\n",
       "\\begin{tabular}{ll}\n",
       " raceId & n\\\\\n",
       " <dbl> & <int>\\\\\n",
       "\\hline\n",
       "\t  989 & 58\\\\\n",
       "\t 1010 & 58\\\\\n",
       "\t  948 & 57\\\\\n",
       "\t  969 & 57\\\\\n",
       "\\end{tabular}\n"
      ],
      "text/markdown": [
       "\n",
       "A tibble: 4 × 2\n",
       "\n",
       "| raceId &lt;dbl&gt; | n &lt;int&gt; |\n",
       "|---|---|\n",
       "|  989 | 58 |\n",
       "| 1010 | 58 |\n",
       "|  948 | 57 |\n",
       "|  969 | 57 |\n",
       "\n"
      ],
      "text/plain": [
       "  raceId n \n",
       "1  989   58\n",
       "2 1010   58\n",
       "3  948   57\n",
       "4  969   57"
      ]
     },
     "metadata": {},
     "output_type": "display_data"
    },
    {
     "name": "stderr",
     "output_type": "stream",
     "text": [
      "`summarise()` ungrouping output (override with `.groups` argument)\n",
      "\n"
     ]
    }
   ],
   "source": [
    "#3. Austrailia \n",
    "\n",
    "mv_aus <- ver_laps %>%\n",
    "                filter(raceId %in% aus_race_ID) \n",
    "\n",
    "mv_aus_clean <- mv_aus %>%\n",
    "                        group_by(raceId) %>%\n",
    "                        summarize(n = n()) %>%\n",
    "                        arrange(desc(n)) %>%\n",
    "                        head(4)\n",
    "mv_aus_clean\n",
    "mv_aus_clean_ID <- mv_aus_clean %>%\n",
    "                        pull(raceId)\n",
    "\n",
    "mv_aus_races <- ver_laps %>%\n",
    "                    filter(raceId %in% mv_aus_clean_ID)\n",
    "\n",
    "mv_aus_split <- initial_split(mv_aus_races, prop = 0.75, strata = milliseconds)\n",
    "\n",
    "mv_aus_train <- training(mv_aus_split)\n",
    "\n",
    "mv_aus_test <- testing(mv_aus_split) \n",
    "\n",
    "mv_aus_lap_times <- mv_aus_train %>%\n",
    "                        group_by(lap) %>%\n",
    "                        summarize(lap_time_avg = mean(milliseconds)) \n",
    "        \n",
    "\n",
    "mv_aus_avg_race_time <- mv_aus_lap_times %>%\n",
    "                            mutate(lap_time_avg_mins = lap_time_avg / 60000) %>%\n",
    "                            select(lap_time_avg_mins) %>%\n",
    "                            map(sum) %>%\n",
    "                            data.frame()"
   ]
  },
  {
   "cell_type": "code",
   "execution_count": 40,
   "metadata": {},
   "outputs": [
    {
     "name": "stderr",
     "output_type": "stream",
     "text": [
      "`summarise()` ungrouping output (override with `.groups` argument)\n",
      "\n"
     ]
    },
    {
     "data": {
      "text/html": [
       "<table>\n",
       "<caption>A tibble: 1 × 2</caption>\n",
       "<thead>\n",
       "\t<tr><th scope=col>raceId</th><th scope=col>n</th></tr>\n",
       "\t<tr><th scope=col>&lt;dbl&gt;</th><th scope=col>&lt;int&gt;</th></tr>\n",
       "</thead>\n",
       "<tbody>\n",
       "\t<tr><td>1053</td><td>63</td></tr>\n",
       "</tbody>\n",
       "</table>\n"
      ],
      "text/latex": [
       "A tibble: 1 × 2\n",
       "\\begin{tabular}{ll}\n",
       " raceId & n\\\\\n",
       " <dbl> & <int>\\\\\n",
       "\\hline\n",
       "\t 1053 & 63\\\\\n",
       "\\end{tabular}\n"
      ],
      "text/markdown": [
       "\n",
       "A tibble: 1 × 2\n",
       "\n",
       "| raceId &lt;dbl&gt; | n &lt;int&gt; |\n",
       "|---|---|\n",
       "| 1053 | 63 |\n",
       "\n"
      ],
      "text/plain": [
       "  raceId n \n",
       "1 1053   63"
      ]
     },
     "metadata": {},
     "output_type": "display_data"
    },
    {
     "name": "stderr",
     "output_type": "stream",
     "text": [
      "Warning message:\n",
      "“The number of observations in each quantile is below the recommended threshold of 20. Stratification will be done with 3 breaks instead.”\n",
      "`summarise()` ungrouping output (override with `.groups` argument)\n",
      "\n"
     ]
    }
   ],
   "source": [
    "#4. Imola, Italy \n",
    "\n",
    "mv_imola <- ver_laps %>%\n",
    "                filter(raceId %in% imola_race_ID) \n",
    "\n",
    "mv_imola_clean <- mv_imola %>%\n",
    "                        group_by(raceId) %>%\n",
    "                        summarize(n = n()) %>%\n",
    "                        arrange(desc(n)) %>%\n",
    "                        head(1)\n",
    "mv_imola_clean\n",
    "mv_imola_clean_ID <- mv_imola_clean %>%\n",
    "                        pull(raceId)\n",
    "\n",
    "mv_imola_races <- ver_laps %>%\n",
    "                    filter(raceId %in% mv_imola_clean_ID)\n",
    "\n",
    "mv_imola_split <- initial_split(mv_imola_races, prop = 0.75, strata = milliseconds)\n",
    "\n",
    "mv_imola_train <- training(mv_imola_split)\n",
    "\n",
    "mv_imola_test <- testing(mv_imola_split) \n",
    "\n",
    "mv_imola_lap_times <- mv_imola_train %>%\n",
    "                        group_by(lap) %>%\n",
    "                        summarize(lap_time_avg = mean(milliseconds)) \n",
    "        \n",
    "\n",
    "mv_imola_avg_race_time <- mv_imola_lap_times %>%\n",
    "                            mutate(lap_time_avg_mins = lap_time_avg / 60000) %>%\n",
    "                            select(lap_time_avg_mins) %>%\n",
    "                            map(sum) %>%\n",
    "                            data.frame()"
   ]
  },
  {
   "cell_type": "code",
   "execution_count": 41,
   "metadata": {},
   "outputs": [
    {
     "name": "stderr",
     "output_type": "stream",
     "text": [
      "`summarise()` ungrouping output (override with `.groups` argument)\n",
      "\n"
     ]
    },
    {
     "data": {
      "text/html": [
       "<table>\n",
       "<caption>A tibble: 6 × 2</caption>\n",
       "<thead>\n",
       "\t<tr><th scope=col>raceId</th><th scope=col>n</th></tr>\n",
       "\t<tr><th scope=col>&lt;dbl&gt;</th><th scope=col>&lt;int&gt;</th></tr>\n",
       "</thead>\n",
       "<tbody>\n",
       "\t<tr><td> 952</td><td>66</td></tr>\n",
       "\t<tr><td> 993</td><td>66</td></tr>\n",
       "\t<tr><td>1014</td><td>66</td></tr>\n",
       "\t<tr><td>1036</td><td>66</td></tr>\n",
       "\t<tr><td>1055</td><td>66</td></tr>\n",
       "\t<tr><td> 930</td><td>65</td></tr>\n",
       "</tbody>\n",
       "</table>\n"
      ],
      "text/latex": [
       "A tibble: 6 × 2\n",
       "\\begin{tabular}{ll}\n",
       " raceId & n\\\\\n",
       " <dbl> & <int>\\\\\n",
       "\\hline\n",
       "\t  952 & 66\\\\\n",
       "\t  993 & 66\\\\\n",
       "\t 1014 & 66\\\\\n",
       "\t 1036 & 66\\\\\n",
       "\t 1055 & 66\\\\\n",
       "\t  930 & 65\\\\\n",
       "\\end{tabular}\n"
      ],
      "text/markdown": [
       "\n",
       "A tibble: 6 × 2\n",
       "\n",
       "| raceId &lt;dbl&gt; | n &lt;int&gt; |\n",
       "|---|---|\n",
       "|  952 | 66 |\n",
       "|  993 | 66 |\n",
       "| 1014 | 66 |\n",
       "| 1036 | 66 |\n",
       "| 1055 | 66 |\n",
       "|  930 | 65 |\n",
       "\n"
      ],
      "text/plain": [
       "  raceId n \n",
       "1  952   66\n",
       "2  993   66\n",
       "3 1014   66\n",
       "4 1036   66\n",
       "5 1055   66\n",
       "6  930   65"
      ]
     },
     "metadata": {},
     "output_type": "display_data"
    },
    {
     "name": "stderr",
     "output_type": "stream",
     "text": [
      "`summarise()` ungrouping output (override with `.groups` argument)\n",
      "\n"
     ]
    }
   ],
   "source": [
    "#5. Spain \n",
    "\n",
    "mv_spain <- ver_laps %>%\n",
    "                filter(raceId %in% spain_race_ID) \n",
    "\n",
    "mv_spain_clean <- mv_spain %>%\n",
    "                        group_by(raceId) %>%\n",
    "                        summarize(n = n()) %>%\n",
    "                        arrange(desc(n)) %>%\n",
    "                        head(6)\n",
    "mv_spain_clean\n",
    "mv_spain_clean_ID <- mv_spain_clean %>%\n",
    "                        pull(raceId) \n",
    "\n",
    "mv_spain_races <- ver_laps %>%\n",
    "                    filter(raceId %in% mv_spain_clean_ID)\n",
    "\n",
    "mv_spain_split <- initial_split(mv_spain_races, prop = 0.75, strata = milliseconds)\n",
    "\n",
    "mv_spain_train <- training(mv_spain_split)\n",
    "\n",
    "mv_spain_test <- testing(mv_spain_split) \n",
    "\n",
    "mv_spain_lap_times <- mv_spain_train %>%\n",
    "                        group_by(lap) %>%\n",
    "                        summarize(lap_time_avg = mean(milliseconds)) \n",
    "        \n",
    "\n",
    "mv_spain_avg_race_time <- mv_spain_lap_times %>%\n",
    "                            mutate(lap_time_avg_mins = lap_time_avg / 60000) %>%\n",
    "                            select(lap_time_avg_mins) %>%\n",
    "                            map(sum) %>%\n",
    "                            data.frame()"
   ]
  },
  {
   "cell_type": "code",
   "execution_count": 42,
   "metadata": {},
   "outputs": [
    {
     "name": "stderr",
     "output_type": "stream",
     "text": [
      "`summarise()` ungrouping output (override with `.groups` argument)\n",
      "\n"
     ]
    },
    {
     "data": {
      "text/html": [
       "<table>\n",
       "<caption>A tibble: 4 × 2</caption>\n",
       "<thead>\n",
       "\t<tr><th scope=col>raceId</th><th scope=col>n</th></tr>\n",
       "\t<tr><th scope=col>&lt;dbl&gt;</th><th scope=col>&lt;int&gt;</th></tr>\n",
       "</thead>\n",
       "<tbody>\n",
       "\t<tr><td> 974</td><td>78</td></tr>\n",
       "\t<tr><td> 994</td><td>78</td></tr>\n",
       "\t<tr><td>1015</td><td>78</td></tr>\n",
       "\t<tr><td>1056</td><td>78</td></tr>\n",
       "</tbody>\n",
       "</table>\n"
      ],
      "text/latex": [
       "A tibble: 4 × 2\n",
       "\\begin{tabular}{ll}\n",
       " raceId & n\\\\\n",
       " <dbl> & <int>\\\\\n",
       "\\hline\n",
       "\t  974 & 78\\\\\n",
       "\t  994 & 78\\\\\n",
       "\t 1015 & 78\\\\\n",
       "\t 1056 & 78\\\\\n",
       "\\end{tabular}\n"
      ],
      "text/markdown": [
       "\n",
       "A tibble: 4 × 2\n",
       "\n",
       "| raceId &lt;dbl&gt; | n &lt;int&gt; |\n",
       "|---|---|\n",
       "|  974 | 78 |\n",
       "|  994 | 78 |\n",
       "| 1015 | 78 |\n",
       "| 1056 | 78 |\n",
       "\n"
      ],
      "text/plain": [
       "  raceId n \n",
       "1  974   78\n",
       "2  994   78\n",
       "3 1015   78\n",
       "4 1056   78"
      ]
     },
     "metadata": {},
     "output_type": "display_data"
    },
    {
     "name": "stderr",
     "output_type": "stream",
     "text": [
      "`summarise()` ungrouping output (override with `.groups` argument)\n",
      "\n"
     ]
    }
   ],
   "source": [
    "#6. Monaco \n",
    "\n",
    "mv_monaco <- ver_laps %>%\n",
    "                filter(raceId %in% monaco_race_ID) \n",
    "\n",
    "mv_monaco_clean <- mv_monaco %>%\n",
    "                        group_by(raceId) %>%\n",
    "                        summarize(n = n()) %>%\n",
    "                        arrange(desc(n)) %>%  \n",
    "                        head(4)\n",
    "mv_monaco_clean\n",
    "mv_monaco_clean_ID <- mv_monaco_clean %>%\n",
    "                        pull(raceId)\n",
    "\n",
    "mv_monaco_races <- ver_laps %>%\n",
    "                    filter(raceId %in% mv_monaco_clean_ID)\n",
    "\n",
    "mv_monaco_split <- initial_split(mv_monaco_races, prop = 0.75, strata = milliseconds)\n",
    "\n",
    "mv_monaco_train <- training(mv_monaco_split)\n",
    "\n",
    "mv_monaco_test <- testing(mv_monaco_split) \n",
    "\n",
    "mv_monaco_lap_times <- mv_monaco_train %>%\n",
    "                        group_by(lap) %>%\n",
    "                        summarize(lap_time_avg = mean(milliseconds)) \n",
    "        \n",
    "\n",
    "mv_monaco_avg_race_time <- mv_monaco_lap_times %>%\n",
    "                            mutate(lap_time_avg_mins = lap_time_avg / 60000) %>%\n",
    "                            select(lap_time_avg_mins) %>%\n",
    "                            map(sum) %>%\n",
    "                            data.frame()"
   ]
  },
  {
   "cell_type": "code",
   "execution_count": 43,
   "metadata": {},
   "outputs": [
    {
     "name": "stderr",
     "output_type": "stream",
     "text": [
      "`summarise()` ungrouping output (override with `.groups` argument)\n",
      "\n"
     ]
    },
    {
     "data": {
      "text/html": [
       "<table>\n",
       "<caption>A tibble: 2 × 2</caption>\n",
       "<thead>\n",
       "\t<tr><th scope=col>raceId</th><th scope=col>n</th></tr>\n",
       "\t<tr><th scope=col>&lt;dbl&gt;</th><th scope=col>&lt;int&gt;</th></tr>\n",
       "</thead>\n",
       "<tbody>\n",
       "\t<tr><td> 955</td><td>51</td></tr>\n",
       "\t<tr><td>1013</td><td>51</td></tr>\n",
       "</tbody>\n",
       "</table>\n"
      ],
      "text/latex": [
       "A tibble: 2 × 2\n",
       "\\begin{tabular}{ll}\n",
       " raceId & n\\\\\n",
       " <dbl> & <int>\\\\\n",
       "\\hline\n",
       "\t  955 & 51\\\\\n",
       "\t 1013 & 51\\\\\n",
       "\\end{tabular}\n"
      ],
      "text/markdown": [
       "\n",
       "A tibble: 2 × 2\n",
       "\n",
       "| raceId &lt;dbl&gt; | n &lt;int&gt; |\n",
       "|---|---|\n",
       "|  955 | 51 |\n",
       "| 1013 | 51 |\n",
       "\n"
      ],
      "text/plain": [
       "  raceId n \n",
       "1  955   51\n",
       "2 1013   51"
      ]
     },
     "metadata": {},
     "output_type": "display_data"
    },
    {
     "name": "stderr",
     "output_type": "stream",
     "text": [
      "`summarise()` ungrouping output (override with `.groups` argument)\n",
      "\n"
     ]
    }
   ],
   "source": [
    "#7. Azerbaijan \n",
    "\n",
    "mv_azerbaijan <- ver_laps %>%\n",
    "                filter(raceId %in% azerbaijan_race_ID) \n",
    "\n",
    "mv_azerbaijan_clean <- mv_azerbaijan %>%\n",
    "                        group_by(raceId) %>%\n",
    "                        summarize(n = n()) %>%\n",
    "                        arrange(desc(n)) %>%\n",
    "                        head(2)\n",
    "mv_azerbaijan_clean\n",
    "mv_azerbaijan_clean_ID <- mv_azerbaijan_clean %>%\n",
    "                        pull(raceId)\n",
    "\n",
    "mv_azerbaijan_races <- ver_laps %>%\n",
    "                    filter(raceId %in% mv_azerbaijan_clean_ID)\n",
    "\n",
    "mv_azerbaijan_split <- initial_split(mv_azerbaijan_races, prop = 0.75, strata = milliseconds)\n",
    "\n",
    "mv_azerbaijan_train <- training(mv_azerbaijan_split)\n",
    "\n",
    "mv_azerbaijan_test <- testing(mv_azerbaijan_split) \n",
    "\n",
    "mv_azerbaijan_lap_times <- mv_azerbaijan_train %>%\n",
    "                        group_by(lap) %>%\n",
    "                        summarize(lap_time_avg = mean(milliseconds)) \n",
    "        \n",
    "\n",
    "mv_azerbaijan_avg_race_time <- mv_azerbaijan_lap_times %>%\n",
    "                            mutate(lap_time_avg_mins = lap_time_avg / 60000) %>%\n",
    "                            select(lap_time_avg_mins) %>%\n",
    "                            map(sum) %>%\n",
    "                            data.frame()"
   ]
  },
  {
   "cell_type": "code",
   "execution_count": 44,
   "metadata": {},
   "outputs": [
    {
     "name": "stderr",
     "output_type": "stream",
     "text": [
      "`summarise()` ungrouping output (override with `.groups` argument)\n",
      "\n"
     ]
    },
    {
     "data": {
      "text/html": [
       "<table>\n",
       "<caption>A tibble: 4 × 2</caption>\n",
       "<thead>\n",
       "\t<tr><th scope=col>raceId</th><th scope=col>n</th></tr>\n",
       "\t<tr><th scope=col>&lt;dbl&gt;</th><th scope=col>&lt;int&gt;</th></tr>\n",
       "</thead>\n",
       "<tbody>\n",
       "\t<tr><td> 954</td><td>70</td></tr>\n",
       "\t<tr><td>1016</td><td>70</td></tr>\n",
       "\t<tr><td> 932</td><td>69</td></tr>\n",
       "\t<tr><td> 995</td><td>68</td></tr>\n",
       "</tbody>\n",
       "</table>\n"
      ],
      "text/latex": [
       "A tibble: 4 × 2\n",
       "\\begin{tabular}{ll}\n",
       " raceId & n\\\\\n",
       " <dbl> & <int>\\\\\n",
       "\\hline\n",
       "\t  954 & 70\\\\\n",
       "\t 1016 & 70\\\\\n",
       "\t  932 & 69\\\\\n",
       "\t  995 & 68\\\\\n",
       "\\end{tabular}\n"
      ],
      "text/markdown": [
       "\n",
       "A tibble: 4 × 2\n",
       "\n",
       "| raceId &lt;dbl&gt; | n &lt;int&gt; |\n",
       "|---|---|\n",
       "|  954 | 70 |\n",
       "| 1016 | 70 |\n",
       "|  932 | 69 |\n",
       "|  995 | 68 |\n",
       "\n"
      ],
      "text/plain": [
       "  raceId n \n",
       "1  954   70\n",
       "2 1016   70\n",
       "3  932   69\n",
       "4  995   68"
      ]
     },
     "metadata": {},
     "output_type": "display_data"
    },
    {
     "name": "stderr",
     "output_type": "stream",
     "text": [
      "`summarise()` ungrouping output (override with `.groups` argument)\n",
      "\n"
     ]
    }
   ],
   "source": [
    "#8. Canada \n",
    "\n",
    "mv_canada <- ver_laps %>%\n",
    "                filter(raceId %in% canada_race_ID) \n",
    "\n",
    "mv_canada_clean <- mv_canada %>%\n",
    "                        group_by(raceId) %>%\n",
    "                        summarize(n = n()) %>%\n",
    "                        arrange(desc(n)) %>%\n",
    "                        head(4)\n",
    "mv_canada_clean\n",
    "mv_canada_clean_ID <- mv_canada_clean %>%\n",
    "                        pull(raceId)\n",
    "\n",
    "mv_canada_races <- ver_laps %>%\n",
    "                    filter(raceId %in% mv_canada_clean_ID)\n",
    "\n",
    "mv_canada_split <- initial_split(mv_canada_races, prop = 0.75, strata = milliseconds)\n",
    "\n",
    "mv_canada_train <- training(mv_canada_split)\n",
    "\n",
    "mv_canada_test <- testing(mv_canada_split) \n",
    "\n",
    "mv_canada_lap_times <- mv_canada_train %>%\n",
    "                        group_by(lap) %>%\n",
    "                        summarize(lap_time_avg = mean(milliseconds)) \n",
    "        \n",
    "\n",
    "mv_canada_avg_race_time <- mv_canada_lap_times %>%\n",
    "                            mutate(lap_time_avg_mins = lap_time_avg / 60000) %>%\n",
    "                            select(lap_time_avg_mins) %>%\n",
    "                            map(sum) %>%\n",
    "                            data.frame()"
   ]
  },
  {
   "cell_type": "code",
   "execution_count": 45,
   "metadata": {},
   "outputs": [
    {
     "name": "stderr",
     "output_type": "stream",
     "text": [
      "`summarise()` ungrouping output (override with `.groups` argument)\n",
      "\n"
     ]
    },
    {
     "data": {
      "text/html": [
       "<table>\n",
       "<caption>A tibble: 5 × 2</caption>\n",
       "<thead>\n",
       "\t<tr><th scope=col>raceId</th><th scope=col>n</th></tr>\n",
       "\t<tr><th scope=col>&lt;dbl&gt;</th><th scope=col>&lt;int&gt;</th></tr>\n",
       "</thead>\n",
       "<tbody>\n",
       "\t<tr><td> 957</td><td>52</td></tr>\n",
       "\t<tr><td>1019</td><td>52</td></tr>\n",
       "\t<tr><td>1034</td><td>52</td></tr>\n",
       "\t<tr><td>1035</td><td>52</td></tr>\n",
       "\t<tr><td> 978</td><td>51</td></tr>\n",
       "</tbody>\n",
       "</table>\n"
      ],
      "text/latex": [
       "A tibble: 5 × 2\n",
       "\\begin{tabular}{ll}\n",
       " raceId & n\\\\\n",
       " <dbl> & <int>\\\\\n",
       "\\hline\n",
       "\t  957 & 52\\\\\n",
       "\t 1019 & 52\\\\\n",
       "\t 1034 & 52\\\\\n",
       "\t 1035 & 52\\\\\n",
       "\t  978 & 51\\\\\n",
       "\\end{tabular}\n"
      ],
      "text/markdown": [
       "\n",
       "A tibble: 5 × 2\n",
       "\n",
       "| raceId &lt;dbl&gt; | n &lt;int&gt; |\n",
       "|---|---|\n",
       "|  957 | 52 |\n",
       "| 1019 | 52 |\n",
       "| 1034 | 52 |\n",
       "| 1035 | 52 |\n",
       "|  978 | 51 |\n",
       "\n"
      ],
      "text/plain": [
       "  raceId n \n",
       "1  957   52\n",
       "2 1019   52\n",
       "3 1034   52\n",
       "4 1035   52\n",
       "5  978   51"
      ]
     },
     "metadata": {},
     "output_type": "display_data"
    },
    {
     "name": "stderr",
     "output_type": "stream",
     "text": [
      "`summarise()` ungrouping output (override with `.groups` argument)\n",
      "\n"
     ]
    }
   ],
   "source": [
    "#9. Great Britain \n",
    "\n",
    "mv_uk <- ver_laps %>%\n",
    "                filter(raceId %in% uk_race_ID) \n",
    "\n",
    "mv_uk_clean <- mv_uk %>%\n",
    "                        group_by(raceId) %>%\n",
    "                        summarize(n = n()) %>%\n",
    "                        arrange(desc(n)) %>%\n",
    "                        head(5)\n",
    "mv_uk_clean\n",
    "mv_uk_clean_ID <- mv_uk_clean %>%\n",
    "                        pull(raceId)\n",
    "\n",
    "mv_uk_races <- ver_laps %>%\n",
    "                    filter(raceId %in% mv_uk_clean_ID)\n",
    "\n",
    "mv_uk_split <- initial_split(mv_uk_races, prop = 0.75, strata = milliseconds)\n",
    "\n",
    "mv_uk_train <- training(mv_uk_split)\n",
    "\n",
    "mv_uk_test <- testing(mv_uk_split) \n",
    "\n",
    "mv_uk_lap_times <- mv_uk_train %>%\n",
    "                        group_by(lap) %>%\n",
    "                        summarize(lap_time_avg = mean(milliseconds)) \n",
    "        \n",
    "\n",
    "mv_uk_avg_race_time <- mv_uk_lap_times %>%\n",
    "                            mutate(lap_time_avg_mins = lap_time_avg / 60000) %>%\n",
    "                            select(lap_time_avg_mins) %>%\n",
    "                            map(sum) %>%\n",
    "                            data.frame()"
   ]
  },
  {
   "cell_type": "code",
   "execution_count": 46,
   "metadata": {},
   "outputs": [
    {
     "name": "stderr",
     "output_type": "stream",
     "text": [
      "`summarise()` ungrouping output (override with `.groups` argument)\n",
      "\n"
     ]
    },
    {
     "data": {
      "text/html": [
       "<table>\n",
       "<caption>A tibble: 7 × 2</caption>\n",
       "<thead>\n",
       "\t<tr><th scope=col>raceId</th><th scope=col>n</th></tr>\n",
       "\t<tr><th scope=col>&lt;dbl&gt;</th><th scope=col>&lt;int&gt;</th></tr>\n",
       "</thead>\n",
       "<tbody>\n",
       "\t<tr><td> 956</td><td>71</td></tr>\n",
       "\t<tr><td> 997</td><td>71</td></tr>\n",
       "\t<tr><td>1018</td><td>71</td></tr>\n",
       "\t<tr><td>1032</td><td>71</td></tr>\n",
       "\t<tr><td>1058</td><td>71</td></tr>\n",
       "\t<tr><td>1060</td><td>71</td></tr>\n",
       "\t<tr><td> 933</td><td>70</td></tr>\n",
       "</tbody>\n",
       "</table>\n"
      ],
      "text/latex": [
       "A tibble: 7 × 2\n",
       "\\begin{tabular}{ll}\n",
       " raceId & n\\\\\n",
       " <dbl> & <int>\\\\\n",
       "\\hline\n",
       "\t  956 & 71\\\\\n",
       "\t  997 & 71\\\\\n",
       "\t 1018 & 71\\\\\n",
       "\t 1032 & 71\\\\\n",
       "\t 1058 & 71\\\\\n",
       "\t 1060 & 71\\\\\n",
       "\t  933 & 70\\\\\n",
       "\\end{tabular}\n"
      ],
      "text/markdown": [
       "\n",
       "A tibble: 7 × 2\n",
       "\n",
       "| raceId &lt;dbl&gt; | n &lt;int&gt; |\n",
       "|---|---|\n",
       "|  956 | 71 |\n",
       "|  997 | 71 |\n",
       "| 1018 | 71 |\n",
       "| 1032 | 71 |\n",
       "| 1058 | 71 |\n",
       "| 1060 | 71 |\n",
       "|  933 | 70 |\n",
       "\n"
      ],
      "text/plain": [
       "  raceId n \n",
       "1  956   71\n",
       "2  997   71\n",
       "3 1018   71\n",
       "4 1032   71\n",
       "5 1058   71\n",
       "6 1060   71\n",
       "7  933   70"
      ]
     },
     "metadata": {},
     "output_type": "display_data"
    },
    {
     "name": "stderr",
     "output_type": "stream",
     "text": [
      "`summarise()` ungrouping output (override with `.groups` argument)\n",
      "\n"
     ]
    }
   ],
   "source": [
    "#10. Austria \n",
    "\n",
    "mv_austria <- ver_laps %>%\n",
    "                filter(raceId %in% austria_race_ID) \n",
    "\n",
    "mv_austria_clean <- mv_austria %>%\n",
    "                        group_by(raceId) %>%\n",
    "                        summarize(n = n()) %>%\n",
    "                        arrange(desc(n)) %>%\n",
    "                        head(7)\n",
    "mv_austria_clean\n",
    "mv_austria_clean_ID <- mv_austria_clean %>%\n",
    "                        pull(raceId)\n",
    "\n",
    "mv_austria_races <- ver_laps %>%\n",
    "                    filter(raceId %in% mv_austria_clean_ID)\n",
    "\n",
    "mv_austria_split <- initial_split(mv_austria_races, prop = 0.75, strata = milliseconds)\n",
    "\n",
    "mv_austria_train <- training(mv_austria_split)\n",
    "\n",
    "mv_austria_test <- testing(mv_austria_split) \n",
    "\n",
    "mv_austria_lap_times <- mv_austria_train %>%\n",
    "                        group_by(lap) %>%\n",
    "                        summarize(lap_time_avg = mean(milliseconds)) \n",
    "        \n",
    "\n",
    "mv_austria_avg_race_time <- mv_austria_lap_times %>%\n",
    "                            mutate(lap_time_avg_mins = lap_time_avg / 60000) %>%\n",
    "                            select(lap_time_avg_mins) %>%\n",
    "                            map(sum) %>%\n",
    "                            data.frame()"
   ]
  },
  {
   "cell_type": "code",
   "execution_count": 47,
   "metadata": {},
   "outputs": [
    {
     "name": "stderr",
     "output_type": "stream",
     "text": [
      "`summarise()` ungrouping output (override with `.groups` argument)\n",
      "\n"
     ]
    },
    {
     "data": {
      "text/html": [
       "<table>\n",
       "<caption>A tibble: 3 × 2</caption>\n",
       "<thead>\n",
       "\t<tr><th scope=col>raceId</th><th scope=col>n</th></tr>\n",
       "\t<tr><th scope=col>&lt;dbl&gt;</th><th scope=col>&lt;int&gt;</th></tr>\n",
       "</thead>\n",
       "<tbody>\n",
       "\t<tr><td> 996</td><td>53</td></tr>\n",
       "\t<tr><td>1017</td><td>53</td></tr>\n",
       "\t<tr><td>1059</td><td>53</td></tr>\n",
       "</tbody>\n",
       "</table>\n"
      ],
      "text/latex": [
       "A tibble: 3 × 2\n",
       "\\begin{tabular}{ll}\n",
       " raceId & n\\\\\n",
       " <dbl> & <int>\\\\\n",
       "\\hline\n",
       "\t  996 & 53\\\\\n",
       "\t 1017 & 53\\\\\n",
       "\t 1059 & 53\\\\\n",
       "\\end{tabular}\n"
      ],
      "text/markdown": [
       "\n",
       "A tibble: 3 × 2\n",
       "\n",
       "| raceId &lt;dbl&gt; | n &lt;int&gt; |\n",
       "|---|---|\n",
       "|  996 | 53 |\n",
       "| 1017 | 53 |\n",
       "| 1059 | 53 |\n",
       "\n"
      ],
      "text/plain": [
       "  raceId n \n",
       "1  996   53\n",
       "2 1017   53\n",
       "3 1059   53"
      ]
     },
     "metadata": {},
     "output_type": "display_data"
    },
    {
     "name": "stderr",
     "output_type": "stream",
     "text": [
      "`summarise()` ungrouping output (override with `.groups` argument)\n",
      "\n"
     ]
    }
   ],
   "source": [
    "#11. France \n",
    "\n",
    "mv_france <- ver_laps %>%\n",
    "                filter(raceId %in% france_race_ID) \n",
    "\n",
    "mv_france_clean <- mv_france %>%\n",
    "                        group_by(raceId) %>%\n",
    "                        summarize(n = n()) %>%\n",
    "                        arrange(desc(n)) \n",
    "mv_france_clean\n",
    "mv_france_clean_ID <- mv_france_clean %>%\n",
    "                        pull(raceId)\n",
    "\n",
    "mv_france_races <- ver_laps %>%\n",
    "                    filter(raceId %in% mv_france_clean_ID)\n",
    "\n",
    "mv_france_split <- initial_split(mv_france_races, prop = 0.75, strata = milliseconds)\n",
    "\n",
    "mv_france_train <- training(mv_france_split)\n",
    "\n",
    "mv_france_test <- testing(mv_france_split) \n",
    "\n",
    "mv_france_lap_times <- mv_france_train %>%\n",
    "                        group_by(lap) %>%\n",
    "                        summarize(lap_time_avg = mean(milliseconds)) \n",
    "        \n",
    "\n",
    "mv_france_avg_race_time <- mv_france_lap_times %>%\n",
    "                            mutate(lap_time_avg_mins = lap_time_avg / 60000) %>%\n",
    "                            select(lap_time_avg_mins) %>%\n",
    "                            map(sum) %>%\n",
    "                            data.frame()"
   ]
  },
  {
   "cell_type": "code",
   "execution_count": 48,
   "metadata": {},
   "outputs": [
    {
     "name": "stderr",
     "output_type": "stream",
     "text": [
      "`summarise()` ungrouping output (override with `.groups` argument)\n",
      "\n"
     ]
    },
    {
     "data": {
      "text/html": [
       "<table>\n",
       "<caption>A tibble: 6 × 2</caption>\n",
       "<thead>\n",
       "\t<tr><th scope=col>raceId</th><th scope=col>n</th></tr>\n",
       "\t<tr><th scope=col>&lt;dbl&gt;</th><th scope=col>&lt;int&gt;</th></tr>\n",
       "</thead>\n",
       "<tbody>\n",
       "\t<tr><td> 958</td><td>70</td></tr>\n",
       "\t<tr><td> 979</td><td>70</td></tr>\n",
       "\t<tr><td>1021</td><td>70</td></tr>\n",
       "\t<tr><td>1033</td><td>70</td></tr>\n",
       "\t<tr><td>1062</td><td>70</td></tr>\n",
       "\t<tr><td> 936</td><td>69</td></tr>\n",
       "</tbody>\n",
       "</table>\n"
      ],
      "text/latex": [
       "A tibble: 6 × 2\n",
       "\\begin{tabular}{ll}\n",
       " raceId & n\\\\\n",
       " <dbl> & <int>\\\\\n",
       "\\hline\n",
       "\t  958 & 70\\\\\n",
       "\t  979 & 70\\\\\n",
       "\t 1021 & 70\\\\\n",
       "\t 1033 & 70\\\\\n",
       "\t 1062 & 70\\\\\n",
       "\t  936 & 69\\\\\n",
       "\\end{tabular}\n"
      ],
      "text/markdown": [
       "\n",
       "A tibble: 6 × 2\n",
       "\n",
       "| raceId &lt;dbl&gt; | n &lt;int&gt; |\n",
       "|---|---|\n",
       "|  958 | 70 |\n",
       "|  979 | 70 |\n",
       "| 1021 | 70 |\n",
       "| 1033 | 70 |\n",
       "| 1062 | 70 |\n",
       "|  936 | 69 |\n",
       "\n"
      ],
      "text/plain": [
       "  raceId n \n",
       "1  958   70\n",
       "2  979   70\n",
       "3 1021   70\n",
       "4 1033   70\n",
       "5 1062   70\n",
       "6  936   69"
      ]
     },
     "metadata": {},
     "output_type": "display_data"
    },
    {
     "name": "stderr",
     "output_type": "stream",
     "text": [
      "`summarise()` ungrouping output (override with `.groups` argument)\n",
      "\n"
     ]
    }
   ],
   "source": [
    "#12. Hungary \n",
    "\n",
    "mv_hungary <- ver_laps %>%\n",
    "                filter(raceId %in% hungary_race_ID) \n",
    "\n",
    "mv_hungary_clean <- mv_hungary %>%\n",
    "                        group_by(raceId) %>%\n",
    "                        summarize(n = n()) %>%\n",
    "                        arrange(desc(n)) %>%\n",
    "                        head(6)\n",
    "mv_hungary_clean\n",
    "mv_hungary_clean_ID <- mv_hungary_clean %>%\n",
    "                        pull(raceId)\n",
    "\n",
    "mv_hungary_races <- ver_laps %>%\n",
    "                    filter(raceId %in% mv_hungary_clean_ID)\n",
    "\n",
    "mv_hungary_split <- initial_split(mv_hungary_races, prop = 0.75, strata = milliseconds)\n",
    "\n",
    "mv_hungary_train <- training(mv_hungary_split)\n",
    "\n",
    "mv_hungary_test <- testing(mv_hungary_split) \n",
    "\n",
    "mv_hungary_lap_times <- mv_hungary_train %>%\n",
    "                        group_by(lap) %>%\n",
    "                        summarize(lap_time_avg = mean(milliseconds)) \n",
    "        \n",
    "\n",
    "mv_hungary_avg_race_time <- mv_hungary_lap_times %>%\n",
    "                            mutate(lap_time_avg_mins = lap_time_avg / 60000) %>%\n",
    "                            select(lap_time_avg_mins) %>%\n",
    "                            map(sum) %>%\n",
    "                            data.frame()"
   ]
  },
  {
   "cell_type": "code",
   "execution_count": 49,
   "metadata": {},
   "outputs": [
    {
     "name": "stderr",
     "output_type": "stream",
     "text": [
      "`summarise()` ungrouping output (override with `.groups` argument)\n",
      "\n"
     ]
    },
    {
     "data": {
      "text/html": [
       "<table>\n",
       "<caption>A tibble: 4 × 2</caption>\n",
       "<thead>\n",
       "\t<tr><th scope=col>raceId</th><th scope=col>n</th></tr>\n",
       "\t<tr><th scope=col>&lt;dbl&gt;</th><th scope=col>&lt;int&gt;</th></tr>\n",
       "</thead>\n",
       "<tbody>\n",
       "\t<tr><td> 960</td><td>44</td></tr>\n",
       "\t<tr><td>1001</td><td>44</td></tr>\n",
       "\t<tr><td>1037</td><td>44</td></tr>\n",
       "\t<tr><td> 937</td><td>43</td></tr>\n",
       "</tbody>\n",
       "</table>\n"
      ],
      "text/latex": [
       "A tibble: 4 × 2\n",
       "\\begin{tabular}{ll}\n",
       " raceId & n\\\\\n",
       " <dbl> & <int>\\\\\n",
       "\\hline\n",
       "\t  960 & 44\\\\\n",
       "\t 1001 & 44\\\\\n",
       "\t 1037 & 44\\\\\n",
       "\t  937 & 43\\\\\n",
       "\\end{tabular}\n"
      ],
      "text/markdown": [
       "\n",
       "A tibble: 4 × 2\n",
       "\n",
       "| raceId &lt;dbl&gt; | n &lt;int&gt; |\n",
       "|---|---|\n",
       "|  960 | 44 |\n",
       "| 1001 | 44 |\n",
       "| 1037 | 44 |\n",
       "|  937 | 43 |\n",
       "\n"
      ],
      "text/plain": [
       "  raceId n \n",
       "1  960   44\n",
       "2 1001   44\n",
       "3 1037   44\n",
       "4  937   43"
      ]
     },
     "metadata": {},
     "output_type": "display_data"
    },
    {
     "name": "stderr",
     "output_type": "stream",
     "text": [
      "`summarise()` ungrouping output (override with `.groups` argument)\n",
      "\n"
     ]
    }
   ],
   "source": [
    "#13. Belgium \n",
    "\n",
    "mv_belgium <- ver_laps %>%\n",
    "                filter(raceId %in% belgium_race_ID) \n",
    "\n",
    "mv_belgium_clean <- mv_belgium %>%\n",
    "                        group_by(raceId) %>%\n",
    "                        summarize(n = n()) %>%\n",
    "                        arrange(desc(n)) %>%\n",
    "                        head(4)\n",
    "mv_belgium_clean\n",
    "mv_belgium_clean_ID <- mv_belgium_clean %>%\n",
    "                        pull(raceId)\n",
    "\n",
    "mv_belgium_races <- ver_laps %>%\n",
    "                    filter(raceId %in% mv_belgium_clean_ID)\n",
    "\n",
    "mv_belgium_split <- initial_split(mv_belgium_races, prop = 0.75, strata = milliseconds)\n",
    "\n",
    "mv_belgium_train <- training(mv_belgium_split)\n",
    "\n",
    "mv_belgium_test <- testing(mv_belgium_split) \n",
    "\n",
    "mv_belgium_lap_times <- mv_belgium_train %>%\n",
    "                        group_by(lap) %>%\n",
    "                        summarize(lap_time_avg = mean(milliseconds)) \n",
    "        \n",
    "\n",
    "mv_belgium_avg_race_time <- mv_belgium_lap_times %>%\n",
    "                            mutate(lap_time_avg_mins = lap_time_avg / 60000) %>%\n",
    "                            select(lap_time_avg_mins) %>%\n",
    "                            map(sum) %>%\n",
    "                            data.frame()"
   ]
  },
  {
   "cell_type": "code",
   "execution_count": 50,
   "metadata": {},
   "outputs": [
    {
     "name": "stderr",
     "output_type": "stream",
     "text": [
      "`summarise()` ungrouping output (override with `.groups` argument)\n",
      "\n"
     ]
    },
    {
     "data": {
      "text/html": [
       "<table>\n",
       "<caption>A tibble: 1 × 2</caption>\n",
       "<thead>\n",
       "\t<tr><th scope=col>raceId</th><th scope=col>n</th></tr>\n",
       "\t<tr><th scope=col>&lt;dbl&gt;</th><th scope=col>&lt;int&gt;</th></tr>\n",
       "</thead>\n",
       "<tbody>\n",
       "\t<tr><td>1064</td><td>72</td></tr>\n",
       "</tbody>\n",
       "</table>\n"
      ],
      "text/latex": [
       "A tibble: 1 × 2\n",
       "\\begin{tabular}{ll}\n",
       " raceId & n\\\\\n",
       " <dbl> & <int>\\\\\n",
       "\\hline\n",
       "\t 1064 & 72\\\\\n",
       "\\end{tabular}\n"
      ],
      "text/markdown": [
       "\n",
       "A tibble: 1 × 2\n",
       "\n",
       "| raceId &lt;dbl&gt; | n &lt;int&gt; |\n",
       "|---|---|\n",
       "| 1064 | 72 |\n",
       "\n"
      ],
      "text/plain": [
       "  raceId n \n",
       "1 1064   72"
      ]
     },
     "metadata": {},
     "output_type": "display_data"
    },
    {
     "name": "stderr",
     "output_type": "stream",
     "text": [
      "Warning message:\n",
      "“The number of observations in each quantile is below the recommended threshold of 20. Stratification will be done with 3 breaks instead.”\n",
      "`summarise()` ungrouping output (override with `.groups` argument)\n",
      "\n"
     ]
    }
   ],
   "source": [
    "#14. Netherlands \n",
    "\n",
    "mv_netherlands <- ver_laps %>%\n",
    "                filter(raceId %in% netherlands_race_ID) \n",
    "\n",
    "mv_netherlands_clean <- mv_netherlands %>%\n",
    "                        group_by(raceId) %>%\n",
    "                        summarize(n = n()) %>%\n",
    "                        arrange(desc(n)) \n",
    "mv_netherlands_clean\n",
    "mv_netherlands_clean_ID <- mv_netherlands_clean %>%\n",
    "                        pull(raceId)\n",
    "\n",
    "mv_netherlands_races <- ver_laps %>%\n",
    "                    filter(raceId %in% mv_netherlands_clean_ID)\n",
    "\n",
    "mv_netherlands_split <- initial_split(mv_netherlands_races, prop = 0.75, strata = milliseconds)\n",
    "\n",
    "mv_netherlands_train <- training(mv_netherlands_split)\n",
    "\n",
    "mv_netherlands_test <- testing(mv_netherlands_split) \n",
    "\n",
    "mv_netherlands_lap_times <- mv_netherlands_train %>%\n",
    "                        group_by(lap) %>%\n",
    "                        summarize(lap_time_avg = mean(milliseconds)) \n",
    "        \n",
    "\n",
    "mv_netherlands_avg_race_time <- mv_netherlands_lap_times %>%\n",
    "                            mutate(lap_time_avg_mins = lap_time_avg / 60000) %>%\n",
    "                            select(lap_time_avg_mins) %>%\n",
    "                            map(sum) %>%\n",
    "                            data.frame()"
   ]
  },
  {
   "cell_type": "code",
   "execution_count": 51,
   "metadata": {},
   "outputs": [
    {
     "name": "stderr",
     "output_type": "stream",
     "text": [
      "`summarise()` ungrouping output (override with `.groups` argument)\n",
      "\n"
     ]
    },
    {
     "data": {
      "text/html": [
       "<table>\n",
       "<caption>A tibble: 5 × 2</caption>\n",
       "<thead>\n",
       "\t<tr><th scope=col>raceId</th><th scope=col>n</th></tr>\n",
       "\t<tr><th scope=col>&lt;dbl&gt;</th><th scope=col>&lt;int&gt;</th></tr>\n",
       "</thead>\n",
       "<tbody>\n",
       "\t<tr><td> 961</td><td>53</td></tr>\n",
       "\t<tr><td>1002</td><td>53</td></tr>\n",
       "\t<tr><td>1023</td><td>53</td></tr>\n",
       "\t<tr><td> 938</td><td>52</td></tr>\n",
       "\t<tr><td> 981</td><td>52</td></tr>\n",
       "</tbody>\n",
       "</table>\n"
      ],
      "text/latex": [
       "A tibble: 5 × 2\n",
       "\\begin{tabular}{ll}\n",
       " raceId & n\\\\\n",
       " <dbl> & <int>\\\\\n",
       "\\hline\n",
       "\t  961 & 53\\\\\n",
       "\t 1002 & 53\\\\\n",
       "\t 1023 & 53\\\\\n",
       "\t  938 & 52\\\\\n",
       "\t  981 & 52\\\\\n",
       "\\end{tabular}\n"
      ],
      "text/markdown": [
       "\n",
       "A tibble: 5 × 2\n",
       "\n",
       "| raceId &lt;dbl&gt; | n &lt;int&gt; |\n",
       "|---|---|\n",
       "|  961 | 53 |\n",
       "| 1002 | 53 |\n",
       "| 1023 | 53 |\n",
       "|  938 | 52 |\n",
       "|  981 | 52 |\n",
       "\n"
      ],
      "text/plain": [
       "  raceId n \n",
       "1  961   53\n",
       "2 1002   53\n",
       "3 1023   53\n",
       "4  938   52\n",
       "5  981   52"
      ]
     },
     "metadata": {},
     "output_type": "display_data"
    },
    {
     "name": "stderr",
     "output_type": "stream",
     "text": [
      "`summarise()` ungrouping output (override with `.groups` argument)\n",
      "\n"
     ]
    }
   ],
   "source": [
    "#15. Monza, Italy \n",
    "\n",
    "mv_monza <- ver_laps %>%\n",
    "                filter(raceId %in% monza_race_ID) \n",
    "\n",
    "mv_monza_clean <- mv_monza %>%\n",
    "                        group_by(raceId) %>%\n",
    "                        summarize(n = n()) %>%\n",
    "                        arrange(desc(n)) %>%\n",
    "                        head(5)\n",
    "mv_monza_clean\n",
    "mv_monza_clean_ID <- mv_monza_clean %>%\n",
    "                        pull(raceId)\n",
    "\n",
    "mv_monza_races <- ver_laps %>%\n",
    "                    filter(raceId %in% mv_monza_clean_ID)\n",
    "\n",
    "mv_monza_split <- initial_split(mv_monza_races, prop = 0.75, strata = milliseconds)\n",
    "\n",
    "mv_monza_train <- training(mv_monza_split)\n",
    "\n",
    "mv_monza_test <- testing(mv_monza_split) \n",
    "\n",
    "mv_monza_lap_times <- mv_monza_train %>%\n",
    "                        group_by(lap) %>%\n",
    "                        summarize(lap_time_avg = mean(milliseconds)) \n",
    "        \n",
    "\n",
    "mv_monza_avg_race_time <- mv_monza_lap_times %>%\n",
    "                            mutate(lap_time_avg_mins = lap_time_avg / 60000) %>%\n",
    "                            select(lap_time_avg_mins) %>%\n",
    "                            map(sum) %>%\n",
    "                            data.frame()"
   ]
  },
  {
   "cell_type": "code",
   "execution_count": 52,
   "metadata": {},
   "outputs": [
    {
     "name": "stderr",
     "output_type": "stream",
     "text": [
      "`summarise()` ungrouping output (override with `.groups` argument)\n",
      "\n"
     ]
    },
    {
     "data": {
      "text/html": [
       "<table>\n",
       "<caption>A tibble: 4 × 2</caption>\n",
       "<thead>\n",
       "\t<tr><th scope=col>raceId</th><th scope=col>n</th></tr>\n",
       "\t<tr><th scope=col>&lt;dbl&gt;</th><th scope=col>&lt;int&gt;</th></tr>\n",
       "</thead>\n",
       "<tbody>\n",
       "\t<tr><td> 939</td><td>61</td></tr>\n",
       "\t<tr><td> 962</td><td>61</td></tr>\n",
       "\t<tr><td>1003</td><td>61</td></tr>\n",
       "\t<tr><td>1024</td><td>61</td></tr>\n",
       "</tbody>\n",
       "</table>\n"
      ],
      "text/latex": [
       "A tibble: 4 × 2\n",
       "\\begin{tabular}{ll}\n",
       " raceId & n\\\\\n",
       " <dbl> & <int>\\\\\n",
       "\\hline\n",
       "\t  939 & 61\\\\\n",
       "\t  962 & 61\\\\\n",
       "\t 1003 & 61\\\\\n",
       "\t 1024 & 61\\\\\n",
       "\\end{tabular}\n"
      ],
      "text/markdown": [
       "\n",
       "A tibble: 4 × 2\n",
       "\n",
       "| raceId &lt;dbl&gt; | n &lt;int&gt; |\n",
       "|---|---|\n",
       "|  939 | 61 |\n",
       "|  962 | 61 |\n",
       "| 1003 | 61 |\n",
       "| 1024 | 61 |\n",
       "\n"
      ],
      "text/plain": [
       "  raceId n \n",
       "1  939   61\n",
       "2  962   61\n",
       "3 1003   61\n",
       "4 1024   61"
      ]
     },
     "metadata": {},
     "output_type": "display_data"
    },
    {
     "name": "stderr",
     "output_type": "stream",
     "text": [
      "`summarise()` ungrouping output (override with `.groups` argument)\n",
      "\n"
     ]
    }
   ],
   "source": [
    "#16. Singapore \n",
    "\n",
    "mv_singapore <- ver_laps %>%\n",
    "                filter(raceId %in% singapore_race_ID) \n",
    "\n",
    "mv_singapore_clean <- mv_singapore %>%\n",
    "                        group_by(raceId) %>%\n",
    "                        summarize(n = n()) %>%\n",
    "                        arrange(desc(n)) \n",
    "mv_singapore_clean\n",
    "mv_singapore_clean_ID <- mv_singapore_clean %>%\n",
    "                        pull(raceId)\n",
    "\n",
    "mv_singapore_races <- ver_laps %>%\n",
    "                    filter(raceId %in% mv_singapore_clean_ID)\n",
    "\n",
    "mv_singapore_split <- initial_split(mv_singapore_races, prop = 0.75, strata = milliseconds)\n",
    "\n",
    "mv_singapore_train <- training(mv_singapore_split)\n",
    "\n",
    "mv_singapore_test <- testing(mv_singapore_split) \n",
    "\n",
    "mv_singapore_lap_times <- mv_singapore_train %>%\n",
    "                        group_by(lap) %>%\n",
    "                        summarize(lap_time_avg = mean(milliseconds)) \n",
    "        \n",
    "\n",
    "mv_singapore_avg_race_time <- mv_singapore_lap_times %>%\n",
    "                            mutate(lap_time_avg_mins = lap_time_avg / 60000) %>%\n",
    "                            select(lap_time_avg_mins) %>%\n",
    "                            map(sum) %>%\n",
    "                            data.frame()"
   ]
  },
  {
   "cell_type": "code",
   "execution_count": 53,
   "metadata": {},
   "outputs": [
    {
     "name": "stderr",
     "output_type": "stream",
     "text": [
      "`summarise()` ungrouping output (override with `.groups` argument)\n",
      "\n"
     ]
    },
    {
     "data": {
      "text/html": [
       "<table>\n",
       "<caption>A tibble: 4 × 2</caption>\n",
       "<thead>\n",
       "\t<tr><th scope=col>raceId</th><th scope=col>n</th></tr>\n",
       "\t<tr><th scope=col>&lt;dbl&gt;</th><th scope=col>&lt;int&gt;</th></tr>\n",
       "</thead>\n",
       "<tbody>\n",
       "\t<tr><td> 940</td><td>53</td></tr>\n",
       "\t<tr><td> 964</td><td>53</td></tr>\n",
       "\t<tr><td> 984</td><td>53</td></tr>\n",
       "\t<tr><td>1005</td><td>53</td></tr>\n",
       "</tbody>\n",
       "</table>\n"
      ],
      "text/latex": [
       "A tibble: 4 × 2\n",
       "\\begin{tabular}{ll}\n",
       " raceId & n\\\\\n",
       " <dbl> & <int>\\\\\n",
       "\\hline\n",
       "\t  940 & 53\\\\\n",
       "\t  964 & 53\\\\\n",
       "\t  984 & 53\\\\\n",
       "\t 1005 & 53\\\\\n",
       "\\end{tabular}\n"
      ],
      "text/markdown": [
       "\n",
       "A tibble: 4 × 2\n",
       "\n",
       "| raceId &lt;dbl&gt; | n &lt;int&gt; |\n",
       "|---|---|\n",
       "|  940 | 53 |\n",
       "|  964 | 53 |\n",
       "|  984 | 53 |\n",
       "| 1005 | 53 |\n",
       "\n"
      ],
      "text/plain": [
       "  raceId n \n",
       "1  940   53\n",
       "2  964   53\n",
       "3  984   53\n",
       "4 1005   53"
      ]
     },
     "metadata": {},
     "output_type": "display_data"
    },
    {
     "name": "stderr",
     "output_type": "stream",
     "text": [
      "`summarise()` ungrouping output (override with `.groups` argument)\n",
      "\n"
     ]
    }
   ],
   "source": [
    "#17. Japan \n",
    "\n",
    "mv_japan <- ver_laps %>%\n",
    "                filter(raceId %in% japan_race_ID) \n",
    "\n",
    "mv_japan_clean <- mv_japan %>%\n",
    "                        group_by(raceId) %>%\n",
    "                        summarize(n = n()) %>%\n",
    "                        arrange(desc(n)) %>%\n",
    "                        head(4)\n",
    "mv_japan_clean\n",
    "mv_japan_clean_ID <- mv_japan_clean %>%\n",
    "                        pull(raceId)\n",
    "\n",
    "mv_japan_races <- ver_laps %>%\n",
    "                    filter(raceId %in% mv_japan_clean_ID)\n",
    "\n",
    "mv_japan_split <- initial_split(mv_japan_races, prop = 0.75, strata = milliseconds)\n",
    "\n",
    "mv_japan_train <- training(mv_japan_split)\n",
    "\n",
    "mv_japan_test <- testing(mv_japan_split) \n",
    "\n",
    "mv_japan_lap_times <- mv_japan_train %>%\n",
    "                        group_by(lap) %>%\n",
    "                        summarize(lap_time_avg = mean(milliseconds)) \n",
    "        \n",
    "\n",
    "mv_japan_avg_race_time <- mv_japan_lap_times %>%\n",
    "                            mutate(lap_time_avg_mins = lap_time_avg / 60000) %>%\n",
    "                            select(lap_time_avg_mins) %>%\n",
    "                            map(sum) %>%\n",
    "                            data.frame()"
   ]
  },
  {
   "cell_type": "code",
   "execution_count": 54,
   "metadata": {},
   "outputs": [
    {
     "name": "stderr",
     "output_type": "stream",
     "text": [
      "`summarise()` ungrouping output (override with `.groups` argument)\n",
      "\n"
     ]
    },
    {
     "data": {
      "text/html": [
       "<table>\n",
       "<caption>A tibble: 5 × 2</caption>\n",
       "<thead>\n",
       "\t<tr><th scope=col>raceId</th><th scope=col>n</th></tr>\n",
       "\t<tr><th scope=col>&lt;dbl&gt;</th><th scope=col>&lt;int&gt;</th></tr>\n",
       "</thead>\n",
       "<tbody>\n",
       "\t<tr><td> 942</td><td>56</td></tr>\n",
       "\t<tr><td> 985</td><td>56</td></tr>\n",
       "\t<tr><td>1006</td><td>56</td></tr>\n",
       "\t<tr><td>1028</td><td>56</td></tr>\n",
       "\t<tr><td>1069</td><td>56</td></tr>\n",
       "</tbody>\n",
       "</table>\n"
      ],
      "text/latex": [
       "A tibble: 5 × 2\n",
       "\\begin{tabular}{ll}\n",
       " raceId & n\\\\\n",
       " <dbl> & <int>\\\\\n",
       "\\hline\n",
       "\t  942 & 56\\\\\n",
       "\t  985 & 56\\\\\n",
       "\t 1006 & 56\\\\\n",
       "\t 1028 & 56\\\\\n",
       "\t 1069 & 56\\\\\n",
       "\\end{tabular}\n"
      ],
      "text/markdown": [
       "\n",
       "A tibble: 5 × 2\n",
       "\n",
       "| raceId &lt;dbl&gt; | n &lt;int&gt; |\n",
       "|---|---|\n",
       "|  942 | 56 |\n",
       "|  985 | 56 |\n",
       "| 1006 | 56 |\n",
       "| 1028 | 56 |\n",
       "| 1069 | 56 |\n",
       "\n"
      ],
      "text/plain": [
       "  raceId n \n",
       "1  942   56\n",
       "2  985   56\n",
       "3 1006   56\n",
       "4 1028   56\n",
       "5 1069   56"
      ]
     },
     "metadata": {},
     "output_type": "display_data"
    },
    {
     "name": "stderr",
     "output_type": "stream",
     "text": [
      "`summarise()` ungrouping output (override with `.groups` argument)\n",
      "\n"
     ]
    }
   ],
   "source": [
    "#18. Austin, USA\n",
    "\n",
    "mv_austin <- ver_laps %>%\n",
    "                filter(raceId %in% austin_race_ID) \n",
    "\n",
    "mv_austin_clean <- mv_austin %>%\n",
    "                        group_by(raceId) %>%\n",
    "                        summarize(n = n()) %>%\n",
    "                        arrange(desc(n))  %>%\n",
    "                        head(5)\n",
    "mv_austin_clean\n",
    "mv_austin_clean_ID <- mv_austin_clean %>%\n",
    "                        pull(raceId)\n",
    "\n",
    "mv_austin_races <- ver_laps %>%\n",
    "                    filter(raceId %in% mv_austin_clean_ID)\n",
    "\n",
    "mv_austin_split <- initial_split(mv_austin_races, prop = 0.75, strata = milliseconds)\n",
    "\n",
    "mv_austin_train <- training(mv_austin_split)\n",
    "\n",
    "mv_austin_test <- testing(mv_austin_split) \n",
    "\n",
    "mv_austin_lap_times <- mv_austin_train %>%\n",
    "                        group_by(lap) %>%\n",
    "                        summarize(lap_time_avg = mean(milliseconds)) \n",
    "        \n",
    "\n",
    "mv_austin_avg_race_time <- mv_austin_lap_times %>%\n",
    "                            mutate(lap_time_avg_mins = lap_time_avg / 60000) %>%\n",
    "                            select(lap_time_avg_mins) %>%\n",
    "                            map(sum) %>%\n",
    "                            data.frame()"
   ]
  },
  {
   "cell_type": "code",
   "execution_count": 55,
   "metadata": {},
   "outputs": [
    {
     "name": "stderr",
     "output_type": "stream",
     "text": [
      "`summarise()` ungrouping output (override with `.groups` argument)\n",
      "\n"
     ]
    },
    {
     "data": {
      "text/html": [
       "<table>\n",
       "<caption>A tibble: 6 × 2</caption>\n",
       "<thead>\n",
       "\t<tr><th scope=col>raceId</th><th scope=col>n</th></tr>\n",
       "\t<tr><th scope=col>&lt;dbl&gt;</th><th scope=col>&lt;int&gt;</th></tr>\n",
       "</thead>\n",
       "<tbody>\n",
       "\t<tr><td> 943</td><td>71</td></tr>\n",
       "\t<tr><td> 966</td><td>71</td></tr>\n",
       "\t<tr><td> 986</td><td>71</td></tr>\n",
       "\t<tr><td>1007</td><td>71</td></tr>\n",
       "\t<tr><td>1027</td><td>71</td></tr>\n",
       "\t<tr><td>1070</td><td>71</td></tr>\n",
       "</tbody>\n",
       "</table>\n"
      ],
      "text/latex": [
       "A tibble: 6 × 2\n",
       "\\begin{tabular}{ll}\n",
       " raceId & n\\\\\n",
       " <dbl> & <int>\\\\\n",
       "\\hline\n",
       "\t  943 & 71\\\\\n",
       "\t  966 & 71\\\\\n",
       "\t  986 & 71\\\\\n",
       "\t 1007 & 71\\\\\n",
       "\t 1027 & 71\\\\\n",
       "\t 1070 & 71\\\\\n",
       "\\end{tabular}\n"
      ],
      "text/markdown": [
       "\n",
       "A tibble: 6 × 2\n",
       "\n",
       "| raceId &lt;dbl&gt; | n &lt;int&gt; |\n",
       "|---|---|\n",
       "|  943 | 71 |\n",
       "|  966 | 71 |\n",
       "|  986 | 71 |\n",
       "| 1007 | 71 |\n",
       "| 1027 | 71 |\n",
       "| 1070 | 71 |\n",
       "\n"
      ],
      "text/plain": [
       "  raceId n \n",
       "1  943   71\n",
       "2  966   71\n",
       "3  986   71\n",
       "4 1007   71\n",
       "5 1027   71\n",
       "6 1070   71"
      ]
     },
     "metadata": {},
     "output_type": "display_data"
    },
    {
     "name": "stderr",
     "output_type": "stream",
     "text": [
      "`summarise()` ungrouping output (override with `.groups` argument)\n",
      "\n"
     ]
    }
   ],
   "source": [
    "#19. Mexico \n",
    "\n",
    "mv_mexico <- ver_laps %>%\n",
    "                filter(raceId %in% mexico_race_ID) \n",
    "\n",
    "mv_mexico_clean <- mv_mexico %>%\n",
    "                        group_by(raceId) %>%\n",
    "                        summarize(n = n()) %>%\n",
    "                        arrange(desc(n)) \n",
    "mv_mexico_clean\n",
    "mv_mexico_clean_ID <- mv_mexico_clean %>%\n",
    "                        pull(raceId)\n",
    "\n",
    "mv_mexico_races <- ver_laps %>%\n",
    "                    filter(raceId %in% mv_mexico_clean_ID)\n",
    "\n",
    "mv_mexico_split <- initial_split(mv_mexico_races, prop = 0.75, strata = milliseconds)\n",
    "\n",
    "mv_mexico_train <- training(mv_mexico_split)\n",
    "\n",
    "mv_mexico_test <- testing(mv_mexico_split) \n",
    "\n",
    "mv_mexico_lap_times <- mv_mexico_train %>%\n",
    "                        group_by(lap) %>%\n",
    "                        summarize(lap_time_avg = mean(milliseconds)) \n",
    "        \n",
    "\n",
    "mv_mexico_avg_race_time <- mv_mexico_lap_times %>%\n",
    "                            mutate(lap_time_avg_mins = lap_time_avg / 60000) %>%\n",
    "                            select(lap_time_avg_mins) %>%\n",
    "                            map(sum) %>%\n",
    "                            data.frame()"
   ]
  },
  {
   "cell_type": "code",
   "execution_count": 56,
   "metadata": {},
   "outputs": [
    {
     "name": "stderr",
     "output_type": "stream",
     "text": [
      "`summarise()` ungrouping output (override with `.groups` argument)\n",
      "\n"
     ]
    },
    {
     "data": {
      "text/html": [
       "<table>\n",
       "<caption>A tibble: 6 × 2</caption>\n",
       "<thead>\n",
       "\t<tr><th scope=col>raceId</th><th scope=col>n</th></tr>\n",
       "\t<tr><th scope=col>&lt;dbl&gt;</th><th scope=col>&lt;int&gt;</th></tr>\n",
       "</thead>\n",
       "<tbody>\n",
       "\t<tr><td> 967</td><td>71</td></tr>\n",
       "\t<tr><td> 987</td><td>71</td></tr>\n",
       "\t<tr><td>1008</td><td>71</td></tr>\n",
       "\t<tr><td>1029</td><td>71</td></tr>\n",
       "\t<tr><td>1071</td><td>71</td></tr>\n",
       "\t<tr><td> 944</td><td>70</td></tr>\n",
       "</tbody>\n",
       "</table>\n"
      ],
      "text/latex": [
       "A tibble: 6 × 2\n",
       "\\begin{tabular}{ll}\n",
       " raceId & n\\\\\n",
       " <dbl> & <int>\\\\\n",
       "\\hline\n",
       "\t  967 & 71\\\\\n",
       "\t  987 & 71\\\\\n",
       "\t 1008 & 71\\\\\n",
       "\t 1029 & 71\\\\\n",
       "\t 1071 & 71\\\\\n",
       "\t  944 & 70\\\\\n",
       "\\end{tabular}\n"
      ],
      "text/markdown": [
       "\n",
       "A tibble: 6 × 2\n",
       "\n",
       "| raceId &lt;dbl&gt; | n &lt;int&gt; |\n",
       "|---|---|\n",
       "|  967 | 71 |\n",
       "|  987 | 71 |\n",
       "| 1008 | 71 |\n",
       "| 1029 | 71 |\n",
       "| 1071 | 71 |\n",
       "|  944 | 70 |\n",
       "\n"
      ],
      "text/plain": [
       "  raceId n \n",
       "1  967   71\n",
       "2  987   71\n",
       "3 1008   71\n",
       "4 1029   71\n",
       "5 1071   71\n",
       "6  944   70"
      ]
     },
     "metadata": {},
     "output_type": "display_data"
    },
    {
     "name": "stderr",
     "output_type": "stream",
     "text": [
      "`summarise()` ungrouping output (override with `.groups` argument)\n",
      "\n"
     ]
    }
   ],
   "source": [
    "#20. Brazil \n",
    "\n",
    "mv_brazil <- ver_laps %>%\n",
    "                filter(raceId %in% brazil_race_ID) \n",
    "\n",
    "mv_brazil_clean <- mv_brazil %>%\n",
    "                        group_by(raceId) %>%\n",
    "                        summarize(n = n()) %>%\n",
    "                        arrange(desc(n)) \n",
    "mv_brazil_clean\n",
    "mv_brazil_clean_ID <- mv_brazil_clean %>%\n",
    "                        pull(raceId)\n",
    "\n",
    "mv_brazil_races <- ver_laps %>%\n",
    "                    filter(raceId %in% mv_brazil_clean_ID)\n",
    "\n",
    "mv_brazil_split <- initial_split(mv_brazil_races, prop = 0.75, strata = milliseconds)\n",
    "\n",
    "mv_brazil_train <- training(mv_brazil_split)\n",
    "\n",
    "mv_brazil_test <- testing(mv_brazil_split) \n",
    "\n",
    "mv_brazil_lap_times <- mv_brazil_train %>%\n",
    "                        group_by(lap) %>%\n",
    "                        summarize(lap_time_avg = mean(milliseconds)) \n",
    "        \n",
    "mv_brazil_avg_race_time <- mv_brazil_lap_times %>%\n",
    "                            mutate(lap_time_avg_mins = lap_time_avg / 60000) %>%\n",
    "                            select(lap_time_avg_mins) %>%\n",
    "                            map(sum) %>%\n",
    "                            data.frame()"
   ]
  },
  {
   "cell_type": "code",
   "execution_count": 57,
   "metadata": {},
   "outputs": [
    {
     "name": "stderr",
     "output_type": "stream",
     "text": [
      "`summarise()` ungrouping output (override with `.groups` argument)\n",
      "\n"
     ]
    },
    {
     "data": {
      "text/html": [
       "<table>\n",
       "<caption>A tibble: 5 × 2</caption>\n",
       "<thead>\n",
       "\t<tr><th scope=col>raceId</th><th scope=col>n</th></tr>\n",
       "\t<tr><th scope=col>&lt;dbl&gt;</th><th scope=col>&lt;int&gt;</th></tr>\n",
       "</thead>\n",
       "<tbody>\n",
       "\t<tr><td> 968</td><td>55</td></tr>\n",
       "\t<tr><td> 988</td><td>55</td></tr>\n",
       "\t<tr><td>1009</td><td>55</td></tr>\n",
       "\t<tr><td>1030</td><td>55</td></tr>\n",
       "\t<tr><td>1047</td><td>55</td></tr>\n",
       "</tbody>\n",
       "</table>\n"
      ],
      "text/latex": [
       "A tibble: 5 × 2\n",
       "\\begin{tabular}{ll}\n",
       " raceId & n\\\\\n",
       " <dbl> & <int>\\\\\n",
       "\\hline\n",
       "\t  968 & 55\\\\\n",
       "\t  988 & 55\\\\\n",
       "\t 1009 & 55\\\\\n",
       "\t 1030 & 55\\\\\n",
       "\t 1047 & 55\\\\\n",
       "\\end{tabular}\n"
      ],
      "text/markdown": [
       "\n",
       "A tibble: 5 × 2\n",
       "\n",
       "| raceId &lt;dbl&gt; | n &lt;int&gt; |\n",
       "|---|---|\n",
       "|  968 | 55 |\n",
       "|  988 | 55 |\n",
       "| 1009 | 55 |\n",
       "| 1030 | 55 |\n",
       "| 1047 | 55 |\n",
       "\n"
      ],
      "text/plain": [
       "  raceId n \n",
       "1  968   55\n",
       "2  988   55\n",
       "3 1009   55\n",
       "4 1030   55\n",
       "5 1047   55"
      ]
     },
     "metadata": {},
     "output_type": "display_data"
    },
    {
     "name": "stderr",
     "output_type": "stream",
     "text": [
      "`summarise()` ungrouping output (override with `.groups` argument)\n",
      "\n"
     ]
    }
   ],
   "source": [
    "#21. Abu Dhabi \n",
    "\n",
    "mv_uae <- ver_laps %>%\n",
    "                filter(raceId %in% uae_race_ID) \n",
    "\n",
    "mv_uae_clean <- mv_uae %>%\n",
    "                        group_by(raceId) %>%\n",
    "                        summarize(n = n()) %>%\n",
    "                        arrange(desc(n)) %>%\n",
    "                        filter(n == 55)\n",
    "mv_uae_clean\n",
    "mv_uae_clean_ID <- mv_uae_clean %>%\n",
    "                        pull(raceId)\n",
    "\n",
    "mv_uae_races <- ver_laps %>%\n",
    "                    filter(raceId %in% mv_uae_clean_ID)\n",
    "\n",
    "mv_uae_split <- initial_split(mv_uae_races, prop = 0.75, strata = milliseconds)\n",
    "\n",
    "mv_uae_train <- training(mv_uae_split)\n",
    "\n",
    "mv_uae_test <- testing(mv_uae_split) \n",
    "\n",
    "mv_uae_lap_times <- mv_uae_train %>%\n",
    "                        group_by(lap) %>%\n",
    "                        summarize(lap_time_avg = mean(milliseconds)) \n",
    "        \n",
    "\n",
    "mv_uae_avg_race_time <- mv_uae_lap_times %>%\n",
    "                            mutate(lap_time_avg_mins = lap_time_avg / 60000) %>%\n",
    "                            select(lap_time_avg_mins) %>%\n",
    "                            map(sum) %>%\n",
    "                            data.frame()"
   ]
  }
 ],
 "metadata": {
  "kernelspec": {
   "display_name": "R",
   "language": "R",
   "name": "ir"
  },
  "language_info": {
   "codemirror_mode": "r",
   "file_extension": ".r",
   "mimetype": "text/x-r-source",
   "name": "R",
   "pygments_lexer": "r",
   "version": "4.0.0"
  }
 },
 "nbformat": 4,
 "nbformat_minor": 4
}
