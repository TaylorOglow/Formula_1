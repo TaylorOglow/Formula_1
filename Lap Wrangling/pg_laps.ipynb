{
 "cells": [
  {
   "cell_type": "markdown",
   "metadata": {},
   "source": [
    "# Pierre Gasly\n",
    "<img src=\"https://www.formula1.com/content/fom-website/en/drivers/pierre-gasly/_jcr_content/image.img.1920.medium.jpg/1646819179303.jpg\" width=\"300\">\n",
    "\n",
    "### Team: AlphaTauri\n",
    "\n",
    "<img src =\"https://www.formula1.com/content/fom-website/en/drivers/pierre-gasly/_jcr_content/helmet.img.png/1646824648814.png\" width=\"200\">\n"
   ]
  },
  {
   "cell_type": "code",
   "execution_count": 30,
   "metadata": {},
   "outputs": [],
   "source": [
    "library (tidyverse)\n",
    "library (tidymodels)"
   ]
  },
  {
   "cell_type": "code",
   "execution_count": 31,
   "metadata": {},
   "outputs": [
    {
     "name": "stderr",
     "output_type": "stream",
     "text": [
      "Parsed with column specification:\n",
      "cols(\n",
      "  circuitId = \u001b[32mcol_double()\u001b[39m,\n",
      "  circuitRef = \u001b[31mcol_character()\u001b[39m,\n",
      "  name = \u001b[31mcol_character()\u001b[39m,\n",
      "  location = \u001b[31mcol_character()\u001b[39m,\n",
      "  country = \u001b[31mcol_character()\u001b[39m,\n",
      "  lat = \u001b[32mcol_double()\u001b[39m,\n",
      "  lng = \u001b[32mcol_double()\u001b[39m,\n",
      "  alt = \u001b[31mcol_character()\u001b[39m,\n",
      "  url = \u001b[31mcol_character()\u001b[39m\n",
      ")\n",
      "\n",
      "Parsed with column specification:\n",
      "cols(\n",
      "  constructorStandingsId = \u001b[32mcol_double()\u001b[39m,\n",
      "  raceId = \u001b[32mcol_double()\u001b[39m,\n",
      "  constructorId = \u001b[32mcol_double()\u001b[39m,\n",
      "  points = \u001b[32mcol_double()\u001b[39m,\n",
      "  position = \u001b[32mcol_double()\u001b[39m,\n",
      "  positionText = \u001b[31mcol_character()\u001b[39m,\n",
      "  wins = \u001b[32mcol_double()\u001b[39m\n",
      ")\n",
      "\n",
      "Parsed with column specification:\n",
      "cols(\n",
      "  constructorResultsId = \u001b[32mcol_double()\u001b[39m,\n",
      "  raceId = \u001b[32mcol_double()\u001b[39m,\n",
      "  constructorId = \u001b[32mcol_double()\u001b[39m,\n",
      "  points = \u001b[32mcol_double()\u001b[39m,\n",
      "  status = \u001b[31mcol_character()\u001b[39m\n",
      ")\n",
      "\n",
      "Parsed with column specification:\n",
      "cols(\n",
      "  constructorId = \u001b[32mcol_double()\u001b[39m,\n",
      "  constructorRef = \u001b[31mcol_character()\u001b[39m,\n",
      "  name = \u001b[31mcol_character()\u001b[39m,\n",
      "  nationality = \u001b[31mcol_character()\u001b[39m,\n",
      "  url = \u001b[31mcol_character()\u001b[39m\n",
      ")\n",
      "\n",
      "Parsed with column specification:\n",
      "cols(\n",
      "  driverId = \u001b[32mcol_double()\u001b[39m,\n",
      "  driverRef = \u001b[31mcol_character()\u001b[39m,\n",
      "  number = \u001b[31mcol_character()\u001b[39m,\n",
      "  code = \u001b[31mcol_character()\u001b[39m,\n",
      "  forename = \u001b[31mcol_character()\u001b[39m,\n",
      "  surname = \u001b[31mcol_character()\u001b[39m,\n",
      "  dob = \u001b[34mcol_date(format = \"\")\u001b[39m,\n",
      "  nationality = \u001b[31mcol_character()\u001b[39m,\n",
      "  url = \u001b[31mcol_character()\u001b[39m\n",
      ")\n",
      "\n",
      "Parsed with column specification:\n",
      "cols(\n",
      "  driverStandingsId = \u001b[32mcol_double()\u001b[39m,\n",
      "  raceId = \u001b[32mcol_double()\u001b[39m,\n",
      "  driverId = \u001b[32mcol_double()\u001b[39m,\n",
      "  points = \u001b[32mcol_double()\u001b[39m,\n",
      "  position = \u001b[32mcol_double()\u001b[39m,\n",
      "  positionText = \u001b[32mcol_double()\u001b[39m,\n",
      "  wins = \u001b[32mcol_double()\u001b[39m\n",
      ")\n",
      "\n",
      "Warning message:\n",
      "“21 parsing failures.\n",
      "  row          col expected actual                                                                                                      file\n",
      " 4376 positionText a double      D 'https://raw.githubusercontent.com/TaylorOglow/group_project_proposal/main/data_set/driver_standings.csv'\n",
      "33375 positionText a double      - 'https://raw.githubusercontent.com/TaylorOglow/group_project_proposal/main/data_set/driver_standings.csv'\n",
      "33376 positionText a double      - 'https://raw.githubusercontent.com/TaylorOglow/group_project_proposal/main/data_set/driver_standings.csv'\n",
      "33377 positionText a double      - 'https://raw.githubusercontent.com/TaylorOglow/group_project_proposal/main/data_set/driver_standings.csv'\n",
      "33378 positionText a double      - 'https://raw.githubusercontent.com/TaylorOglow/group_project_proposal/main/data_set/driver_standings.csv'\n",
      "..... ............ ........ ...... .........................................................................................................\n",
      "See problems(...) for more details.\n",
      "”\n",
      "Parsed with column specification:\n",
      "cols(\n",
      "  raceId = \u001b[32mcol_double()\u001b[39m,\n",
      "  driverId = \u001b[32mcol_double()\u001b[39m,\n",
      "  lap = \u001b[32mcol_double()\u001b[39m,\n",
      "  position = \u001b[32mcol_double()\u001b[39m,\n",
      "  time = \u001b[34mcol_time(format = \"\")\u001b[39m,\n",
      "  milliseconds = \u001b[32mcol_double()\u001b[39m\n",
      ")\n",
      "\n",
      "Warning message:\n",
      "“223 parsing failures.\n",
      "  row  col   expected    actual                                                                                               file\n",
      "25038 time valid date 52:17.033 'https://raw.githubusercontent.com/TaylorOglow/group_project_proposal/main/data_set/lap_times.csv'\n",
      "25094 time valid date 52:17.014 'https://raw.githubusercontent.com/TaylorOglow/group_project_proposal/main/data_set/lap_times.csv'\n",
      "25150 time valid date 52:16.250 'https://raw.githubusercontent.com/TaylorOglow/group_project_proposal/main/data_set/lap_times.csv'\n",
      "25206 time valid date 52:16.891 'https://raw.githubusercontent.com/TaylorOglow/group_project_proposal/main/data_set/lap_times.csv'\n",
      "25262 time valid date 52:17.452 'https://raw.githubusercontent.com/TaylorOglow/group_project_proposal/main/data_set/lap_times.csv'\n",
      "..... .... .......... ......... ..................................................................................................\n",
      "See problems(...) for more details.\n",
      "”\n",
      "Parsed with column specification:\n",
      "cols(\n",
      "  raceId = \u001b[32mcol_double()\u001b[39m,\n",
      "  driverId = \u001b[32mcol_double()\u001b[39m,\n",
      "  stop = \u001b[32mcol_double()\u001b[39m,\n",
      "  lap = \u001b[32mcol_double()\u001b[39m,\n",
      "  time = \u001b[34mcol_time(format = \"\")\u001b[39m,\n",
      "  duration = \u001b[31mcol_character()\u001b[39m,\n",
      "  milliseconds = \u001b[32mcol_double()\u001b[39m\n",
      ")\n",
      "\n",
      "Parsed with column specification:\n",
      "cols(\n",
      "  qualifyId = \u001b[32mcol_double()\u001b[39m,\n",
      "  raceId = \u001b[32mcol_double()\u001b[39m,\n",
      "  driverId = \u001b[32mcol_double()\u001b[39m,\n",
      "  constructorId = \u001b[32mcol_double()\u001b[39m,\n",
      "  number = \u001b[32mcol_double()\u001b[39m,\n",
      "  position = \u001b[32mcol_double()\u001b[39m,\n",
      "  q1 = \u001b[31mcol_character()\u001b[39m,\n",
      "  q2 = \u001b[31mcol_character()\u001b[39m,\n",
      "  q3 = \u001b[31mcol_character()\u001b[39m\n",
      ")\n",
      "\n",
      "Parsed with column specification:\n",
      "cols(\n",
      "  resultId = \u001b[32mcol_double()\u001b[39m,\n",
      "  raceId = \u001b[32mcol_double()\u001b[39m,\n",
      "  driverId = \u001b[32mcol_double()\u001b[39m,\n",
      "  constructorId = \u001b[32mcol_double()\u001b[39m,\n",
      "  number = \u001b[32mcol_double()\u001b[39m,\n",
      "  grid = \u001b[32mcol_double()\u001b[39m,\n",
      "  position = \u001b[31mcol_character()\u001b[39m,\n",
      "  positionText = \u001b[31mcol_character()\u001b[39m,\n",
      "  positionOrder = \u001b[32mcol_double()\u001b[39m,\n",
      "  points = \u001b[32mcol_double()\u001b[39m,\n",
      "  laps = \u001b[32mcol_double()\u001b[39m,\n",
      "  time = \u001b[31mcol_character()\u001b[39m,\n",
      "  milliseconds = \u001b[31mcol_character()\u001b[39m,\n",
      "  fastestLap = \u001b[31mcol_character()\u001b[39m,\n",
      "  rank = \u001b[31mcol_character()\u001b[39m,\n",
      "  fastestLapTime = \u001b[31mcol_character()\u001b[39m,\n",
      "  fastestLapSpeed = \u001b[31mcol_character()\u001b[39m,\n",
      "  statusId = \u001b[32mcol_double()\u001b[39m\n",
      ")\n",
      "\n",
      "Warning message:\n",
      "“6 parsing failures.\n",
      "  row    col expected actual                                                                                             file\n",
      "17716 number a double    \\N 'https://raw.githubusercontent.com/TaylorOglow/group_project_proposal/main/data_set/results.csv'\n",
      "17717 number a double    \\N 'https://raw.githubusercontent.com/TaylorOglow/group_project_proposal/main/data_set/results.csv'\n",
      "17718 number a double    \\N 'https://raw.githubusercontent.com/TaylorOglow/group_project_proposal/main/data_set/results.csv'\n",
      "17719 number a double    \\N 'https://raw.githubusercontent.com/TaylorOglow/group_project_proposal/main/data_set/results.csv'\n",
      "17940 number a double    \\N 'https://raw.githubusercontent.com/TaylorOglow/group_project_proposal/main/data_set/results.csv'\n",
      "..... ...... ........ ...... ................................................................................................\n",
      "See problems(...) for more details.\n",
      "”\n",
      "Parsed with column specification:\n",
      "cols(\n",
      "  raceId = \u001b[32mcol_double()\u001b[39m,\n",
      "  year = \u001b[32mcol_double()\u001b[39m,\n",
      "  round = \u001b[32mcol_double()\u001b[39m,\n",
      "  circuitId = \u001b[32mcol_double()\u001b[39m,\n",
      "  name = \u001b[31mcol_character()\u001b[39m,\n",
      "  date = \u001b[34mcol_date(format = \"\")\u001b[39m,\n",
      "  time = \u001b[31mcol_character()\u001b[39m,\n",
      "  url = \u001b[31mcol_character()\u001b[39m\n",
      ")\n",
      "\n",
      "Parsed with column specification:\n",
      "cols(\n",
      "  statusId = \u001b[32mcol_double()\u001b[39m,\n",
      "  status = \u001b[31mcol_character()\u001b[39m\n",
      ")\n",
      "\n"
     ]
    }
   ],
   "source": [
    "# Reading dataset files\n",
    "\n",
    "circuits <- read_csv(\"https://raw.githubusercontent.com/TaylorOglow/group_project_proposal/main/data_set/circuits.csv\")\n",
    "\n",
    "constructor_standings <- read_csv(\"https://raw.githubusercontent.com/TaylorOglow/group_project_proposal/main/data_set/constructor_standings.csv\") \n",
    "\n",
    "constructor_results <- read_csv(\"https://raw.githubusercontent.com/TaylorOglow/group_project_proposal/main/data_set/constructor_results.csv\") \n",
    "    \n",
    "constructors <- read_csv(\"https://raw.githubusercontent.com/TaylorOglow/group_project_proposal/main/data_set/constructors.csv\")\n",
    "\n",
    "drivers <- read_csv(\"https://raw.githubusercontent.com/TaylorOglow/group_project_proposal/main/data_set/drivers.csv\")\n",
    "\n",
    "driver_standings <- read_csv(\"https://raw.githubusercontent.com/TaylorOglow/group_project_proposal/main/data_set/driver_standings.csv\")\n",
    "\n",
    "lap_times <- read_csv(\"https://raw.githubusercontent.com/TaylorOglow/group_project_proposal/main/data_set/lap_times.csv\") \n",
    "\n",
    "pit_stops <- read_csv(\"https://raw.githubusercontent.com/TaylorOglow/group_project_proposal/main/data_set/pit_stops.csv\")\n",
    "           \n",
    "qualifying <- read_csv(\"https://raw.githubusercontent.com/TaylorOglow/group_project_proposal/main/data_set/qualifying.csv\") \n",
    "\n",
    "results <- read_csv(\"https://raw.githubusercontent.com/TaylorOglow/group_project_proposal/main/data_set/results.csv\") \n",
    "\n",
    "races <- read_csv(\"https://raw.githubusercontent.com/TaylorOglow/group_project_proposal/main/data_set/races.csv\") \n",
    "\n",
    "status <- read_csv(\"https://raw.githubusercontent.com/TaylorOglow/group_project_proposal/main/data_set/status.csv\") "
   ]
  },
  {
   "cell_type": "code",
   "execution_count": 32,
   "metadata": {},
   "outputs": [],
   "source": [
    "# Filtering 2022 GP circuits \n",
    "\n",
    "# Vector of 2022 GP locations\n",
    "\n",
    "locations_2022 <- c(\"Sakhir\", \"Jeddah\", \"Melbourne\", \"Imola\", \"Miami\", \"Montmeló\", \"Monte-Carlo\", \"Baku\", \"Montreal\", \"Silverstone\", \"Spielberg\", \n",
    "                    \"Le Castellet\", \"Budapest\", \"Spa\", \"Zandvoort\", \"Monza\", \"Sochi\", \"Marina Bay\", \"Suzuka\", \"Austin\", \"Mexico City\", \"São Paulo\", \"Abu Dhabi\")\n",
    "\n",
    "# Filtering circuit data set by locations vector \n",
    "\n",
    "circuits_2022 <- circuits %>% \n",
    "           filter(location %in% locations_2022) %>%\n",
    "           filter(name != \"A1-Ring\") %>%\n",
    "           select(circuitId:alt)\n",
    "\n",
    "\n",
    "# Extracting 2022 circuit ID's \n",
    "\n",
    "\n",
    "circuit_ids <- circuits_2022 %>%\n",
    "              pull(circuitId)\n",
    "\n",
    "# Extracting 2022 circuit name and ID's\n",
    "\n",
    "\n",
    "circuits_IDS <- circuits_2022 %>%\n",
    "                select(circuitId, name, country, location) %>% \n",
    "                arrange(country)"
   ]
  },
  {
   "cell_type": "code",
   "execution_count": 33,
   "metadata": {},
   "outputs": [],
   "source": [
    "# Filtering 2022 Constructors\n",
    "\n",
    "team_names <- c(\"Alfa Romeo\", \"AlphaTauri\", \"Alpine F1 Team\", \"Aston Martin\", \"Ferrari\", \n",
    "                \"Haas F1 Team\", \"McLaren\", \"Mercedes\", \"Red Bull\", \"Williams\")\n",
    "\n",
    "teams_2022 <- constructors %>%\n",
    "                 filter(name %in% team_names)\n",
    "\n",
    "# Extracting 2022 Constructor ID's\n",
    "\n",
    "constructor_ids <- teams_2022 %>%\n",
    "              pull(constructorId)"
   ]
  },
  {
   "cell_type": "code",
   "execution_count": 34,
   "metadata": {},
   "outputs": [],
   "source": [
    "# Filtering 2022 Drivers\n",
    "\n",
    "driver_surnames <- c(\"Hamilton\", \"Russell\", \"Albon\", \"Zhou\", \"Bottas\", \"Gasly\", \"Tsunoda\", \"Alonso\", \"Ocon\", \"Vettel\", \"Stroll\", \n",
    "                     \"Leclerc\", \"Sainz\", \"Magnussen\", \"Schumacher\", \"Ricciardo\", \"Norris\", \"Verstappen\", \"Pérez\", \"Latifi\")\n",
    " \n",
    "drivers_2022 <- drivers %>%\n",
    "                filter(surname %in% driver_surnames) %>%\n",
    "                filter(!(forename %in% c(\"Ralf\", \"Michael\", \"Jos\", \"Duncan\", \"Jan\")))\n",
    "\n",
    "# Extracting Driver IDS\n",
    "\n",
    "driver_ids <- drivers_2022 %>%\n",
    "              pull(driverId)\n",
    "\n",
    "# Extracting Driver Codes\n",
    "\n",
    "driver_codes <- drivers_2022 %>%\n",
    "              pull(code)\n",
    "\n",
    "# Combining IDS and Codes\n",
    "\n",
    "driver_id_code <- data.frame(driver_ids, driver_codes)"
   ]
  },
  {
   "cell_type": "code",
   "execution_count": 35,
   "metadata": {},
   "outputs": [],
   "source": [
    "#### Filtering Race Data for 2022 Races\n",
    "\n",
    "past_2022_races <- races %>%\n",
    "                    filter(circuitId %in% circuit_ids) %>%\n",
    "                    filter(year != \"2022\")\n",
    "\n",
    "##### Extracting Race ID's\n",
    "\n",
    "race_ids <- past_2022_races %>%\n",
    "            pull(raceId)\n",
    "\n",
    "\n",
    "##### Filtering Race Data For All 23 Circuits\n",
    "\n",
    "#############################################\n",
    "\n",
    "bahrain <- past_2022_races %>% \n",
    "            filter(circuitId == 3) %>%\n",
    "            arrange(desc(year))\n",
    "\n",
    "bahrain_race_ID <- bahrain %>%\n",
    "                pull(raceId)\n",
    "\n",
    "#############################################\n",
    "\n",
    "sa <- past_2022_races %>% \n",
    "            filter(circuitId == 77) %>%\n",
    "            arrange(desc(year))\n",
    "\n",
    "saudi_race_ID <- sa %>%\n",
    "                pull(raceId)\n",
    "\n",
    "#############################################\n",
    "\n",
    "aus <- past_2022_races %>% \n",
    "            filter(circuitId == 1) %>%\n",
    "            arrange(desc(year))\n",
    "\n",
    "aus_race_ID <- aus %>%\n",
    "                pull(raceId)\n",
    "\n",
    "#############################################\n",
    "\n",
    "imola <- past_2022_races %>% \n",
    "            filter(circuitId == 21) %>%\n",
    "            arrange(desc(year))\n",
    "\n",
    "imola_race_ID <- imola %>%\n",
    "                pull(raceId)\n",
    "\n",
    "#############################################\n",
    "\n",
    "miami <- past_2022_races %>% \n",
    "            filter(circuitId == 79) %>%\n",
    "            arrange(desc(year))\n",
    "\n",
    "miami_race_ID <- miami %>%\n",
    "                pull(raceId)\n",
    "\n",
    "#############################################\n",
    "\n",
    "spain <- past_2022_races %>% \n",
    "            filter(circuitId == 4) %>%\n",
    "            arrange(desc(year))\n",
    "\n",
    "spain_race_ID <- spain %>%\n",
    "                pull(raceId)\n",
    "\n",
    "#############################################\n",
    "\n",
    "monaco <- past_2022_races %>% \n",
    "            filter(circuitId == 6) %>%\n",
    "            arrange(desc(year))\n",
    "\n",
    "monaco_race_ID <- monaco %>%\n",
    "                pull(raceId)\n",
    "\n",
    "#############################################\n",
    "\n",
    "azerbaijan <- past_2022_races %>% \n",
    "            filter(circuitId == 73) %>%\n",
    "            arrange(desc(year))\n",
    "\n",
    "azerbaijan_race_ID <- azerbaijan %>%\n",
    "                pull(raceId)\n",
    "\n",
    "#############################################\n",
    "\n",
    "canada <- past_2022_races %>% \n",
    "            filter(circuitId == 7) %>%\n",
    "            arrange(desc(year))\n",
    "\n",
    "canada_race_ID <- canada %>%\n",
    "                pull(raceId)\n",
    "\n",
    "#############################################\n",
    "\n",
    "uk <- past_2022_races %>% \n",
    "            filter(circuitId == 9) %>%\n",
    "            arrange(desc(year))\n",
    "\n",
    "\n",
    "uk_race_ID <- uk %>%\n",
    "                pull(raceId)\n",
    "\n",
    "#############################################\n",
    "\n",
    "austria <- past_2022_races %>% \n",
    "            filter(circuitId == 70) %>%\n",
    "            arrange(desc(year))\n",
    "\n",
    "\n",
    "austria_race_ID <- austria %>%\n",
    "                pull(raceId)\n",
    "\n",
    "#############################################\n",
    "\n",
    "france <- past_2022_races %>% \n",
    "            filter(circuitId == 34) %>%\n",
    "            arrange(desc(year))\n",
    "\n",
    "\n",
    "france_race_ID <- france %>%\n",
    "                pull(raceId)\n",
    "\n",
    "#############################################\n",
    "\n",
    "hungary <- past_2022_races %>% \n",
    "            filter(circuitId == 11) %>%\n",
    "            arrange(desc(year))\n",
    "\n",
    "\n",
    "hungary_race_ID <- hungary %>%\n",
    "                pull(raceId)\n",
    "\n",
    "#############################################\n",
    "\n",
    "belgium <- past_2022_races %>% \n",
    "            filter(circuitId == 13) %>%\n",
    "            arrange(desc(year))\n",
    "\n",
    "\n",
    "belgium_race_ID <- belgium %>%\n",
    "                pull(raceId)\n",
    "\n",
    "#############################################\n",
    "\n",
    "netherlands <- past_2022_races %>% \n",
    "            filter(circuitId == 39) %>%\n",
    "            arrange(desc(year))\n",
    "\n",
    "\n",
    "netherlands_race_ID <- netherlands %>%\n",
    "                pull(raceId)\n",
    "\n",
    "#############################################\n",
    "\n",
    "monza <- past_2022_races %>% \n",
    "            filter(circuitId == 14) %>%\n",
    "            arrange(desc(year))\n",
    "\n",
    "monza_race_ID <- monza %>%\n",
    "                pull(raceId)\n",
    "\n",
    "#############################################\n",
    "\n",
    "singapore <- past_2022_races %>% \n",
    "            filter(circuitId == 15) %>%\n",
    "            arrange(desc(year))\n",
    "\n",
    "singapore_race_ID <- singapore %>%\n",
    "                pull(raceId)\n",
    "\n",
    "#############################################\n",
    "\n",
    "japan <- past_2022_races %>% \n",
    "            filter(circuitId == 22) %>%\n",
    "            arrange(desc(year))\n",
    "\n",
    "japan_race_ID <- japan %>%\n",
    "                pull(raceId)\n",
    "\n",
    "#############################################\n",
    "\n",
    "austin <- past_2022_races %>% \n",
    "            filter(circuitId == 69) %>%\n",
    "            arrange(desc(year))\n",
    "\n",
    "austin_race_ID <- austin %>%\n",
    "                pull(raceId)\n",
    "\n",
    "#############################################\n",
    "\n",
    "mexico <- past_2022_races %>% \n",
    "            filter(circuitId == 32) %>%\n",
    "            arrange(desc(year))\n",
    "\n",
    "mexico_race_ID <- mexico %>%\n",
    "                pull(raceId)\n",
    "\n",
    "#############################################\n",
    "\n",
    "brazil <- past_2022_races %>% \n",
    "            filter(circuitId == 18) %>%\n",
    "            arrange(desc(year))\n",
    "\n",
    "brazil_race_ID <- brazil %>%\n",
    "                pull(raceId)\n",
    "\n",
    "#############################################\n",
    "\n",
    "uae <- past_2022_races %>% \n",
    "            filter(circuitId == 24) %>%\n",
    "            arrange(desc(year))\n",
    "\n",
    "uae_race_ID <- uae %>%\n",
    "                pull(raceId)"
   ]
  },
  {
   "cell_type": "code",
   "execution_count": 36,
   "metadata": {},
   "outputs": [],
   "source": [
    "# Filtering Lap Data For 2022 Drivers\n",
    "\n",
    "lap_data <- lap_times %>%\n",
    "            filter(driverId %in% driver_ids) %>%\n",
    "            filter(raceId %in% race_ids)\n",
    "\n",
    "gas_laps <- lap_data %>%\n",
    "            filter(driverId == 842)\n",
    "\n"
   ]
  },
  {
   "cell_type": "code",
   "execution_count": 37,
   "metadata": {},
   "outputs": [
    {
     "name": "stderr",
     "output_type": "stream",
     "text": [
      "`summarise()` ungrouping output (override with `.groups` argument)\n",
      "\n"
     ]
    },
    {
     "data": {
      "text/html": [
       "<table>\n",
       "<caption>A tibble: 5 × 2</caption>\n",
       "<thead>\n",
       "\t<tr><th scope=col>raceId</th><th scope=col>n</th></tr>\n",
       "\t<tr><th scope=col>&lt;dbl&gt;</th><th scope=col>&lt;int&gt;</th></tr>\n",
       "</thead>\n",
       "<tbody>\n",
       "\t<tr><td>1046</td><td>87</td></tr>\n",
       "\t<tr><td> 990</td><td>57</td></tr>\n",
       "\t<tr><td>1011</td><td>57</td></tr>\n",
       "\t<tr><td>1045</td><td>57</td></tr>\n",
       "\t<tr><td>1052</td><td>52</td></tr>\n",
       "</tbody>\n",
       "</table>\n"
      ],
      "text/latex": [
       "A tibble: 5 × 2\n",
       "\\begin{tabular}{ll}\n",
       " raceId & n\\\\\n",
       " <dbl> & <int>\\\\\n",
       "\\hline\n",
       "\t 1046 & 87\\\\\n",
       "\t  990 & 57\\\\\n",
       "\t 1011 & 57\\\\\n",
       "\t 1045 & 57\\\\\n",
       "\t 1052 & 52\\\\\n",
       "\\end{tabular}\n"
      ],
      "text/markdown": [
       "\n",
       "A tibble: 5 × 2\n",
       "\n",
       "| raceId &lt;dbl&gt; | n &lt;int&gt; |\n",
       "|---|---|\n",
       "| 1046 | 87 |\n",
       "|  990 | 57 |\n",
       "| 1011 | 57 |\n",
       "| 1045 | 57 |\n",
       "| 1052 | 52 |\n",
       "\n"
      ],
      "text/plain": [
       "  raceId n \n",
       "1 1046   87\n",
       "2  990   57\n",
       "3 1011   57\n",
       "4 1045   57\n",
       "5 1052   52"
      ]
     },
     "metadata": {},
     "output_type": "display_data"
    },
    {
     "name": "stderr",
     "output_type": "stream",
     "text": [
      "`summarise()` ungrouping output (override with `.groups` argument)\n",
      "\n"
     ]
    }
   ],
   "source": [
    "#1. Bahrain \n",
    "\n",
    "pg_bahrain <- gas_laps %>%\n",
    "                filter(raceId %in% bahrain_race_ID) \n",
    "\n",
    "pg_bahrain_clean <- pg_bahrain %>%\n",
    "                        group_by(raceId) %>%\n",
    "                        summarize(n = n()) %>%\n",
    "                        arrange(desc(n))\n",
    "pg_bahrain_clean\n",
    "pg_bahrain_clean_ID <- pg_bahrain_clean %>%\n",
    "                        pull(raceId)\n",
    "\n",
    "\n",
    "### SPLITTING DATA\n",
    "\n",
    "pg_bahrain_races <- gas_laps %>%\n",
    "                    filter(raceId %in% pg_bahrain_clean_ID)\n",
    "\n",
    "pg_bahrain_split <- initial_split(pg_bahrain_races, prop = 0.75, strata = milliseconds)\n",
    "\n",
    "pg_bahrain_train <- training(pg_bahrain_split)\n",
    "\n",
    "pg_bahrain_test <- testing(pg_bahrain_split) \n",
    "\n",
    "\n",
    "### USING DATA\n",
    "\n",
    "pg_bahrain_lap_times <- pg_bahrain_train %>%\n",
    "                        group_by(lap) %>%\n",
    "                        summarize(lap_time_avg = mean(milliseconds)) \n",
    "                        \n",
    "\n",
    "pg_bahrain_avg_race_time <- pg_bahrain_lap_times %>%\n",
    "                            mutate(lap_time_avg_mins = lap_time_avg / 60000) %>%\n",
    "                            select(lap_time_avg_mins) %>%\n",
    "                            map(sum) "
   ]
  },
  {
   "cell_type": "code",
   "execution_count": 38,
   "metadata": {},
   "outputs": [
    {
     "name": "stderr",
     "output_type": "stream",
     "text": [
      "`summarise()` ungrouping output (override with `.groups` argument)\n",
      "\n"
     ]
    },
    {
     "data": {
      "text/html": [
       "<table>\n",
       "<caption>A tibble: 1 × 2</caption>\n",
       "<thead>\n",
       "\t<tr><th scope=col>raceId</th><th scope=col>n</th></tr>\n",
       "\t<tr><th scope=col>&lt;dbl&gt;</th><th scope=col>&lt;int&gt;</th></tr>\n",
       "</thead>\n",
       "<tbody>\n",
       "\t<tr><td>1072</td><td>50</td></tr>\n",
       "</tbody>\n",
       "</table>\n"
      ],
      "text/latex": [
       "A tibble: 1 × 2\n",
       "\\begin{tabular}{ll}\n",
       " raceId & n\\\\\n",
       " <dbl> & <int>\\\\\n",
       "\\hline\n",
       "\t 1072 & 50\\\\\n",
       "\\end{tabular}\n"
      ],
      "text/markdown": [
       "\n",
       "A tibble: 1 × 2\n",
       "\n",
       "| raceId &lt;dbl&gt; | n &lt;int&gt; |\n",
       "|---|---|\n",
       "| 1072 | 50 |\n",
       "\n"
      ],
      "text/plain": [
       "  raceId n \n",
       "1 1072   50"
      ]
     },
     "metadata": {},
     "output_type": "display_data"
    },
    {
     "name": "stderr",
     "output_type": "stream",
     "text": [
      "Warning message:\n",
      "“The number of observations in each quantile is below the recommended threshold of 20. Stratification will be done with 2 breaks instead.”\n",
      "`summarise()` ungrouping output (override with `.groups` argument)\n",
      "\n"
     ]
    }
   ],
   "source": [
    "#2. Saudi Arabia\n",
    "\n",
    "pg_saudi <- gas_laps %>%\n",
    "                filter(raceId %in% saudi_race_ID) \n",
    "\n",
    "pg_saudi_clean <- pg_saudi %>%\n",
    "                        group_by(raceId) %>%\n",
    "                        summarize(n = n()) %>%\n",
    "                        arrange(desc(n)) \n",
    "pg_saudi_clean\n",
    "pg_saudi_clean_ID <- pg_saudi_clean %>%\n",
    "                        pull(raceId)\n",
    "\n",
    "\n",
    "### SPLITTING DATA\n",
    "\n",
    "pg_saudi_races <- gas_laps %>%\n",
    "                    filter(raceId %in% pg_saudi_clean_ID)\n",
    "\n",
    "pg_saudi_split <- initial_split(pg_saudi_races, prop = 0.75, strata = milliseconds)\n",
    "\n",
    "pg_saudi_train <- training(pg_saudi_split)\n",
    "\n",
    "pg_saudi_test <- testing(pg_saudi_split) \n",
    "\n",
    "\n",
    "### USING DATA\n",
    "\n",
    "pg_saudi_lap_times <- pg_saudi_train %>%\n",
    "                        group_by(lap) %>%\n",
    "                        summarize(lap_time_avg = mean(milliseconds)) \n",
    "                        \n",
    "\n",
    "pg_saudi_avg_race_time <- pg_saudi_lap_times %>%\n",
    "                            mutate(lap_time_avg_mins = lap_time_avg / 60000) %>%\n",
    "                            select(lap_time_avg_mins) %>%\n",
    "                            map(sum) "
   ]
  },
  {
   "cell_type": "code",
   "execution_count": 39,
   "metadata": {},
   "outputs": [
    {
     "name": "stderr",
     "output_type": "stream",
     "text": [
      "`summarise()` ungrouping output (override with `.groups` argument)\n",
      "\n"
     ]
    },
    {
     "data": {
      "text/html": [
       "<table>\n",
       "<caption>A tibble: 2 × 2</caption>\n",
       "<thead>\n",
       "\t<tr><th scope=col>raceId</th><th scope=col>n</th></tr>\n",
       "\t<tr><th scope=col>&lt;dbl&gt;</th><th scope=col>&lt;int&gt;</th></tr>\n",
       "</thead>\n",
       "<tbody>\n",
       "\t<tr><td>1010</td><td>57</td></tr>\n",
       "\t<tr><td> 989</td><td>13</td></tr>\n",
       "</tbody>\n",
       "</table>\n"
      ],
      "text/latex": [
       "A tibble: 2 × 2\n",
       "\\begin{tabular}{ll}\n",
       " raceId & n\\\\\n",
       " <dbl> & <int>\\\\\n",
       "\\hline\n",
       "\t 1010 & 57\\\\\n",
       "\t  989 & 13\\\\\n",
       "\\end{tabular}\n"
      ],
      "text/markdown": [
       "\n",
       "A tibble: 2 × 2\n",
       "\n",
       "| raceId &lt;dbl&gt; | n &lt;int&gt; |\n",
       "|---|---|\n",
       "| 1010 | 57 |\n",
       "|  989 | 13 |\n",
       "\n"
      ],
      "text/plain": [
       "  raceId n \n",
       "1 1010   57\n",
       "2  989   13"
      ]
     },
     "metadata": {},
     "output_type": "display_data"
    },
    {
     "name": "stderr",
     "output_type": "stream",
     "text": [
      "Warning message:\n",
      "“The number of observations in each quantile is below the recommended threshold of 20. Stratification will be done with 3 breaks instead.”\n",
      "`summarise()` ungrouping output (override with `.groups` argument)\n",
      "\n"
     ]
    }
   ],
   "source": [
    "#3. Australia\n",
    "\n",
    "pg_aus <- gas_laps %>%\n",
    "                filter(raceId %in% aus_race_ID) \n",
    "\n",
    "pg_aus_clean <- pg_aus %>%\n",
    "                        group_by(raceId) %>%\n",
    "                        summarize(n = n()) %>%\n",
    "                        arrange(desc(n)) \n",
    "pg_aus_clean\n",
    "pg_aus_clean_ID <- pg_aus_clean %>%\n",
    "                        pull(raceId)\n",
    "\n",
    "\n",
    "### SPLITTING DATA\n",
    "\n",
    "pg_aus_races <- gas_laps %>%\n",
    "                    filter(raceId %in% pg_aus_clean_ID)\n",
    "\n",
    "pg_aus_split <- initial_split(pg_aus_races, prop = 0.75, strata = milliseconds)\n",
    "\n",
    "pg_aus_train <- training(pg_aus_split)\n",
    "\n",
    "pg_aus_test <- testing(pg_aus_split) \n",
    "\n",
    "\n",
    "### USING DATA\n",
    "\n",
    "pg_aus_lap_times <- pg_aus_train %>%\n",
    "                        group_by(lap) %>%\n",
    "                        summarize(lap_time_avg = mean(milliseconds)) \n",
    "                        \n",
    "\n",
    "pg_aus_avg_race_time <- pg_aus_lap_times %>%\n",
    "                            mutate(lap_time_avg_mins = lap_time_avg / 60000) %>%\n",
    "                            select(lap_time_avg_mins) %>%\n",
    "                            map(sum) "
   ]
  },
  {
   "cell_type": "code",
   "execution_count": 40,
   "metadata": {},
   "outputs": [
    {
     "name": "stderr",
     "output_type": "stream",
     "text": [
      "`summarise()` ungrouping output (override with `.groups` argument)\n",
      "\n"
     ]
    },
    {
     "data": {
      "text/html": [
       "<table>\n",
       "<caption>A tibble: 2 × 2</caption>\n",
       "<thead>\n",
       "\t<tr><th scope=col>raceId</th><th scope=col>n</th></tr>\n",
       "\t<tr><th scope=col>&lt;dbl&gt;</th><th scope=col>&lt;int&gt;</th></tr>\n",
       "</thead>\n",
       "<tbody>\n",
       "\t<tr><td>1053</td><td>63</td></tr>\n",
       "\t<tr><td>1043</td><td> 8</td></tr>\n",
       "</tbody>\n",
       "</table>\n"
      ],
      "text/latex": [
       "A tibble: 2 × 2\n",
       "\\begin{tabular}{ll}\n",
       " raceId & n\\\\\n",
       " <dbl> & <int>\\\\\n",
       "\\hline\n",
       "\t 1053 & 63\\\\\n",
       "\t 1043 &  8\\\\\n",
       "\\end{tabular}\n"
      ],
      "text/markdown": [
       "\n",
       "A tibble: 2 × 2\n",
       "\n",
       "| raceId &lt;dbl&gt; | n &lt;int&gt; |\n",
       "|---|---|\n",
       "| 1053 | 63 |\n",
       "| 1043 |  8 |\n",
       "\n"
      ],
      "text/plain": [
       "  raceId n \n",
       "1 1053   63\n",
       "2 1043    8"
      ]
     },
     "metadata": {},
     "output_type": "display_data"
    },
    {
     "name": "stderr",
     "output_type": "stream",
     "text": [
      "Warning message:\n",
      "“The number of observations in each quantile is below the recommended threshold of 20. Stratification will be done with 3 breaks instead.”\n",
      "`summarise()` ungrouping output (override with `.groups` argument)\n",
      "\n"
     ]
    }
   ],
   "source": [
    "#4. Italy, Imola\n",
    "\n",
    "pg_imola <- gas_laps %>%\n",
    "                filter(raceId %in% imola_race_ID) \n",
    "\n",
    "pg_imola_clean <- pg_imola %>%\n",
    "                        group_by(raceId) %>%\n",
    "                        summarize(n = n()) %>%\n",
    "                        arrange(desc(n)) \n",
    "pg_imola_clean\n",
    "pg_imola_clean_ID <- pg_imola_clean %>%\n",
    "                        pull(raceId)\n",
    "\n",
    "\n",
    "### SPLITTING DATA\n",
    "\n",
    "pg_imola_races <- gas_laps %>%\n",
    "                    filter(raceId %in% pg_imola_clean_ID)\n",
    "\n",
    "pg_imola_split <- initial_split(pg_imola_races, prop = 0.75, strata = milliseconds)\n",
    "\n",
    "pg_imola_train <- training(pg_imola_split)\n",
    "\n",
    "pg_imola_test <- testing(pg_imola_split) \n",
    "\n",
    "\n",
    "### USING DATA\n",
    "\n",
    "pg_imola_lap_times <- pg_imola_train %>%\n",
    "                        group_by(lap) %>%\n",
    "                        summarize(lap_time_avg = mean(milliseconds)) \n",
    "                        \n",
    "\n",
    "pg_imola_avg_race_time <- pg_imola_lap_times %>%\n",
    "                            mutate(lap_time_avg_mins = lap_time_avg / 60000) %>%\n",
    "                            select(lap_time_avg_mins) %>%\n",
    "                            map(sum) "
   ]
  },
  {
   "cell_type": "code",
   "execution_count": 41,
   "metadata": {},
   "outputs": [
    {
     "name": "stderr",
     "output_type": "stream",
     "text": [
      "`summarise()` ungrouping output (override with `.groups` argument)\n",
      "\n"
     ]
    },
    {
     "data": {
      "text/html": [
       "<table>\n",
       "<caption>A tibble: 3 × 2</caption>\n",
       "<thead>\n",
       "\t<tr><th scope=col>raceId</th><th scope=col>n</th></tr>\n",
       "\t<tr><th scope=col>&lt;dbl&gt;</th><th scope=col>&lt;int&gt;</th></tr>\n",
       "</thead>\n",
       "<tbody>\n",
       "\t<tr><td>1014</td><td>66</td></tr>\n",
       "\t<tr><td>1036</td><td>65</td></tr>\n",
       "\t<tr><td>1055</td><td>65</td></tr>\n",
       "</tbody>\n",
       "</table>\n"
      ],
      "text/latex": [
       "A tibble: 3 × 2\n",
       "\\begin{tabular}{ll}\n",
       " raceId & n\\\\\n",
       " <dbl> & <int>\\\\\n",
       "\\hline\n",
       "\t 1014 & 66\\\\\n",
       "\t 1036 & 65\\\\\n",
       "\t 1055 & 65\\\\\n",
       "\\end{tabular}\n"
      ],
      "text/markdown": [
       "\n",
       "A tibble: 3 × 2\n",
       "\n",
       "| raceId &lt;dbl&gt; | n &lt;int&gt; |\n",
       "|---|---|\n",
       "| 1014 | 66 |\n",
       "| 1036 | 65 |\n",
       "| 1055 | 65 |\n",
       "\n"
      ],
      "text/plain": [
       "  raceId n \n",
       "1 1014   66\n",
       "2 1036   65\n",
       "3 1055   65"
      ]
     },
     "metadata": {},
     "output_type": "display_data"
    },
    {
     "name": "stderr",
     "output_type": "stream",
     "text": [
      "`summarise()` ungrouping output (override with `.groups` argument)\n",
      "\n"
     ]
    }
   ],
   "source": [
    "#5. Spain\n",
    "\n",
    "pg_spain <- gas_laps %>%\n",
    "                filter(raceId %in% spain_race_ID) \n",
    "\n",
    "pg_spain_clean <- pg_spain %>%\n",
    "                        group_by(raceId) %>%\n",
    "                        summarize(n = n()) %>%\n",
    "                        arrange(desc(n)) \n",
    "pg_spain_clean\n",
    "pg_spain_clean_ID <- pg_spain_clean %>%\n",
    "                        pull(raceId)\n",
    "\n",
    "\n",
    "### SPLITTING DATA\n",
    "\n",
    "pg_spain_races <- gas_laps %>%\n",
    "                    filter(raceId %in% pg_spain_clean_ID)\n",
    "\n",
    "pg_spain_split <- initial_split(pg_spain_races, prop = 0.75, strata = milliseconds)\n",
    "\n",
    "pg_spain_train <- training(pg_spain_split)\n",
    "\n",
    "pg_spain_test <- testing(pg_spain_split) \n",
    "\n",
    "\n",
    "### USING DATA\n",
    "\n",
    "pg_spain_lap_times <- pg_spain_train %>%\n",
    "                        group_by(lap) %>%\n",
    "                        summarize(lap_time_avg = mean(milliseconds)) \n",
    "                        \n",
    "\n",
    "pg_spain_avg_race_time <- pg_spain_lap_times %>%\n",
    "                            mutate(lap_time_avg_mins = lap_time_avg / 60000) %>%\n",
    "                            select(lap_time_avg_mins) %>%\n",
    "                            map(sum) "
   ]
  },
  {
   "cell_type": "code",
   "execution_count": 42,
   "metadata": {},
   "outputs": [
    {
     "name": "stderr",
     "output_type": "stream",
     "text": [
      "`summarise()` ungrouping output (override with `.groups` argument)\n",
      "\n"
     ]
    },
    {
     "data": {
      "text/html": [
       "<table>\n",
       "<caption>A tibble: 3 × 2</caption>\n",
       "<thead>\n",
       "\t<tr><th scope=col>raceId</th><th scope=col>n</th></tr>\n",
       "\t<tr><th scope=col>&lt;dbl&gt;</th><th scope=col>&lt;int&gt;</th></tr>\n",
       "</thead>\n",
       "<tbody>\n",
       "\t<tr><td> 994</td><td>78</td></tr>\n",
       "\t<tr><td>1015</td><td>78</td></tr>\n",
       "\t<tr><td>1056</td><td>78</td></tr>\n",
       "</tbody>\n",
       "</table>\n"
      ],
      "text/latex": [
       "A tibble: 3 × 2\n",
       "\\begin{tabular}{ll}\n",
       " raceId & n\\\\\n",
       " <dbl> & <int>\\\\\n",
       "\\hline\n",
       "\t  994 & 78\\\\\n",
       "\t 1015 & 78\\\\\n",
       "\t 1056 & 78\\\\\n",
       "\\end{tabular}\n"
      ],
      "text/markdown": [
       "\n",
       "A tibble: 3 × 2\n",
       "\n",
       "| raceId &lt;dbl&gt; | n &lt;int&gt; |\n",
       "|---|---|\n",
       "|  994 | 78 |\n",
       "| 1015 | 78 |\n",
       "| 1056 | 78 |\n",
       "\n"
      ],
      "text/plain": [
       "  raceId n \n",
       "1  994   78\n",
       "2 1015   78\n",
       "3 1056   78"
      ]
     },
     "metadata": {},
     "output_type": "display_data"
    },
    {
     "name": "stderr",
     "output_type": "stream",
     "text": [
      "`summarise()` ungrouping output (override with `.groups` argument)\n",
      "\n"
     ]
    }
   ],
   "source": [
    "#6. Monaco\n",
    "\n",
    "pg_monaco <- gas_laps %>%\n",
    "                filter(raceId %in% monaco_race_ID) \n",
    "\n",
    "pg_monaco_clean <- pg_monaco %>%\n",
    "                        group_by(raceId) %>%\n",
    "                        summarize(n = n()) %>%\n",
    "                        arrange(desc(n)) \n",
    "pg_monaco_clean\n",
    "pg_monaco_clean_ID <- pg_monaco_clean %>%\n",
    "                        pull(raceId)\n",
    "\n",
    "\n",
    "### SPLITTING DATA\n",
    "\n",
    "pg_monaco_races <- gas_laps %>%\n",
    "                    filter(raceId %in% pg_monaco_clean_ID)\n",
    "\n",
    "pg_monaco_split <- initial_split(pg_monaco_races, prop = 0.75, strata = milliseconds)\n",
    "\n",
    "pg_monaco_train <- training(pg_monaco_split)\n",
    "\n",
    "pg_monaco_test <- testing(pg_monaco_split) \n",
    "\n",
    "\n",
    "### USING DATA\n",
    "\n",
    "pg_monaco_lap_times <- pg_monaco_train %>%\n",
    "                        group_by(lap) %>%\n",
    "                        summarize(lap_time_avg = mean(milliseconds)) \n",
    "                        \n",
    "\n",
    "pg_monaco_avg_race_time <- pg_monaco_lap_times %>%\n",
    "                            mutate(lap_time_avg_mins = lap_time_avg / 60000) %>%\n",
    "                            select(lap_time_avg_mins) %>%\n",
    "                            map(sum) "
   ]
  },
  {
   "cell_type": "code",
   "execution_count": 43,
   "metadata": {},
   "outputs": [
    {
     "name": "stderr",
     "output_type": "stream",
     "text": [
      "`summarise()` ungrouping output (override with `.groups` argument)\n",
      "\n"
     ]
    },
    {
     "data": {
      "text/html": [
       "<table>\n",
       "<caption>A tibble: 3 × 2</caption>\n",
       "<thead>\n",
       "\t<tr><th scope=col>raceId</th><th scope=col>n</th></tr>\n",
       "\t<tr><th scope=col>&lt;dbl&gt;</th><th scope=col>&lt;int&gt;</th></tr>\n",
       "</thead>\n",
       "<tbody>\n",
       "\t<tr><td> 992</td><td>51</td></tr>\n",
       "\t<tr><td>1057</td><td>51</td></tr>\n",
       "\t<tr><td>1013</td><td>38</td></tr>\n",
       "</tbody>\n",
       "</table>\n"
      ],
      "text/latex": [
       "A tibble: 3 × 2\n",
       "\\begin{tabular}{ll}\n",
       " raceId & n\\\\\n",
       " <dbl> & <int>\\\\\n",
       "\\hline\n",
       "\t  992 & 51\\\\\n",
       "\t 1057 & 51\\\\\n",
       "\t 1013 & 38\\\\\n",
       "\\end{tabular}\n"
      ],
      "text/markdown": [
       "\n",
       "A tibble: 3 × 2\n",
       "\n",
       "| raceId &lt;dbl&gt; | n &lt;int&gt; |\n",
       "|---|---|\n",
       "|  992 | 51 |\n",
       "| 1057 | 51 |\n",
       "| 1013 | 38 |\n",
       "\n"
      ],
      "text/plain": [
       "  raceId n \n",
       "1  992   51\n",
       "2 1057   51\n",
       "3 1013   38"
      ]
     },
     "metadata": {},
     "output_type": "display_data"
    },
    {
     "name": "stderr",
     "output_type": "stream",
     "text": [
      "`summarise()` ungrouping output (override with `.groups` argument)\n",
      "\n"
     ]
    }
   ],
   "source": [
    "#7. Azerbaijan\n",
    "\n",
    "pg_azerbaijan <- gas_laps %>%\n",
    "                filter(raceId %in% azerbaijan_race_ID) \n",
    "\n",
    "pg_azerbaijan_clean <- pg_azerbaijan %>%\n",
    "                        group_by(raceId) %>%\n",
    "                        summarize(n = n()) %>%\n",
    "                        arrange(desc(n)) \n",
    "pg_azerbaijan_clean\n",
    "pg_azerbaijan_clean_ID <- pg_azerbaijan_clean %>%\n",
    "                        pull(raceId)\n",
    "\n",
    "\n",
    "### SPLITTING DATA\n",
    "\n",
    "pg_azerbaijan_races <- gas_laps %>%\n",
    "                    filter(raceId %in% pg_azerbaijan_clean_ID)\n",
    "\n",
    "pg_azerbaijan_split <- initial_split(pg_azerbaijan_races, prop = 0.75, strata = milliseconds)\n",
    "\n",
    "pg_azerbaijan_train <- training(pg_azerbaijan_split)\n",
    "\n",
    "pg_azerbaijan_test <- testing(pg_azerbaijan_split) \n",
    "\n",
    "\n",
    "### USING DATA\n",
    "\n",
    "pg_azerbaijan_lap_times <- pg_azerbaijan_train %>%\n",
    "                        group_by(lap) %>%\n",
    "                        summarize(lap_time_avg = mean(milliseconds)) \n",
    "                        \n",
    "\n",
    "pg_azerbaijan_avg_race_time <- pg_azerbaijan_lap_times %>%\n",
    "                            mutate(lap_time_avg_mins = lap_time_avg / 60000) %>%\n",
    "                            select(lap_time_avg_mins) %>%\n",
    "                            map(sum) "
   ]
  },
  {
   "cell_type": "code",
   "execution_count": 44,
   "metadata": {},
   "outputs": [
    {
     "name": "stderr",
     "output_type": "stream",
     "text": [
      "`summarise()` ungrouping output (override with `.groups` argument)\n",
      "\n"
     ]
    },
    {
     "data": {
      "text/html": [
       "<table>\n",
       "<caption>A tibble: 2 × 2</caption>\n",
       "<thead>\n",
       "\t<tr><th scope=col>raceId</th><th scope=col>n</th></tr>\n",
       "\t<tr><th scope=col>&lt;dbl&gt;</th><th scope=col>&lt;int&gt;</th></tr>\n",
       "</thead>\n",
       "<tbody>\n",
       "\t<tr><td>1016</td><td>69</td></tr>\n",
       "\t<tr><td> 995</td><td>67</td></tr>\n",
       "</tbody>\n",
       "</table>\n"
      ],
      "text/latex": [
       "A tibble: 2 × 2\n",
       "\\begin{tabular}{ll}\n",
       " raceId & n\\\\\n",
       " <dbl> & <int>\\\\\n",
       "\\hline\n",
       "\t 1016 & 69\\\\\n",
       "\t  995 & 67\\\\\n",
       "\\end{tabular}\n"
      ],
      "text/markdown": [
       "\n",
       "A tibble: 2 × 2\n",
       "\n",
       "| raceId &lt;dbl&gt; | n &lt;int&gt; |\n",
       "|---|---|\n",
       "| 1016 | 69 |\n",
       "|  995 | 67 |\n",
       "\n"
      ],
      "text/plain": [
       "  raceId n \n",
       "1 1016   69\n",
       "2  995   67"
      ]
     },
     "metadata": {},
     "output_type": "display_data"
    },
    {
     "name": "stderr",
     "output_type": "stream",
     "text": [
      "`summarise()` ungrouping output (override with `.groups` argument)\n",
      "\n"
     ]
    }
   ],
   "source": [
    "#8. Canada\n",
    "\n",
    "pg_canada <- gas_laps %>%\n",
    "                filter(raceId %in% canada_race_ID) \n",
    "\n",
    "pg_canada_clean <- pg_canada %>%\n",
    "                        group_by(raceId) %>%\n",
    "                        summarize(n = n()) %>%\n",
    "                        arrange(desc(n)) \n",
    "pg_canada_clean\n",
    "pg_canada_clean_ID <- pg_canada_clean %>%\n",
    "                        pull(raceId)\n",
    "\n",
    "\n",
    "### SPLITTING DATA\n",
    "\n",
    "pg_canada_races <- gas_laps %>%\n",
    "                    filter(raceId %in% pg_canada_clean_ID)\n",
    "\n",
    "pg_canada_split <- initial_split(pg_canada_races, prop = 0.75, strata = milliseconds)\n",
    "\n",
    "pg_canada_train <- training(pg_canada_split)\n",
    "\n",
    "pg_canada_test <- testing(pg_canada_split) \n",
    "\n",
    "\n",
    "### USING DATA\n",
    "\n",
    "pg_canada_lap_times <- pg_canada_train %>%\n",
    "                        group_by(lap) %>%\n",
    "                        summarize(lap_time_avg = mean(milliseconds)) \n",
    "                        \n",
    "\n",
    "pg_canada_avg_race_time <- pg_canada_lap_times %>%\n",
    "                            mutate(lap_time_avg_mins = lap_time_avg / 60000) %>%\n",
    "                            select(lap_time_avg_mins) %>%\n",
    "                            map(sum) "
   ]
  },
  {
   "cell_type": "code",
   "execution_count": 45,
   "metadata": {},
   "outputs": [
    {
     "name": "stderr",
     "output_type": "stream",
     "text": [
      "`summarise()` ungrouping output (override with `.groups` argument)\n",
      "\n"
     ]
    },
    {
     "data": {
      "text/html": [
       "<table>\n",
       "<caption>A tibble: 5 × 2</caption>\n",
       "<thead>\n",
       "\t<tr><th scope=col>raceId</th><th scope=col>n</th></tr>\n",
       "\t<tr><th scope=col>&lt;dbl&gt;</th><th scope=col>&lt;int&gt;</th></tr>\n",
       "</thead>\n",
       "<tbody>\n",
       "\t<tr><td> 998</td><td>52</td></tr>\n",
       "\t<tr><td>1019</td><td>52</td></tr>\n",
       "\t<tr><td>1034</td><td>52</td></tr>\n",
       "\t<tr><td>1035</td><td>52</td></tr>\n",
       "\t<tr><td>1061</td><td>52</td></tr>\n",
       "</tbody>\n",
       "</table>\n"
      ],
      "text/latex": [
       "A tibble: 5 × 2\n",
       "\\begin{tabular}{ll}\n",
       " raceId & n\\\\\n",
       " <dbl> & <int>\\\\\n",
       "\\hline\n",
       "\t  998 & 52\\\\\n",
       "\t 1019 & 52\\\\\n",
       "\t 1034 & 52\\\\\n",
       "\t 1035 & 52\\\\\n",
       "\t 1061 & 52\\\\\n",
       "\\end{tabular}\n"
      ],
      "text/markdown": [
       "\n",
       "A tibble: 5 × 2\n",
       "\n",
       "| raceId &lt;dbl&gt; | n &lt;int&gt; |\n",
       "|---|---|\n",
       "|  998 | 52 |\n",
       "| 1019 | 52 |\n",
       "| 1034 | 52 |\n",
       "| 1035 | 52 |\n",
       "| 1061 | 52 |\n",
       "\n"
      ],
      "text/plain": [
       "  raceId n \n",
       "1  998   52\n",
       "2 1019   52\n",
       "3 1034   52\n",
       "4 1035   52\n",
       "5 1061   52"
      ]
     },
     "metadata": {},
     "output_type": "display_data"
    },
    {
     "name": "stderr",
     "output_type": "stream",
     "text": [
      "`summarise()` ungrouping output (override with `.groups` argument)\n",
      "\n"
     ]
    }
   ],
   "source": [
    "#9. Great Britain\n",
    "\n",
    "pg_uk <- gas_laps %>%\n",
    "                filter(raceId %in% uk_race_ID) \n",
    "\n",
    "pg_uk_clean <- pg_uk %>%\n",
    "                        group_by(raceId) %>%\n",
    "                        summarize(n = n()) %>%\n",
    "                        arrange(desc(n)) \n",
    "pg_uk_clean\n",
    "pg_uk_clean_ID <- pg_uk_clean %>%\n",
    "                        pull(raceId)\n",
    "\n",
    "\n",
    "### SPLITTING DATA\n",
    "\n",
    "pg_uk_races <- gas_laps %>%\n",
    "                    filter(raceId %in% pg_uk_clean_ID)\n",
    "\n",
    "pg_uk_split <- initial_split(pg_uk_races, prop = 0.75, strata = milliseconds)\n",
    "\n",
    "pg_uk_train <- training(pg_uk_split)\n",
    "\n",
    "pg_uk_test <- testing(pg_uk_split) \n",
    "\n",
    "\n",
    "### USING DATA\n",
    "\n",
    "pg_uk_lap_times <- pg_uk_train %>%\n",
    "                        group_by(lap) %>%\n",
    "                        summarize(lap_time_avg = mean(milliseconds)) \n",
    "                        \n",
    "\n",
    "pg_uk_avg_race_time <- pg_uk_lap_times %>%\n",
    "                            mutate(lap_time_avg_mins = lap_time_avg / 60000) %>%\n",
    "                            select(lap_time_avg_mins) %>%\n",
    "                            map(sum) "
   ]
  },
  {
   "cell_type": "code",
   "execution_count": 46,
   "metadata": {},
   "outputs": [
    {
     "name": "stderr",
     "output_type": "stream",
     "text": [
      "`summarise()` ungrouping output (override with `.groups` argument)\n",
      "\n"
     ]
    },
    {
     "data": {
      "text/html": [
       "<table>\n",
       "<caption>A tibble: 6 × 2</caption>\n",
       "<thead>\n",
       "\t<tr><th scope=col>raceId</th><th scope=col>n</th></tr>\n",
       "\t<tr><th scope=col>&lt;dbl&gt;</th><th scope=col>&lt;int&gt;</th></tr>\n",
       "</thead>\n",
       "<tbody>\n",
       "\t<tr><td>1031</td><td>71</td></tr>\n",
       "\t<tr><td>1060</td><td>71</td></tr>\n",
       "\t<tr><td> 997</td><td>70</td></tr>\n",
       "\t<tr><td>1018</td><td>70</td></tr>\n",
       "\t<tr><td>1032</td><td>70</td></tr>\n",
       "\t<tr><td>1058</td><td> 1</td></tr>\n",
       "</tbody>\n",
       "</table>\n"
      ],
      "text/latex": [
       "A tibble: 6 × 2\n",
       "\\begin{tabular}{ll}\n",
       " raceId & n\\\\\n",
       " <dbl> & <int>\\\\\n",
       "\\hline\n",
       "\t 1031 & 71\\\\\n",
       "\t 1060 & 71\\\\\n",
       "\t  997 & 70\\\\\n",
       "\t 1018 & 70\\\\\n",
       "\t 1032 & 70\\\\\n",
       "\t 1058 &  1\\\\\n",
       "\\end{tabular}\n"
      ],
      "text/markdown": [
       "\n",
       "A tibble: 6 × 2\n",
       "\n",
       "| raceId &lt;dbl&gt; | n &lt;int&gt; |\n",
       "|---|---|\n",
       "| 1031 | 71 |\n",
       "| 1060 | 71 |\n",
       "|  997 | 70 |\n",
       "| 1018 | 70 |\n",
       "| 1032 | 70 |\n",
       "| 1058 |  1 |\n",
       "\n"
      ],
      "text/plain": [
       "  raceId n \n",
       "1 1031   71\n",
       "2 1060   71\n",
       "3  997   70\n",
       "4 1018   70\n",
       "5 1032   70\n",
       "6 1058    1"
      ]
     },
     "metadata": {},
     "output_type": "display_data"
    },
    {
     "name": "stderr",
     "output_type": "stream",
     "text": [
      "`summarise()` ungrouping output (override with `.groups` argument)\n",
      "\n"
     ]
    }
   ],
   "source": [
    "#10. Austria\n",
    "\n",
    "pg_austria <- gas_laps %>%\n",
    "                filter(raceId %in% austria_race_ID) \n",
    "\n",
    "pg_austria_clean <- pg_austria %>%\n",
    "                        group_by(raceId) %>%\n",
    "                        summarize(n = n()) %>%\n",
    "                        arrange(desc(n)) \n",
    "pg_austria_clean\n",
    "pg_austria_clean_ID <- pg_austria_clean %>%\n",
    "                        pull(raceId)\n",
    "\n",
    "\n",
    "### SPLITTING DATA\n",
    "\n",
    "pg_austria_races <- gas_laps %>%\n",
    "                    filter(raceId %in% pg_austria_clean_ID)\n",
    "\n",
    "pg_austria_split <- initial_split(pg_austria_races, prop = 0.75, strata = milliseconds)\n",
    "\n",
    "pg_austria_train <- training(pg_austria_split)\n",
    "\n",
    "pg_austria_test <- testing(pg_austria_split) \n",
    "\n",
    "\n",
    "### USING DATA\n",
    "\n",
    "pg_austria_lap_times <- pg_austria_train %>%\n",
    "                        group_by(lap) %>%\n",
    "                        summarize(lap_time_avg = mean(milliseconds)) \n",
    "                        \n",
    "\n",
    "pg_austria_avg_race_time <- pg_austria_lap_times %>%\n",
    "                            mutate(lap_time_avg_mins = lap_time_avg / 60000) %>%\n",
    "                            select(lap_time_avg_mins) %>%\n",
    "                            map(sum) "
   ]
  },
  {
   "cell_type": "code",
   "execution_count": 47,
   "metadata": {},
   "outputs": [
    {
     "name": "stderr",
     "output_type": "stream",
     "text": [
      "`summarise()` ungrouping output (override with `.groups` argument)\n",
      "\n"
     ]
    },
    {
     "data": {
      "text/html": [
       "<table>\n",
       "<caption>A tibble: 2 × 2</caption>\n",
       "<thead>\n",
       "\t<tr><th scope=col>raceId</th><th scope=col>n</th></tr>\n",
       "\t<tr><th scope=col>&lt;dbl&gt;</th><th scope=col>&lt;int&gt;</th></tr>\n",
       "</thead>\n",
       "<tbody>\n",
       "\t<tr><td>1059</td><td>53</td></tr>\n",
       "\t<tr><td>1017</td><td>52</td></tr>\n",
       "</tbody>\n",
       "</table>\n"
      ],
      "text/latex": [
       "A tibble: 2 × 2\n",
       "\\begin{tabular}{ll}\n",
       " raceId & n\\\\\n",
       " <dbl> & <int>\\\\\n",
       "\\hline\n",
       "\t 1059 & 53\\\\\n",
       "\t 1017 & 52\\\\\n",
       "\\end{tabular}\n"
      ],
      "text/markdown": [
       "\n",
       "A tibble: 2 × 2\n",
       "\n",
       "| raceId &lt;dbl&gt; | n &lt;int&gt; |\n",
       "|---|---|\n",
       "| 1059 | 53 |\n",
       "| 1017 | 52 |\n",
       "\n"
      ],
      "text/plain": [
       "  raceId n \n",
       "1 1059   53\n",
       "2 1017   52"
      ]
     },
     "metadata": {},
     "output_type": "display_data"
    },
    {
     "name": "stderr",
     "output_type": "stream",
     "text": [
      "`summarise()` ungrouping output (override with `.groups` argument)\n",
      "\n"
     ]
    }
   ],
   "source": [
    "#11. France\n",
    "\n",
    "pg_france <- gas_laps %>%\n",
    "                filter(raceId %in% france_race_ID) \n",
    "\n",
    "pg_france_clean <- pg_france %>%\n",
    "                        group_by(raceId) %>%\n",
    "                        summarize(n = n()) %>%\n",
    "                        arrange(desc(n)) \n",
    "pg_france_clean\n",
    "pg_france_clean_ID <- pg_france_clean %>%\n",
    "                        pull(raceId)\n",
    "\n",
    "\n",
    "### SPLITTING DATA\n",
    "\n",
    "pg_france_races <- gas_laps %>%\n",
    "                    filter(raceId %in% pg_france_clean_ID)\n",
    "\n",
    "pg_france_split <- initial_split(pg_france_races, prop = 0.75, strata = milliseconds)\n",
    "\n",
    "pg_france_train <- training(pg_france_split)\n",
    "\n",
    "pg_france_test <- testing(pg_france_split) \n",
    "\n",
    "\n",
    "### USING DATA\n",
    "\n",
    "pg_france_lap_times <- pg_france_train %>%\n",
    "                        group_by(lap) %>%\n",
    "                        summarize(lap_time_avg = mean(milliseconds)) \n",
    "                        \n",
    "\n",
    "pg_france_avg_race_time <- pg_france_lap_times %>%\n",
    "                            mutate(lap_time_avg_mins = lap_time_avg / 60000) %>%\n",
    "                            select(lap_time_avg_mins) %>%\n",
    "                            map(sum) "
   ]
  },
  {
   "cell_type": "code",
   "execution_count": 48,
   "metadata": {},
   "outputs": [
    {
     "name": "stderr",
     "output_type": "stream",
     "text": [
      "`summarise()` ungrouping output (override with `.groups` argument)\n",
      "\n"
     ]
    },
    {
     "data": {
      "text/html": [
       "<table>\n",
       "<caption>A tibble: 4 × 2</caption>\n",
       "<thead>\n",
       "\t<tr><th scope=col>raceId</th><th scope=col>n</th></tr>\n",
       "\t<tr><th scope=col>&lt;dbl&gt;</th><th scope=col>&lt;int&gt;</th></tr>\n",
       "</thead>\n",
       "<tbody>\n",
       "\t<tr><td>1000</td><td>70</td></tr>\n",
       "\t<tr><td>1062</td><td>70</td></tr>\n",
       "\t<tr><td>1021</td><td>69</td></tr>\n",
       "\t<tr><td>1033</td><td>15</td></tr>\n",
       "</tbody>\n",
       "</table>\n"
      ],
      "text/latex": [
       "A tibble: 4 × 2\n",
       "\\begin{tabular}{ll}\n",
       " raceId & n\\\\\n",
       " <dbl> & <int>\\\\\n",
       "\\hline\n",
       "\t 1000 & 70\\\\\n",
       "\t 1062 & 70\\\\\n",
       "\t 1021 & 69\\\\\n",
       "\t 1033 & 15\\\\\n",
       "\\end{tabular}\n"
      ],
      "text/markdown": [
       "\n",
       "A tibble: 4 × 2\n",
       "\n",
       "| raceId &lt;dbl&gt; | n &lt;int&gt; |\n",
       "|---|---|\n",
       "| 1000 | 70 |\n",
       "| 1062 | 70 |\n",
       "| 1021 | 69 |\n",
       "| 1033 | 15 |\n",
       "\n"
      ],
      "text/plain": [
       "  raceId n \n",
       "1 1000   70\n",
       "2 1062   70\n",
       "3 1021   69\n",
       "4 1033   15"
      ]
     },
     "metadata": {},
     "output_type": "display_data"
    },
    {
     "name": "stderr",
     "output_type": "stream",
     "text": [
      "`summarise()` ungrouping output (override with `.groups` argument)\n",
      "\n"
     ]
    }
   ],
   "source": [
    "#12. Hungary\n",
    "\n",
    "pg_hungary <- gas_laps %>%\n",
    "                filter(raceId %in% hungary_race_ID) \n",
    "\n",
    "pg_hungary_clean <- pg_hungary %>%\n",
    "                        group_by(raceId) %>%\n",
    "                        summarize(n = n()) %>%\n",
    "                        arrange(desc(n))                      \n",
    "pg_hungary_clean\n",
    "pg_hungary_clean_ID <- pg_hungary_clean %>%\n",
    "                        pull(raceId)\n",
    "\n",
    "\n",
    "### SPLITTING DATA\n",
    "\n",
    "pg_hungary_races <- gas_laps %>%\n",
    "                    filter(raceId %in% pg_hungary_clean_ID)\n",
    "\n",
    "pg_hungary_split <- initial_split(pg_hungary_races, prop = 0.75, strata = milliseconds)\n",
    "\n",
    "pg_hungary_train <- training(pg_hungary_split)\n",
    "\n",
    "pg_hungary_test <- testing(pg_hungary_split) \n",
    "\n",
    "\n",
    "### USING DATA\n",
    "\n",
    "pg_hungary_lap_times <- pg_hungary_train %>%\n",
    "                        group_by(lap) %>%\n",
    "                        summarize(lap_time_avg = mean(milliseconds)) \n",
    "                        \n",
    "\n",
    "pg_hungary_avg_race_time <- pg_hungary_lap_times %>%\n",
    "                            mutate(lap_time_avg_mins = lap_time_avg / 60000) %>%\n",
    "                            select(lap_time_avg_mins) %>%\n",
    "                            map(sum) "
   ]
  },
  {
   "cell_type": "code",
   "execution_count": 49,
   "metadata": {},
   "outputs": [
    {
     "name": "stderr",
     "output_type": "stream",
     "text": [
      "`summarise()` ungrouping output (override with `.groups` argument)\n",
      "\n"
     ]
    },
    {
     "data": {
      "text/html": [
       "<table>\n",
       "<caption>A tibble: 4 × 2</caption>\n",
       "<thead>\n",
       "\t<tr><th scope=col>raceId</th><th scope=col>n</th></tr>\n",
       "\t<tr><th scope=col>&lt;dbl&gt;</th><th scope=col>&lt;int&gt;</th></tr>\n",
       "</thead>\n",
       "<tbody>\n",
       "\t<tr><td>1001</td><td>44</td></tr>\n",
       "\t<tr><td>1022</td><td>44</td></tr>\n",
       "\t<tr><td>1037</td><td>44</td></tr>\n",
       "\t<tr><td>1063</td><td> 1</td></tr>\n",
       "</tbody>\n",
       "</table>\n"
      ],
      "text/latex": [
       "A tibble: 4 × 2\n",
       "\\begin{tabular}{ll}\n",
       " raceId & n\\\\\n",
       " <dbl> & <int>\\\\\n",
       "\\hline\n",
       "\t 1001 & 44\\\\\n",
       "\t 1022 & 44\\\\\n",
       "\t 1037 & 44\\\\\n",
       "\t 1063 &  1\\\\\n",
       "\\end{tabular}\n"
      ],
      "text/markdown": [
       "\n",
       "A tibble: 4 × 2\n",
       "\n",
       "| raceId &lt;dbl&gt; | n &lt;int&gt; |\n",
       "|---|---|\n",
       "| 1001 | 44 |\n",
       "| 1022 | 44 |\n",
       "| 1037 | 44 |\n",
       "| 1063 |  1 |\n",
       "\n"
      ],
      "text/plain": [
       "  raceId n \n",
       "1 1001   44\n",
       "2 1022   44\n",
       "3 1037   44\n",
       "4 1063    1"
      ]
     },
     "metadata": {},
     "output_type": "display_data"
    },
    {
     "name": "stderr",
     "output_type": "stream",
     "text": [
      "`summarise()` ungrouping output (override with `.groups` argument)\n",
      "\n"
     ]
    }
   ],
   "source": [
    "#13. Belgium\n",
    "\n",
    "pg_belgium <- gas_laps %>%\n",
    "                filter(raceId %in% belgium_race_ID) \n",
    "\n",
    "pg_belgium_clean <- pg_belgium %>%\n",
    "                        group_by(raceId) %>%\n",
    "                        summarize(n = n()) %>%\n",
    "                        arrange(desc(n)) \n",
    "pg_belgium_clean\n",
    "pg_belgium_clean_ID <- pg_belgium_clean %>%\n",
    "                        pull(raceId)\n",
    "\n",
    "\n",
    "### SPLITTING DATA\n",
    "\n",
    "pg_belgium_races <- gas_laps %>%\n",
    "                    filter(raceId %in% pg_belgium_clean_ID)\n",
    "\n",
    "pg_belgium_split <- initial_split(pg_belgium_races, prop = 0.75, strata = milliseconds)\n",
    "\n",
    "pg_belgium_train <- training(pg_belgium_split)\n",
    "\n",
    "pg_belgium_test <- testing(pg_belgium_split) \n",
    "\n",
    "\n",
    "### USING DATA\n",
    "\n",
    "pg_belgium_lap_times <- pg_belgium_train %>%\n",
    "                        group_by(lap) %>%\n",
    "                        summarize(lap_time_avg = mean(milliseconds)) \n",
    "                        \n",
    "\n",
    "pg_belgium_avg_race_time <- pg_belgium_lap_times %>%\n",
    "                            mutate(lap_time_avg_mins = lap_time_avg / 60000) %>%\n",
    "                            select(lap_time_avg_mins) %>%\n",
    "                            map(sum) "
   ]
  },
  {
   "cell_type": "code",
   "execution_count": 50,
   "metadata": {},
   "outputs": [
    {
     "name": "stderr",
     "output_type": "stream",
     "text": [
      "`summarise()` ungrouping output (override with `.groups` argument)\n",
      "\n"
     ]
    },
    {
     "data": {
      "text/html": [
       "<table>\n",
       "<caption>A tibble: 1 × 2</caption>\n",
       "<thead>\n",
       "\t<tr><th scope=col>raceId</th><th scope=col>n</th></tr>\n",
       "\t<tr><th scope=col>&lt;dbl&gt;</th><th scope=col>&lt;int&gt;</th></tr>\n",
       "</thead>\n",
       "<tbody>\n",
       "\t<tr><td>1064</td><td>71</td></tr>\n",
       "</tbody>\n",
       "</table>\n"
      ],
      "text/latex": [
       "A tibble: 1 × 2\n",
       "\\begin{tabular}{ll}\n",
       " raceId & n\\\\\n",
       " <dbl> & <int>\\\\\n",
       "\\hline\n",
       "\t 1064 & 71\\\\\n",
       "\\end{tabular}\n"
      ],
      "text/markdown": [
       "\n",
       "A tibble: 1 × 2\n",
       "\n",
       "| raceId &lt;dbl&gt; | n &lt;int&gt; |\n",
       "|---|---|\n",
       "| 1064 | 71 |\n",
       "\n"
      ],
      "text/plain": [
       "  raceId n \n",
       "1 1064   71"
      ]
     },
     "metadata": {},
     "output_type": "display_data"
    },
    {
     "name": "stderr",
     "output_type": "stream",
     "text": [
      "Warning message:\n",
      "“The number of observations in each quantile is below the recommended threshold of 20. Stratification will be done with 3 breaks instead.”\n",
      "`summarise()` ungrouping output (override with `.groups` argument)\n",
      "\n"
     ]
    }
   ],
   "source": [
    "#14. Netherlands\n",
    "\n",
    "pg_netherlands <- gas_laps %>%\n",
    "                filter(raceId %in% netherlands_race_ID) \n",
    "\n",
    "pg_netherlands_clean <- pg_netherlands %>%\n",
    "                        group_by(raceId) %>%\n",
    "                        summarize(n = n()) %>%\n",
    "                        arrange(desc(n)) \n",
    "pg_netherlands_clean\n",
    "pg_netherlands_clean_ID <- pg_netherlands_clean %>%\n",
    "                        pull(raceId)\n",
    "\n",
    "\n",
    "### SPLITTING DATA\n",
    "\n",
    "pg_netherlands_races <- gas_laps %>%\n",
    "                    filter(raceId %in% pg_netherlands_clean_ID)\n",
    "\n",
    "pg_netherlands_split <- initial_split(pg_netherlands_races, prop = 0.75, strata = milliseconds)\n",
    "\n",
    "pg_netherlands_train <- training(pg_netherlands_split)\n",
    "\n",
    "pg_netherlands_test <- testing(pg_netherlands_split) \n",
    "\n",
    "\n",
    "### USING DATA\n",
    "\n",
    "pg_netherlands_lap_times <- pg_netherlands_train %>%\n",
    "                        group_by(lap) %>%\n",
    "                        summarize(lap_time_avg = mean(milliseconds)) \n",
    "                        \n",
    "\n",
    "pg_netherlands_avg_race_time <- pg_netherlands_lap_times %>%\n",
    "                            mutate(lap_time_avg_mins = lap_time_avg / 60000) %>%\n",
    "                            select(lap_time_avg_mins) %>%\n",
    "                            map(sum) "
   ]
  },
  {
   "cell_type": "code",
   "execution_count": 51,
   "metadata": {},
   "outputs": [
    {
     "name": "stderr",
     "output_type": "stream",
     "text": [
      "`summarise()` ungrouping output (override with `.groups` argument)\n",
      "\n"
     ]
    },
    {
     "data": {
      "text/html": [
       "<table>\n",
       "<caption>A tibble: 4 × 2</caption>\n",
       "<thead>\n",
       "\t<tr><th scope=col>raceId</th><th scope=col>n</th></tr>\n",
       "\t<tr><th scope=col>&lt;dbl&gt;</th><th scope=col>&lt;int&gt;</th></tr>\n",
       "</thead>\n",
       "<tbody>\n",
       "\t<tr><td>1038</td><td>53</td></tr>\n",
       "\t<tr><td>1002</td><td>52</td></tr>\n",
       "\t<tr><td>1023</td><td>52</td></tr>\n",
       "\t<tr><td>1065</td><td> 3</td></tr>\n",
       "</tbody>\n",
       "</table>\n"
      ],
      "text/latex": [
       "A tibble: 4 × 2\n",
       "\\begin{tabular}{ll}\n",
       " raceId & n\\\\\n",
       " <dbl> & <int>\\\\\n",
       "\\hline\n",
       "\t 1038 & 53\\\\\n",
       "\t 1002 & 52\\\\\n",
       "\t 1023 & 52\\\\\n",
       "\t 1065 &  3\\\\\n",
       "\\end{tabular}\n"
      ],
      "text/markdown": [
       "\n",
       "A tibble: 4 × 2\n",
       "\n",
       "| raceId &lt;dbl&gt; | n &lt;int&gt; |\n",
       "|---|---|\n",
       "| 1038 | 53 |\n",
       "| 1002 | 52 |\n",
       "| 1023 | 52 |\n",
       "| 1065 |  3 |\n",
       "\n"
      ],
      "text/plain": [
       "  raceId n \n",
       "1 1038   53\n",
       "2 1002   52\n",
       "3 1023   52\n",
       "4 1065    3"
      ]
     },
     "metadata": {},
     "output_type": "display_data"
    },
    {
     "name": "stderr",
     "output_type": "stream",
     "text": [
      "`summarise()` ungrouping output (override with `.groups` argument)\n",
      "\n"
     ]
    }
   ],
   "source": [
    "#15. Italy, Monza\n",
    "\n",
    "pg_monza <- gas_laps %>%\n",
    "                filter(raceId %in% monza_race_ID) \n",
    "\n",
    "pg_monza_clean <- pg_monza %>%\n",
    "                        group_by(raceId) %>%\n",
    "                        summarize(n = n()) %>%\n",
    "                        arrange(desc(n))\n",
    "pg_monza_clean\n",
    "pg_monza_clean_ID <- pg_monza_clean %>%\n",
    "                        pull(raceId)\n",
    "\n",
    "\n",
    "### SPLITTING DATA\n",
    "\n",
    "pg_monza_races <- gas_laps %>%\n",
    "                    filter(raceId %in% pg_monza_clean_ID)\n",
    "\n",
    "pg_monza_split <- initial_split(pg_monza_races, prop = 0.75, strata = milliseconds)\n",
    "\n",
    "pg_monza_train <- training(pg_monza_split)\n",
    "\n",
    "pg_monza_test <- testing(pg_monza_split) \n",
    "\n",
    "\n",
    "### USING DATA\n",
    "\n",
    "pg_monza_lap_times <- pg_monza_train %>%\n",
    "                        group_by(lap) %>%\n",
    "                        summarize(lap_time_avg = mean(milliseconds)) \n",
    "                        \n",
    "\n",
    "pg_monza_avg_race_time <- pg_monza_lap_times %>%\n",
    "                            mutate(lap_time_avg_mins = lap_time_avg / 60000) %>%\n",
    "                            select(lap_time_avg_mins) %>%\n",
    "                            map(sum) "
   ]
  },
  {
   "cell_type": "code",
   "execution_count": 52,
   "metadata": {},
   "outputs": [
    {
     "name": "stderr",
     "output_type": "stream",
     "text": [
      "`summarise()` ungrouping output (override with `.groups` argument)\n",
      "\n"
     ]
    },
    {
     "data": {
      "text/html": [
       "<table>\n",
       "<caption>A tibble: 2 × 2</caption>\n",
       "<thead>\n",
       "\t<tr><th scope=col>raceId</th><th scope=col>n</th></tr>\n",
       "\t<tr><th scope=col>&lt;dbl&gt;</th><th scope=col>&lt;int&gt;</th></tr>\n",
       "</thead>\n",
       "<tbody>\n",
       "\t<tr><td>1024</td><td>61</td></tr>\n",
       "\t<tr><td>1003</td><td>60</td></tr>\n",
       "</tbody>\n",
       "</table>\n"
      ],
      "text/latex": [
       "A tibble: 2 × 2\n",
       "\\begin{tabular}{ll}\n",
       " raceId & n\\\\\n",
       " <dbl> & <int>\\\\\n",
       "\\hline\n",
       "\t 1024 & 61\\\\\n",
       "\t 1003 & 60\\\\\n",
       "\\end{tabular}\n"
      ],
      "text/markdown": [
       "\n",
       "A tibble: 2 × 2\n",
       "\n",
       "| raceId &lt;dbl&gt; | n &lt;int&gt; |\n",
       "|---|---|\n",
       "| 1024 | 61 |\n",
       "| 1003 | 60 |\n",
       "\n"
      ],
      "text/plain": [
       "  raceId n \n",
       "1 1024   61\n",
       "2 1003   60"
      ]
     },
     "metadata": {},
     "output_type": "display_data"
    },
    {
     "name": "stderr",
     "output_type": "stream",
     "text": [
      "`summarise()` ungrouping output (override with `.groups` argument)\n",
      "\n"
     ]
    }
   ],
   "source": [
    "#16. Singapore\n",
    "\n",
    "pg_singapore <- gas_laps %>%\n",
    "                filter(raceId %in% singapore_race_ID) \n",
    "\n",
    "pg_singapore_clean <- pg_singapore %>%\n",
    "                        group_by(raceId) %>%\n",
    "                        summarize(n = n()) %>%\n",
    "                        arrange(desc(n)) \n",
    "pg_singapore_clean\n",
    "pg_singapore_clean_ID <- pg_singapore_clean %>%\n",
    "                        pull(raceId)\n",
    "\n",
    "\n",
    "### SPLITTING DATA\n",
    "\n",
    "pg_singapore_races <- gas_laps %>%\n",
    "                    filter(raceId %in% pg_singapore_clean_ID)\n",
    "\n",
    "pg_singapore_split <- initial_split(pg_singapore_races, prop = 0.75, strata = milliseconds)\n",
    "\n",
    "pg_singapore_train <- training(pg_singapore_split)\n",
    "\n",
    "pg_singapore_test <- testing(pg_singapore_split) \n",
    "\n",
    "\n",
    "### USING DATA\n",
    "\n",
    "pg_singapore_lap_times <- pg_singapore_train %>%\n",
    "                        group_by(lap) %>%\n",
    "                        summarize(lap_time_avg = mean(milliseconds)) \n",
    "                        \n",
    "\n",
    "pg_singapore_avg_race_time <- pg_singapore_lap_times %>%\n",
    "                            mutate(lap_time_avg_mins = lap_time_avg / 60000) %>%\n",
    "                            select(lap_time_avg_mins) %>%\n",
    "                            map(sum)"
   ]
  },
  {
   "cell_type": "code",
   "execution_count": 53,
   "metadata": {},
   "outputs": [
    {
     "name": "stderr",
     "output_type": "stream",
     "text": [
      "`summarise()` ungrouping output (override with `.groups` argument)\n",
      "\n"
     ]
    },
    {
     "data": {
      "text/html": [
       "<table>\n",
       "<caption>A tibble: 3 × 2</caption>\n",
       "<thead>\n",
       "\t<tr><th scope=col>raceId</th><th scope=col>n</th></tr>\n",
       "\t<tr><th scope=col>&lt;dbl&gt;</th><th scope=col>&lt;int&gt;</th></tr>\n",
       "</thead>\n",
       "<tbody>\n",
       "\t<tr><td> 984</td><td>52</td></tr>\n",
       "\t<tr><td>1005</td><td>52</td></tr>\n",
       "\t<tr><td>1026</td><td>51</td></tr>\n",
       "</tbody>\n",
       "</table>\n"
      ],
      "text/latex": [
       "A tibble: 3 × 2\n",
       "\\begin{tabular}{ll}\n",
       " raceId & n\\\\\n",
       " <dbl> & <int>\\\\\n",
       "\\hline\n",
       "\t  984 & 52\\\\\n",
       "\t 1005 & 52\\\\\n",
       "\t 1026 & 51\\\\\n",
       "\\end{tabular}\n"
      ],
      "text/markdown": [
       "\n",
       "A tibble: 3 × 2\n",
       "\n",
       "| raceId &lt;dbl&gt; | n &lt;int&gt; |\n",
       "|---|---|\n",
       "|  984 | 52 |\n",
       "| 1005 | 52 |\n",
       "| 1026 | 51 |\n",
       "\n"
      ],
      "text/plain": [
       "  raceId n \n",
       "1  984   52\n",
       "2 1005   52\n",
       "3 1026   51"
      ]
     },
     "metadata": {},
     "output_type": "display_data"
    },
    {
     "name": "stderr",
     "output_type": "stream",
     "text": [
      "`summarise()` ungrouping output (override with `.groups` argument)\n",
      "\n"
     ]
    }
   ],
   "source": [
    "#17. Japan\n",
    "\n",
    "pg_japan <- gas_laps %>%\n",
    "                filter(raceId %in% japan_race_ID) \n",
    "\n",
    "pg_japan_clean <- pg_japan %>%\n",
    "                        group_by(raceId) %>%\n",
    "                        summarize(n = n()) %>%\n",
    "                        arrange(desc(n)) \n",
    "pg_japan_clean\n",
    "pg_japan_clean_ID <- pg_japan_clean %>%\n",
    "                        pull(raceId)\n",
    "\n",
    "\n",
    "### SPLITTING DATA\n",
    "\n",
    "pg_japan_races <- gas_laps %>%\n",
    "                    filter(raceId %in% pg_japan_clean_ID)\n",
    "\n",
    "pg_japan_split <- initial_split(pg_japan_races, prop = 0.75, strata = milliseconds)\n",
    "\n",
    "pg_japan_train <- training(pg_japan_split)\n",
    "\n",
    "pg_japan_test <- testing(pg_japan_split) \n",
    "\n",
    "\n",
    "### USING DATA\n",
    "\n",
    "pg_japan_lap_times <- pg_japan_train %>%\n",
    "                        group_by(lap) %>%\n",
    "                        summarize(lap_time_avg = mean(milliseconds)) \n",
    "                        \n",
    "\n",
    "pg_japan_avg_race_time <- pg_japan_lap_times %>%\n",
    "                            mutate(lap_time_avg_mins = lap_time_avg / 60000) %>%\n",
    "                            select(lap_time_avg_mins) %>%\n",
    "                            map(sum) "
   ]
  },
  {
   "cell_type": "code",
   "execution_count": 54,
   "metadata": {},
   "outputs": [
    {
     "name": "stderr",
     "output_type": "stream",
     "text": [
      "`summarise()` ungrouping output (override with `.groups` argument)\n",
      "\n"
     ]
    },
    {
     "data": {
      "text/html": [
       "<table>\n",
       "<caption>A tibble: 3 × 2</caption>\n",
       "<thead>\n",
       "\t<tr><th scope=col>raceId</th><th scope=col>n</th></tr>\n",
       "\t<tr><th scope=col>&lt;dbl&gt;</th><th scope=col>&lt;int&gt;</th></tr>\n",
       "</thead>\n",
       "<tbody>\n",
       "\t<tr><td>1006</td><td>55</td></tr>\n",
       "\t<tr><td>1028</td><td>54</td></tr>\n",
       "\t<tr><td>1069</td><td>14</td></tr>\n",
       "</tbody>\n",
       "</table>\n"
      ],
      "text/latex": [
       "A tibble: 3 × 2\n",
       "\\begin{tabular}{ll}\n",
       " raceId & n\\\\\n",
       " <dbl> & <int>\\\\\n",
       "\\hline\n",
       "\t 1006 & 55\\\\\n",
       "\t 1028 & 54\\\\\n",
       "\t 1069 & 14\\\\\n",
       "\\end{tabular}\n"
      ],
      "text/markdown": [
       "\n",
       "A tibble: 3 × 2\n",
       "\n",
       "| raceId &lt;dbl&gt; | n &lt;int&gt; |\n",
       "|---|---|\n",
       "| 1006 | 55 |\n",
       "| 1028 | 54 |\n",
       "| 1069 | 14 |\n",
       "\n"
      ],
      "text/plain": [
       "  raceId n \n",
       "1 1006   55\n",
       "2 1028   54\n",
       "3 1069   14"
      ]
     },
     "metadata": {},
     "output_type": "display_data"
    },
    {
     "name": "stderr",
     "output_type": "stream",
     "text": [
      "`summarise()` ungrouping output (override with `.groups` argument)\n",
      "\n"
     ]
    }
   ],
   "source": [
    "#18. USA, Austin\n",
    "\n",
    "pg_austin <- gas_laps %>%\n",
    "                filter(raceId %in% austin_race_ID) \n",
    "\n",
    "pg_austin_clean <- pg_austin %>%\n",
    "                        group_by(raceId) %>%\n",
    "                        summarize(n = n()) %>%\n",
    "                        arrange(desc(n)) \n",
    "pg_austin_clean\n",
    "pg_austin_clean_ID <- pg_austin_clean %>%\n",
    "                        pull(raceId)\n",
    "\n",
    "\n",
    "### SPLITTING DATA\n",
    "\n",
    "pg_austin_races <- gas_laps %>%\n",
    "                    filter(raceId %in% pg_austin_clean_ID)\n",
    "\n",
    "pg_austin_split <- initial_split(pg_austin_races, prop = 0.75, strata = milliseconds)\n",
    "\n",
    "pg_austin_train <- training(pg_austin_split)\n",
    "\n",
    "pg_austin_test <- testing(pg_austin_split) \n",
    "\n",
    "\n",
    "### USING DATA\n",
    "\n",
    "pg_austin_lap_times <- pg_austin_train %>%\n",
    "                        group_by(lap) %>%\n",
    "                        summarize(lap_time_avg = mean(milliseconds)) \n",
    "                        \n",
    "\n",
    "pg_austin_avg_race_time <- pg_austin_lap_times %>%\n",
    "                            mutate(lap_time_avg_mins = lap_time_avg / 60000) %>%\n",
    "                            select(lap_time_avg_mins) %>%\n",
    "                            map(sum) "
   ]
  },
  {
   "cell_type": "code",
   "execution_count": 55,
   "metadata": {},
   "outputs": [
    {
     "name": "stderr",
     "output_type": "stream",
     "text": [
      "`summarise()` ungrouping output (override with `.groups` argument)\n",
      "\n"
     ]
    },
    {
     "data": {
      "text/html": [
       "<table>\n",
       "<caption>A tibble: 4 × 2</caption>\n",
       "<thead>\n",
       "\t<tr><th scope=col>raceId</th><th scope=col>n</th></tr>\n",
       "\t<tr><th scope=col>&lt;dbl&gt;</th><th scope=col>&lt;int&gt;</th></tr>\n",
       "</thead>\n",
       "<tbody>\n",
       "\t<tr><td>1070</td><td>71</td></tr>\n",
       "\t<tr><td> 986</td><td>70</td></tr>\n",
       "\t<tr><td>1027</td><td>70</td></tr>\n",
       "\t<tr><td>1007</td><td>69</td></tr>\n",
       "</tbody>\n",
       "</table>\n"
      ],
      "text/latex": [
       "A tibble: 4 × 2\n",
       "\\begin{tabular}{ll}\n",
       " raceId & n\\\\\n",
       " <dbl> & <int>\\\\\n",
       "\\hline\n",
       "\t 1070 & 71\\\\\n",
       "\t  986 & 70\\\\\n",
       "\t 1027 & 70\\\\\n",
       "\t 1007 & 69\\\\\n",
       "\\end{tabular}\n"
      ],
      "text/markdown": [
       "\n",
       "A tibble: 4 × 2\n",
       "\n",
       "| raceId &lt;dbl&gt; | n &lt;int&gt; |\n",
       "|---|---|\n",
       "| 1070 | 71 |\n",
       "|  986 | 70 |\n",
       "| 1027 | 70 |\n",
       "| 1007 | 69 |\n",
       "\n"
      ],
      "text/plain": [
       "  raceId n \n",
       "1 1070   71\n",
       "2  986   70\n",
       "3 1027   70\n",
       "4 1007   69"
      ]
     },
     "metadata": {},
     "output_type": "display_data"
    },
    {
     "name": "stderr",
     "output_type": "stream",
     "text": [
      "`summarise()` ungrouping output (override with `.groups` argument)\n",
      "\n"
     ]
    }
   ],
   "source": [
    "#19. Mexico\n",
    "\n",
    "pg_mexico <- gas_laps %>%\n",
    "                filter(raceId %in% mexico_race_ID) \n",
    "\n",
    "pg_mexico_clean <- pg_mexico %>%\n",
    "                        group_by(raceId) %>%\n",
    "                        summarize(n = n()) %>%\n",
    "                        arrange(desc(n)) \n",
    "pg_mexico_clean\n",
    "pg_mexico_clean_ID <- pg_mexico_clean %>%\n",
    "                        pull(raceId)\n",
    "\n",
    "\n",
    "### SPLITTING DATA\n",
    "\n",
    "pg_mexico_races <- gas_laps %>%\n",
    "                    filter(raceId %in% pg_mexico_clean_ID)\n",
    "\n",
    "pg_mexico_split <- initial_split(pg_mexico_races, prop = 0.75, strata = milliseconds)\n",
    "\n",
    "pg_mexico_train <- training(pg_mexico_split)\n",
    "\n",
    "pg_mexico_test <- testing(pg_mexico_split) \n",
    "\n",
    "\n",
    "### USING DATA\n",
    "\n",
    "pg_mexico_lap_times <- pg_mexico_train %>%\n",
    "                        group_by(lap) %>%\n",
    "                        summarize(lap_time_avg = mean(milliseconds)) \n",
    "                        \n",
    "\n",
    "pg_mexico_avg_race_time <- pg_mexico_lap_times %>%\n",
    "                            mutate(lap_time_avg_mins = lap_time_avg / 60000) %>%\n",
    "                            select(lap_time_avg_mins) %>%\n",
    "                            map(sum) "
   ]
  },
  {
   "cell_type": "code",
   "execution_count": 56,
   "metadata": {},
   "outputs": [
    {
     "name": "stderr",
     "output_type": "stream",
     "text": [
      "`summarise()` ungrouping output (override with `.groups` argument)\n",
      "\n"
     ]
    },
    {
     "data": {
      "text/html": [
       "<table>\n",
       "<caption>A tibble: 4 × 2</caption>\n",
       "<thead>\n",
       "\t<tr><th scope=col>raceId</th><th scope=col>n</th></tr>\n",
       "\t<tr><th scope=col>&lt;dbl&gt;</th><th scope=col>&lt;int&gt;</th></tr>\n",
       "</thead>\n",
       "<tbody>\n",
       "\t<tr><td>1029</td><td>71</td></tr>\n",
       "\t<tr><td> 987</td><td>70</td></tr>\n",
       "\t<tr><td>1008</td><td>70</td></tr>\n",
       "\t<tr><td>1071</td><td>70</td></tr>\n",
       "</tbody>\n",
       "</table>\n"
      ],
      "text/latex": [
       "A tibble: 4 × 2\n",
       "\\begin{tabular}{ll}\n",
       " raceId & n\\\\\n",
       " <dbl> & <int>\\\\\n",
       "\\hline\n",
       "\t 1029 & 71\\\\\n",
       "\t  987 & 70\\\\\n",
       "\t 1008 & 70\\\\\n",
       "\t 1071 & 70\\\\\n",
       "\\end{tabular}\n"
      ],
      "text/markdown": [
       "\n",
       "A tibble: 4 × 2\n",
       "\n",
       "| raceId &lt;dbl&gt; | n &lt;int&gt; |\n",
       "|---|---|\n",
       "| 1029 | 71 |\n",
       "|  987 | 70 |\n",
       "| 1008 | 70 |\n",
       "| 1071 | 70 |\n",
       "\n"
      ],
      "text/plain": [
       "  raceId n \n",
       "1 1029   71\n",
       "2  987   70\n",
       "3 1008   70\n",
       "4 1071   70"
      ]
     },
     "metadata": {},
     "output_type": "display_data"
    },
    {
     "name": "stderr",
     "output_type": "stream",
     "text": [
      "`summarise()` ungrouping output (override with `.groups` argument)\n",
      "\n"
     ]
    }
   ],
   "source": [
    "#20. Brazil\n",
    "\n",
    "pg_brazil <- gas_laps %>%\n",
    "                filter(raceId %in% brazil_race_ID) \n",
    "\n",
    "pg_brazil_clean <- pg_brazil %>%\n",
    "                        group_by(raceId) %>%\n",
    "                        summarize(n = n()) %>%\n",
    "                        arrange(desc(n)) \n",
    "pg_brazil_clean\n",
    "pg_brazil_clean_ID <- pg_brazil_clean %>%\n",
    "                        pull(raceId)\n",
    "\n",
    "\n",
    "### SPLITTING DATA\n",
    "\n",
    "pg_brazil_races <- gas_laps %>%\n",
    "                    filter(raceId %in% pg_brazil_clean_ID)\n",
    "\n",
    "pg_brazil_split <- initial_split(pg_brazil_races, prop = 0.75, strata = milliseconds)\n",
    "\n",
    "pg_brazil_train <- training(pg_brazil_split)\n",
    "\n",
    "pg_brazil_test <- testing(pg_brazil_split) \n",
    "\n",
    "\n",
    "### USING DATA\n",
    "\n",
    "pg_brazil_lap_times <- pg_brazil_train %>%\n",
    "                        group_by(lap) %>%\n",
    "                        summarize(lap_time_avg = mean(milliseconds)) \n",
    "                        \n",
    "\n",
    "pg_brazil_avg_race_time <- pg_brazil_lap_times %>%\n",
    "                            mutate(lap_time_avg_mins = lap_time_avg / 60000) %>%\n",
    "                            select(lap_time_avg_mins) %>%\n",
    "                            map(sum) "
   ]
  },
  {
   "cell_type": "code",
   "execution_count": 57,
   "metadata": {},
   "outputs": [
    {
     "name": "stderr",
     "output_type": "stream",
     "text": [
      "`summarise()` ungrouping output (override with `.groups` argument)\n",
      "\n"
     ]
    },
    {
     "data": {
      "text/html": [
       "<table>\n",
       "<caption>A tibble: 5 × 2</caption>\n",
       "<thead>\n",
       "\t<tr><th scope=col>raceId</th><th scope=col>n</th></tr>\n",
       "\t<tr><th scope=col>&lt;dbl&gt;</th><th scope=col>&lt;int&gt;</th></tr>\n",
       "</thead>\n",
       "<tbody>\n",
       "\t<tr><td>1073</td><td>58</td></tr>\n",
       "\t<tr><td>1047</td><td>55</td></tr>\n",
       "\t<tr><td> 988</td><td>54</td></tr>\n",
       "\t<tr><td>1030</td><td>53</td></tr>\n",
       "\t<tr><td>1009</td><td>46</td></tr>\n",
       "</tbody>\n",
       "</table>\n"
      ],
      "text/latex": [
       "A tibble: 5 × 2\n",
       "\\begin{tabular}{ll}\n",
       " raceId & n\\\\\n",
       " <dbl> & <int>\\\\\n",
       "\\hline\n",
       "\t 1073 & 58\\\\\n",
       "\t 1047 & 55\\\\\n",
       "\t  988 & 54\\\\\n",
       "\t 1030 & 53\\\\\n",
       "\t 1009 & 46\\\\\n",
       "\\end{tabular}\n"
      ],
      "text/markdown": [
       "\n",
       "A tibble: 5 × 2\n",
       "\n",
       "| raceId &lt;dbl&gt; | n &lt;int&gt; |\n",
       "|---|---|\n",
       "| 1073 | 58 |\n",
       "| 1047 | 55 |\n",
       "|  988 | 54 |\n",
       "| 1030 | 53 |\n",
       "| 1009 | 46 |\n",
       "\n"
      ],
      "text/plain": [
       "  raceId n \n",
       "1 1073   58\n",
       "2 1047   55\n",
       "3  988   54\n",
       "4 1030   53\n",
       "5 1009   46"
      ]
     },
     "metadata": {},
     "output_type": "display_data"
    },
    {
     "name": "stderr",
     "output_type": "stream",
     "text": [
      "`summarise()` ungrouping output (override with `.groups` argument)\n",
      "\n"
     ]
    }
   ],
   "source": [
    "#21. Abu Dhabi\n",
    "\n",
    "pg_uae <- gas_laps %>%\n",
    "                filter(raceId %in% uae_race_ID) \n",
    "\n",
    "pg_uae_clean <- pg_uae %>%\n",
    "                        group_by(raceId) %>%\n",
    "                        summarize(n = n()) %>%\n",
    "                        arrange(desc(n)) \n",
    "pg_uae_clean\n",
    "pg_uae_clean_ID <- pg_uae_clean %>%\n",
    "                        pull(raceId)\n",
    "\n",
    "\n",
    "### SPLITTING DATA\n",
    "\n",
    "pg_uae_races <- gas_laps %>%\n",
    "                    filter(raceId %in% pg_uae_clean_ID)\n",
    "\n",
    "pg_uae_split <- initial_split(pg_uae_races, prop = 0.75, strata = milliseconds)\n",
    "\n",
    "pg_uae_train <- training(pg_uae_split)\n",
    "\n",
    "pg_uae_test <- testing(pg_uae_split) \n",
    "\n",
    "\n",
    "### USING DATA\n",
    "\n",
    "pg_uae_lap_times <- pg_uae_train %>%\n",
    "                        group_by(lap) %>%\n",
    "                        summarize(lap_time_avg = mean(milliseconds)) \n",
    "                        \n",
    "\n",
    "pg_uae_avg_race_time <- pg_uae_lap_times %>%\n",
    "                            mutate(lap_time_avg_mins = lap_time_avg / 60000) %>%\n",
    "                            select(lap_time_avg_mins) %>%\n",
    "                            map(sum) "
   ]
  }
 ],
 "metadata": {
  "kernelspec": {
   "display_name": "R",
   "language": "R",
   "name": "ir"
  },
  "language_info": {
   "codemirror_mode": "r",
   "file_extension": ".r",
   "mimetype": "text/x-r-source",
   "name": "R",
   "pygments_lexer": "r",
   "version": "4.0.0"
  }
 },
 "nbformat": 4,
 "nbformat_minor": 4
}
