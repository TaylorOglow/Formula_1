{
 "cells": [
  {
   "cell_type": "markdown",
   "metadata": {},
   "source": [
    "# Valtteri Bottas\n",
    "<img src=\"https://www.formula1.com/content/fom-website/en/drivers/valtteri-bottas/_jcr_content/image.img.1920.medium.jpg/1646819266274.jpg\" width=\"300\">\n",
    "\n",
    "### Team: Alfa Romeo\n",
    "<img src =\"https://www.formula1.com/content/fom-website/en/drivers/valtteri-bottas/_jcr_content/helmet.img.png/1646824626429.png\" width=\"200\">\n"
   ]
  },
  {
   "cell_type": "code",
   "execution_count": null,
   "metadata": {},
   "outputs": [],
   "source": [
    "library (tidyverse)\n",
    "library (tidymodels)\n",
    "source(\"master_functions.r\")\n",
    "set.seed(620)"
   ]
  },
  {
   "cell_type": "code",
   "execution_count": null,
   "metadata": {},
   "outputs": [],
   "source": [
    "initialize_master()\n",
    "\n",
    "### THIS CODE CAN BE APPLIED TO ALL DRIVER'S"
   ]
  },
  {
   "cell_type": "code",
   "execution_count": 7,
   "metadata": {},
   "outputs": [],
   "source": [
    "# Filtering Lap Data For 2022 Drivers\n",
    "\n",
    "lap_data <- lap_times %>%\n",
    "            filter(driverId %in% driver_ids) %>%\n",
    "            filter(raceId %in% race_ids)\n",
    "\n",
    "bot_laps <- lap_data %>%\n",
    "            filter(driverId == 822)"
   ]
  },
  {
   "cell_type": "code",
   "execution_count": 8,
   "metadata": {},
   "outputs": [
    {
     "name": "stderr",
     "output_type": "stream",
     "text": [
      "`summarise()` ungrouping output (override with `.groups` argument)\n",
      "\n"
     ]
    },
    {
     "data": {
      "text/html": [
       "<table>\n",
       "<caption>A tibble: 10 × 2</caption>\n",
       "<thead>\n",
       "\t<tr><th scope=col>raceId</th><th scope=col>n</th></tr>\n",
       "\t<tr><th scope=col>&lt;dbl&gt;</th><th scope=col>&lt;int&gt;</th></tr>\n",
       "</thead>\n",
       "<tbody>\n",
       "\t<tr><td>1046</td><td>87</td></tr>\n",
       "\t<tr><td> 883</td><td>57</td></tr>\n",
       "\t<tr><td> 902</td><td>57</td></tr>\n",
       "\t<tr><td> 929</td><td>57</td></tr>\n",
       "\t<tr><td> 971</td><td>57</td></tr>\n",
       "\t<tr><td> 990</td><td>57</td></tr>\n",
       "\t<tr><td>1011</td><td>57</td></tr>\n",
       "\t<tr><td>1045</td><td>57</td></tr>\n",
       "\t<tr><td> 949</td><td>56</td></tr>\n",
       "\t<tr><td>1052</td><td>56</td></tr>\n",
       "</tbody>\n",
       "</table>\n"
      ],
      "text/latex": [
       "A tibble: 10 × 2\n",
       "\\begin{tabular}{ll}\n",
       " raceId & n\\\\\n",
       " <dbl> & <int>\\\\\n",
       "\\hline\n",
       "\t 1046 & 87\\\\\n",
       "\t  883 & 57\\\\\n",
       "\t  902 & 57\\\\\n",
       "\t  929 & 57\\\\\n",
       "\t  971 & 57\\\\\n",
       "\t  990 & 57\\\\\n",
       "\t 1011 & 57\\\\\n",
       "\t 1045 & 57\\\\\n",
       "\t  949 & 56\\\\\n",
       "\t 1052 & 56\\\\\n",
       "\\end{tabular}\n"
      ],
      "text/markdown": [
       "\n",
       "A tibble: 10 × 2\n",
       "\n",
       "| raceId &lt;dbl&gt; | n &lt;int&gt; |\n",
       "|---|---|\n",
       "| 1046 | 87 |\n",
       "|  883 | 57 |\n",
       "|  902 | 57 |\n",
       "|  929 | 57 |\n",
       "|  971 | 57 |\n",
       "|  990 | 57 |\n",
       "| 1011 | 57 |\n",
       "| 1045 | 57 |\n",
       "|  949 | 56 |\n",
       "| 1052 | 56 |\n",
       "\n"
      ],
      "text/plain": [
       "   raceId n \n",
       "1  1046   87\n",
       "2   883   57\n",
       "3   902   57\n",
       "4   929   57\n",
       "5   971   57\n",
       "6   990   57\n",
       "7  1011   57\n",
       "8  1045   57\n",
       "9   949   56\n",
       "10 1052   56"
      ]
     },
     "metadata": {},
     "output_type": "display_data"
    },
    {
     "data": {
      "text/plain": [
       "══ Workflow [trained] ══════════════════════════════════════════════════════════\n",
       "\u001b[3mPreprocessor:\u001b[23m Recipe\n",
       "\u001b[3mModel:\u001b[23m linear_reg()\n",
       "\n",
       "── Preprocessor ────────────────────────────────────────────────────────────────\n",
       "0 Recipe Steps\n",
       "\n",
       "── Model ───────────────────────────────────────────────────────────────────────\n",
       "\n",
       "Call:\n",
       "stats::lm(formula = ..y ~ ., data = data)\n",
       "\n",
       "Coefficients:\n",
       "(Intercept)          lap  \n",
       "   114764.0       -544.3  \n"
      ]
     },
     "metadata": {},
     "output_type": "display_data"
    },
    {
     "data": {
      "text/html": [
       "<table>\n",
       "<caption>A tibble: 3 × 3</caption>\n",
       "<thead>\n",
       "\t<tr><th scope=col>.metric</th><th scope=col>.estimator</th><th scope=col>.estimate</th></tr>\n",
       "\t<tr><th scope=col>&lt;chr&gt;</th><th scope=col>&lt;chr&gt;</th><th scope=col>&lt;dbl&gt;</th></tr>\n",
       "</thead>\n",
       "<tbody>\n",
       "\t<tr><td>rmse</td><td>standard</td><td>1.583811e+04</td></tr>\n",
       "\t<tr><td>rsq </td><td>standard</td><td>6.608865e-02</td></tr>\n",
       "\t<tr><td>mae </td><td>standard</td><td>1.088432e+04</td></tr>\n",
       "</tbody>\n",
       "</table>\n"
      ],
      "text/latex": [
       "A tibble: 3 × 3\n",
       "\\begin{tabular}{lll}\n",
       " .metric & .estimator & .estimate\\\\\n",
       " <chr> & <chr> & <dbl>\\\\\n",
       "\\hline\n",
       "\t rmse & standard & 1.583811e+04\\\\\n",
       "\t rsq  & standard & 6.608865e-02\\\\\n",
       "\t mae  & standard & 1.088432e+04\\\\\n",
       "\\end{tabular}\n"
      ],
      "text/markdown": [
       "\n",
       "A tibble: 3 × 3\n",
       "\n",
       "| .metric &lt;chr&gt; | .estimator &lt;chr&gt; | .estimate &lt;dbl&gt; |\n",
       "|---|---|---|\n",
       "| rmse | standard | 1.583811e+04 |\n",
       "| rsq  | standard | 6.608865e-02 |\n",
       "| mae  | standard | 1.088432e+04 |\n",
       "\n"
      ],
      "text/plain": [
       "  .metric .estimator .estimate   \n",
       "1 rmse    standard   1.583811e+04\n",
       "2 rsq     standard   6.608865e-02\n",
       "3 mae     standard   1.088432e+04"
      ]
     },
     "metadata": {},
     "output_type": "display_data"
    },
    {
     "data": {
      "image/png": "[encoded data removed]",
      "text/plain": [
       "plot without title"
      ]
     },
     "metadata": {
      "image/png": {
       "height": 420,
       "width": 420
      }
     },
     "output_type": "display_data"
    }
   ],
   "source": [
    "### WE COULD USE SOURCE FUNCTION TO TRIM THE RACE CODE TOO. ANYTHING THAT IS NOT UNIQUE. \n",
    "\n",
    "#1. Bahrain \n",
    "\n",
    "vb_bahrain <- bot_laps %>%\n",
    "                filter(raceId %in% bahrain_race_ID) \n",
    "\n",
    "vb_bahrain_clean <- vb_bahrain %>%\n",
    "                        group_by(raceId) %>%\n",
    "                        summarize(n = n()) %>%\n",
    "                        arrange(desc(n))\n",
    "vb_bahrain_clean\n",
    "vb_bahrain_clean_ID <- vb_bahrain_clean %>%\n",
    "                        pull(raceId)\n",
    "\n",
    "\n",
    "### SPLITTING DATA\n",
    "\n",
    "vb_bahrain_races <- bot_laps %>%\n",
    "                    filter(raceId %in% vb_bahrain_clean_ID)\n",
    "\n",
    "vb_bahrain_split <- initial_split(vb_bahrain_races, prop = 0.75, strata = milliseconds)\n",
    "\n",
    "vb_bahrain_train <- training(vb_bahrain_split)\n",
    "\n",
    "vb_bahrain_test <- testing(vb_bahrain_split) \n",
    "\n",
    "### LINEAR REGRESSION \n",
    "\n",
    "vb_bahrain_spec <- linear_reg() %>%\n",
    "  set_engine(\"lm\") %>%\n",
    "  set_mode(\"regression\")\n",
    "\n",
    "vb_bahrain_recipe <- recipe(milliseconds ~ lap, data = vb_bahrain_train)\n",
    "\n",
    "vb_bahrain_fit <- workflow() %>%\n",
    "  add_recipe(vb_bahrain_recipe) %>%\n",
    "  add_model(vb_bahrain_spec) %>%\n",
    "  fit(data = vb_bahrain_train)\n",
    "\n",
    "vb_bahrain_fit\n",
    "\n",
    "vb_bahrain_test_results <- vb_bahrain_fit %>%\n",
    "  predict(vb_bahrain_test) %>%\n",
    "  bind_cols(vb_bahrain_test) %>%\n",
    "  metrics(truth = milliseconds, estimate = .pred)\n",
    "vb_bahrain_test_results\n",
    "\n",
    "vb_bahrain_plot_final <- ggplot(vb_bahrain_train, aes(x = lap, y = milliseconds)) +\n",
    "  geom_point(alpha = 0.4) +\n",
    "  xlab(\"Lap\") +\n",
    "  ylab(\"Milliseconds\") +\n",
    "  theme(text = element_text(size = 12))\n",
    "vb_bahrain_plot_final\n",
    "\n",
    "### USING DATA\n",
    "\n",
    "# vb_bahrain_lap_times <- vb_bahrain_train %>%\n",
    "#                         group_by(lap) %>%\n",
    "#                         summarize(lap_time_avg = mean(milliseconds)) \n",
    "                        \n",
    "\n",
    "# vb_bahrain_avg_race_time <- vb_bahrain_lap_times %>%\n",
    "#                             mutate(lap_time_avg_mins = lap_time_avg / 60000) %>%\n",
    "#                             select(lap_time_avg_mins) %>%\n",
    "#                             map(sum) "
   ]
  },
  {
   "cell_type": "code",
   "execution_count": 9,
   "metadata": {},
   "outputs": [
    {
     "name": "stderr",
     "output_type": "stream",
     "text": [
      "`summarise()` ungrouping output (override with `.groups` argument)\n",
      "\n"
     ]
    },
    {
     "data": {
      "text/html": [
       "<table>\n",
       "<caption>A tibble: 1 × 2</caption>\n",
       "<thead>\n",
       "\t<tr><th scope=col>raceId</th><th scope=col>n</th></tr>\n",
       "\t<tr><th scope=col>&lt;dbl&gt;</th><th scope=col>&lt;int&gt;</th></tr>\n",
       "</thead>\n",
       "<tbody>\n",
       "\t<tr><td>1072</td><td>50</td></tr>\n",
       "</tbody>\n",
       "</table>\n"
      ],
      "text/latex": [
       "A tibble: 1 × 2\n",
       "\\begin{tabular}{ll}\n",
       " raceId & n\\\\\n",
       " <dbl> & <int>\\\\\n",
       "\\hline\n",
       "\t 1072 & 50\\\\\n",
       "\\end{tabular}\n"
      ],
      "text/markdown": [
       "\n",
       "A tibble: 1 × 2\n",
       "\n",
       "| raceId &lt;dbl&gt; | n &lt;int&gt; |\n",
       "|---|---|\n",
       "| 1072 | 50 |\n",
       "\n"
      ],
      "text/plain": [
       "  raceId n \n",
       "1 1072   50"
      ]
     },
     "metadata": {},
     "output_type": "display_data"
    },
    {
     "name": "stderr",
     "output_type": "stream",
     "text": [
      "Warning message:\n",
      "“The number of observations in each quantile is below the recommended threshold of 20. Stratification will be done with 2 breaks instead.”\n",
      "`summarise()` ungrouping output (override with `.groups` argument)\n",
      "\n"
     ]
    }
   ],
   "source": [
    "#2. Saudi Arabia\n",
    "\n",
    "vb_saudi <- bot_laps %>%\n",
    "                filter(raceId %in% saudi_race_ID) \n",
    "\n",
    "vb_saudi_clean <- vb_saudi %>%\n",
    "                        group_by(raceId) %>%\n",
    "                        summarize(n = n()) %>%\n",
    "                        arrange(desc(n)) \n",
    "vb_saudi_clean\n",
    "vb_saudi_clean_ID <- vb_saudi_clean %>%\n",
    "                        pull(raceId)\n",
    "\n",
    "\n",
    "### SPLITTING DATA\n",
    "\n",
    "vb_saudi_races <- bot_laps %>%\n",
    "                    filter(raceId %in% vb_saudi_clean_ID)\n",
    "\n",
    "vb_saudi_split <- initial_split(vb_saudi_races, prop = 0.75, strata = milliseconds)\n",
    "\n",
    "vb_saudi_train <- training(vb_saudi_split)\n",
    "\n",
    "vb_saudi_test <- testing(vb_saudi_split) \n",
    "\n",
    "\n",
    "### USING DATA\n",
    "\n",
    "vb_saudi_lap_times <- vb_saudi_train %>%\n",
    "                        group_by(lap) %>%\n",
    "                        summarize(lap_time_avg = mean(milliseconds)) \n",
    "                        \n",
    "\n",
    "vb_saudi_avg_race_time <- vb_saudi_lap_times %>%\n",
    "                            mutate(lap_time_avg_mins = lap_time_avg / 60000) %>%\n",
    "                            select(lap_time_avg_mins) %>%\n",
    "                            map(sum)"
   ]
  },
  {
   "cell_type": "code",
   "execution_count": 10,
   "metadata": {},
   "outputs": [
    {
     "name": "stderr",
     "output_type": "stream",
     "text": [
      "`summarise()` ungrouping output (override with `.groups` argument)\n",
      "\n"
     ]
    },
    {
     "data": {
      "text/html": [
       "<table>\n",
       "<caption>A tibble: 6 × 2</caption>\n",
       "<thead>\n",
       "\t<tr><th scope=col>raceId</th><th scope=col>n</th></tr>\n",
       "\t<tr><th scope=col>&lt;dbl&gt;</th><th scope=col>&lt;int&gt;</th></tr>\n",
       "</thead>\n",
       "<tbody>\n",
       "\t<tr><td> 989</td><td>58</td></tr>\n",
       "\t<tr><td>1010</td><td>58</td></tr>\n",
       "\t<tr><td> 880</td><td>57</td></tr>\n",
       "\t<tr><td> 900</td><td>57</td></tr>\n",
       "\t<tr><td> 948</td><td>57</td></tr>\n",
       "\t<tr><td> 969</td><td>57</td></tr>\n",
       "</tbody>\n",
       "</table>\n"
      ],
      "text/latex": [
       "A tibble: 6 × 2\n",
       "\\begin{tabular}{ll}\n",
       " raceId & n\\\\\n",
       " <dbl> & <int>\\\\\n",
       "\\hline\n",
       "\t  989 & 58\\\\\n",
       "\t 1010 & 58\\\\\n",
       "\t  880 & 57\\\\\n",
       "\t  900 & 57\\\\\n",
       "\t  948 & 57\\\\\n",
       "\t  969 & 57\\\\\n",
       "\\end{tabular}\n"
      ],
      "text/markdown": [
       "\n",
       "A tibble: 6 × 2\n",
       "\n",
       "| raceId &lt;dbl&gt; | n &lt;int&gt; |\n",
       "|---|---|\n",
       "|  989 | 58 |\n",
       "| 1010 | 58 |\n",
       "|  880 | 57 |\n",
       "|  900 | 57 |\n",
       "|  948 | 57 |\n",
       "|  969 | 57 |\n",
       "\n"
      ],
      "text/plain": [
       "  raceId n \n",
       "1  989   58\n",
       "2 1010   58\n",
       "3  880   57\n",
       "4  900   57\n",
       "5  948   57\n",
       "6  969   57"
      ]
     },
     "metadata": {},
     "output_type": "display_data"
    },
    {
     "name": "stderr",
     "output_type": "stream",
     "text": [
      "`summarise()` ungrouping output (override with `.groups` argument)\n",
      "\n"
     ]
    }
   ],
   "source": [
    "#3. Australia\n",
    "\n",
    "vb_aus <- bot_laps %>%\n",
    "                filter(raceId %in% aus_race_ID) \n",
    "\n",
    "vb_aus_clean <- vb_aus %>%\n",
    "                        group_by(raceId) %>%\n",
    "                        summarize(n = n()) %>%\n",
    "                        arrange(desc(n)) \n",
    "vb_aus_clean\n",
    "vb_aus_clean_ID <- vb_aus_clean %>%\n",
    "                        pull(raceId)\n",
    "\n",
    "\n",
    "### SPLITTING DATA\n",
    "\n",
    "vb_aus_races <- bot_laps %>%\n",
    "                    filter(raceId %in% vb_aus_clean_ID)\n",
    "\n",
    "vb_aus_split <- initial_split(vb_aus_races, prop = 0.75, strata = milliseconds)\n",
    "\n",
    "vb_aus_train <- training(vb_aus_split)\n",
    "\n",
    "vb_aus_test <- testing(vb_aus_split) \n",
    "\n",
    "\n",
    "### USING DATA\n",
    "\n",
    "vb_aus_lap_times <- vb_aus_train %>%\n",
    "                        group_by(lap) %>%\n",
    "                        summarize(lap_time_avg = mean(milliseconds)) \n",
    "                        \n",
    "\n",
    "vb_aus_avg_race_time <- vb_aus_lap_times %>%\n",
    "                            mutate(lap_time_avg_mins = lap_time_avg / 60000) %>%\n",
    "                            select(lap_time_avg_mins) %>%\n",
    "                            map(sum) "
   ]
  },
  {
   "cell_type": "code",
   "execution_count": 11,
   "metadata": {},
   "outputs": [
    {
     "name": "stderr",
     "output_type": "stream",
     "text": [
      "`summarise()` ungrouping output (override with `.groups` argument)\n",
      "\n"
     ]
    },
    {
     "data": {
      "text/html": [
       "<table>\n",
       "<caption>A tibble: 2 × 2</caption>\n",
       "<thead>\n",
       "\t<tr><th scope=col>raceId</th><th scope=col>n</th></tr>\n",
       "\t<tr><th scope=col>&lt;dbl&gt;</th><th scope=col>&lt;int&gt;</th></tr>\n",
       "</thead>\n",
       "<tbody>\n",
       "\t<tr><td>1043</td><td>63</td></tr>\n",
       "\t<tr><td>1053</td><td>30</td></tr>\n",
       "</tbody>\n",
       "</table>\n"
      ],
      "text/latex": [
       "A tibble: 2 × 2\n",
       "\\begin{tabular}{ll}\n",
       " raceId & n\\\\\n",
       " <dbl> & <int>\\\\\n",
       "\\hline\n",
       "\t 1043 & 63\\\\\n",
       "\t 1053 & 30\\\\\n",
       "\\end{tabular}\n"
      ],
      "text/markdown": [
       "\n",
       "A tibble: 2 × 2\n",
       "\n",
       "| raceId &lt;dbl&gt; | n &lt;int&gt; |\n",
       "|---|---|\n",
       "| 1043 | 63 |\n",
       "| 1053 | 30 |\n",
       "\n"
      ],
      "text/plain": [
       "  raceId n \n",
       "1 1043   63\n",
       "2 1053   30"
      ]
     },
     "metadata": {},
     "output_type": "display_data"
    },
    {
     "name": "stderr",
     "output_type": "stream",
     "text": [
      "`summarise()` ungrouping output (override with `.groups` argument)\n",
      "\n"
     ]
    }
   ],
   "source": [
    "#4. Italy, Imola\n",
    "\n",
    "vb_imola <- bot_laps %>%\n",
    "                filter(raceId %in% imola_race_ID) \n",
    "\n",
    "vb_imola_clean <- vb_imola %>%\n",
    "                        group_by(raceId) %>%\n",
    "                        summarize(n = n()) %>%\n",
    "                        arrange(desc(n)) \n",
    "vb_imola_clean\n",
    "vb_imola_clean_ID <- vb_imola_clean %>%\n",
    "                        pull(raceId)\n",
    "\n",
    "\n",
    "### SPLITTING DATA\n",
    "\n",
    "vb_imola_races <- bot_laps %>%\n",
    "                    filter(raceId %in% vb_imola_clean_ID)\n",
    "\n",
    "vb_imola_split <- initial_split(vb_imola_races, prop = 0.75, strata = milliseconds)\n",
    "\n",
    "vb_imola_train <- training(vb_imola_split)\n",
    "\n",
    "vb_imola_test <- testing(vb_imola_split) \n",
    "\n",
    "\n",
    "### USING DATA\n",
    "\n",
    "vb_imola_lap_times <- vb_imola_train %>%\n",
    "                        group_by(lap) %>%\n",
    "                        summarize(lap_time_avg = mean(milliseconds)) \n",
    "                        \n",
    "\n",
    "vb_imola_avg_race_time <- vb_imola_lap_times %>%\n",
    "                            mutate(lap_time_avg_mins = lap_time_avg / 60000) %>%\n",
    "                            select(lap_time_avg_mins) %>%\n",
    "                            map(sum) "
   ]
  },
  {
   "cell_type": "code",
   "execution_count": 12,
   "metadata": {},
   "outputs": [
    {
     "name": "stderr",
     "output_type": "stream",
     "text": [
      "`summarise()` ungrouping output (override with `.groups` argument)\n",
      "\n"
     ]
    },
    {
     "data": {
      "text/html": [
       "<table>\n",
       "<caption>A tibble: 9 × 2</caption>\n",
       "<thead>\n",
       "\t<tr><th scope=col>raceId</th><th scope=col>n</th></tr>\n",
       "\t<tr><th scope=col>&lt;dbl&gt;</th><th scope=col>&lt;int&gt;</th></tr>\n",
       "</thead>\n",
       "<tbody>\n",
       "\t<tr><td> 904</td><td>66</td></tr>\n",
       "\t<tr><td> 930</td><td>66</td></tr>\n",
       "\t<tr><td> 952</td><td>66</td></tr>\n",
       "\t<tr><td> 993</td><td>66</td></tr>\n",
       "\t<tr><td>1014</td><td>66</td></tr>\n",
       "\t<tr><td>1036</td><td>66</td></tr>\n",
       "\t<tr><td>1055</td><td>66</td></tr>\n",
       "\t<tr><td> 884</td><td>65</td></tr>\n",
       "\t<tr><td> 973</td><td>38</td></tr>\n",
       "</tbody>\n",
       "</table>\n"
      ],
      "text/latex": [
       "A tibble: 9 × 2\n",
       "\\begin{tabular}{ll}\n",
       " raceId & n\\\\\n",
       " <dbl> & <int>\\\\\n",
       "\\hline\n",
       "\t  904 & 66\\\\\n",
       "\t  930 & 66\\\\\n",
       "\t  952 & 66\\\\\n",
       "\t  993 & 66\\\\\n",
       "\t 1014 & 66\\\\\n",
       "\t 1036 & 66\\\\\n",
       "\t 1055 & 66\\\\\n",
       "\t  884 & 65\\\\\n",
       "\t  973 & 38\\\\\n",
       "\\end{tabular}\n"
      ],
      "text/markdown": [
       "\n",
       "A tibble: 9 × 2\n",
       "\n",
       "| raceId &lt;dbl&gt; | n &lt;int&gt; |\n",
       "|---|---|\n",
       "|  904 | 66 |\n",
       "|  930 | 66 |\n",
       "|  952 | 66 |\n",
       "|  993 | 66 |\n",
       "| 1014 | 66 |\n",
       "| 1036 | 66 |\n",
       "| 1055 | 66 |\n",
       "|  884 | 65 |\n",
       "|  973 | 38 |\n",
       "\n"
      ],
      "text/plain": [
       "  raceId n \n",
       "1  904   66\n",
       "2  930   66\n",
       "3  952   66\n",
       "4  993   66\n",
       "5 1014   66\n",
       "6 1036   66\n",
       "7 1055   66\n",
       "8  884   65\n",
       "9  973   38"
      ]
     },
     "metadata": {},
     "output_type": "display_data"
    },
    {
     "name": "stderr",
     "output_type": "stream",
     "text": [
      "`summarise()` ungrouping output (override with `.groups` argument)\n",
      "\n"
     ]
    }
   ],
   "source": [
    "#5. Spain\n",
    "\n",
    "vb_spain <- bot_laps %>%\n",
    "                filter(raceId %in% spain_race_ID) \n",
    "\n",
    "vb_spain_clean <- vb_spain %>%\n",
    "                        group_by(raceId) %>%\n",
    "                        summarize(n = n()) %>%\n",
    "                        arrange(desc(n)) \n",
    "vb_spain_clean\n",
    "vb_spain_clean_ID <- vb_spain_clean %>%\n",
    "                        pull(raceId)\n",
    "\n",
    "\n",
    "### SPLITTING DATA\n",
    "\n",
    "vb_spain_races <- bot_laps %>%\n",
    "                    filter(raceId %in% vb_spain_clean_ID)\n",
    "\n",
    "vb_spain_split <- initial_split(vb_spain_races, prop = 0.75, strata = milliseconds)\n",
    "\n",
    "vb_spain_train <- training(vb_spain_split)\n",
    "\n",
    "vb_spain_test <- testing(vb_spain_split) \n",
    "\n",
    "\n",
    "### USING DATA\n",
    "\n",
    "vb_spain_lap_times <- vb_spain_train %>%\n",
    "                        group_by(lap) %>%\n",
    "                        summarize(lap_time_avg = mean(milliseconds)) \n",
    "                        \n",
    "\n",
    "vb_spain_avg_race_time <- vb_spain_lap_times %>%\n",
    "                            mutate(lap_time_avg_mins = lap_time_avg / 60000) %>%\n",
    "                            select(lap_time_avg_mins) %>%\n",
    "                            map(sum) "
   ]
  },
  {
   "cell_type": "code",
   "execution_count": 13,
   "metadata": {},
   "outputs": [
    {
     "name": "stderr",
     "output_type": "stream",
     "text": [
      "`summarise()` ungrouping output (override with `.groups` argument)\n",
      "\n"
     ]
    },
    {
     "data": {
      "text/html": [
       "<table>\n",
       "<caption>A tibble: 8 × 2</caption>\n",
       "<thead>\n",
       "\t<tr><th scope=col>raceId</th><th scope=col>n</th></tr>\n",
       "\t<tr><th scope=col>&lt;dbl&gt;</th><th scope=col>&lt;int&gt;</th></tr>\n",
       "</thead>\n",
       "<tbody>\n",
       "\t<tr><td> 885</td><td>78</td></tr>\n",
       "\t<tr><td> 931</td><td>78</td></tr>\n",
       "\t<tr><td> 974</td><td>78</td></tr>\n",
       "\t<tr><td> 994</td><td>78</td></tr>\n",
       "\t<tr><td>1015</td><td>78</td></tr>\n",
       "\t<tr><td> 953</td><td>77</td></tr>\n",
       "\t<tr><td> 905</td><td>55</td></tr>\n",
       "\t<tr><td>1056</td><td>29</td></tr>\n",
       "</tbody>\n",
       "</table>\n"
      ],
      "text/latex": [
       "A tibble: 8 × 2\n",
       "\\begin{tabular}{ll}\n",
       " raceId & n\\\\\n",
       " <dbl> & <int>\\\\\n",
       "\\hline\n",
       "\t  885 & 78\\\\\n",
       "\t  931 & 78\\\\\n",
       "\t  974 & 78\\\\\n",
       "\t  994 & 78\\\\\n",
       "\t 1015 & 78\\\\\n",
       "\t  953 & 77\\\\\n",
       "\t  905 & 55\\\\\n",
       "\t 1056 & 29\\\\\n",
       "\\end{tabular}\n"
      ],
      "text/markdown": [
       "\n",
       "A tibble: 8 × 2\n",
       "\n",
       "| raceId &lt;dbl&gt; | n &lt;int&gt; |\n",
       "|---|---|\n",
       "|  885 | 78 |\n",
       "|  931 | 78 |\n",
       "|  974 | 78 |\n",
       "|  994 | 78 |\n",
       "| 1015 | 78 |\n",
       "|  953 | 77 |\n",
       "|  905 | 55 |\n",
       "| 1056 | 29 |\n",
       "\n"
      ],
      "text/plain": [
       "  raceId n \n",
       "1  885   78\n",
       "2  931   78\n",
       "3  974   78\n",
       "4  994   78\n",
       "5 1015   78\n",
       "6  953   77\n",
       "7  905   55\n",
       "8 1056   29"
      ]
     },
     "metadata": {},
     "output_type": "display_data"
    },
    {
     "name": "stderr",
     "output_type": "stream",
     "text": [
      "`summarise()` ungrouping output (override with `.groups` argument)\n",
      "\n"
     ]
    }
   ],
   "source": [
    "#6. Monaco\n",
    "\n",
    "vb_monaco <- bot_laps %>%\n",
    "                filter(raceId %in% monaco_race_ID) \n",
    "\n",
    "vb_monaco_clean <- vb_monaco %>%\n",
    "                        group_by(raceId) %>%\n",
    "                        summarize(n = n()) %>%\n",
    "                        arrange(desc(n)) \n",
    "vb_monaco_clean\n",
    "vb_monaco_clean_ID <- vb_monaco_clean %>%\n",
    "                        pull(raceId)\n",
    "\n",
    "\n",
    "### SPLITTING DATA\n",
    "\n",
    "vb_monaco_races <- bot_laps %>%\n",
    "                    filter(raceId %in% vb_monaco_clean_ID)\n",
    "\n",
    "vb_monaco_split <- initial_split(vb_monaco_races, prop = 0.75, strata = milliseconds)\n",
    "\n",
    "vb_monaco_train <- training(vb_monaco_split)\n",
    "\n",
    "vb_monaco_test <- testing(vb_monaco_split) \n",
    "\n",
    "\n",
    "### USING DATA\n",
    "\n",
    "vb_monaco_lap_times <- vb_monaco_train %>%\n",
    "                        group_by(lap) %>%\n",
    "                        summarize(lap_time_avg = mean(milliseconds)) \n",
    "                        \n",
    "\n",
    "vb_monaco_avg_race_time <- vb_monaco_lap_times %>%\n",
    "                            mutate(lap_time_avg_mins = lap_time_avg / 60000) %>%\n",
    "                            select(lap_time_avg_mins) %>%\n",
    "                            map(sum) "
   ]
  },
  {
   "cell_type": "code",
   "execution_count": 14,
   "metadata": {},
   "outputs": [
    {
     "name": "stderr",
     "output_type": "stream",
     "text": [
      "`summarise()` ungrouping output (override with `.groups` argument)\n",
      "\n"
     ]
    },
    {
     "data": {
      "text/html": [
       "<table>\n",
       "<caption>A tibble: 5 × 2</caption>\n",
       "<thead>\n",
       "\t<tr><th scope=col>raceId</th><th scope=col>n</th></tr>\n",
       "\t<tr><th scope=col>&lt;dbl&gt;</th><th scope=col>&lt;int&gt;</th></tr>\n",
       "</thead>\n",
       "<tbody>\n",
       "\t<tr><td> 955</td><td>51</td></tr>\n",
       "\t<tr><td> 976</td><td>51</td></tr>\n",
       "\t<tr><td>1013</td><td>51</td></tr>\n",
       "\t<tr><td>1057</td><td>51</td></tr>\n",
       "\t<tr><td> 992</td><td>48</td></tr>\n",
       "</tbody>\n",
       "</table>\n"
      ],
      "text/latex": [
       "A tibble: 5 × 2\n",
       "\\begin{tabular}{ll}\n",
       " raceId & n\\\\\n",
       " <dbl> & <int>\\\\\n",
       "\\hline\n",
       "\t  955 & 51\\\\\n",
       "\t  976 & 51\\\\\n",
       "\t 1013 & 51\\\\\n",
       "\t 1057 & 51\\\\\n",
       "\t  992 & 48\\\\\n",
       "\\end{tabular}\n"
      ],
      "text/markdown": [
       "\n",
       "A tibble: 5 × 2\n",
       "\n",
       "| raceId &lt;dbl&gt; | n &lt;int&gt; |\n",
       "|---|---|\n",
       "|  955 | 51 |\n",
       "|  976 | 51 |\n",
       "| 1013 | 51 |\n",
       "| 1057 | 51 |\n",
       "|  992 | 48 |\n",
       "\n"
      ],
      "text/plain": [
       "  raceId n \n",
       "1  955   51\n",
       "2  976   51\n",
       "3 1013   51\n",
       "4 1057   51\n",
       "5  992   48"
      ]
     },
     "metadata": {},
     "output_type": "display_data"
    },
    {
     "name": "stderr",
     "output_type": "stream",
     "text": [
      "`summarise()` ungrouping output (override with `.groups` argument)\n",
      "\n"
     ]
    }
   ],
   "source": [
    "#7. Azerbaijan\n",
    "\n",
    "vb_azerbaijan <- bot_laps %>%\n",
    "                filter(raceId %in% azerbaijan_race_ID) \n",
    "\n",
    "vb_azerbaijan_clean <- vb_azerbaijan %>%\n",
    "                        group_by(raceId) %>%\n",
    "                        summarize(n = n()) %>%\n",
    "                        arrange(desc(n)) \n",
    "vb_azerbaijan_clean\n",
    "vb_azerbaijan_clean_ID <- vb_azerbaijan_clean %>%\n",
    "                        pull(raceId)\n",
    "\n",
    "\n",
    "### SPLITTING DATA\n",
    "\n",
    "vb_azerbaijan_races <- bot_laps %>%\n",
    "                    filter(raceId %in% vb_azerbaijan_clean_ID)\n",
    "\n",
    "vb_azerbaijan_split <- initial_split(vb_azerbaijan_races, prop = 0.75, strata = milliseconds)\n",
    "\n",
    "vb_azerbaijan_train <- training(vb_azerbaijan_split)\n",
    "\n",
    "vb_azerbaijan_test <- testing(vb_azerbaijan_split) \n",
    "\n",
    "\n",
    "### USING DATA\n",
    "\n",
    "vb_azerbaijan_lap_times <- vb_azerbaijan_train %>%\n",
    "                        group_by(lap) %>%\n",
    "                        summarize(lap_time_avg = mean(milliseconds)) \n",
    "                        \n",
    "\n",
    "vb_azerbaijan_avg_race_time <- vb_azerbaijan_lap_times %>%\n",
    "                            mutate(lap_time_avg_mins = lap_time_avg / 60000) %>%\n",
    "                            select(lap_time_avg_mins) %>%\n",
    "                            map(sum) "
   ]
  },
  {
   "cell_type": "code",
   "execution_count": 15,
   "metadata": {},
   "outputs": [
    {
     "name": "stderr",
     "output_type": "stream",
     "text": [
      "`summarise()` ungrouping output (override with `.groups` argument)\n",
      "\n"
     ]
    },
    {
     "data": {
      "text/html": [
       "<table>\n",
       "<caption>A tibble: 7 × 2</caption>\n",
       "<thead>\n",
       "\t<tr><th scope=col>raceId</th><th scope=col>n</th></tr>\n",
       "\t<tr><th scope=col>&lt;dbl&gt;</th><th scope=col>&lt;int&gt;</th></tr>\n",
       "</thead>\n",
       "<tbody>\n",
       "\t<tr><td> 906</td><td>70</td></tr>\n",
       "\t<tr><td> 932</td><td>70</td></tr>\n",
       "\t<tr><td> 954</td><td>70</td></tr>\n",
       "\t<tr><td> 975</td><td>70</td></tr>\n",
       "\t<tr><td>1016</td><td>70</td></tr>\n",
       "\t<tr><td> 886</td><td>69</td></tr>\n",
       "\t<tr><td> 995</td><td>68</td></tr>\n",
       "</tbody>\n",
       "</table>\n"
      ],
      "text/latex": [
       "A tibble: 7 × 2\n",
       "\\begin{tabular}{ll}\n",
       " raceId & n\\\\\n",
       " <dbl> & <int>\\\\\n",
       "\\hline\n",
       "\t  906 & 70\\\\\n",
       "\t  932 & 70\\\\\n",
       "\t  954 & 70\\\\\n",
       "\t  975 & 70\\\\\n",
       "\t 1016 & 70\\\\\n",
       "\t  886 & 69\\\\\n",
       "\t  995 & 68\\\\\n",
       "\\end{tabular}\n"
      ],
      "text/markdown": [
       "\n",
       "A tibble: 7 × 2\n",
       "\n",
       "| raceId &lt;dbl&gt; | n &lt;int&gt; |\n",
       "|---|---|\n",
       "|  906 | 70 |\n",
       "|  932 | 70 |\n",
       "|  954 | 70 |\n",
       "|  975 | 70 |\n",
       "| 1016 | 70 |\n",
       "|  886 | 69 |\n",
       "|  995 | 68 |\n",
       "\n"
      ],
      "text/plain": [
       "  raceId n \n",
       "1  906   70\n",
       "2  932   70\n",
       "3  954   70\n",
       "4  975   70\n",
       "5 1016   70\n",
       "6  886   69\n",
       "7  995   68"
      ]
     },
     "metadata": {},
     "output_type": "display_data"
    },
    {
     "name": "stderr",
     "output_type": "stream",
     "text": [
      "`summarise()` ungrouping output (override with `.groups` argument)\n",
      "\n"
     ]
    }
   ],
   "source": [
    "#8. Canada\n",
    "\n",
    "vb_canada <- bot_laps %>%\n",
    "                filter(raceId %in% canada_race_ID) \n",
    "\n",
    "vb_canada_clean <- vb_canada %>%\n",
    "                        group_by(raceId) %>%\n",
    "                        summarize(n = n()) %>%\n",
    "                        arrange(desc(n)) \n",
    "vb_canada_clean\n",
    "vb_canada_clean_ID <- vb_canada_clean %>%\n",
    "                        pull(raceId)\n",
    "\n",
    "\n",
    "### SPLITTING DATA\n",
    "\n",
    "vb_canada_races <- bot_laps %>%\n",
    "                    filter(raceId %in% vb_canada_clean_ID)\n",
    "\n",
    "vb_canada_split <- initial_split(vb_canada_races, prop = 0.75, strata = milliseconds)\n",
    "\n",
    "vb_canada_train <- training(vb_canada_split)\n",
    "\n",
    "vb_canada_test <- testing(vb_canada_split) \n",
    "\n",
    "\n",
    "### USING DATA\n",
    "\n",
    "vb_canada_lap_times <- vb_canada_train %>%\n",
    "                        group_by(lap) %>%\n",
    "                        summarize(lap_time_avg = mean(milliseconds)) \n",
    "                        \n",
    "\n",
    "vb_canada_avg_race_time <- vb_canada_lap_times %>%\n",
    "                            mutate(lap_time_avg_mins = lap_time_avg / 60000) %>%\n",
    "                            select(lap_time_avg_mins) %>%\n",
    "                            map(sum) "
   ]
  },
  {
   "cell_type": "code",
   "execution_count": 16,
   "metadata": {},
   "outputs": [
    {
     "name": "stderr",
     "output_type": "stream",
     "text": [
      "`summarise()` ungrouping output (override with `.groups` argument)\n",
      "\n"
     ]
    },
    {
     "data": {
      "text/html": [
       "<table>\n",
       "<caption>A tibble: 10 × 2</caption>\n",
       "<thead>\n",
       "\t<tr><th scope=col>raceId</th><th scope=col>n</th></tr>\n",
       "\t<tr><th scope=col>&lt;dbl&gt;</th><th scope=col>&lt;int&gt;</th></tr>\n",
       "</thead>\n",
       "<tbody>\n",
       "\t<tr><td> 887</td><td>52</td></tr>\n",
       "\t<tr><td> 908</td><td>52</td></tr>\n",
       "\t<tr><td> 934</td><td>52</td></tr>\n",
       "\t<tr><td> 998</td><td>52</td></tr>\n",
       "\t<tr><td>1019</td><td>52</td></tr>\n",
       "\t<tr><td>1034</td><td>52</td></tr>\n",
       "\t<tr><td>1035</td><td>52</td></tr>\n",
       "\t<tr><td>1061</td><td>52</td></tr>\n",
       "\t<tr><td> 957</td><td>51</td></tr>\n",
       "\t<tr><td> 978</td><td>51</td></tr>\n",
       "</tbody>\n",
       "</table>\n"
      ],
      "text/latex": [
       "A tibble: 10 × 2\n",
       "\\begin{tabular}{ll}\n",
       " raceId & n\\\\\n",
       " <dbl> & <int>\\\\\n",
       "\\hline\n",
       "\t  887 & 52\\\\\n",
       "\t  908 & 52\\\\\n",
       "\t  934 & 52\\\\\n",
       "\t  998 & 52\\\\\n",
       "\t 1019 & 52\\\\\n",
       "\t 1034 & 52\\\\\n",
       "\t 1035 & 52\\\\\n",
       "\t 1061 & 52\\\\\n",
       "\t  957 & 51\\\\\n",
       "\t  978 & 51\\\\\n",
       "\\end{tabular}\n"
      ],
      "text/markdown": [
       "\n",
       "A tibble: 10 × 2\n",
       "\n",
       "| raceId &lt;dbl&gt; | n &lt;int&gt; |\n",
       "|---|---|\n",
       "|  887 | 52 |\n",
       "|  908 | 52 |\n",
       "|  934 | 52 |\n",
       "|  998 | 52 |\n",
       "| 1019 | 52 |\n",
       "| 1034 | 52 |\n",
       "| 1035 | 52 |\n",
       "| 1061 | 52 |\n",
       "|  957 | 51 |\n",
       "|  978 | 51 |\n",
       "\n"
      ],
      "text/plain": [
       "   raceId n \n",
       "1   887   52\n",
       "2   908   52\n",
       "3   934   52\n",
       "4   998   52\n",
       "5  1019   52\n",
       "6  1034   52\n",
       "7  1035   52\n",
       "8  1061   52\n",
       "9   957   51\n",
       "10  978   51"
      ]
     },
     "metadata": {},
     "output_type": "display_data"
    },
    {
     "name": "stderr",
     "output_type": "stream",
     "text": [
      "`summarise()` ungrouping output (override with `.groups` argument)\n",
      "\n"
     ]
    }
   ],
   "source": [
    "#9. Great Britain\n",
    "\n",
    "vb_uk <- bot_laps %>%\n",
    "                filter(raceId %in% uk_race_ID) \n",
    "\n",
    "vb_uk_clean <- vb_uk %>%\n",
    "                        group_by(raceId) %>%\n",
    "                        summarize(n = n()) %>%\n",
    "                        arrange(desc(n)) \n",
    "vb_uk_clean\n",
    "vb_uk_clean_ID <- vb_uk_clean %>%\n",
    "                        pull(raceId)\n",
    "\n",
    "\n",
    "### SPLITTING DATA\n",
    "\n",
    "vb_uk_races <- bot_laps %>%\n",
    "                    filter(raceId %in% vb_uk_clean_ID)\n",
    "\n",
    "vb_uk_split <- initial_split(vb_uk_races, prop = 0.75, strata = milliseconds)\n",
    "\n",
    "vb_uk_train <- training(vb_uk_split)\n",
    "\n",
    "vb_uk_test <- testing(vb_uk_split) \n",
    "\n",
    "\n",
    "### USING DATA\n",
    "\n",
    "vb_uk_lap_times <- vb_uk_train %>%\n",
    "                        group_by(lap) %>%\n",
    "                        summarize(lap_time_avg = mean(milliseconds)) \n",
    "                        \n",
    "\n",
    "vb_uk_avg_race_time <- vb_uk_lap_times %>%\n",
    "                            mutate(lap_time_avg_mins = lap_time_avg / 60000) %>%\n",
    "                            select(lap_time_avg_mins) %>%\n",
    "                            map(sum) "
   ]
  },
  {
   "cell_type": "code",
   "execution_count": 17,
   "metadata": {},
   "outputs": [
    {
     "name": "stderr",
     "output_type": "stream",
     "text": [
      "`summarise()` ungrouping output (override with `.groups` argument)\n",
      "\n"
     ]
    },
    {
     "data": {
      "text/html": [
       "<table>\n",
       "<caption>A tibble: 10 × 2</caption>\n",
       "<thead>\n",
       "\t<tr><th scope=col>raceId</th><th scope=col>n</th></tr>\n",
       "\t<tr><th scope=col>&lt;dbl&gt;</th><th scope=col>&lt;int&gt;</th></tr>\n",
       "</thead>\n",
       "<tbody>\n",
       "\t<tr><td> 907</td><td>71</td></tr>\n",
       "\t<tr><td> 933</td><td>71</td></tr>\n",
       "\t<tr><td> 977</td><td>71</td></tr>\n",
       "\t<tr><td>1018</td><td>71</td></tr>\n",
       "\t<tr><td>1031</td><td>71</td></tr>\n",
       "\t<tr><td>1032</td><td>71</td></tr>\n",
       "\t<tr><td>1058</td><td>71</td></tr>\n",
       "\t<tr><td>1060</td><td>71</td></tr>\n",
       "\t<tr><td> 956</td><td>70</td></tr>\n",
       "\t<tr><td> 997</td><td>13</td></tr>\n",
       "</tbody>\n",
       "</table>\n"
      ],
      "text/latex": [
       "A tibble: 10 × 2\n",
       "\\begin{tabular}{ll}\n",
       " raceId & n\\\\\n",
       " <dbl> & <int>\\\\\n",
       "\\hline\n",
       "\t  907 & 71\\\\\n",
       "\t  933 & 71\\\\\n",
       "\t  977 & 71\\\\\n",
       "\t 1018 & 71\\\\\n",
       "\t 1031 & 71\\\\\n",
       "\t 1032 & 71\\\\\n",
       "\t 1058 & 71\\\\\n",
       "\t 1060 & 71\\\\\n",
       "\t  956 & 70\\\\\n",
       "\t  997 & 13\\\\\n",
       "\\end{tabular}\n"
      ],
      "text/markdown": [
       "\n",
       "A tibble: 10 × 2\n",
       "\n",
       "| raceId &lt;dbl&gt; | n &lt;int&gt; |\n",
       "|---|---|\n",
       "|  907 | 71 |\n",
       "|  933 | 71 |\n",
       "|  977 | 71 |\n",
       "| 1018 | 71 |\n",
       "| 1031 | 71 |\n",
       "| 1032 | 71 |\n",
       "| 1058 | 71 |\n",
       "| 1060 | 71 |\n",
       "|  956 | 70 |\n",
       "|  997 | 13 |\n",
       "\n"
      ],
      "text/plain": [
       "   raceId n \n",
       "1   907   71\n",
       "2   933   71\n",
       "3   977   71\n",
       "4  1018   71\n",
       "5  1031   71\n",
       "6  1032   71\n",
       "7  1058   71\n",
       "8  1060   71\n",
       "9   956   70\n",
       "10  997   13"
      ]
     },
     "metadata": {},
     "output_type": "display_data"
    },
    {
     "name": "stderr",
     "output_type": "stream",
     "text": [
      "`summarise()` ungrouping output (override with `.groups` argument)\n",
      "\n"
     ]
    }
   ],
   "source": [
    "#10. Austria\n",
    "\n",
    "vb_austria <- bot_laps %>%\n",
    "                filter(raceId %in% austria_race_ID) \n",
    "\n",
    "vb_austria_clean <- vb_austria %>%\n",
    "                        group_by(raceId) %>%\n",
    "                        summarize(n = n()) %>%\n",
    "                        arrange(desc(n)) \n",
    "vb_austria_clean\n",
    "vb_austria_clean_ID <- vb_austria_clean %>%\n",
    "                        pull(raceId)\n",
    "\n",
    "\n",
    "### SPLITTING DATA\n",
    "\n",
    "vb_austria_races <- bot_laps %>%\n",
    "                    filter(raceId %in% vb_austria_clean_ID)\n",
    "\n",
    "vb_austria_split <- initial_split(vb_austria_races, prop = 0.75, strata = milliseconds)\n",
    "\n",
    "vb_austria_train <- training(vb_austria_split)\n",
    "\n",
    "vb_austria_test <- testing(vb_austria_split) \n",
    "\n",
    "\n",
    "### USING DATA\n",
    "\n",
    "vb_austria_lap_times <- vb_austria_train %>%\n",
    "                        group_by(lap) %>%\n",
    "                        summarize(lap_time_avg = mean(milliseconds)) \n",
    "                        \n",
    "\n",
    "vb_austria_avg_race_time <- vb_austria_lap_times %>%\n",
    "                            mutate(lap_time_avg_mins = lap_time_avg / 60000) %>%\n",
    "                            select(lap_time_avg_mins) %>%\n",
    "                            map(sum) "
   ]
  },
  {
   "cell_type": "code",
   "execution_count": 18,
   "metadata": {},
   "outputs": [
    {
     "name": "stderr",
     "output_type": "stream",
     "text": [
      "`summarise()` ungrouping output (override with `.groups` argument)\n",
      "\n"
     ]
    },
    {
     "data": {
      "text/html": [
       "<table>\n",
       "<caption>A tibble: 3 × 2</caption>\n",
       "<thead>\n",
       "\t<tr><th scope=col>raceId</th><th scope=col>n</th></tr>\n",
       "\t<tr><th scope=col>&lt;dbl&gt;</th><th scope=col>&lt;int&gt;</th></tr>\n",
       "</thead>\n",
       "<tbody>\n",
       "\t<tr><td> 996</td><td>53</td></tr>\n",
       "\t<tr><td>1017</td><td>53</td></tr>\n",
       "\t<tr><td>1059</td><td>53</td></tr>\n",
       "</tbody>\n",
       "</table>\n"
      ],
      "text/latex": [
       "A tibble: 3 × 2\n",
       "\\begin{tabular}{ll}\n",
       " raceId & n\\\\\n",
       " <dbl> & <int>\\\\\n",
       "\\hline\n",
       "\t  996 & 53\\\\\n",
       "\t 1017 & 53\\\\\n",
       "\t 1059 & 53\\\\\n",
       "\\end{tabular}\n"
      ],
      "text/markdown": [
       "\n",
       "A tibble: 3 × 2\n",
       "\n",
       "| raceId &lt;dbl&gt; | n &lt;int&gt; |\n",
       "|---|---|\n",
       "|  996 | 53 |\n",
       "| 1017 | 53 |\n",
       "| 1059 | 53 |\n",
       "\n"
      ],
      "text/plain": [
       "  raceId n \n",
       "1  996   53\n",
       "2 1017   53\n",
       "3 1059   53"
      ]
     },
     "metadata": {},
     "output_type": "display_data"
    },
    {
     "name": "stderr",
     "output_type": "stream",
     "text": [
      "`summarise()` ungrouping output (override with `.groups` argument)\n",
      "\n"
     ]
    }
   ],
   "source": [
    "#11. France\n",
    "\n",
    "vb_france <- bot_laps %>%\n",
    "                filter(raceId %in% france_race_ID) \n",
    "\n",
    "vb_france_clean <- vb_france %>%\n",
    "                        group_by(raceId) %>%\n",
    "                        summarize(n = n()) %>%\n",
    "                        arrange(desc(n)) \n",
    "vb_france_clean\n",
    "vb_france_clean_ID <- vb_france_clean %>%\n",
    "                        pull(raceId)\n",
    "\n",
    "\n",
    "### SPLITTING DATA\n",
    "\n",
    "vb_france_races <- bot_laps %>%\n",
    "                    filter(raceId %in% vb_france_clean_ID)\n",
    "\n",
    "vb_france_split <- initial_split(vb_france_races, prop = 0.75, strata = milliseconds)\n",
    "\n",
    "vb_france_train <- training(vb_france_split)\n",
    "\n",
    "vb_france_test <- testing(vb_france_split) \n",
    "\n",
    "\n",
    "### USING DATA\n",
    "\n",
    "vb_france_lap_times <- vb_france_train %>%\n",
    "                        group_by(lap) %>%\n",
    "                        summarize(lap_time_avg = mean(milliseconds)) \n",
    "                        \n",
    "\n",
    "vb_france_avg_race_time <- vb_france_lap_times %>%\n",
    "                            mutate(lap_time_avg_mins = lap_time_avg / 60000) %>%\n",
    "                            select(lap_time_avg_mins) %>%\n",
    "                            map(sum)"
   ]
  },
  {
   "cell_type": "code",
   "execution_count": 19,
   "metadata": {},
   "outputs": [
    {
     "name": "stderr",
     "output_type": "stream",
     "text": [
      "`summarise()` ungrouping output (override with `.groups` argument)\n",
      "\n"
     ]
    },
    {
     "data": {
      "text/html": [
       "<table>\n",
       "<caption>A tibble: 8 × 2</caption>\n",
       "<thead>\n",
       "\t<tr><th scope=col>raceId</th><th scope=col>n</th></tr>\n",
       "\t<tr><th scope=col>&lt;dbl&gt;</th><th scope=col>&lt;int&gt;</th></tr>\n",
       "</thead>\n",
       "<tbody>\n",
       "\t<tr><td> 910</td><td>70</td></tr>\n",
       "\t<tr><td> 979</td><td>70</td></tr>\n",
       "\t<tr><td>1000</td><td>70</td></tr>\n",
       "\t<tr><td>1033</td><td>70</td></tr>\n",
       "\t<tr><td> 936</td><td>69</td></tr>\n",
       "\t<tr><td> 958</td><td>69</td></tr>\n",
       "\t<tr><td>1021</td><td>69</td></tr>\n",
       "\t<tr><td> 890</td><td>42</td></tr>\n",
       "</tbody>\n",
       "</table>\n"
      ],
      "text/latex": [
       "A tibble: 8 × 2\n",
       "\\begin{tabular}{ll}\n",
       " raceId & n\\\\\n",
       " <dbl> & <int>\\\\\n",
       "\\hline\n",
       "\t  910 & 70\\\\\n",
       "\t  979 & 70\\\\\n",
       "\t 1000 & 70\\\\\n",
       "\t 1033 & 70\\\\\n",
       "\t  936 & 69\\\\\n",
       "\t  958 & 69\\\\\n",
       "\t 1021 & 69\\\\\n",
       "\t  890 & 42\\\\\n",
       "\\end{tabular}\n"
      ],
      "text/markdown": [
       "\n",
       "A tibble: 8 × 2\n",
       "\n",
       "| raceId &lt;dbl&gt; | n &lt;int&gt; |\n",
       "|---|---|\n",
       "|  910 | 70 |\n",
       "|  979 | 70 |\n",
       "| 1000 | 70 |\n",
       "| 1033 | 70 |\n",
       "|  936 | 69 |\n",
       "|  958 | 69 |\n",
       "| 1021 | 69 |\n",
       "|  890 | 42 |\n",
       "\n"
      ],
      "text/plain": [
       "  raceId n \n",
       "1  910   70\n",
       "2  979   70\n",
       "3 1000   70\n",
       "4 1033   70\n",
       "5  936   69\n",
       "6  958   69\n",
       "7 1021   69\n",
       "8  890   42"
      ]
     },
     "metadata": {},
     "output_type": "display_data"
    },
    {
     "name": "stderr",
     "output_type": "stream",
     "text": [
      "`summarise()` ungrouping output (override with `.groups` argument)\n",
      "\n"
     ]
    }
   ],
   "source": [
    "#12. Hungary\n",
    "\n",
    "vb_hungary <- bot_laps %>%\n",
    "                filter(raceId %in% hungary_race_ID) \n",
    "\n",
    "vb_hungary_clean <- vb_hungary %>%\n",
    "                        group_by(raceId) %>%\n",
    "                        summarize(n = n()) %>%\n",
    "                        arrange(desc(n))                    \n",
    "vb_hungary_clean\n",
    "vb_hungary_clean_ID <- vb_hungary_clean %>%\n",
    "                        pull(raceId)\n",
    "\n",
    "\n",
    "### SPLITTING DATA\n",
    "\n",
    "vb_hungary_races <- bot_laps %>%\n",
    "                    filter(raceId %in% vb_hungary_clean_ID)\n",
    "\n",
    "vb_hungary_split <- initial_split(vb_hungary_races, prop = 0.75, strata = milliseconds)\n",
    "\n",
    "vb_hungary_train <- training(vb_hungary_split)\n",
    "\n",
    "vb_hungary_test <- testing(vb_hungary_split) \n",
    "\n",
    "\n",
    "### USING DATA\n",
    "\n",
    "vb_hungary_lap_times <- vb_hungary_train %>%\n",
    "                        group_by(lap) %>%\n",
    "                        summarize(lap_time_avg = mean(milliseconds)) \n",
    "                        \n",
    "\n",
    "vb_hungary_avg_race_time <- vb_hungary_lap_times %>%\n",
    "                            mutate(lap_time_avg_mins = lap_time_avg / 60000) %>%\n",
    "                            select(lap_time_avg_mins) %>%\n",
    "                            map(sum) "
   ]
  },
  {
   "cell_type": "code",
   "execution_count": 20,
   "metadata": {},
   "outputs": [
    {
     "name": "stderr",
     "output_type": "stream",
     "text": [
      "`summarise()` ungrouping output (override with `.groups` argument)\n",
      "\n"
     ]
    },
    {
     "data": {
      "text/html": [
       "<table>\n",
       "<caption>A tibble: 9 × 2</caption>\n",
       "<thead>\n",
       "\t<tr><th scope=col>raceId</th><th scope=col>n</th></tr>\n",
       "\t<tr><th scope=col>&lt;dbl&gt;</th><th scope=col>&lt;int&gt;</th></tr>\n",
       "</thead>\n",
       "<tbody>\n",
       "\t<tr><td> 891</td><td>44</td></tr>\n",
       "\t<tr><td> 911</td><td>44</td></tr>\n",
       "\t<tr><td> 960</td><td>44</td></tr>\n",
       "\t<tr><td> 980</td><td>44</td></tr>\n",
       "\t<tr><td>1001</td><td>44</td></tr>\n",
       "\t<tr><td>1022</td><td>44</td></tr>\n",
       "\t<tr><td>1037</td><td>44</td></tr>\n",
       "\t<tr><td> 937</td><td>43</td></tr>\n",
       "\t<tr><td>1063</td><td> 1</td></tr>\n",
       "</tbody>\n",
       "</table>\n"
      ],
      "text/latex": [
       "A tibble: 9 × 2\n",
       "\\begin{tabular}{ll}\n",
       " raceId & n\\\\\n",
       " <dbl> & <int>\\\\\n",
       "\\hline\n",
       "\t  891 & 44\\\\\n",
       "\t  911 & 44\\\\\n",
       "\t  960 & 44\\\\\n",
       "\t  980 & 44\\\\\n",
       "\t 1001 & 44\\\\\n",
       "\t 1022 & 44\\\\\n",
       "\t 1037 & 44\\\\\n",
       "\t  937 & 43\\\\\n",
       "\t 1063 &  1\\\\\n",
       "\\end{tabular}\n"
      ],
      "text/markdown": [
       "\n",
       "A tibble: 9 × 2\n",
       "\n",
       "| raceId &lt;dbl&gt; | n &lt;int&gt; |\n",
       "|---|---|\n",
       "|  891 | 44 |\n",
       "|  911 | 44 |\n",
       "|  960 | 44 |\n",
       "|  980 | 44 |\n",
       "| 1001 | 44 |\n",
       "| 1022 | 44 |\n",
       "| 1037 | 44 |\n",
       "|  937 | 43 |\n",
       "| 1063 |  1 |\n",
       "\n"
      ],
      "text/plain": [
       "  raceId n \n",
       "1  891   44\n",
       "2  911   44\n",
       "3  960   44\n",
       "4  980   44\n",
       "5 1001   44\n",
       "6 1022   44\n",
       "7 1037   44\n",
       "8  937   43\n",
       "9 1063    1"
      ]
     },
     "metadata": {},
     "output_type": "display_data"
    },
    {
     "name": "stderr",
     "output_type": "stream",
     "text": [
      "`summarise()` ungrouping output (override with `.groups` argument)\n",
      "\n"
     ]
    }
   ],
   "source": [
    "#13. Belgium\n",
    "\n",
    "vb_belgium <- bot_laps %>%\n",
    "                filter(raceId %in% belgium_race_ID) \n",
    "\n",
    "vb_belgium_clean <- vb_belgium %>%\n",
    "                        group_by(raceId) %>%\n",
    "                        summarize(n = n()) %>%\n",
    "                        arrange(desc(n)) \n",
    "vb_belgium_clean\n",
    "vb_belgium_clean_ID <- vb_belgium_clean %>%\n",
    "                        pull(raceId)\n",
    "\n",
    "\n",
    "### SPLITTING DATA\n",
    "\n",
    "vb_belgium_races <- bot_laps %>%\n",
    "                    filter(raceId %in% vb_belgium_clean_ID)\n",
    "\n",
    "vb_belgium_split <- initial_split(vb_belgium_races, prop = 0.75, strata = milliseconds)\n",
    "\n",
    "vb_belgium_train <- training(vb_belgium_split)\n",
    "\n",
    "vb_belgium_test <- testing(vb_belgium_split) \n",
    "\n",
    "\n",
    "### USING DATA\n",
    "\n",
    "vb_belgium_lap_times <- vb_belgium_train %>%\n",
    "                        group_by(lap) %>%\n",
    "                        summarize(lap_time_avg = mean(milliseconds)) \n",
    "                        \n",
    "\n",
    "vb_belgium_avg_race_time <- vb_belgium_lap_times %>%\n",
    "                            mutate(lap_time_avg_mins = lap_time_avg / 60000) %>%\n",
    "                            select(lap_time_avg_mins) %>%\n",
    "                            map(sum) "
   ]
  },
  {
   "cell_type": "code",
   "execution_count": 21,
   "metadata": {},
   "outputs": [
    {
     "name": "stderr",
     "output_type": "stream",
     "text": [
      "`summarise()` ungrouping output (override with `.groups` argument)\n",
      "\n"
     ]
    },
    {
     "data": {
      "text/html": [
       "<table>\n",
       "<caption>A tibble: 1 × 2</caption>\n",
       "<thead>\n",
       "\t<tr><th scope=col>raceId</th><th scope=col>n</th></tr>\n",
       "\t<tr><th scope=col>&lt;dbl&gt;</th><th scope=col>&lt;int&gt;</th></tr>\n",
       "</thead>\n",
       "<tbody>\n",
       "\t<tr><td>1064</td><td>72</td></tr>\n",
       "</tbody>\n",
       "</table>\n"
      ],
      "text/latex": [
       "A tibble: 1 × 2\n",
       "\\begin{tabular}{ll}\n",
       " raceId & n\\\\\n",
       " <dbl> & <int>\\\\\n",
       "\\hline\n",
       "\t 1064 & 72\\\\\n",
       "\\end{tabular}\n"
      ],
      "text/markdown": [
       "\n",
       "A tibble: 1 × 2\n",
       "\n",
       "| raceId &lt;dbl&gt; | n &lt;int&gt; |\n",
       "|---|---|\n",
       "| 1064 | 72 |\n",
       "\n"
      ],
      "text/plain": [
       "  raceId n \n",
       "1 1064   72"
      ]
     },
     "metadata": {},
     "output_type": "display_data"
    },
    {
     "name": "stderr",
     "output_type": "stream",
     "text": [
      "Warning message:\n",
      "“The number of observations in each quantile is below the recommended threshold of 20. Stratification will be done with 3 breaks instead.”\n",
      "`summarise()` ungrouping output (override with `.groups` argument)\n",
      "\n"
     ]
    }
   ],
   "source": [
    "#14. Netherlands\n",
    "\n",
    "vb_netherlands <- bot_laps %>%\n",
    "                filter(raceId %in% netherlands_race_ID) \n",
    "\n",
    "vb_netherlands_clean <- vb_netherlands %>%\n",
    "                        group_by(raceId) %>%\n",
    "                        summarize(n = n()) %>%\n",
    "                        arrange(desc(n)) \n",
    "vb_netherlands_clean\n",
    "vb_netherlands_clean_ID <- vb_netherlands_clean %>%\n",
    "                        pull(raceId)\n",
    "\n",
    "\n",
    "### SPLITTING DATA\n",
    "\n",
    "vb_netherlands_races <- bot_laps %>%\n",
    "                    filter(raceId %in% vb_netherlands_clean_ID)\n",
    "\n",
    "vb_netherlands_split <- initial_split(vb_netherlands_races, prop = 0.75, strata = milliseconds)\n",
    "\n",
    "vb_netherlands_train <- training(vb_netherlands_split)\n",
    "\n",
    "vb_netherlands_test <- testing(vb_netherlands_split) \n",
    "\n",
    "\n",
    "### USING DATA\n",
    "\n",
    "vb_netherlands_lap_times <- vb_netherlands_train %>%\n",
    "                        group_by(lap) %>%\n",
    "                        summarize(lap_time_avg = mean(milliseconds)) \n",
    "                        \n",
    "\n",
    "vb_netherlands_avg_race_time <- vb_netherlands_lap_times %>%\n",
    "                            mutate(lap_time_avg_mins = lap_time_avg / 60000) %>%\n",
    "                            select(lap_time_avg_mins) %>%\n",
    "                            map(sum) "
   ]
  },
  {
   "cell_type": "code",
   "execution_count": 22,
   "metadata": {},
   "outputs": [
    {
     "name": "stderr",
     "output_type": "stream",
     "text": [
      "`summarise()` ungrouping output (override with `.groups` argument)\n",
      "\n"
     ]
    },
    {
     "data": {
      "text/html": [
       "<table>\n",
       "<caption>A tibble: 9 × 2</caption>\n",
       "<thead>\n",
       "\t<tr><th scope=col>raceId</th><th scope=col>n</th></tr>\n",
       "\t<tr><th scope=col>&lt;dbl&gt;</th><th scope=col>&lt;int&gt;</th></tr>\n",
       "</thead>\n",
       "<tbody>\n",
       "\t<tr><td> 892</td><td>53</td></tr>\n",
       "\t<tr><td> 912</td><td>53</td></tr>\n",
       "\t<tr><td> 938</td><td>53</td></tr>\n",
       "\t<tr><td> 961</td><td>53</td></tr>\n",
       "\t<tr><td> 981</td><td>53</td></tr>\n",
       "\t<tr><td>1002</td><td>53</td></tr>\n",
       "\t<tr><td>1023</td><td>53</td></tr>\n",
       "\t<tr><td>1038</td><td>53</td></tr>\n",
       "\t<tr><td>1065</td><td>53</td></tr>\n",
       "</tbody>\n",
       "</table>\n"
      ],
      "text/latex": [
       "A tibble: 9 × 2\n",
       "\\begin{tabular}{ll}\n",
       " raceId & n\\\\\n",
       " <dbl> & <int>\\\\\n",
       "\\hline\n",
       "\t  892 & 53\\\\\n",
       "\t  912 & 53\\\\\n",
       "\t  938 & 53\\\\\n",
       "\t  961 & 53\\\\\n",
       "\t  981 & 53\\\\\n",
       "\t 1002 & 53\\\\\n",
       "\t 1023 & 53\\\\\n",
       "\t 1038 & 53\\\\\n",
       "\t 1065 & 53\\\\\n",
       "\\end{tabular}\n"
      ],
      "text/markdown": [
       "\n",
       "A tibble: 9 × 2\n",
       "\n",
       "| raceId &lt;dbl&gt; | n &lt;int&gt; |\n",
       "|---|---|\n",
       "|  892 | 53 |\n",
       "|  912 | 53 |\n",
       "|  938 | 53 |\n",
       "|  961 | 53 |\n",
       "|  981 | 53 |\n",
       "| 1002 | 53 |\n",
       "| 1023 | 53 |\n",
       "| 1038 | 53 |\n",
       "| 1065 | 53 |\n",
       "\n"
      ],
      "text/plain": [
       "  raceId n \n",
       "1  892   53\n",
       "2  912   53\n",
       "3  938   53\n",
       "4  961   53\n",
       "5  981   53\n",
       "6 1002   53\n",
       "7 1023   53\n",
       "8 1038   53\n",
       "9 1065   53"
      ]
     },
     "metadata": {},
     "output_type": "display_data"
    },
    {
     "name": "stderr",
     "output_type": "stream",
     "text": [
      "`summarise()` ungrouping output (override with `.groups` argument)\n",
      "\n"
     ]
    }
   ],
   "source": [
    "#15. Italy, Monza\n",
    "\n",
    "vb_monza <- bot_laps %>%\n",
    "                filter(raceId %in% monza_race_ID) \n",
    "\n",
    "vb_monza_clean <- vb_monza %>%\n",
    "                        group_by(raceId) %>%\n",
    "                        summarize(n = n()) %>%\n",
    "                        arrange(desc(n))\n",
    "vb_monza_clean\n",
    "vb_monza_clean_ID <- vb_monza_clean %>%\n",
    "                        pull(raceId)\n",
    "\n",
    "\n",
    "### SPLITTING DATA\n",
    "\n",
    "vb_monza_races <- bot_laps %>%\n",
    "                    filter(raceId %in% vb_monza_clean_ID)\n",
    "\n",
    "vb_monza_split <- initial_split(vb_monza_races, prop = 0.75, strata = milliseconds)\n",
    "\n",
    "vb_monza_train <- training(vb_monza_split)\n",
    "\n",
    "vb_monza_test <- testing(vb_monza_split) \n",
    "\n",
    "\n",
    "### USING DATA\n",
    "\n",
    "vb_monza_lap_times <- vb_monza_train %>%\n",
    "                        group_by(lap) %>%\n",
    "                        summarize(lap_time_avg = mean(milliseconds)) \n",
    "                        \n",
    "\n",
    "vb_monza_avg_race_time <- vb_monza_lap_times %>%\n",
    "                            mutate(lap_time_avg_mins = lap_time_avg / 60000) %>%\n",
    "                            select(lap_time_avg_mins) %>%\n",
    "                            map(sum) "
   ]
  },
  {
   "cell_type": "code",
   "execution_count": 23,
   "metadata": {},
   "outputs": [
    {
     "name": "stderr",
     "output_type": "stream",
     "text": [
      "`summarise()` ungrouping output (override with `.groups` argument)\n",
      "\n"
     ]
    },
    {
     "data": {
      "text/html": [
       "<table>\n",
       "<caption>A tibble: 7 × 2</caption>\n",
       "<thead>\n",
       "\t<tr><th scope=col>raceId</th><th scope=col>n</th></tr>\n",
       "\t<tr><th scope=col>&lt;dbl&gt;</th><th scope=col>&lt;int&gt;</th></tr>\n",
       "</thead>\n",
       "<tbody>\n",
       "\t<tr><td> 893</td><td>61</td></tr>\n",
       "\t<tr><td> 939</td><td>61</td></tr>\n",
       "\t<tr><td>1003</td><td>61</td></tr>\n",
       "\t<tr><td>1024</td><td>61</td></tr>\n",
       "\t<tr><td> 913</td><td>60</td></tr>\n",
       "\t<tr><td> 982</td><td>58</td></tr>\n",
       "\t<tr><td> 962</td><td>35</td></tr>\n",
       "</tbody>\n",
       "</table>\n"
      ],
      "text/latex": [
       "A tibble: 7 × 2\n",
       "\\begin{tabular}{ll}\n",
       " raceId & n\\\\\n",
       " <dbl> & <int>\\\\\n",
       "\\hline\n",
       "\t  893 & 61\\\\\n",
       "\t  939 & 61\\\\\n",
       "\t 1003 & 61\\\\\n",
       "\t 1024 & 61\\\\\n",
       "\t  913 & 60\\\\\n",
       "\t  982 & 58\\\\\n",
       "\t  962 & 35\\\\\n",
       "\\end{tabular}\n"
      ],
      "text/markdown": [
       "\n",
       "A tibble: 7 × 2\n",
       "\n",
       "| raceId &lt;dbl&gt; | n &lt;int&gt; |\n",
       "|---|---|\n",
       "|  893 | 61 |\n",
       "|  939 | 61 |\n",
       "| 1003 | 61 |\n",
       "| 1024 | 61 |\n",
       "|  913 | 60 |\n",
       "|  982 | 58 |\n",
       "|  962 | 35 |\n",
       "\n"
      ],
      "text/plain": [
       "  raceId n \n",
       "1  893   61\n",
       "2  939   61\n",
       "3 1003   61\n",
       "4 1024   61\n",
       "5  913   60\n",
       "6  982   58\n",
       "7  962   35"
      ]
     },
     "metadata": {},
     "output_type": "display_data"
    },
    {
     "name": "stderr",
     "output_type": "stream",
     "text": [
      "`summarise()` ungrouping output (override with `.groups` argument)\n",
      "\n"
     ]
    }
   ],
   "source": [
    "#16. Singapore\n",
    "\n",
    "vb_singapore <- bot_laps %>%\n",
    "                filter(raceId %in% singapore_race_ID) \n",
    "\n",
    "vb_singapore_clean <- vb_singapore %>%\n",
    "                        group_by(raceId) %>%\n",
    "                        summarize(n = n()) %>%\n",
    "                        arrange(desc(n)) \n",
    "vb_singapore_clean\n",
    "vb_singapore_clean_ID <- vb_singapore_clean %>%\n",
    "                        pull(raceId)\n",
    "\n",
    "\n",
    "### SPLITTING DATA\n",
    "\n",
    "vb_singapore_races <- bot_laps %>%\n",
    "                    filter(raceId %in% vb_singapore_clean_ID)\n",
    "\n",
    "vb_singapore_split <- initial_split(vb_singapore_races, prop = 0.75, strata = milliseconds)\n",
    "\n",
    "vb_singapore_train <- training(vb_singapore_split)\n",
    "\n",
    "vb_singapore_test <- testing(vb_singapore_split) \n",
    "\n",
    "\n",
    "### USING DATA\n",
    "\n",
    "vb_singapore_lap_times <- vb_singapore_train %>%\n",
    "                        group_by(lap) %>%\n",
    "                        summarize(lap_time_avg = mean(milliseconds)) \n",
    "                        \n",
    "\n",
    "vb_singapore_avg_race_time <- vb_singapore_lap_times %>%\n",
    "                            mutate(lap_time_avg_mins = lap_time_avg / 60000) %>%\n",
    "                            select(lap_time_avg_mins) %>%\n",
    "                            map(sum) "
   ]
  },
  {
   "cell_type": "code",
   "execution_count": 24,
   "metadata": {},
   "outputs": [
    {
     "name": "stderr",
     "output_type": "stream",
     "text": [
      "`summarise()` ungrouping output (override with `.groups` argument)\n",
      "\n"
     ]
    },
    {
     "data": {
      "text/html": [
       "<table>\n",
       "<caption>A tibble: 7 × 2</caption>\n",
       "<thead>\n",
       "\t<tr><th scope=col>raceId</th><th scope=col>n</th></tr>\n",
       "\t<tr><th scope=col>&lt;dbl&gt;</th><th scope=col>&lt;int&gt;</th></tr>\n",
       "</thead>\n",
       "<tbody>\n",
       "\t<tr><td> 940</td><td>53</td></tr>\n",
       "\t<tr><td> 964</td><td>53</td></tr>\n",
       "\t<tr><td> 984</td><td>53</td></tr>\n",
       "\t<tr><td>1005</td><td>53</td></tr>\n",
       "\t<tr><td> 895</td><td>52</td></tr>\n",
       "\t<tr><td>1026</td><td>52</td></tr>\n",
       "\t<tr><td> 914</td><td>44</td></tr>\n",
       "</tbody>\n",
       "</table>\n"
      ],
      "text/latex": [
       "A tibble: 7 × 2\n",
       "\\begin{tabular}{ll}\n",
       " raceId & n\\\\\n",
       " <dbl> & <int>\\\\\n",
       "\\hline\n",
       "\t  940 & 53\\\\\n",
       "\t  964 & 53\\\\\n",
       "\t  984 & 53\\\\\n",
       "\t 1005 & 53\\\\\n",
       "\t  895 & 52\\\\\n",
       "\t 1026 & 52\\\\\n",
       "\t  914 & 44\\\\\n",
       "\\end{tabular}\n"
      ],
      "text/markdown": [
       "\n",
       "A tibble: 7 × 2\n",
       "\n",
       "| raceId &lt;dbl&gt; | n &lt;int&gt; |\n",
       "|---|---|\n",
       "|  940 | 53 |\n",
       "|  964 | 53 |\n",
       "|  984 | 53 |\n",
       "| 1005 | 53 |\n",
       "|  895 | 52 |\n",
       "| 1026 | 52 |\n",
       "|  914 | 44 |\n",
       "\n"
      ],
      "text/plain": [
       "  raceId n \n",
       "1  940   53\n",
       "2  964   53\n",
       "3  984   53\n",
       "4 1005   53\n",
       "5  895   52\n",
       "6 1026   52\n",
       "7  914   44"
      ]
     },
     "metadata": {},
     "output_type": "display_data"
    },
    {
     "name": "stderr",
     "output_type": "stream",
     "text": [
      "`summarise()` ungrouping output (override with `.groups` argument)\n",
      "\n"
     ]
    }
   ],
   "source": [
    "#17. Japan\n",
    "\n",
    "vb_japan <- bot_laps %>%\n",
    "                filter(raceId %in% japan_race_ID) \n",
    "\n",
    "vb_japan_clean <- vb_japan %>%\n",
    "                        group_by(raceId) %>%\n",
    "                        summarize(n = n()) %>%\n",
    "                        arrange(desc(n)) \n",
    "vb_japan_clean\n",
    "vb_japan_clean_ID <- vb_japan_clean %>%\n",
    "                        pull(raceId)\n",
    "\n",
    "\n",
    "### SPLITTING DATA\n",
    "\n",
    "vb_japan_races <- bot_laps %>%\n",
    "                    filter(raceId %in% vb_japan_clean_ID)\n",
    "\n",
    "vb_japan_split <- initial_split(vb_japan_races, prop = 0.75, strata = milliseconds)\n",
    "\n",
    "vb_japan_train <- training(vb_japan_split)\n",
    "\n",
    "vb_japan_test <- testing(vb_japan_split) \n",
    "\n",
    "\n",
    "### USING DATA\n",
    "\n",
    "vb_japan_lap_times <- vb_japan_train %>%\n",
    "                        group_by(lap) %>%\n",
    "                        summarize(lap_time_avg = mean(milliseconds)) \n",
    "                        \n",
    "\n",
    "vb_japan_avg_race_time <- vb_japan_lap_times %>%\n",
    "                            mutate(lap_time_avg_mins = lap_time_avg / 60000) %>%\n",
    "                            select(lap_time_avg_mins) %>%\n",
    "                            map(sum) "
   ]
  },
  {
   "cell_type": "code",
   "execution_count": 25,
   "metadata": {},
   "outputs": [
    {
     "name": "stderr",
     "output_type": "stream",
     "text": [
      "`summarise()` ungrouping output (override with `.groups` argument)\n",
      "\n"
     ]
    },
    {
     "data": {
      "text/html": [
       "<table>\n",
       "<caption>A tibble: 8 × 2</caption>\n",
       "<thead>\n",
       "\t<tr><th scope=col>raceId</th><th scope=col>n</th></tr>\n",
       "\t<tr><th scope=col>&lt;dbl&gt;</th><th scope=col>&lt;int&gt;</th></tr>\n",
       "</thead>\n",
       "<tbody>\n",
       "\t<tr><td> 898</td><td>56</td></tr>\n",
       "\t<tr><td> 916</td><td>56</td></tr>\n",
       "\t<tr><td> 985</td><td>56</td></tr>\n",
       "\t<tr><td>1006</td><td>56</td></tr>\n",
       "\t<tr><td>1028</td><td>56</td></tr>\n",
       "\t<tr><td>1069</td><td>56</td></tr>\n",
       "\t<tr><td> 965</td><td>55</td></tr>\n",
       "\t<tr><td> 942</td><td> 5</td></tr>\n",
       "</tbody>\n",
       "</table>\n"
      ],
      "text/latex": [
       "A tibble: 8 × 2\n",
       "\\begin{tabular}{ll}\n",
       " raceId & n\\\\\n",
       " <dbl> & <int>\\\\\n",
       "\\hline\n",
       "\t  898 & 56\\\\\n",
       "\t  916 & 56\\\\\n",
       "\t  985 & 56\\\\\n",
       "\t 1006 & 56\\\\\n",
       "\t 1028 & 56\\\\\n",
       "\t 1069 & 56\\\\\n",
       "\t  965 & 55\\\\\n",
       "\t  942 &  5\\\\\n",
       "\\end{tabular}\n"
      ],
      "text/markdown": [
       "\n",
       "A tibble: 8 × 2\n",
       "\n",
       "| raceId &lt;dbl&gt; | n &lt;int&gt; |\n",
       "|---|---|\n",
       "|  898 | 56 |\n",
       "|  916 | 56 |\n",
       "|  985 | 56 |\n",
       "| 1006 | 56 |\n",
       "| 1028 | 56 |\n",
       "| 1069 | 56 |\n",
       "|  965 | 55 |\n",
       "|  942 |  5 |\n",
       "\n"
      ],
      "text/plain": [
       "  raceId n \n",
       "1  898   56\n",
       "2  916   56\n",
       "3  985   56\n",
       "4 1006   56\n",
       "5 1028   56\n",
       "6 1069   56\n",
       "7  965   55\n",
       "8  942    5"
      ]
     },
     "metadata": {},
     "output_type": "display_data"
    },
    {
     "name": "stderr",
     "output_type": "stream",
     "text": [
      "`summarise()` ungrouping output (override with `.groups` argument)\n",
      "\n"
     ]
    }
   ],
   "source": [
    "#18. USA, Austin\n",
    "\n",
    "vb_austin <- bot_laps %>%\n",
    "                filter(raceId %in% austin_race_ID) \n",
    "\n",
    "vb_austin_clean <- vb_austin %>%\n",
    "                        group_by(raceId) %>%\n",
    "                        summarize(n = n()) %>%\n",
    "                        arrange(desc(n)) \n",
    "vb_austin_clean\n",
    "vb_austin_clean_ID <- vb_austin_clean %>%\n",
    "                        pull(raceId)\n",
    "\n",
    "\n",
    "### SPLITTING DATA\n",
    "\n",
    "vb_austin_races <- bot_laps %>%\n",
    "                    filter(raceId %in% vb_austin_clean_ID)\n",
    "\n",
    "vb_austin_split <- initial_split(vb_austin_races, prop = 0.75, strata = milliseconds)\n",
    "\n",
    "vb_austin_train <- training(vb_austin_split)\n",
    "\n",
    "vb_austin_test <- testing(vb_austin_split) \n",
    "\n",
    "\n",
    "### USING DATA\n",
    "\n",
    "vb_austin_lap_times <- vb_austin_train %>%\n",
    "                        group_by(lap) %>%\n",
    "                        summarize(lap_time_avg = mean(milliseconds)) \n",
    "                        \n",
    "\n",
    "vb_austin_avg_race_time <- vb_austin_lap_times %>%\n",
    "                            mutate(lap_time_avg_mins = lap_time_avg / 60000) %>%\n",
    "                            select(lap_time_avg_mins) %>%\n",
    "                            map(sum) "
   ]
  },
  {
   "cell_type": "code",
   "execution_count": 26,
   "metadata": {},
   "outputs": [
    {
     "name": "stderr",
     "output_type": "stream",
     "text": [
      "`summarise()` ungrouping output (override with `.groups` argument)\n",
      "\n"
     ]
    },
    {
     "data": {
      "text/html": [
       "<table>\n",
       "<caption>A tibble: 6 × 2</caption>\n",
       "<thead>\n",
       "\t<tr><th scope=col>raceId</th><th scope=col>n</th></tr>\n",
       "\t<tr><th scope=col>&lt;dbl&gt;</th><th scope=col>&lt;int&gt;</th></tr>\n",
       "</thead>\n",
       "<tbody>\n",
       "\t<tr><td> 943</td><td>71</td></tr>\n",
       "\t<tr><td> 966</td><td>71</td></tr>\n",
       "\t<tr><td> 986</td><td>71</td></tr>\n",
       "\t<tr><td>1027</td><td>71</td></tr>\n",
       "\t<tr><td>1007</td><td>70</td></tr>\n",
       "\t<tr><td>1070</td><td>69</td></tr>\n",
       "</tbody>\n",
       "</table>\n"
      ],
      "text/latex": [
       "A tibble: 6 × 2\n",
       "\\begin{tabular}{ll}\n",
       " raceId & n\\\\\n",
       " <dbl> & <int>\\\\\n",
       "\\hline\n",
       "\t  943 & 71\\\\\n",
       "\t  966 & 71\\\\\n",
       "\t  986 & 71\\\\\n",
       "\t 1027 & 71\\\\\n",
       "\t 1007 & 70\\\\\n",
       "\t 1070 & 69\\\\\n",
       "\\end{tabular}\n"
      ],
      "text/markdown": [
       "\n",
       "A tibble: 6 × 2\n",
       "\n",
       "| raceId &lt;dbl&gt; | n &lt;int&gt; |\n",
       "|---|---|\n",
       "|  943 | 71 |\n",
       "|  966 | 71 |\n",
       "|  986 | 71 |\n",
       "| 1027 | 71 |\n",
       "| 1007 | 70 |\n",
       "| 1070 | 69 |\n",
       "\n"
      ],
      "text/plain": [
       "  raceId n \n",
       "1  943   71\n",
       "2  966   71\n",
       "3  986   71\n",
       "4 1027   71\n",
       "5 1007   70\n",
       "6 1070   69"
      ]
     },
     "metadata": {},
     "output_type": "display_data"
    },
    {
     "name": "stderr",
     "output_type": "stream",
     "text": [
      "`summarise()` ungrouping output (override with `.groups` argument)\n",
      "\n"
     ]
    }
   ],
   "source": [
    "#19. Mexico\n",
    "\n",
    "vb_mexico <- bot_laps %>%\n",
    "                filter(raceId %in% mexico_race_ID) \n",
    "\n",
    "vb_mexico_clean <- vb_mexico %>%\n",
    "                        group_by(raceId) %>%\n",
    "                        summarize(n = n()) %>%\n",
    "                        arrange(desc(n)) \n",
    "vb_mexico_clean\n",
    "vb_mexico_clean_ID <- vb_mexico_clean %>%\n",
    "                        pull(raceId)\n",
    "\n",
    "\n",
    "### SPLITTING DATA\n",
    "\n",
    "vb_mexico_races <- bot_laps %>%\n",
    "                    filter(raceId %in% vb_mexico_clean_ID)\n",
    "\n",
    "vb_mexico_split <- initial_split(vb_mexico_races, prop = 0.75, strata = milliseconds)\n",
    "\n",
    "vb_mexico_train <- training(vb_mexico_split)\n",
    "\n",
    "vb_mexico_test <- testing(vb_mexico_split) \n",
    "\n",
    "\n",
    "### USING DATA\n",
    "\n",
    "vb_mexico_lap_times <- vb_mexico_train %>%\n",
    "                        group_by(lap) %>%\n",
    "                        summarize(lap_time_avg = mean(milliseconds)) \n",
    "                        \n",
    "\n",
    "vb_mexico_avg_race_time <- vb_mexico_lap_times %>%\n",
    "                            mutate(lap_time_avg_mins = lap_time_avg / 60000) %>%\n",
    "                            select(lap_time_avg_mins) %>%\n",
    "                            map(sum) "
   ]
  },
  {
   "cell_type": "code",
   "execution_count": 27,
   "metadata": {},
   "outputs": [
    {
     "name": "stderr",
     "output_type": "stream",
     "text": [
      "`summarise()` ungrouping output (override with `.groups` argument)\n",
      "\n"
     ]
    },
    {
     "data": {
      "text/html": [
       "<table>\n",
       "<caption>A tibble: 8 × 2</caption>\n",
       "<thead>\n",
       "\t<tr><th scope=col>raceId</th><th scope=col>n</th></tr>\n",
       "\t<tr><th scope=col>&lt;dbl&gt;</th><th scope=col>&lt;int&gt;</th></tr>\n",
       "</thead>\n",
       "<tbody>\n",
       "\t<tr><td> 967</td><td>71</td></tr>\n",
       "\t<tr><td> 987</td><td>71</td></tr>\n",
       "\t<tr><td>1008</td><td>71</td></tr>\n",
       "\t<tr><td>1071</td><td>71</td></tr>\n",
       "\t<tr><td> 917</td><td>70</td></tr>\n",
       "\t<tr><td> 944</td><td>70</td></tr>\n",
       "\t<tr><td>1029</td><td>51</td></tr>\n",
       "\t<tr><td> 899</td><td>45</td></tr>\n",
       "</tbody>\n",
       "</table>\n"
      ],
      "text/latex": [
       "A tibble: 8 × 2\n",
       "\\begin{tabular}{ll}\n",
       " raceId & n\\\\\n",
       " <dbl> & <int>\\\\\n",
       "\\hline\n",
       "\t  967 & 71\\\\\n",
       "\t  987 & 71\\\\\n",
       "\t 1008 & 71\\\\\n",
       "\t 1071 & 71\\\\\n",
       "\t  917 & 70\\\\\n",
       "\t  944 & 70\\\\\n",
       "\t 1029 & 51\\\\\n",
       "\t  899 & 45\\\\\n",
       "\\end{tabular}\n"
      ],
      "text/markdown": [
       "\n",
       "A tibble: 8 × 2\n",
       "\n",
       "| raceId &lt;dbl&gt; | n &lt;int&gt; |\n",
       "|---|---|\n",
       "|  967 | 71 |\n",
       "|  987 | 71 |\n",
       "| 1008 | 71 |\n",
       "| 1071 | 71 |\n",
       "|  917 | 70 |\n",
       "|  944 | 70 |\n",
       "| 1029 | 51 |\n",
       "|  899 | 45 |\n",
       "\n"
      ],
      "text/plain": [
       "  raceId n \n",
       "1  967   71\n",
       "2  987   71\n",
       "3 1008   71\n",
       "4 1071   71\n",
       "5  917   70\n",
       "6  944   70\n",
       "7 1029   51\n",
       "8  899   45"
      ]
     },
     "metadata": {},
     "output_type": "display_data"
    },
    {
     "name": "stderr",
     "output_type": "stream",
     "text": [
      "`summarise()` ungrouping output (override with `.groups` argument)\n",
      "\n"
     ]
    }
   ],
   "source": [
    "#20. Brazil\n",
    "\n",
    "vb_brazil <- bot_laps %>%\n",
    "                filter(raceId %in% brazil_race_ID) \n",
    "\n",
    "vb_brazil_clean <- vb_brazil %>%\n",
    "                        group_by(raceId) %>%\n",
    "                        summarize(n = n()) %>%\n",
    "                        arrange(desc(n)) \n",
    "vb_brazil_clean\n",
    "vb_brazil_clean_ID <- vb_brazil_clean %>%\n",
    "                        pull(raceId)\n",
    "\n",
    "\n",
    "### SPLITTING DATA\n",
    "\n",
    "vb_brazil_races <- bot_laps %>%\n",
    "                    filter(raceId %in% vb_brazil_clean_ID)\n",
    "\n",
    "vb_brazil_split <- initial_split(vb_brazil_races, prop = 0.75, strata = milliseconds)\n",
    "\n",
    "vb_brazil_train <- training(vb_brazil_split)\n",
    "\n",
    "vb_brazil_test <- testing(vb_brazil_split) \n",
    "\n",
    "\n",
    "### USING DATA\n",
    "\n",
    "vb_brazil_lap_times <- vb_brazil_train %>%\n",
    "                        group_by(lap) %>%\n",
    "                        summarize(lap_time_avg = mean(milliseconds)) \n",
    "                        \n",
    "\n",
    "vb_brazil_avg_race_time <- vb_brazil_lap_times %>%\n",
    "                            mutate(lap_time_avg_mins = lap_time_avg / 60000) %>%\n",
    "                            select(lap_time_avg_mins) %>%\n",
    "                            map(sum) "
   ]
  },
  {
   "cell_type": "code",
   "execution_count": 28,
   "metadata": {},
   "outputs": [
    {
     "name": "stderr",
     "output_type": "stream",
     "text": [
      "`summarise()` ungrouping output (override with `.groups` argument)\n",
      "\n"
     ]
    },
    {
     "data": {
      "text/html": [
       "<table>\n",
       "<caption>A tibble: 9 × 2</caption>\n",
       "<thead>\n",
       "\t<tr><th scope=col>raceId</th><th scope=col>n</th></tr>\n",
       "\t<tr><th scope=col>&lt;dbl&gt;</th><th scope=col>&lt;int&gt;</th></tr>\n",
       "</thead>\n",
       "<tbody>\n",
       "\t<tr><td>1073</td><td>58</td></tr>\n",
       "\t<tr><td> 918</td><td>55</td></tr>\n",
       "\t<tr><td> 988</td><td>55</td></tr>\n",
       "\t<tr><td>1009</td><td>55</td></tr>\n",
       "\t<tr><td>1030</td><td>55</td></tr>\n",
       "\t<tr><td>1047</td><td>55</td></tr>\n",
       "\t<tr><td> 897</td><td>54</td></tr>\n",
       "\t<tr><td> 945</td><td>54</td></tr>\n",
       "\t<tr><td> 968</td><td> 6</td></tr>\n",
       "</tbody>\n",
       "</table>\n"
      ],
      "text/latex": [
       "A tibble: 9 × 2\n",
       "\\begin{tabular}{ll}\n",
       " raceId & n\\\\\n",
       " <dbl> & <int>\\\\\n",
       "\\hline\n",
       "\t 1073 & 58\\\\\n",
       "\t  918 & 55\\\\\n",
       "\t  988 & 55\\\\\n",
       "\t 1009 & 55\\\\\n",
       "\t 1030 & 55\\\\\n",
       "\t 1047 & 55\\\\\n",
       "\t  897 & 54\\\\\n",
       "\t  945 & 54\\\\\n",
       "\t  968 &  6\\\\\n",
       "\\end{tabular}\n"
      ],
      "text/markdown": [
       "\n",
       "A tibble: 9 × 2\n",
       "\n",
       "| raceId &lt;dbl&gt; | n &lt;int&gt; |\n",
       "|---|---|\n",
       "| 1073 | 58 |\n",
       "|  918 | 55 |\n",
       "|  988 | 55 |\n",
       "| 1009 | 55 |\n",
       "| 1030 | 55 |\n",
       "| 1047 | 55 |\n",
       "|  897 | 54 |\n",
       "|  945 | 54 |\n",
       "|  968 |  6 |\n",
       "\n"
      ],
      "text/plain": [
       "  raceId n \n",
       "1 1073   58\n",
       "2  918   55\n",
       "3  988   55\n",
       "4 1009   55\n",
       "5 1030   55\n",
       "6 1047   55\n",
       "7  897   54\n",
       "8  945   54\n",
       "9  968    6"
      ]
     },
     "metadata": {},
     "output_type": "display_data"
    },
    {
     "name": "stderr",
     "output_type": "stream",
     "text": [
      "`summarise()` ungrouping output (override with `.groups` argument)\n",
      "\n"
     ]
    }
   ],
   "source": [
    "#21. Abu Dhabi\n",
    "\n",
    "vb_uae <- bot_laps %>%\n",
    "                filter(raceId %in% uae_race_ID) \n",
    "\n",
    "vb_uae_clean <- vb_uae %>%\n",
    "                        group_by(raceId) %>%\n",
    "                        summarize(n = n()) %>%\n",
    "                        arrange(desc(n)) \n",
    "vb_uae_clean\n",
    "vb_uae_clean_ID <- vb_uae_clean %>%\n",
    "                        pull(raceId)\n",
    "\n",
    "\n",
    "### SPLITTING DATA\n",
    "\n",
    "vb_uae_races <- bot_laps %>%\n",
    "                    filter(raceId %in% vb_uae_clean_ID)\n",
    "\n",
    "vb_uae_split <- initial_split(vb_uae_races, prop = 0.75, strata = milliseconds)\n",
    "\n",
    "vb_uae_train <- training(vb_uae_split)\n",
    "\n",
    "vb_uae_test <- testing(vb_uae_split) \n",
    "\n",
    "\n",
    "### USING DATA\n",
    "\n",
    "vb_uae_lap_times <- vb_uae_train %>%\n",
    "                        group_by(lap) %>%\n",
    "                        summarize(lap_time_avg = mean(milliseconds)) \n",
    "                        \n",
    "\n",
    "vb_uae_avg_race_time <- vb_uae_lap_times %>%\n",
    "                            mutate(lap_time_avg_mins = lap_time_avg / 60000) %>%\n",
    "                            select(lap_time_avg_mins) %>%\n",
    "                            map(sum) "
   ]
  }
 ],
 "metadata": {
  "kernelspec": {
   "display_name": "R",
   "language": "R",
   "name": "ir"
  },
  "language_info": {
   "codemirror_mode": "r",
   "file_extension": ".r",
   "mimetype": "text/x-r-source",
   "name": "R",
   "pygments_lexer": "r",
   "version": "4.0.0"
  }
 },
 "nbformat": 4,
 "nbformat_minor": 4
}
